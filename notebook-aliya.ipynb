{
 "cells": [
  {
   "cell_type": "code",
   "execution_count": 1,
   "metadata": {
    "_cell_guid": "b1076dfc-b9ad-4769-8c92-a6c4dae69d19",
    "_uuid": "8f2839f25d086af736a60e9eeb907d3b93b6e0e5",
    "execution": {
     "iopub.execute_input": "2022-04-14T18:31:47.069813Z",
     "iopub.status.busy": "2022-04-14T18:31:47.069335Z",
     "iopub.status.idle": "2022-04-14T18:31:47.102976Z",
     "shell.execute_reply": "2022-04-14T18:31:47.102227Z",
     "shell.execute_reply.started": "2022-04-14T18:31:47.069733Z"
    }
   },
   "outputs": [],
   "source": [
    "# This Python 3 environment comes with many helpful analytics libraries installed\n",
    "# It is defined by the kaggle/python Docker image: https://github.com/kaggle/docker-python\n",
    "# For example, here's several helpful packages to load\n",
    "\n",
    "import numpy as np # linear algebra\n",
    "import pandas as pd # data processing, CSV file I/O (e.g. pd.read_csv)\n",
    "\n",
    "# Input data files are available in the read-only \"../input/\" directory\n",
    "# For example, running this (by clicking run or pressing Shift+Enter) will list all files under the input directory\n",
    "\n",
    "import os\n",
    "for dirname, _, filenames in os.walk('/kaggle/input'):\n",
    "    for filename in filenames:\n",
    "        print(os.path.join(dirname, filename))\n",
    "\n",
    "# You can write up to 20GB to the current directory (/kaggle/working/) that gets preserved as output when you create a version using \"Save & Run All\" \n",
    "# You can also write temporary files to /kaggle/temp/, but they won't be saved outside of the current session"
   ]
  },
  {
   "cell_type": "code",
   "execution_count": 2,
   "metadata": {
    "execution": {
     "iopub.execute_input": "2022-04-14T18:31:47.169082Z",
     "iopub.status.busy": "2022-04-14T18:31:47.168797Z",
     "iopub.status.idle": "2022-04-14T18:31:47.174001Z",
     "shell.execute_reply": "2022-04-14T18:31:47.173266Z",
     "shell.execute_reply.started": "2022-04-14T18:31:47.169055Z"
    }
   },
   "outputs": [],
   "source": [
    "import numpy as np\n",
    "import pandas as pd\n",
    "import json\n",
    "import re"
   ]
  },
  {
   "cell_type": "code",
   "execution_count": 3,
   "metadata": {
    "execution": {
     "iopub.execute_input": "2022-04-14T18:31:47.242884Z",
     "iopub.status.busy": "2022-04-14T18:31:47.242582Z",
     "iopub.status.idle": "2022-04-14T18:31:54.312397Z",
     "shell.execute_reply": "2022-04-14T18:31:54.311650Z",
     "shell.execute_reply.started": "2022-04-14T18:31:47.242857Z"
    }
   },
   "outputs": [],
   "source": [
    "data = pd.read_csv('/kaggle/input/house-prices/data.csv')"
   ]
  },
  {
   "cell_type": "code",
   "execution_count": 4,
   "metadata": {
    "execution": {
     "iopub.execute_input": "2022-04-14T18:31:54.314653Z",
     "iopub.status.busy": "2022-04-14T18:31:54.313845Z",
     "iopub.status.idle": "2022-04-14T18:31:54.338751Z",
     "shell.execute_reply": "2022-04-14T18:31:54.337989Z",
     "shell.execute_reply.started": "2022-04-14T18:31:54.314613Z"
    }
   },
   "outputs": [],
   "source": [
    "data.head(3)"
   ]
  },
  {
   "cell_type": "code",
   "execution_count": 5,
   "metadata": {
    "execution": {
     "iopub.execute_input": "2022-04-14T18:31:54.340271Z",
     "iopub.status.busy": "2022-04-14T18:31:54.339966Z",
     "iopub.status.idle": "2022-04-14T18:31:54.926308Z",
     "shell.execute_reply": "2022-04-14T18:31:54.925325Z",
     "shell.execute_reply.started": "2022-04-14T18:31:54.340235Z"
    }
   },
   "outputs": [],
   "source": [
    "data.info()"
   ]
  },
  {
   "cell_type": "code",
   "execution_count": 6,
   "metadata": {
    "execution": {
     "iopub.execute_input": "2022-04-14T18:31:54.928950Z",
     "iopub.status.busy": "2022-04-14T18:31:54.928681Z",
     "iopub.status.idle": "2022-04-14T18:31:54.934507Z",
     "shell.execute_reply": "2022-04-14T18:31:54.933720Z",
     "shell.execute_reply.started": "2022-04-14T18:31:54.928913Z"
    }
   },
   "outputs": [],
   "source": [
    "data.columns"
   ]
  },
  {
   "cell_type": "markdown",
   "metadata": {},
   "source": [
    "* 'status'\t    - статус, \n",
    "* 'private pool\t- частный бассейн, \n",
    "* 'propertyType'\t- тип недвижимости, поместья, свойства, \n",
    "* 'street'\t    - улица, \n",
    "* 'baths'         - бани,     \n",
    "* 'homeFacts'\t- домашние факты, сведения о доме\n",
    "* 'fireplace'\t- камин, \n",
    "* 'city'\t\t- город, \n",
    "* 'schools'\t- школы, \n",
    "* 'sqft'\t\t- квадратный фут, \n",
    "* 'zipcode'\t- почтовый индекс, \n",
    "* 'beds'\t\t- кровати, спальня\n",
    "* 'state'\t\t- государство, штаты, \n",
    "* 'stories'\t- рассказы--(этажность недвижимости)?, \n",
    "* 'mls-id'\t- млс-идентификатор, \n",
    "* 'PrivatePool'\t- Частный бассейн, \n",
    "* 'MlsId'\t\t- MlsId идентификатор,\n",
    "* 'target'\t- цель (цена недвижиости)* 'status'\t    - статус.\n"
   ]
  },
  {
   "cell_type": "markdown",
   "metadata": {},
   "source": [
    "## EDA"
   ]
  },
  {
   "cell_type": "markdown",
   "metadata": {},
   "source": [
    "#### Признак \"target\""
   ]
  },
  {
   "cell_type": "code",
   "execution_count": 7,
   "metadata": {
    "execution": {
     "iopub.execute_input": "2022-04-14T18:31:54.936128Z",
     "iopub.status.busy": "2022-04-14T18:31:54.935868Z",
     "iopub.status.idle": "2022-04-14T18:31:55.500225Z",
     "shell.execute_reply": "2022-04-14T18:31:55.499582Z",
     "shell.execute_reply.started": "2022-04-14T18:31:54.936095Z"
    }
   },
   "outputs": [],
   "source": [
    "data.isna().sum()/(data.shape[0]/100)"
   ]
  },
  {
   "cell_type": "markdown",
   "metadata": {},
   "source": [
    "Строки с пустыми значениями признака \"target\" надо удалять."
   ]
  },
  {
   "cell_type": "code",
   "execution_count": 8,
   "metadata": {
    "execution": {
     "iopub.execute_input": "2022-04-14T18:31:55.501650Z",
     "iopub.status.busy": "2022-04-14T18:31:55.501406Z",
     "iopub.status.idle": "2022-04-14T18:31:55.742984Z",
     "shell.execute_reply": "2022-04-14T18:31:55.742274Z",
     "shell.execute_reply.started": "2022-04-14T18:31:55.501616Z"
    }
   },
   "outputs": [],
   "source": [
    "data.drop(data[data.target.isna()].index, inplace=True)\n",
    "data = data.reset_index(drop=True)"
   ]
  },
  {
   "cell_type": "code",
   "execution_count": 9,
   "metadata": {
    "execution": {
     "iopub.execute_input": "2022-04-14T18:31:55.744594Z",
     "iopub.status.busy": "2022-04-14T18:31:55.744336Z",
     "iopub.status.idle": "2022-04-14T18:31:56.819428Z",
     "shell.execute_reply": "2022-04-14T18:31:56.818713Z",
     "shell.execute_reply.started": "2022-04-14T18:31:55.744560Z"
    }
   },
   "outputs": [],
   "source": [
    "def make_target(x):\n",
    "    x = re.sub('[^0-9]', '', x)\n",
    "    x = int(x)\n",
    "    return x\n",
    "\n",
    "data.target = data.target.apply(make_target)"
   ]
  },
  {
   "cell_type": "code",
   "execution_count": 10,
   "metadata": {
    "execution": {
     "iopub.execute_input": "2022-04-14T18:31:56.821138Z",
     "iopub.status.busy": "2022-04-14T18:31:56.820753Z",
     "iopub.status.idle": "2022-04-14T18:31:56.844566Z",
     "shell.execute_reply": "2022-04-14T18:31:56.843774Z",
     "shell.execute_reply.started": "2022-04-14T18:31:56.821099Z"
    }
   },
   "outputs": [],
   "source": [
    "data.target.describe()"
   ]
  },
  {
   "cell_type": "markdown",
   "metadata": {},
   "source": [
    "По содержанию будем предполагать, что признаки ['street', 'mls-id', 'MlsId', 'zipcode'] не должны сильно влиять на цену недвижимости. Поэтому удаляем этих признаков."
   ]
  },
  {
   "cell_type": "code",
   "execution_count": 11,
   "metadata": {
    "execution": {
     "iopub.execute_input": "2022-04-14T18:31:56.846221Z",
     "iopub.status.busy": "2022-04-14T18:31:56.845968Z",
     "iopub.status.idle": "2022-04-14T18:31:56.926921Z",
     "shell.execute_reply": "2022-04-14T18:31:56.926113Z",
     "shell.execute_reply.started": "2022-04-14T18:31:56.846187Z"
    }
   },
   "outputs": [],
   "source": [
    "cols_drop = ['street', 'zipcode',  'mls-id', 'MlsId']\n",
    "data.drop(cols_drop, axis=1, inplace=True)"
   ]
  },
  {
   "cell_type": "code",
   "execution_count": 12,
   "metadata": {
    "execution": {
     "iopub.execute_input": "2022-04-14T18:31:56.931932Z",
     "iopub.status.busy": "2022-04-14T18:31:56.931727Z",
     "iopub.status.idle": "2022-04-14T18:31:57.003771Z",
     "shell.execute_reply": "2022-04-14T18:31:57.003055Z",
     "shell.execute_reply.started": "2022-04-14T18:31:56.931907Z"
    }
   },
   "outputs": [],
   "source": [
    "df = data.copy()\n",
    "df.shape"
   ]
  },
  {
   "cell_type": "markdown",
   "metadata": {},
   "source": [
    "##### Если данные не качественные, то любая хорошая модель не поможет получить  хороший результат\n",
    "Для анализа данных признаков используются общие стандартные методы python, numpy, pandas, matplotlib, seaborn, модели sklearn, разные приемы парсинга. При необходимости придется анализировать данные построчно."
   ]
  },
  {
   "cell_type": "code",
   "execution_count": null,
   "metadata": {},
   "outputs": [],
   "source": []
  },
  {
   "cell_type": "markdown",
   "metadata": {},
   "source": [
    "#### Признак \"status\""
   ]
  },
  {
   "cell_type": "code",
   "execution_count": 13,
   "metadata": {
    "execution": {
     "iopub.execute_input": "2022-04-14T18:31:57.005373Z",
     "iopub.status.busy": "2022-04-14T18:31:57.004954Z",
     "iopub.status.idle": "2022-04-14T18:31:57.061576Z",
     "shell.execute_reply": "2022-04-14T18:31:57.060688Z",
     "shell.execute_reply.started": "2022-04-14T18:31:57.005336Z"
    }
   },
   "outputs": [],
   "source": [
    "df['status'].value_counts().index.tolist()"
   ]
  },
  {
   "cell_type": "code",
   "execution_count": 14,
   "metadata": {
    "execution": {
     "iopub.execute_input": "2022-04-14T18:31:57.063158Z",
     "iopub.status.busy": "2022-04-14T18:31:57.062905Z",
     "iopub.status.idle": "2022-04-14T18:31:57.105000Z",
     "shell.execute_reply": "2022-04-14T18:31:57.104236Z",
     "shell.execute_reply.started": "2022-04-14T18:31:57.063124Z"
    }
   },
   "outputs": [],
   "source": [
    "df['status'].nunique()"
   ]
  },
  {
   "cell_type": "markdown",
   "metadata": {},
   "source": [
    "'Pf' = 'Pre foreclosure'\n",
    "'Ps' = 'Pending Sale'\n",
    "'Bckp' = 'Backup'\n",
    "W/ Cont. = 'with contract' ???\n",
    "'insp' = 'inspection'"
   ]
  },
  {
   "cell_type": "code",
   "execution_count": 15,
   "metadata": {
    "execution": {
     "iopub.execute_input": "2022-04-14T18:31:57.106587Z",
     "iopub.status.busy": "2022-04-14T18:31:57.106287Z",
     "iopub.status.idle": "2022-04-14T18:31:57.162812Z",
     "shell.execute_reply": "2022-04-14T18:31:57.162195Z",
     "shell.execute_reply.started": "2022-04-14T18:31:57.106551Z"
    }
   },
   "outputs": [],
   "source": [
    "df['status'].value_counts()"
   ]
  },
  {
   "cell_type": "code",
   "execution_count": 16,
   "metadata": {
    "execution": {
     "iopub.execute_input": "2022-04-14T18:31:57.164061Z",
     "iopub.status.busy": "2022-04-14T18:31:57.163833Z",
     "iopub.status.idle": "2022-04-14T18:31:57.172113Z",
     "shell.execute_reply": "2022-04-14T18:31:57.171457Z",
     "shell.execute_reply.started": "2022-04-14T18:31:57.164027Z"
    }
   },
   "outputs": [],
   "source": [
    "def make_status(x):\n",
    "    if x.startswith('Coming soon'): x = 'coming soon'\n",
    "    x = x.replace('Showing', 'show')\n",
    "    x = x.replace('Pf', 'pre foreclosure')\n",
    "    x = x.replace('Ps', 'pending Sale')\n",
    "    x = x.replace('Bckp', 'backups')\n",
    "    # x = x.replace('insp', 'inspection')              \n",
    "    x = x.lower()\n",
    "    x = re.sub('[^a-z:]', ' ', x)\n",
    "    x = re.sub(r'\\b\\w{,2}\\b', '', x)\n",
    "    x = re.sub(r'\\s+', ' ', x)\n",
    "    return x.strip()"
   ]
  },
  {
   "cell_type": "code",
   "execution_count": 17,
   "metadata": {
    "execution": {
     "iopub.execute_input": "2022-04-14T18:31:57.173869Z",
     "iopub.status.busy": "2022-04-14T18:31:57.173459Z",
     "iopub.status.idle": "2022-04-14T18:32:00.002345Z",
     "shell.execute_reply": "2022-04-14T18:32:00.001404Z",
     "shell.execute_reply.started": "2022-04-14T18:31:57.173835Z"
    }
   },
   "outputs": [],
   "source": [
    "df['status'] = df['status'].fillna('other')\n",
    "df['status'] = df['status'].apply(make_status)\n",
    "\n",
    "df['status'].value_counts()"
   ]
  },
  {
   "cell_type": "code",
   "execution_count": 18,
   "metadata": {
    "execution": {
     "iopub.execute_input": "2022-04-14T18:32:00.004245Z",
     "iopub.status.busy": "2022-04-14T18:32:00.003859Z",
     "iopub.status.idle": "2022-04-14T18:32:00.008175Z",
     "shell.execute_reply": "2022-04-14T18:32:00.007446Z",
     "shell.execute_reply.started": "2022-04-14T18:32:00.004203Z"
    }
   },
   "outputs": [],
   "source": [
    "# df['status'].value_counts().index.tolist()"
   ]
  },
  {
   "cell_type": "markdown",
   "metadata": {
    "execution": {
     "iopub.execute_input": "2022-04-06T07:20:55.703553Z",
     "iopub.status.busy": "2022-04-06T07:20:55.702354Z",
     "iopub.status.idle": "2022-04-06T07:20:55.710667Z",
     "shell.execute_reply": "2022-04-06T07:20:55.709172Z",
     "shell.execute_reply.started": "2022-04-06T07:20:55.703458Z"
    }
   },
   "source": [
    "Термины, используемые в сфере продажи-покупки недвижимости:\n",
    "status - статус, состояние\n",
    "estate - недвижимость\n",
    "Multiple Listing Service (MLS) - Служба множественного листинга \n",
    "\n",
    "'foreclosed' - 'исключено', 'лишен права выкупа'\n",
    "'foreclosure' - 'выкупа'. — это процесс, когда ваша недвижимость переходит к кредитору из-за неуплаты Вами ипотечных выплат. Продажа foreclosure недвижимости отличается от традиционных продаж. \n",
    "Переход недвижимости в собственность залогодержателя если, по какой-либо причине, вы не можете выплачивать ваш mortgage\n",
    "Mortgage - ссуда в банке на недвижимость (Ипотека).\n",
    "\n",
    "'pre foreclosure' - «до выкупа»\n",
    "'pre foreclosure auction' - «аукцион до выкупа»\n",
    "\n",
    "'under contract showing',\n",
    "'under contract show',\n",
    "'under contract' - 'по договору',\n",
    "'active under contract' - «действующий по контракту»,\n",
    "\n",
    "'under contract backups' - резервное копирование по контракту,\n",
    "'active backup'  -  «активное резервное копирование»\n",
    "'backup contract' - «резервный контракт»\n",
    "'active backup' - «активное резервное копирование»\n",
    "\n",
    "'contingency' - 'непредвиденные обстоятельства'\n",
    "'contingency contract' - «контракт на случай непредвиденных обстоятельств»,\n",
    "'active contingency' - 'активное непредвиденное обстоятельство',\n",
    "'insp inspection contingency' - 'непредвиденные обстоятельства инспектирования'\n",
    "\n",
    "'pending escape clause' - 'ожидающая оговорка об освобождении'\n",
    "\n",
    "'pending backup wanted' - «требуется резервное копирование в ожидании»\n",
    "'pending take backups' - «ожидание создания резервных копий»\n",
    " \n",
    "'pending continue show financing' - 'в ожидании продолжения шоу финансирования'\n",
    "'pending continue show' - 'ожидание продолжения шоу'\n",
    "\n",
    "'pending insp finance' - 'в ожидании финансовой поддержки'\n",
    "'pending inspection' - \"в ожидании проверки\"\n",
    "\n",
    "'due diligence period' - «период должной осмотрительности»\n",
    "\n",
    "'activated' - активирован (active)\n",
    "\n",
    "'active with contract' - 'активен с контрактом'\n",
    "'active option' =\n",
    "= active with contract =\n",
    "= 'active option contract' =\n",
    "= contingency period =\n",
    "= due diligence period\n",
    "«активный вариант» - «активный опционный контракт»,\n",
    "In some states, the active option contract is referred to as a contingency period or due diligence period.\n",
    "\n",
    "'active with offer' - 'активен с предложением'\n",
    "\n",
    "\n",
    "'active auction',\n",
    "'auction active',\n",
    "'auction'\n",
    "\n",
    "contingency, contingencies - случайность, непредвиденные обстоятельства \n",
    "contingent - условный. В сфере недвижимости, когда дом указан как условный, это означает, что предложение было сделано и принято, но до завершения сделки должны быть выполнены некоторые дополнительные критерии. В сфере недвижимости, когда дом указан как условный, это означает, что предложение было сделано и принято, но до завершения сделки должны быть выполнены некоторые дополнительные критерии.\n",
    "\n",
    "cooling-off period - период обдумывание (период охлаждения)\n",
    "conditional offers - условные предложения\n"
   ]
  },
  {
   "cell_type": "code",
   "execution_count": 19,
   "metadata": {
    "execution": {
     "iopub.execute_input": "2022-04-14T18:32:00.010201Z",
     "iopub.status.busy": "2022-04-14T18:32:00.009671Z",
     "iopub.status.idle": "2022-04-14T18:32:00.111942Z",
     "shell.execute_reply": "2022-04-14T18:32:00.111159Z",
     "shell.execute_reply.started": "2022-04-14T18:32:00.010158Z"
    }
   },
   "outputs": [],
   "source": [
    "df['status'] = df['status'].apply(lambda x: 'other' if x=='' else x)"
   ]
  },
  {
   "cell_type": "code",
   "execution_count": 20,
   "metadata": {
    "execution": {
     "iopub.execute_input": "2022-04-14T18:32:00.114842Z",
     "iopub.status.busy": "2022-04-14T18:32:00.114554Z",
     "iopub.status.idle": "2022-04-14T18:32:00.179897Z",
     "shell.execute_reply": "2022-04-14T18:32:00.179115Z",
     "shell.execute_reply.started": "2022-04-14T18:32:00.114804Z"
    }
   },
   "outputs": [],
   "source": [
    "df['status'].value_counts()['continue show']"
   ]
  },
  {
   "cell_type": "code",
   "execution_count": 21,
   "metadata": {
    "execution": {
     "iopub.execute_input": "2022-04-14T18:32:00.182031Z",
     "iopub.status.busy": "2022-04-14T18:32:00.181193Z",
     "iopub.status.idle": "2022-04-14T18:32:00.846108Z",
     "shell.execute_reply": "2022-04-14T18:32:00.845285Z",
     "shell.execute_reply.started": "2022-04-14T18:32:00.181991Z"
    }
   },
   "outputs": [],
   "source": [
    "# Заменим некоторые слова для приобретения единой формы\n",
    "old_words = ['auction active', 'pending continue show financing', 'activated']\n",
    "new_words = ['active auction', 'pending continue show','active']\n",
    "\n",
    "for i in range(0,len(new_words)):\n",
    "    df['status'] = df['status'].apply(lambda x: \n",
    "                                    x.replace(old_words[i], new_words[i]))"
   ]
  },
  {
   "cell_type": "code",
   "execution_count": 22,
   "metadata": {
    "execution": {
     "iopub.execute_input": "2022-04-14T18:32:00.847632Z",
     "iopub.status.busy": "2022-04-14T18:32:00.847218Z",
     "iopub.status.idle": "2022-04-14T18:32:01.943837Z",
     "shell.execute_reply": "2022-04-14T18:32:01.943100Z",
     "shell.execute_reply.started": "2022-04-14T18:32:00.847594Z"
    }
   },
   "outputs": [],
   "source": [
    "new_string = ['active with contract', 'active option contract', \n",
    "              'contingency period', 'due diligence period']\n",
    "for i in range(0, len(new_string)):\n",
    "    df['status'] = df['status'].apply(lambda x: 'active option' \n",
    "                                    if (-1 != x.find(new_string[i])) else x)\n",
    "\n",
    "df['status'] = df['status'].apply(lambda x: 'for rent' \n",
    "                                        if (-1 != x.find('for rent')) else x)"
   ]
  },
  {
   "cell_type": "code",
   "execution_count": 23,
   "metadata": {
    "execution": {
     "iopub.execute_input": "2022-04-14T18:32:01.946589Z",
     "iopub.status.busy": "2022-04-14T18:32:01.946041Z",
     "iopub.status.idle": "2022-04-14T18:32:02.064574Z",
     "shell.execute_reply": "2022-04-14T18:32:02.063751Z",
     "shell.execute_reply.started": "2022-04-14T18:32:01.946549Z"
    }
   },
   "outputs": [],
   "source": [
    "df['status'] = df['status'].apply(lambda x: 'active auction' \n",
    "                                  if x=='auction' else x)\n",
    "df['status'].nunique()"
   ]
  },
  {
   "cell_type": "code",
   "execution_count": 24,
   "metadata": {
    "execution": {
     "iopub.execute_input": "2022-04-14T18:32:02.066307Z",
     "iopub.status.busy": "2022-04-14T18:32:02.066050Z",
     "iopub.status.idle": "2022-04-14T18:32:02.125886Z",
     "shell.execute_reply": "2022-04-14T18:32:02.125230Z",
     "shell.execute_reply.started": "2022-04-14T18:32:02.066273Z"
    }
   },
   "outputs": [],
   "source": [
    "df['status'].value_counts().index.tolist()"
   ]
  },
  {
   "cell_type": "code",
   "execution_count": 25,
   "metadata": {
    "execution": {
     "iopub.execute_input": "2022-04-14T18:32:02.128247Z",
     "iopub.status.busy": "2022-04-14T18:32:02.127224Z",
     "iopub.status.idle": "2022-04-14T18:32:02.136980Z",
     "shell.execute_reply": "2022-04-14T18:32:02.136099Z",
     "shell.execute_reply.started": "2022-04-14T18:32:02.128209Z"
    }
   },
   "outputs": [],
   "source": [
    "# df['status'].value_counts()"
   ]
  },
  {
   "cell_type": "markdown",
   "metadata": {},
   "source": [
    "Статусы недвижимости разнобразны - 72 вида. По ходу модельного эксперимента рассмотрим варианты уменьшения категории, выбрав топ 50 или 30 категории."
   ]
  },
  {
   "cell_type": "code",
   "execution_count": 26,
   "metadata": {
    "execution": {
     "iopub.execute_input": "2022-04-14T18:32:02.138433Z",
     "iopub.status.busy": "2022-04-14T18:32:02.138108Z",
     "iopub.status.idle": "2022-04-14T18:32:02.476775Z",
     "shell.execute_reply": "2022-04-14T18:32:02.476033Z",
     "shell.execute_reply.started": "2022-04-14T18:32:02.138399Z"
    }
   },
   "outputs": [],
   "source": [
    "top_status = df['status'].value_counts()[:50].index\n",
    "df['status'] = df['status'].apply(lambda x: x \n",
    "                                              if x in top_status else 'other')"
   ]
  },
  {
   "cell_type": "code",
   "execution_count": 27,
   "metadata": {
    "execution": {
     "iopub.execute_input": "2022-04-14T18:32:02.478555Z",
     "iopub.status.busy": "2022-04-14T18:32:02.478157Z",
     "iopub.status.idle": "2022-04-14T18:32:02.538612Z",
     "shell.execute_reply": "2022-04-14T18:32:02.537882Z",
     "shell.execute_reply.started": "2022-04-14T18:32:02.478519Z"
    }
   },
   "outputs": [],
   "source": [
    "df['status'].value_counts()"
   ]
  },
  {
   "cell_type": "code",
   "execution_count": null,
   "metadata": {},
   "outputs": [],
   "source": []
  },
  {
   "cell_type": "markdown",
   "metadata": {},
   "source": [
    "#### Признак \"propertyType\""
   ]
  },
  {
   "cell_type": "markdown",
   "metadata": {},
   "source": [
    "Типы домов, жилищ, и их основные характеристики:\n",
    "1. Apartment - Квартира\n",
    "2. Condo - Квартира (Кондоминиум)\n",
    "3. Co-Op - Совместная (Кооперативная квартира)\n",
    "4. Single-Family (Detached)\n",
    "5. Tiny Home -  Односемейный (маленький, отдельный)\n",
    "6.  Townhome, Townhouse \n",
    "7. Cape Cod - черепица, деревянный сайдинг, центральная дверь с окнами по бокам, 1-2 этажf.\n",
    "8. Colonial home - Два этажа с лишним, симметричный, центральная лестница, формальный вид. Different types include English, French, Dutch, Georgian, Spanish and American (which closely resembles English) colonials.\n",
    "9. Contemporary  - Основные характеристики: Чистые, простые линии; нейтральные цвета; натуральные текстуры \n",
    "10. Cottage - Уютная, небольшая веранда; небольшие жилые помещения; индивидуальный характер.\n",
    "11. Craftsman - \"ремесленник\"\n",
    "    элементы ручной работы из дерева, выступающие балки, большие колонны.\n",
    "12. Greek Revival - \n",
    "     большие белые колонны, украшения в греческом стиле, парадный вход.\n",
    "13. Farmhouse -  \n",
    "    деревенское, прямоугольное, большое крыльцо, крыши в стиле сарая и особенности.\n",
    "14. French Country - \n",
    "    влияние прованса, каменный внешний вид, состаренный вид.\n",
    "15. Mediterranean - белая штукатурка, теплое дерево и камень, черепичные крыши, есть элементы испанских и итальянских вилл.\n",
    "16. Midcentury Modern - \n",
    "    сочетание органики и геометрии, гладкий, лаконичный, большие окна.\n",
    "17. Ranch - \n",
    "     один этаж, низкая крыша, открытые жилые помещения, задний двор.\n",
    "18. Split-Level - \n",
    "    Жилые помещения разделены короткими лестничными пролетами.\n",
    "19. Tudor - \n",
    "    Деревянный каркас, каменная кладка, ассимметричные, крутые двускатные крыши.\n",
    "20. Victorian (Queen Anne Houses) - два-три этажа, богато украшенные крутые\n",
    "    двускатные крыши, небольшие башни, яркие фасады.\n",
    "\n",
    "Источник:\n",
    "https://www.rocketmortgage.com/learn/types-of-houses\n",
    "\n",
    "Europian Houses style - \n",
    "    часто используют кирпич или камень и включают в себя высокие крутые крыши, высокие окна, часто со ставнями, и традиционные декоративные детали, такие как фронтоны и замковые камни.\n",
    "\n",
    "log home - деревяный дом\n",
    "    \n",
    "mortgage - ипотека\n",
    "\n",
    "\n",
    "Некоторые жаргонные сокращения, для исправления.\n",
    "\n",
    "'farms/ranches' - 1-2 story\n",
    "  \n",
    "less than 4 floors == 3 story\n",
    "'4+ floors'\n",
    "\n",
    "* cluster home\n",
    "* modular\n",
    "* prefab\n",
    "* manufactured home (house)  = mobile | prefab | modular\n",
    "* transitional - внутри домашний стиль\n",
    "\n",
    "* mo2 le - mobile\n",
    "* mo2le  - mobile\n",
    "* 'ca2 n' - cabin\n",
    "\n",
    "* midcentury\n",
    "* mid century\n",
    "* mid-century"
   ]
  },
  {
   "cell_type": "code",
   "execution_count": 28,
   "metadata": {
    "execution": {
     "iopub.execute_input": "2022-04-14T18:32:02.540108Z",
     "iopub.status.busy": "2022-04-14T18:32:02.539763Z",
     "iopub.status.idle": "2022-04-14T18:32:02.548476Z",
     "shell.execute_reply": "2022-04-14T18:32:02.547682Z",
     "shell.execute_reply.started": "2022-04-14T18:32:02.540071Z"
    }
   },
   "outputs": [],
   "source": [
    "df.shape"
   ]
  },
  {
   "cell_type": "code",
   "execution_count": 29,
   "metadata": {
    "execution": {
     "iopub.execute_input": "2022-04-14T18:32:02.550193Z",
     "iopub.status.busy": "2022-04-14T18:32:02.549791Z",
     "iopub.status.idle": "2022-04-14T18:32:02.592765Z",
     "shell.execute_reply": "2022-04-14T18:32:02.591832Z",
     "shell.execute_reply.started": "2022-04-14T18:32:02.550140Z"
    }
   },
   "outputs": [],
   "source": [
    "df['propertyType'].isna().sum()"
   ]
  },
  {
   "cell_type": "code",
   "execution_count": 30,
   "metadata": {
    "execution": {
     "iopub.execute_input": "2022-04-14T18:32:02.599447Z",
     "iopub.status.busy": "2022-04-14T18:32:02.599243Z",
     "iopub.status.idle": "2022-04-14T18:32:02.932175Z",
     "shell.execute_reply": "2022-04-14T18:32:02.931474Z",
     "shell.execute_reply.started": "2022-04-14T18:32:02.599424Z"
    }
   },
   "outputs": [],
   "source": [
    "df['propertyType'] = df['propertyType'].fillna('no data')\n",
    "df['propertyType'] = df['propertyType'].apply(lambda x: 'no data' \n",
    "                                        if x ==' ' or x=='unknown' else x)\n",
    "df['propertyType'] = df['propertyType'].apply(lambda x: x.lower())\n",
    "\n",
    "df['propertyType'].value_counts()"
   ]
  },
  {
   "cell_type": "code",
   "execution_count": 31,
   "metadata": {
    "execution": {
     "iopub.execute_input": "2022-04-14T18:32:02.934053Z",
     "iopub.status.busy": "2022-04-14T18:32:02.933789Z",
     "iopub.status.idle": "2022-04-14T18:32:03.024173Z",
     "shell.execute_reply": "2022-04-14T18:32:03.023133Z",
     "shell.execute_reply.started": "2022-04-14T18:32:02.934015Z"
    }
   },
   "outputs": [],
   "source": [
    "df['propertyType'].value_counts()['singlefamilyresidence']"
   ]
  },
  {
   "cell_type": "code",
   "execution_count": 32,
   "metadata": {
    "execution": {
     "iopub.execute_input": "2022-04-14T18:32:03.026586Z",
     "iopub.status.busy": "2022-04-14T18:32:03.026000Z",
     "iopub.status.idle": "2022-04-14T18:32:03.146583Z",
     "shell.execute_reply": "2022-04-14T18:32:03.145936Z",
     "shell.execute_reply.started": "2022-04-14T18:32:03.026548Z"
    }
   },
   "outputs": [],
   "source": [
    "df['propertyType'].value_counts().index.tolist()"
   ]
  },
  {
   "cell_type": "code",
   "execution_count": 33,
   "metadata": {
    "execution": {
     "iopub.execute_input": "2022-04-14T18:32:03.149976Z",
     "iopub.status.busy": "2022-04-14T18:32:03.149495Z",
     "iopub.status.idle": "2022-04-14T18:32:03.238372Z",
     "shell.execute_reply": "2022-04-14T18:32:03.237721Z",
     "shell.execute_reply.started": "2022-04-14T18:32:03.149938Z"
    }
   },
   "outputs": [],
   "source": [
    "df['propertyType'].value_counts()['yes']"
   ]
  },
  {
   "cell_type": "markdown",
   "metadata": {},
   "source": [
    "Строки с \"land\" значением признака 'propertyType' удаляем. Так как нам необходимо оценить недвижимость. Земельный участок нас не интересует. "
   ]
  },
  {
   "cell_type": "code",
   "execution_count": 34,
   "metadata": {
    "execution": {
     "iopub.execute_input": "2022-04-14T18:32:03.240400Z",
     "iopub.status.busy": "2022-04-14T18:32:03.239855Z",
     "iopub.status.idle": "2022-04-14T18:32:03.589084Z",
     "shell.execute_reply": "2022-04-14T18:32:03.588317Z",
     "shell.execute_reply.started": "2022-04-14T18:32:03.240316Z"
    }
   },
   "outputs": [],
   "source": [
    "df['propertyType'] = df['propertyType'].apply(lambda x: x.replace('lot/land', 'land'))\n",
    "df['propertyType'] = df['propertyType'].apply(lambda x: 'land' if (-1 != x.find('land')) else x)"
   ]
  },
  {
   "cell_type": "code",
   "execution_count": 35,
   "metadata": {
    "execution": {
     "iopub.execute_input": "2022-04-14T18:32:03.591007Z",
     "iopub.status.busy": "2022-04-14T18:32:03.590212Z",
     "iopub.status.idle": "2022-04-14T18:32:03.658965Z",
     "shell.execute_reply": "2022-04-14T18:32:03.658281Z",
     "shell.execute_reply.started": "2022-04-14T18:32:03.590966Z"
    }
   },
   "outputs": [],
   "source": [
    "ind_land_drop = df[df['propertyType']=='land'].index\n",
    "ind_land_drop"
   ]
  },
  {
   "cell_type": "code",
   "execution_count": 36,
   "metadata": {
    "execution": {
     "iopub.execute_input": "2022-04-14T18:32:03.660412Z",
     "iopub.status.busy": "2022-04-14T18:32:03.660160Z",
     "iopub.status.idle": "2022-04-14T18:32:03.840501Z",
     "shell.execute_reply": "2022-04-14T18:32:03.839755Z",
     "shell.execute_reply.started": "2022-04-14T18:32:03.660369Z"
    }
   },
   "outputs": [],
   "source": [
    "df.drop(ind_land_drop,  inplace=True)\n",
    "df = df.reset_index(drop=True)"
   ]
  },
  {
   "cell_type": "markdown",
   "metadata": {},
   "source": [
    "Содержимое признака небрежно заполнено и данные очень разнообразны, и требуют сложного парсинга содежимого признака.\n",
    "Заменим некоторые сокрашенные слова, расшифруем и заменим синонимы на более общепринятые."
   ]
  },
  {
   "cell_type": "code",
   "execution_count": 37,
   "metadata": {
    "execution": {
     "iopub.execute_input": "2022-04-14T18:32:03.842020Z",
     "iopub.status.busy": "2022-04-14T18:32:03.841753Z",
     "iopub.status.idle": "2022-04-14T18:32:09.265059Z",
     "shell.execute_reply": "2022-04-14T18:32:09.264346Z",
     "shell.execute_reply.started": "2022-04-14T18:32:03.841983Z"
    }
   },
   "outputs": [],
   "source": [
    "old = ['one', 'two', '2-', 'stories', '1 1/2', 'tri-', 'single family',\n",
    "       'singlefamilyresidence', 'townhome',   'bi', 'bi-', 'multi family', \n",
    "       'hi-', 'high ', 'condominium',  '4 plex', 'other', 'ca2 n', 'cape cod',\n",
    "       'mid century', 'mid-century',  'mo2 le', 'mo2le', ' / ','mfd',   \n",
    "       'co-op', 'coop',  'modernist', 'key west', 'farm house',\n",
    "       'queen anne', ' -level', 'floors', 'mobile home', 'manuf/mobile',\n",
    "       'less than 4 story', 'historic/older', 'quad']\n",
    "new = ['1', '2', '2 ', 'story',  '1.5', '3 ', 'single-family',\n",
    "       'single-family', 'townhouse',  '2 ', '2 ',  'multi-family',\n",
    "       'high-', 'high-', 'condo',  '4-plex', 'other style', 'cabin', 'cape', \n",
    "       'midcentury', 'midcentury', 'mobile', 'mobile', '/', 'manufactured', \n",
    "        'cooperative', 'cooperative',  'modern', 'elevated', 'farmhouse',\n",
    "        'victorian', ' level',  'story', 'manufactured', 'manufactured',\n",
    "        '3 story', 'historical', '4']\n",
    "for i in range(0,len(new)):\n",
    "    df['propertyType'] = df['propertyType'].apply(lambda x: \n",
    "                                                  x.replace(old[i], new[i]))"
   ]
  },
  {
   "cell_type": "code",
   "execution_count": 38,
   "metadata": {
    "execution": {
     "iopub.execute_input": "2022-04-14T18:32:09.268479Z",
     "iopub.status.busy": "2022-04-14T18:32:09.268245Z",
     "iopub.status.idle": "2022-04-14T18:32:09.331519Z",
     "shell.execute_reply": "2022-04-14T18:32:09.330664Z",
     "shell.execute_reply.started": "2022-04-14T18:32:09.268451Z"
    }
   },
   "outputs": [],
   "source": [
    "df['propertyType'].value_counts()"
   ]
  },
  {
   "cell_type": "code",
   "execution_count": 39,
   "metadata": {
    "execution": {
     "iopub.execute_input": "2022-04-14T18:32:09.333781Z",
     "iopub.status.busy": "2022-04-14T18:32:09.333040Z",
     "iopub.status.idle": "2022-04-14T18:32:09.340173Z",
     "shell.execute_reply": "2022-04-14T18:32:09.339572Z",
     "shell.execute_reply.started": "2022-04-14T18:32:09.333741Z"
    }
   },
   "outputs": [],
   "source": [
    "# df['propertyType'].value_counts().index.tolist() "
   ]
  },
  {
   "cell_type": "code",
   "execution_count": 40,
   "metadata": {
    "execution": {
     "iopub.execute_input": "2022-04-14T18:32:09.342115Z",
     "iopub.status.busy": "2022-04-14T18:32:09.341620Z",
     "iopub.status.idle": "2022-04-14T18:32:09.472982Z",
     "shell.execute_reply": "2022-04-14T18:32:09.472291Z",
     "shell.execute_reply.started": "2022-04-14T18:32:09.342079Z"
    }
   },
   "outputs": [],
   "source": [
    "# В признаке 'propertyType' много сведений об этажности домов\n",
    "# Выделим все  эти данные\n",
    "# Это небходимо для уточнения и дополнения признака 'stories'\n",
    "df['Property_story'] = df['propertyType'].apply(lambda x: \n",
    "                                        x if -1!= x.find('story') else 'no')"
   ]
  },
  {
   "cell_type": "code",
   "execution_count": 41,
   "metadata": {
    "execution": {
     "iopub.execute_input": "2022-04-14T18:32:09.475522Z",
     "iopub.status.busy": "2022-04-14T18:32:09.475251Z",
     "iopub.status.idle": "2022-04-14T18:32:09.516419Z",
     "shell.execute_reply": "2022-04-14T18:32:09.515767Z",
     "shell.execute_reply.started": "2022-04-14T18:32:09.475485Z"
    }
   },
   "outputs": [],
   "source": [
    "df['Property_story'].value_counts()"
   ]
  },
  {
   "cell_type": "code",
   "execution_count": 42,
   "metadata": {
    "execution": {
     "iopub.execute_input": "2022-04-14T18:32:09.518706Z",
     "iopub.status.busy": "2022-04-14T18:32:09.517675Z",
     "iopub.status.idle": "2022-04-14T18:32:09.527748Z",
     "shell.execute_reply": "2022-04-14T18:32:09.527061Z",
     "shell.execute_reply.started": "2022-04-14T18:32:09.518667Z"
    }
   },
   "outputs": [],
   "source": [
    "# df['Property_story'].value_counts().index.tolist()"
   ]
  },
  {
   "cell_type": "code",
   "execution_count": 43,
   "metadata": {
    "execution": {
     "iopub.execute_input": "2022-04-14T18:32:09.529688Z",
     "iopub.status.busy": "2022-04-14T18:32:09.529055Z",
     "iopub.status.idle": "2022-04-14T18:32:09.763877Z",
     "shell.execute_reply": "2022-04-14T18:32:09.763157Z",
     "shell.execute_reply.started": "2022-04-14T18:32:09.529652Z"
    }
   },
   "outputs": [],
   "source": [
    "# Dыделим индексы строк, имеющие данные об этажности\n",
    "ind_story = df[df['Property_story']!='no'].index\n",
    "ind_story"
   ]
  },
  {
   "cell_type": "code",
   "execution_count": 44,
   "metadata": {
    "execution": {
     "iopub.execute_input": "2022-04-14T18:32:09.765384Z",
     "iopub.status.busy": "2022-04-14T18:32:09.764970Z",
     "iopub.status.idle": "2022-04-14T18:32:09.774994Z",
     "shell.execute_reply": "2022-04-14T18:32:09.774120Z",
     "shell.execute_reply.started": "2022-04-14T18:32:09.765328Z"
    }
   },
   "outputs": [],
   "source": [
    "df['stories'][ind_story].value_counts()"
   ]
  },
  {
   "cell_type": "code",
   "execution_count": 45,
   "metadata": {
    "execution": {
     "iopub.execute_input": "2022-04-14T18:32:09.777241Z",
     "iopub.status.busy": "2022-04-14T18:32:09.776331Z",
     "iopub.status.idle": "2022-04-14T18:32:09.790984Z",
     "shell.execute_reply": "2022-04-14T18:32:09.790364Z",
     "shell.execute_reply.started": "2022-04-14T18:32:09.777205Z"
    }
   },
   "outputs": [],
   "source": [
    "df['Property_story'][ind_story].value_counts().index.tolist()"
   ]
  },
  {
   "cell_type": "code",
   "execution_count": 46,
   "metadata": {
    "execution": {
     "iopub.execute_input": "2022-04-14T18:32:09.792507Z",
     "iopub.status.busy": "2022-04-14T18:32:09.792118Z",
     "iopub.status.idle": "2022-04-14T18:32:09.823436Z",
     "shell.execute_reply": "2022-04-14T18:32:09.822743Z",
     "shell.execute_reply.started": "2022-04-14T18:32:09.792473Z"
    }
   },
   "outputs": [],
   "source": [
    "# Оставляем сведения только относящиеся к этажности и записываем в признак 'stories'\n",
    "def story(x):\n",
    "    s = x.split(',')\n",
    "    se = ''\n",
    "    for i in range(0, len(s)):\n",
    "        if s[i].find('story')!=-1:\n",
    "            se = s[i]\n",
    "    return se.strip()\n",
    "\n",
    "df.loc[ind_story, 'stories'] = df['Property_story'][ind_story].apply(story)\n",
    "df['stories'][ind_story].value_counts()"
   ]
  },
  {
   "cell_type": "code",
   "execution_count": 47,
   "metadata": {
    "execution": {
     "iopub.execute_input": "2022-04-14T18:32:09.825170Z",
     "iopub.status.busy": "2022-04-14T18:32:09.824713Z",
     "iopub.status.idle": "2022-04-14T18:32:09.862954Z",
     "shell.execute_reply": "2022-04-14T18:32:09.861867Z",
     "shell.execute_reply.started": "2022-04-14T18:32:09.825136Z"
    }
   },
   "outputs": [],
   "source": [
    "# Очищаем от слов, относящихся к типам домов и записываем в признак 'stories'\n",
    "del_str = ['/ranch', 'manufactured', 'coastal', 'traditional', 'condo']\n",
    "\n",
    "def del_substr(x):\n",
    "    for i in range(0, len(del_str)):\n",
    "        x = x.replace(del_str[i], '').strip()\n",
    "    return x\n",
    "\n",
    "df.loc[ind_story, 'stories'] = df['stories'][ind_story].apply(del_substr)\n",
    "df['stories'][ind_story].value_counts()"
   ]
  },
  {
   "cell_type": "code",
   "execution_count": 48,
   "metadata": {
    "execution": {
     "iopub.execute_input": "2022-04-14T18:32:09.869044Z",
     "iopub.status.busy": "2022-04-14T18:32:09.867094Z",
     "iopub.status.idle": "2022-04-14T18:32:09.875117Z",
     "shell.execute_reply": "2022-04-14T18:32:09.874257Z",
     "shell.execute_reply.started": "2022-04-14T18:32:09.869010Z"
    }
   },
   "outputs": [],
   "source": [
    "# Удаление сведений, относящихся к этажности для перезаписи в признак 'propertyType'\n",
    "def type_del_story(x):\n",
    "    s = x.split(',')\n",
    "    for i in range(0, len(s)):\n",
    "        if s[i].find('story')!=-1:\n",
    "            if len(s)==1 and i==0:\n",
    "                s[i] = 'other'\n",
    "            if len(s)>1:\n",
    "                s[i] = ','\n",
    "            if len(s)>1 and i==0:\n",
    "                s[i]=''\n",
    "        x = '' .join(s).strip()\n",
    "    return x"
   ]
  },
  {
   "cell_type": "code",
   "execution_count": 49,
   "metadata": {
    "execution": {
     "iopub.execute_input": "2022-04-14T18:32:09.876931Z",
     "iopub.status.busy": "2022-04-14T18:32:09.876228Z",
     "iopub.status.idle": "2022-04-14T18:32:09.924778Z",
     "shell.execute_reply": "2022-04-14T18:32:09.924103Z",
     "shell.execute_reply.started": "2022-04-14T18:32:09.876896Z"
    }
   },
   "outputs": [],
   "source": [
    "df.loc[ind_story, 'propertyType'] = df['Property_story'][ind_story].apply(type_del_story)\n",
    "\n",
    "df['propertyType'][ind_story].value_counts()"
   ]
  },
  {
   "cell_type": "code",
   "execution_count": 50,
   "metadata": {
    "execution": {
     "iopub.execute_input": "2022-04-14T18:32:09.927553Z",
     "iopub.status.busy": "2022-04-14T18:32:09.925971Z",
     "iopub.status.idle": "2022-04-14T18:32:10.006918Z",
     "shell.execute_reply": "2022-04-14T18:32:10.006076Z",
     "shell.execute_reply.started": "2022-04-14T18:32:09.927512Z"
    }
   },
   "outputs": [],
   "source": [
    "df.drop('Property_story', axis=1, inplace=True)"
   ]
  },
  {
   "cell_type": "markdown",
   "metadata": {},
   "source": [
    "Далее в полях признака 'propertyType' оставляем основные типы домов, жилищ"
   ]
  },
  {
   "cell_type": "code",
   "execution_count": 51,
   "metadata": {
    "execution": {
     "iopub.execute_input": "2022-04-14T18:32:10.009161Z",
     "iopub.status.busy": "2022-04-14T18:32:10.008940Z",
     "iopub.status.idle": "2022-04-14T18:32:15.653767Z",
     "shell.execute_reply": "2022-04-14T18:32:15.653031Z",
     "shell.execute_reply.started": "2022-04-14T18:32:10.009136Z"
    }
   },
   "outputs": [],
   "source": [
    "# Присвоение полям новых названий в соответствии с найденной подстрокой\n",
    "new = ['mediterranean', 'english', 'georgian', 'florida','spanish',\n",
    "        'lake house', 'tudor', 'victorian', 'ranch', 'townhouse', \n",
    "        'single-family','multi-family', 'single detached', 'detached', \n",
    "        'high-rise', 'colonial', 'traditional',\n",
    "        'condo', 'contemporary', 'other style', 'bungalow', 'craftsman',\n",
    "        'cape cod','cooperative', 'a-frame',  'custom', 'loft', \n",
    "        'multi-level', 'attached', 'manufactured',  'side-by-side', \n",
    "        'cottage',  'french', 'cluster home', 'garden home', \n",
    "        'farmhouse', 'elevated',  'historical', 'transitional','penthouse',\n",
    "        'modern']\n",
    "\n",
    "for i in range(0, len(new)):\n",
    "    df['propertyType'] = df['propertyType'].apply(lambda x: new[i] \n",
    "                                            if (-1 != x.find(new[i])) else x)"
   ]
  },
  {
   "cell_type": "code",
   "execution_count": 52,
   "metadata": {
    "execution": {
     "iopub.execute_input": "2022-04-14T18:32:15.655230Z",
     "iopub.status.busy": "2022-04-14T18:32:15.654980Z",
     "iopub.status.idle": "2022-04-14T18:32:16.000794Z",
     "shell.execute_reply": "2022-04-14T18:32:16.000050Z",
     "shell.execute_reply.started": "2022-04-14T18:32:15.655197Z"
    }
   },
   "outputs": [],
   "source": [
    "#  Присвоение  полям новых значений с изменением\n",
    "old = ['cape','log']\n",
    "new = ['cape cod','log home']\n",
    "\n",
    "for i in range(0,len(new)):\n",
    "    df['propertyType'] = df['propertyType'].apply(lambda x: new[i] \n",
    "                                              if -1!=x.find(old[i])  else x)\n",
    "df['propertyType'] = df['propertyType'].apply(lambda x: 'historical'\n",
    "                        if (x=='historic') or (x=='historic vintage') else x)"
   ]
  },
  {
   "cell_type": "code",
   "execution_count": 53,
   "metadata": {
    "execution": {
     "iopub.execute_input": "2022-04-14T18:32:16.002580Z",
     "iopub.status.busy": "2022-04-14T18:32:16.002113Z",
     "iopub.status.idle": "2022-04-14T18:32:16.047164Z",
     "shell.execute_reply": "2022-04-14T18:32:16.046270Z",
     "shell.execute_reply.started": "2022-04-14T18:32:16.002537Z"
    }
   },
   "outputs": [],
   "source": [
    "df['propertyType'].value_counts()"
   ]
  },
  {
   "cell_type": "code",
   "execution_count": 54,
   "metadata": {
    "execution": {
     "iopub.execute_input": "2022-04-14T18:32:16.048885Z",
     "iopub.status.busy": "2022-04-14T18:32:16.048567Z",
     "iopub.status.idle": "2022-04-14T18:32:16.054169Z",
     "shell.execute_reply": "2022-04-14T18:32:16.053327Z",
     "shell.execute_reply.started": "2022-04-14T18:32:16.048851Z"
    }
   },
   "outputs": [],
   "source": [
    "# df['propertyType'].value_counts().index.tolist() "
   ]
  },
  {
   "cell_type": "markdown",
   "metadata": {},
   "source": [
    "Непонятные значения признака 'propertyType':\n",
    "'no data' - эти данные - NaN\n",
    "'camp', 'end unit', 'yes' - что эти данные означают для  типов квартир и домов?\n",
    "\n",
    "Привести к единым данным:\n",
    "\n",
    "'no data' = 'other style' = 'other' ?!"
   ]
  },
  {
   "cell_type": "code",
   "execution_count": 55,
   "metadata": {
    "execution": {
     "iopub.execute_input": "2022-04-14T18:32:16.055926Z",
     "iopub.status.busy": "2022-04-14T18:32:16.055666Z",
     "iopub.status.idle": "2022-04-14T18:32:16.159287Z",
     "shell.execute_reply": "2022-04-14T18:32:16.158551Z",
     "shell.execute_reply.started": "2022-04-14T18:32:16.055892Z"
    }
   },
   "outputs": [],
   "source": [
    "df['propertyType'] = df['propertyType'].apply(lambda x: 'other style' \n",
    "                            if (x=='no data') or (x=='other')  else x)"
   ]
  },
  {
   "cell_type": "code",
   "execution_count": 56,
   "metadata": {
    "execution": {
     "iopub.execute_input": "2022-04-14T18:32:16.161407Z",
     "iopub.status.busy": "2022-04-14T18:32:16.161177Z",
     "iopub.status.idle": "2022-04-14T18:32:16.451675Z",
     "shell.execute_reply": "2022-04-14T18:32:16.451019Z",
     "shell.execute_reply.started": "2022-04-14T18:32:16.161364Z"
    }
   },
   "outputs": [],
   "source": [
    "# С целью уменьшения числа категорий, выберем топ 50 или топ 100 типов стилей домов.\n",
    "top_Type = df['propertyType'].value_counts()[:50].index\n",
    "df['propertyType'] = df['propertyType'].apply(lambda x: x \n",
    "                                            if x in top_Type else 'other style')"
   ]
  },
  {
   "cell_type": "code",
   "execution_count": 57,
   "metadata": {
    "execution": {
     "iopub.execute_input": "2022-04-14T18:32:16.453262Z",
     "iopub.status.busy": "2022-04-14T18:32:16.453010Z",
     "iopub.status.idle": "2022-04-14T18:32:16.494252Z",
     "shell.execute_reply": "2022-04-14T18:32:16.493446Z",
     "shell.execute_reply.started": "2022-04-14T18:32:16.453228Z"
    }
   },
   "outputs": [],
   "source": [
    "df['propertyType'].value_counts()"
   ]
  },
  {
   "cell_type": "code",
   "execution_count": null,
   "metadata": {},
   "outputs": [],
   "source": []
  },
  {
   "cell_type": "markdown",
   "metadata": {},
   "source": [
    "#### Признак \"stories\""
   ]
  },
  {
   "cell_type": "markdown",
   "metadata": {},
   "source": [
    "Признаки 'stories' и 'propertyType' необходимо рассмотреь совместно, так как в признаке 'propertyType' приведены данные об этажности домов, которые относятся к признаку 'stories'."
   ]
  },
  {
   "cell_type": "code",
   "execution_count": 58,
   "metadata": {
    "execution": {
     "iopub.execute_input": "2022-04-14T18:32:16.495911Z",
     "iopub.status.busy": "2022-04-14T18:32:16.495648Z",
     "iopub.status.idle": "2022-04-14T18:32:16.538691Z",
     "shell.execute_reply": "2022-04-14T18:32:16.538011Z",
     "shell.execute_reply.started": "2022-04-14T18:32:16.495876Z"
    }
   },
   "outputs": [],
   "source": [
    "df['stories'].value_counts()"
   ]
  },
  {
   "cell_type": "code",
   "execution_count": 59,
   "metadata": {
    "execution": {
     "iopub.execute_input": "2022-04-14T18:32:16.540047Z",
     "iopub.status.busy": "2022-04-14T18:32:16.539805Z",
     "iopub.status.idle": "2022-04-14T18:32:16.585215Z",
     "shell.execute_reply": "2022-04-14T18:32:16.584319Z",
     "shell.execute_reply.started": "2022-04-14T18:32:16.540014Z"
    }
   },
   "outputs": [],
   "source": [
    "df['stories'].value_counts().index.tolist()"
   ]
  },
  {
   "cell_type": "code",
   "execution_count": 60,
   "metadata": {
    "execution": {
     "iopub.execute_input": "2022-04-14T18:32:16.587001Z",
     "iopub.status.busy": "2022-04-14T18:32:16.586749Z",
     "iopub.status.idle": "2022-04-14T18:32:16.621119Z",
     "shell.execute_reply": "2022-04-14T18:32:16.620436Z",
     "shell.execute_reply.started": "2022-04-14T18:32:16.586968Z"
    }
   },
   "outputs": [],
   "source": [
    "df['stories'].isna().sum()"
   ]
  },
  {
   "cell_type": "code",
   "execution_count": 61,
   "metadata": {
    "execution": {
     "iopub.execute_input": "2022-04-14T18:32:16.622624Z",
     "iopub.status.busy": "2022-04-14T18:32:16.622236Z",
     "iopub.status.idle": "2022-04-14T18:32:16.824816Z",
     "shell.execute_reply": "2022-04-14T18:32:16.824073Z",
     "shell.execute_reply.started": "2022-04-14T18:32:16.622592Z"
    }
   },
   "outputs": [],
   "source": [
    "df['stories'] = df['stories'].fillna('0.0')\n",
    "df['stories'] = df['stories'].apply(lambda x: x.lower())\n",
    "df['stories'] = df['stories'].apply(lambda x: '0.0' if x == '0' else x)"
   ]
  },
  {
   "cell_type": "code",
   "execution_count": 62,
   "metadata": {
    "execution": {
     "iopub.execute_input": "2022-04-14T18:32:16.826330Z",
     "iopub.status.busy": "2022-04-14T18:32:16.826081Z",
     "iopub.status.idle": "2022-04-14T18:32:20.071452Z",
     "shell.execute_reply": "2022-04-14T18:32:20.070709Z",
     "shell.execute_reply.started": "2022-04-14T18:32:16.826286Z"
    }
   },
   "outputs": [],
   "source": [
    "num_str = ['one','two','bi', 'split', 'three','tri','four', 'quad' , 'stories', \n",
    "           '-level', 'levels', 'leveland','cape cod', '1 and 1 half', '1 1/2 story',\n",
    "           'ranch', 'garden', 'log home', 'cape',\n",
    "          'raised ranch', 'bungalow', 'farm house', '4plex', 'sixplex','tudor']\n",
    "num_num = ['1','2','2', '2', '3','3', '4', '4', 'story', \n",
    "           ' level', 'level', 'level and','1 story', '1.5 story', '1.5 story',\n",
    "           '1 story', '1 story', '1 story', '1 story',\n",
    "          '1 story', '1 story', '1 story', '4 plex','6 plex', '2 story']\n",
    "for i in range(0, len(num_str)):\n",
    "    df['stories'] = df['stories'].apply(lambda x: x.replace(num_str[i], num_num[i]))"
   ]
  },
  {
   "cell_type": "markdown",
   "metadata": {},
   "source": [
    "'dwelling story' - жилой дом\n",
    "'1 story/f.r.o.g.'\n",
    "FROG is a “Finished Room Over Garage.” \n",
    "\n",
    "foyer - очаг\n",
    "\n",
    "t3-townhouse стиль - 2 и более этажей\n",
    "\n",
    "'craftsman' 1, 1.5 этажей\n",
    "\n",
    "'log' - 'log home' 1,2 этажей\n"
   ]
  },
  {
   "cell_type": "code",
   "execution_count": 63,
   "metadata": {
    "execution": {
     "iopub.execute_input": "2022-04-14T18:32:20.072921Z",
     "iopub.status.busy": "2022-04-14T18:32:20.072687Z",
     "iopub.status.idle": "2022-04-14T18:32:20.145069Z",
     "shell.execute_reply": "2022-04-14T18:32:20.144311Z",
     "shell.execute_reply.started": "2022-04-14T18:32:20.072889Z"
    }
   },
   "outputs": [],
   "source": [
    "df['stories'].value_counts()"
   ]
  },
  {
   "cell_type": "code",
   "execution_count": 64,
   "metadata": {
    "execution": {
     "iopub.execute_input": "2022-04-14T18:32:20.148262Z",
     "iopub.status.busy": "2022-04-14T18:32:20.147431Z",
     "iopub.status.idle": "2022-04-14T18:32:20.154298Z",
     "shell.execute_reply": "2022-04-14T18:32:20.153536Z",
     "shell.execute_reply.started": "2022-04-14T18:32:20.148231Z"
    }
   },
   "outputs": [],
   "source": [
    "# df['stories'].value_counts().index.tolist()"
   ]
  },
  {
   "cell_type": "markdown",
   "metadata": {},
   "source": [
    "Проверим последовательно, признаки  какой этажности соответствуют признаку 'stories'  к данным 'townhouse', 'condominium', 'traditional' и 'Contemporary' из признака 'propertyType' в исходном датасете (dataframe data). В исходном датасете они еще не обработаны, т.е. в виде 'Townhouse', 'Condominium', 'Traditional', 'Contemporary'."
   ]
  },
  {
   "cell_type": "code",
   "execution_count": 65,
   "metadata": {
    "execution": {
     "iopub.execute_input": "2022-04-14T18:32:20.157842Z",
     "iopub.status.busy": "2022-04-14T18:32:20.156503Z",
     "iopub.status.idle": "2022-04-14T18:32:20.218347Z",
     "shell.execute_reply": "2022-04-14T18:32:20.217649Z",
     "shell.execute_reply.started": "2022-04-14T18:32:20.157799Z"
    }
   },
   "outputs": [],
   "source": [
    "# 'Townhouse', 'Condominium', 'Traditional', 'Contemporary'\n",
    "data['stories'][data['propertyType']=='Townhouse'].value_counts().index[0]"
   ]
  },
  {
   "cell_type": "code",
   "execution_count": 66,
   "metadata": {
    "execution": {
     "iopub.execute_input": "2022-04-14T18:32:20.219973Z",
     "iopub.status.busy": "2022-04-14T18:32:20.219687Z",
     "iopub.status.idle": "2022-04-14T18:32:20.278245Z",
     "shell.execute_reply": "2022-04-14T18:32:20.277406Z",
     "shell.execute_reply.started": "2022-04-14T18:32:20.219936Z"
    }
   },
   "outputs": [],
   "source": [
    "data['stories'][data['propertyType']=='Condominium'].value_counts().index[0]"
   ]
  },
  {
   "cell_type": "code",
   "execution_count": 67,
   "metadata": {
    "execution": {
     "iopub.execute_input": "2022-04-14T18:32:20.279590Z",
     "iopub.status.busy": "2022-04-14T18:32:20.279347Z",
     "iopub.status.idle": "2022-04-14T18:32:20.339252Z",
     "shell.execute_reply": "2022-04-14T18:32:20.338373Z",
     "shell.execute_reply.started": "2022-04-14T18:32:20.279560Z"
    }
   },
   "outputs": [],
   "source": [
    "data['stories'][data['propertyType']=='Traditional'].value_counts().index[0]"
   ]
  },
  {
   "cell_type": "code",
   "execution_count": 68,
   "metadata": {
    "execution": {
     "iopub.execute_input": "2022-04-14T18:32:20.341647Z",
     "iopub.status.busy": "2022-04-14T18:32:20.341445Z",
     "iopub.status.idle": "2022-04-14T18:32:20.398962Z",
     "shell.execute_reply": "2022-04-14T18:32:20.398085Z",
     "shell.execute_reply.started": "2022-04-14T18:32:20.341622Z"
    }
   },
   "outputs": [],
   "source": [
    "data['stories'][data['propertyType']=='Contemporary'].value_counts().index[0]"
   ]
  },
  {
   "cell_type": "code",
   "execution_count": 69,
   "metadata": {
    "execution": {
     "iopub.execute_input": "2022-04-14T18:32:20.401094Z",
     "iopub.status.busy": "2022-04-14T18:32:20.400576Z",
     "iopub.status.idle": "2022-04-14T18:32:20.460045Z",
     "shell.execute_reply": "2022-04-14T18:32:20.459429Z",
     "shell.execute_reply.started": "2022-04-14T18:32:20.401058Z"
    }
   },
   "outputs": [],
   "source": [
    "df['stories'].value_counts()['ca2n/cottage']"
   ]
  },
  {
   "cell_type": "code",
   "execution_count": 70,
   "metadata": {
    "execution": {
     "iopub.execute_input": "2022-04-14T18:32:20.461462Z",
     "iopub.status.busy": "2022-04-14T18:32:20.461226Z",
     "iopub.status.idle": "2022-04-14T18:32:20.467978Z",
     "shell.execute_reply": "2022-04-14T18:32:20.467037Z",
     "shell.execute_reply.started": "2022-04-14T18:32:20.461426Z"
    }
   },
   "outputs": [],
   "source": [
    "# df['stories'].value_counts().index.tolist()"
   ]
  },
  {
   "cell_type": "code",
   "execution_count": 71,
   "metadata": {
    "execution": {
     "iopub.execute_input": "2022-04-14T18:32:20.470117Z",
     "iopub.status.busy": "2022-04-14T18:32:20.469486Z",
     "iopub.status.idle": "2022-04-14T18:32:20.796932Z",
     "shell.execute_reply": "2022-04-14T18:32:20.796212Z",
     "shell.execute_reply.started": "2022-04-14T18:32:20.470077Z"
    }
   },
   "outputs": [],
   "source": [
    "one_story = ['condominium', 'traditional', 'contemporary', \n",
    "             'mo2le', 'ground level', 'modular home', 'craftsman']\n",
    "def change_story(x):\n",
    "    if x=='townhouse':\n",
    "        x = '2'\n",
    "    if x in one_story:\n",
    "        x = '1'\n",
    "    if -1!=x.find('low-rise') or -1!=x.find('multi level'):\n",
    "        x = '2'\n",
    "    if -1!=x.find('mid-rise'):\n",
    "        x = '5'\n",
    "    if -1!=x.find('high-rise'):\n",
    "        x = '9'\n",
    "    return x\n",
    "\n",
    "df['stories'] = df['stories'].apply(change_story)  "
   ]
  },
  {
   "cell_type": "code",
   "execution_count": 72,
   "metadata": {
    "execution": {
     "iopub.execute_input": "2022-04-14T18:32:20.800116Z",
     "iopub.status.busy": "2022-04-14T18:32:20.799910Z",
     "iopub.status.idle": "2022-04-14T18:32:20.857725Z",
     "shell.execute_reply": "2022-04-14T18:32:20.857073Z",
     "shell.execute_reply.started": "2022-04-14T18:32:20.800091Z"
    }
   },
   "outputs": [],
   "source": [
    "df['stories'].value_counts().index.tolist()"
   ]
  },
  {
   "cell_type": "code",
   "execution_count": 73,
   "metadata": {
    "execution": {
     "iopub.execute_input": "2022-04-14T18:32:20.859647Z",
     "iopub.status.busy": "2022-04-14T18:32:20.859074Z",
     "iopub.status.idle": "2022-04-14T18:32:22.486687Z",
     "shell.execute_reply": "2022-04-14T18:32:22.485851Z",
     "shell.execute_reply.started": "2022-04-14T18:32:20.859609Z"
    }
   },
   "outputs": [],
   "source": [
    "def stories_float(x):\n",
    "    if x.startswith(','): x = x[1:]\n",
    "    if x == -1.0: return x\n",
    "    x = re.sub('[^0-9,-\\.]', '', x)\n",
    "    x = re.sub('-',',', x)\n",
    "    x = x.replace(',,',',0,')\n",
    "    x = x.split(',')\n",
    "    try:\n",
    "        x = (max([float(item) for item in x]))\n",
    "        # x = float(x)\n",
    "        if x>120.0 or x==0.0:\n",
    "            x=-1.0\n",
    "    except:\n",
    "        x = -1.0\n",
    "    return x\n",
    "\n",
    "df['stories'] = df['stories'].apply(stories_float)"
   ]
  },
  {
   "cell_type": "code",
   "execution_count": 74,
   "metadata": {
    "execution": {
     "iopub.execute_input": "2022-04-14T18:32:22.488075Z",
     "iopub.status.busy": "2022-04-14T18:32:22.487824Z",
     "iopub.status.idle": "2022-04-14T18:32:22.502256Z",
     "shell.execute_reply": "2022-04-14T18:32:22.500936Z",
     "shell.execute_reply.started": "2022-04-14T18:32:22.488041Z"
    }
   },
   "outputs": [],
   "source": [
    "df['stories'].value_counts()"
   ]
  },
  {
   "cell_type": "code",
   "execution_count": 75,
   "metadata": {
    "execution": {
     "iopub.execute_input": "2022-04-14T18:32:22.504228Z",
     "iopub.status.busy": "2022-04-14T18:32:22.503502Z",
     "iopub.status.idle": "2022-04-14T18:32:22.510468Z",
     "shell.execute_reply": "2022-04-14T18:32:22.509564Z",
     "shell.execute_reply.started": "2022-04-14T18:32:22.504187Z"
    }
   },
   "outputs": [],
   "source": [
    "# df['stories'].value_counts().index.tolist()"
   ]
  },
  {
   "cell_type": "code",
   "execution_count": 76,
   "metadata": {
    "execution": {
     "iopub.execute_input": "2022-04-14T18:32:22.512553Z",
     "iopub.status.busy": "2022-04-14T18:32:22.511776Z",
     "iopub.status.idle": "2022-04-14T18:32:22.518291Z",
     "shell.execute_reply": "2022-04-14T18:32:22.517424Z",
     "shell.execute_reply.started": "2022-04-14T18:32:22.512510Z"
    }
   },
   "outputs": [],
   "source": [
    "# df['stories'].value_counts()[112.0:].sum()"
   ]
  },
  {
   "cell_type": "code",
   "execution_count": null,
   "metadata": {},
   "outputs": [],
   "source": []
  },
  {
   "cell_type": "code",
   "execution_count": null,
   "metadata": {},
   "outputs": [],
   "source": []
  },
  {
   "cell_type": "markdown",
   "metadata": {},
   "source": [
    "#### Признак \"homeFacts\""
   ]
  },
  {
   "cell_type": "markdown",
   "metadata": {},
   "source": [
    "В первоначальном осмотре структуры датасет признаки 'homeFacts' и 'schools' имеют тексты, и содержат несколько отдельных сведений. Необходимо десериализовать содержимое этих признаков. Если имеются полезные данные, то необходимо из них создать новые признаки."
   ]
  },
  {
   "cell_type": "code",
   "execution_count": 77,
   "metadata": {
    "execution": {
     "iopub.execute_input": "2022-04-14T18:32:22.520799Z",
     "iopub.status.busy": "2022-04-14T18:32:22.519634Z",
     "iopub.status.idle": "2022-04-14T18:32:22.868918Z",
     "shell.execute_reply": "2022-04-14T18:32:22.868206Z",
     "shell.execute_reply.started": "2022-04-14T18:32:22.520759Z"
    }
   },
   "outputs": [],
   "source": [
    "df['homeFacts'].value_counts()"
   ]
  },
  {
   "cell_type": "code",
   "execution_count": 78,
   "metadata": {
    "execution": {
     "iopub.execute_input": "2022-04-14T18:32:22.870781Z",
     "iopub.status.busy": "2022-04-14T18:32:22.870069Z",
     "iopub.status.idle": "2022-04-14T18:32:22.874916Z",
     "shell.execute_reply": "2022-04-14T18:32:22.874285Z",
     "shell.execute_reply.started": "2022-04-14T18:32:22.870743Z"
    }
   },
   "outputs": [],
   "source": [
    "# df['homeFacts'].value_counts().index.tolist()"
   ]
  },
  {
   "cell_type": "markdown",
   "metadata": {},
   "source": [
    "Признак \"homeFacts\" содержит несколько отдельных данных, имеющих влияние на оценку недвижимости, дома, квартиры. Поэтому выделим эти данные. Для этого приведем содежимое данного признака к формату .json и формируем новые признаки."
   ]
  },
  {
   "cell_type": "code",
   "execution_count": 79,
   "metadata": {
    "execution": {
     "iopub.execute_input": "2022-04-14T18:32:22.876851Z",
     "iopub.status.busy": "2022-04-14T18:32:22.876316Z",
     "iopub.status.idle": "2022-04-14T18:32:23.371015Z",
     "shell.execute_reply": "2022-04-14T18:32:23.370265Z",
     "shell.execute_reply.started": "2022-04-14T18:32:22.876806Z"
    }
   },
   "outputs": [],
   "source": [
    "df['homeFacts'] = df['homeFacts'].apply(lambda x: x.replace('None', '0'))\n",
    "df['homeFacts'].value_counts()"
   ]
  },
  {
   "cell_type": "code",
   "execution_count": 80,
   "metadata": {
    "execution": {
     "iopub.execute_input": "2022-04-14T18:32:23.372743Z",
     "iopub.status.busy": "2022-04-14T18:32:23.372461Z",
     "iopub.status.idle": "2022-04-14T18:32:23.376839Z",
     "shell.execute_reply": "2022-04-14T18:32:23.375682Z",
     "shell.execute_reply.started": "2022-04-14T18:32:23.372704Z"
    }
   },
   "outputs": [],
   "source": [
    "# df['homeFacts'].value_counts().index.tolist()"
   ]
  },
  {
   "cell_type": "code",
   "execution_count": 81,
   "metadata": {
    "execution": {
     "iopub.execute_input": "2022-04-14T18:32:23.378832Z",
     "iopub.status.busy": "2022-04-14T18:32:23.378503Z",
     "iopub.status.idle": "2022-04-14T18:32:24.616967Z",
     "shell.execute_reply": "2022-04-14T18:32:24.616239Z",
     "shell.execute_reply.started": "2022-04-14T18:32:23.378791Z"
    }
   },
   "outputs": [],
   "source": [
    "# Для замены апострофы в словах\n",
    "change_old = [\"Attch'd\", \"Addtn'l\",'\"closet\"', \"Hennen\\'s\", \"Penske's\",\"Req'd\"]\n",
    "change_new = ['Attch`d','Addtn`l','`closet`', 'Hennen`s', 'Penske`s','Req`d']\n",
    "\n",
    "for i in range(0,len(change_old)):\n",
    "    df['homeFacts'] = df['homeFacts'].apply(lambda x: x.replace(change_old[i],change_new[i]))"
   ]
  },
  {
   "cell_type": "code",
   "execution_count": 82,
   "metadata": {
    "execution": {
     "iopub.execute_input": "2022-04-14T18:32:24.619546Z",
     "iopub.status.busy": "2022-04-14T18:32:24.618004Z",
     "iopub.status.idle": "2022-04-14T18:32:25.152226Z",
     "shell.execute_reply": "2022-04-14T18:32:25.151462Z",
     "shell.execute_reply.started": "2022-04-14T18:32:24.619505Z"
    }
   },
   "outputs": [],
   "source": [
    "df['homeFacts'] = df['homeFacts'].apply(lambda x: x.replace(\"'\",'\"'))"
   ]
  },
  {
   "cell_type": "markdown",
   "metadata": {},
   "source": [
    "Проверка"
   ]
  },
  {
   "cell_type": "code",
   "execution_count": 83,
   "metadata": {
    "execution": {
     "iopub.execute_input": "2022-04-14T18:32:25.158454Z",
     "iopub.status.busy": "2022-04-14T18:32:25.156250Z",
     "iopub.status.idle": "2022-04-14T18:32:25.167231Z",
     "shell.execute_reply": "2022-04-14T18:32:25.166637Z",
     "shell.execute_reply.started": "2022-04-14T18:32:25.158408Z"
    }
   },
   "outputs": [],
   "source": [
    "df['homeFacts'][4]"
   ]
  },
  {
   "cell_type": "code",
   "execution_count": 84,
   "metadata": {
    "execution": {
     "iopub.execute_input": "2022-04-14T18:32:25.186684Z",
     "iopub.status.busy": "2022-04-14T18:32:25.186025Z",
     "iopub.status.idle": "2022-04-14T18:32:25.198164Z",
     "shell.execute_reply": "2022-04-14T18:32:25.197511Z",
     "shell.execute_reply.started": "2022-04-14T18:32:25.186643Z"
    }
   },
   "outputs": [],
   "source": [
    "ss = df['homeFacts'][4]\n",
    "sa = json.loads(ss)\n",
    "sa"
   ]
  },
  {
   "cell_type": "code",
   "execution_count": 85,
   "metadata": {
    "execution": {
     "iopub.execute_input": "2022-04-14T18:32:25.204739Z",
     "iopub.status.busy": "2022-04-14T18:32:25.202205Z",
     "iopub.status.idle": "2022-04-14T18:32:30.400181Z",
     "shell.execute_reply": "2022-04-14T18:32:30.399438Z",
     "shell.execute_reply.started": "2022-04-14T18:32:25.204703Z"
    }
   },
   "outputs": [],
   "source": [
    "# Для проверки правильности парсинга в json формат\n",
    "for i in range(0,len(df)):\n",
    "    ss = df['homeFacts'][i]\n",
    "    try:\n",
    "        sa = json.loads(ss)\n",
    "    except:\n",
    "        print(i)"
   ]
  },
  {
   "cell_type": "code",
   "execution_count": 86,
   "metadata": {
    "execution": {
     "iopub.execute_input": "2022-04-14T18:32:30.401806Z",
     "iopub.status.busy": "2022-04-14T18:32:30.401564Z",
     "iopub.status.idle": "2022-04-14T18:32:30.410629Z",
     "shell.execute_reply": "2022-04-14T18:32:30.409277Z",
     "shell.execute_reply.started": "2022-04-14T18:32:30.401771Z"
    }
   },
   "outputs": [],
   "source": [
    "def app(x,k):\n",
    "    js = json.loads(x)\n",
    "    return js['atAGlanceFacts'][k]['factValue']"
   ]
  },
  {
   "cell_type": "code",
   "execution_count": 87,
   "metadata": {
    "execution": {
     "iopub.execute_input": "2022-04-14T18:32:30.413217Z",
     "iopub.status.busy": "2022-04-14T18:32:30.412710Z",
     "iopub.status.idle": "2022-04-14T18:32:51.341689Z",
     "shell.execute_reply": "2022-04-14T18:32:51.340959Z",
     "shell.execute_reply.started": "2022-04-14T18:32:30.413181Z"
    }
   },
   "outputs": [],
   "source": [
    "df['Year built'] = df['homeFacts'].apply(lambda x: app(x,0))\n",
    "df['Remodeled year'] = df['homeFacts'].apply(lambda x: app(x,1))\n",
    "df['Heating'] = df['homeFacts'].apply(lambda x: app(x,2))\n",
    "df['Cooling'] = df['homeFacts'].apply(lambda x: app(x,3))\n",
    "df['Parking'] = df['homeFacts'].apply(lambda x: app(x,4))\n",
    "df['lotsize'] = df['homeFacts'].apply(lambda x: app(x,5))\n",
    "df['Price/sqft'] = df['homeFacts'].apply(lambda x: app(x,6))"
   ]
  },
  {
   "cell_type": "code",
   "execution_count": null,
   "metadata": {},
   "outputs": [],
   "source": []
  },
  {
   "cell_type": "markdown",
   "metadata": {},
   "source": [
    "#### Обработка новых выделенных признаков  из признака 'homeFacts'."
   ]
  },
  {
   "cell_type": "markdown",
   "metadata": {},
   "source": [
    "##### Признак 'Year built'"
   ]
  },
  {
   "cell_type": "code",
   "execution_count": 88,
   "metadata": {
    "execution": {
     "iopub.execute_input": "2022-04-14T18:32:51.343280Z",
     "iopub.status.busy": "2022-04-14T18:32:51.343042Z",
     "iopub.status.idle": "2022-04-14T18:32:51.346936Z",
     "shell.execute_reply": "2022-04-14T18:32:51.346321Z",
     "shell.execute_reply.started": "2022-04-14T18:32:51.343246Z"
    }
   },
   "outputs": [],
   "source": [
    "# df['Year built'] = df['homeFacts'].apply(lambda x: app(x,0))"
   ]
  },
  {
   "cell_type": "code",
   "execution_count": 89,
   "metadata": {
    "execution": {
     "iopub.execute_input": "2022-04-14T18:32:51.348728Z",
     "iopub.status.busy": "2022-04-14T18:32:51.348216Z",
     "iopub.status.idle": "2022-04-14T18:32:51.362717Z",
     "shell.execute_reply": "2022-04-14T18:32:51.362005Z",
     "shell.execute_reply.started": "2022-04-14T18:32:51.348694Z"
    }
   },
   "outputs": [],
   "source": [
    "df['Year built']"
   ]
  },
  {
   "cell_type": "code",
   "execution_count": 90,
   "metadata": {
    "execution": {
     "iopub.execute_input": "2022-04-14T18:32:51.364366Z",
     "iopub.status.busy": "2022-04-14T18:32:51.363943Z",
     "iopub.status.idle": "2022-04-14T18:32:51.435929Z",
     "shell.execute_reply": "2022-04-14T18:32:51.435191Z",
     "shell.execute_reply.started": "2022-04-14T18:32:51.364332Z"
    }
   },
   "outputs": [],
   "source": [
    "df['Year built'].value_counts()"
   ]
  },
  {
   "cell_type": "code",
   "execution_count": 91,
   "metadata": {
    "execution": {
     "iopub.execute_input": "2022-04-14T18:32:51.438538Z",
     "iopub.status.busy": "2022-04-14T18:32:51.437160Z",
     "iopub.status.idle": "2022-04-14T18:32:51.657364Z",
     "shell.execute_reply": "2022-04-14T18:32:51.656689Z",
     "shell.execute_reply.started": "2022-04-14T18:32:51.438494Z"
    }
   },
   "outputs": [],
   "source": [
    "df['Year built'] = df['Year built'].apply(lambda x: '0' \n",
    "                                    if ((x==0) or (x=='No Data') or (x=='') or len(x)>4) else x)\n",
    "df['Year built'] = df['Year built'].astype(int)\n",
    "df['Year built'].value_counts()"
   ]
  },
  {
   "cell_type": "code",
   "execution_count": 92,
   "metadata": {
    "execution": {
     "iopub.execute_input": "2022-04-14T18:32:51.658777Z",
     "iopub.status.busy": "2022-04-14T18:32:51.658523Z",
     "iopub.status.idle": "2022-04-14T18:32:51.663119Z",
     "shell.execute_reply": "2022-04-14T18:32:51.662232Z",
     "shell.execute_reply.started": "2022-04-14T18:32:51.658740Z"
    }
   },
   "outputs": [],
   "source": [
    "# df['Year built'].value_counts().index.tolist()"
   ]
  },
  {
   "cell_type": "code",
   "execution_count": 93,
   "metadata": {
    "execution": {
     "iopub.execute_input": "2022-04-14T18:32:51.665399Z",
     "iopub.status.busy": "2022-04-14T18:32:51.664740Z",
     "iopub.status.idle": "2022-04-14T18:32:51.941030Z",
     "shell.execute_reply": "2022-04-14T18:32:51.940273Z",
     "shell.execute_reply.started": "2022-04-14T18:32:51.665346Z"
    }
   },
   "outputs": [],
   "source": [
    "df[(df['Year built']>0) & (df['Year built']<1700)]"
   ]
  },
  {
   "cell_type": "code",
   "execution_count": 94,
   "metadata": {
    "execution": {
     "iopub.execute_input": "2022-04-14T18:32:51.942918Z",
     "iopub.status.busy": "2022-04-14T18:32:51.942460Z",
     "iopub.status.idle": "2022-04-14T18:32:51.953504Z",
     "shell.execute_reply": "2022-04-14T18:32:51.952614Z",
     "shell.execute_reply.started": "2022-04-14T18:32:51.942873Z"
    }
   },
   "outputs": [],
   "source": [
    "# Определим индексы \"выбросов\" в меньшую сторону.\n",
    "ind_built_old= df[(df['Year built']>0) & (df['Year built']<1700)].index\n",
    "ind_built_old"
   ]
  },
  {
   "cell_type": "code",
   "execution_count": 95,
   "metadata": {
    "execution": {
     "iopub.execute_input": "2022-04-14T18:32:51.955507Z",
     "iopub.status.busy": "2022-04-14T18:32:51.954804Z",
     "iopub.status.idle": "2022-04-14T18:32:51.964098Z",
     "shell.execute_reply": "2022-04-14T18:32:51.963278Z",
     "shell.execute_reply.started": "2022-04-14T18:32:51.955456Z"
    }
   },
   "outputs": [],
   "source": [
    "df['Year built'][ind_built_old]"
   ]
  },
  {
   "cell_type": "code",
   "execution_count": 96,
   "metadata": {
    "execution": {
     "iopub.execute_input": "2022-04-14T18:32:51.965975Z",
     "iopub.status.busy": "2022-04-14T18:32:51.965541Z",
     "iopub.status.idle": "2022-04-14T18:32:51.999295Z",
     "shell.execute_reply": "2022-04-14T18:32:51.998584Z",
     "shell.execute_reply.started": "2022-04-14T18:32:51.965932Z"
    }
   },
   "outputs": [],
   "source": [
    "df[df['Year built']>=2022]"
   ]
  },
  {
   "cell_type": "code",
   "execution_count": 97,
   "metadata": {
    "execution": {
     "iopub.execute_input": "2022-04-14T18:32:52.003537Z",
     "iopub.status.busy": "2022-04-14T18:32:52.000459Z",
     "iopub.status.idle": "2022-04-14T18:32:52.011752Z",
     "shell.execute_reply": "2022-04-14T18:32:52.010942Z",
     "shell.execute_reply.started": "2022-04-14T18:32:52.003495Z"
    }
   },
   "outputs": [],
   "source": [
    "# Определим индексы \"выбросов\" в большую сторону.\n",
    "# Год строительства 2022 год тоже сомнительно!\n",
    "ind_built_new = df[df['Year built']>=2022].index\n",
    "ind_built_new"
   ]
  },
  {
   "cell_type": "code",
   "execution_count": 98,
   "metadata": {
    "execution": {
     "iopub.execute_input": "2022-04-14T18:32:52.015548Z",
     "iopub.status.busy": "2022-04-14T18:32:52.013746Z",
     "iopub.status.idle": "2022-04-14T18:32:52.022321Z",
     "shell.execute_reply": "2022-04-14T18:32:52.021574Z",
     "shell.execute_reply.started": "2022-04-14T18:32:52.015507Z"
    }
   },
   "outputs": [],
   "source": [
    "df['Year built'][ind_built_new]"
   ]
  },
  {
   "cell_type": "code",
   "execution_count": 99,
   "metadata": {
    "execution": {
     "iopub.execute_input": "2022-04-14T18:32:52.024537Z",
     "iopub.status.busy": "2022-04-14T18:32:52.023846Z",
     "iopub.status.idle": "2022-04-14T18:32:52.050300Z",
     "shell.execute_reply": "2022-04-14T18:32:52.049614Z",
     "shell.execute_reply.started": "2022-04-14T18:32:52.024459Z"
    }
   },
   "outputs": [],
   "source": [
    "df[df['Year built']==2025] # 163100, 285228"
   ]
  },
  {
   "cell_type": "code",
   "execution_count": null,
   "metadata": {},
   "outputs": [],
   "source": []
  },
  {
   "cell_type": "code",
   "execution_count": 100,
   "metadata": {
    "execution": {
     "iopub.execute_input": "2022-04-14T18:32:52.052202Z",
     "iopub.status.busy": "2022-04-14T18:32:52.051499Z",
     "iopub.status.idle": "2022-04-14T18:32:52.879858Z",
     "shell.execute_reply": "2022-04-14T18:32:52.879139Z",
     "shell.execute_reply.started": "2022-04-14T18:32:52.052161Z"
    }
   },
   "outputs": [],
   "source": [
    "import matplotlib.pyplot as plt\n",
    "import seaborn as sns"
   ]
  },
  {
   "cell_type": "code",
   "execution_count": 101,
   "metadata": {
    "execution": {
     "iopub.execute_input": "2022-04-14T18:32:52.882587Z",
     "iopub.status.busy": "2022-04-14T18:32:52.882172Z",
     "iopub.status.idle": "2022-04-14T18:32:52.887053Z",
     "shell.execute_reply": "2022-04-14T18:32:52.886213Z",
     "shell.execute_reply.started": "2022-04-14T18:32:52.882549Z"
    }
   },
   "outputs": [],
   "source": [
    "plt.rcParams['figure.figsize']=(15,10)"
   ]
  },
  {
   "cell_type": "code",
   "execution_count": 102,
   "metadata": {
    "execution": {
     "iopub.execute_input": "2022-04-14T18:32:52.888957Z",
     "iopub.status.busy": "2022-04-14T18:32:52.888281Z",
     "iopub.status.idle": "2022-04-14T18:32:53.306377Z",
     "shell.execute_reply": "2022-04-14T18:32:53.305723Z",
     "shell.execute_reply.started": "2022-04-14T18:32:52.888909Z"
    }
   },
   "outputs": [],
   "source": [
    "df['Year built'][df['Year built'] >1850].hist(bins=100)"
   ]
  },
  {
   "cell_type": "code",
   "execution_count": null,
   "metadata": {},
   "outputs": [],
   "source": []
  },
  {
   "cell_type": "markdown",
   "metadata": {},
   "source": [
    "##### Признак 'Remodeled year'"
   ]
  },
  {
   "cell_type": "code",
   "execution_count": 103,
   "metadata": {
    "execution": {
     "iopub.execute_input": "2022-04-14T18:32:53.308001Z",
     "iopub.status.busy": "2022-04-14T18:32:53.307761Z",
     "iopub.status.idle": "2022-04-14T18:32:53.312465Z",
     "shell.execute_reply": "2022-04-14T18:32:53.310592Z",
     "shell.execute_reply.started": "2022-04-14T18:32:53.307967Z"
    }
   },
   "outputs": [],
   "source": [
    "# df['Remodeled year'] = df['homeFacts'].apply(lambda x: app(x,1))"
   ]
  },
  {
   "cell_type": "code",
   "execution_count": 104,
   "metadata": {
    "execution": {
     "iopub.execute_input": "2022-04-14T18:32:53.314323Z",
     "iopub.status.busy": "2022-04-14T18:32:53.313707Z",
     "iopub.status.idle": "2022-04-14T18:32:53.324717Z",
     "shell.execute_reply": "2022-04-14T18:32:53.324004Z",
     "shell.execute_reply.started": "2022-04-14T18:32:53.314286Z"
    }
   },
   "outputs": [],
   "source": [
    "df['Remodeled year']"
   ]
  },
  {
   "cell_type": "code",
   "execution_count": 105,
   "metadata": {
    "execution": {
     "iopub.execute_input": "2022-04-14T18:32:53.326674Z",
     "iopub.status.busy": "2022-04-14T18:32:53.326083Z",
     "iopub.status.idle": "2022-04-14T18:32:53.379832Z",
     "shell.execute_reply": "2022-04-14T18:32:53.379134Z",
     "shell.execute_reply.started": "2022-04-14T18:32:53.326592Z"
    }
   },
   "outputs": [],
   "source": [
    "df['Remodeled year'].value_counts()"
   ]
  },
  {
   "cell_type": "code",
   "execution_count": 106,
   "metadata": {
    "execution": {
     "iopub.execute_input": "2022-04-14T18:32:53.381819Z",
     "iopub.status.busy": "2022-04-14T18:32:53.381628Z",
     "iopub.status.idle": "2022-04-14T18:32:53.385540Z",
     "shell.execute_reply": "2022-04-14T18:32:53.384787Z",
     "shell.execute_reply.started": "2022-04-14T18:32:53.381798Z"
    }
   },
   "outputs": [],
   "source": [
    "# df['Remodeled year'].value_counts().index.tolist()"
   ]
  },
  {
   "cell_type": "code",
   "execution_count": 107,
   "metadata": {
    "execution": {
     "iopub.execute_input": "2022-04-14T18:32:53.387500Z",
     "iopub.status.busy": "2022-04-14T18:32:53.387196Z",
     "iopub.status.idle": "2022-04-14T18:32:53.610202Z",
     "shell.execute_reply": "2022-04-14T18:32:53.609522Z",
     "shell.execute_reply.started": "2022-04-14T18:32:53.387466Z"
    }
   },
   "outputs": [],
   "source": [
    "df['Remodeled year'] = df['Remodeled year'].apply(lambda x: '0' if (x==0) or (x=='') else x)\n",
    "df['Remodeled year'] = df['Remodeled year'].astype(int)\n",
    "df['Remodeled year'].value_counts()"
   ]
  },
  {
   "cell_type": "code",
   "execution_count": 108,
   "metadata": {
    "execution": {
     "iopub.execute_input": "2022-04-14T18:32:53.611976Z",
     "iopub.status.busy": "2022-04-14T18:32:53.611538Z",
     "iopub.status.idle": "2022-04-14T18:32:53.623565Z",
     "shell.execute_reply": "2022-04-14T18:32:53.622759Z",
     "shell.execute_reply.started": "2022-04-14T18:32:53.611939Z"
    }
   },
   "outputs": [],
   "source": [
    "# Определим индексы \"выбросов\" в меньшую сторону.\n",
    "ind_Remodeled_old= df[(df['Remodeled year']>0) & (df['Remodeled year']<1700)].index\n",
    "ind_Remodeled_old"
   ]
  },
  {
   "cell_type": "code",
   "execution_count": 109,
   "metadata": {
    "execution": {
     "iopub.execute_input": "2022-04-14T18:32:53.625444Z",
     "iopub.status.busy": "2022-04-14T18:32:53.625167Z",
     "iopub.status.idle": "2022-04-14T18:32:53.632584Z",
     "shell.execute_reply": "2022-04-14T18:32:53.631846Z",
     "shell.execute_reply.started": "2022-04-14T18:32:53.625409Z"
    }
   },
   "outputs": [],
   "source": [
    "# Определим индексы \"выбросов\" в большую сторону.\n",
    "ind_Remodeled_new= df[df['Remodeled year']>=2021].index\n",
    "ind_Remodeled_new"
   ]
  },
  {
   "cell_type": "code",
   "execution_count": 110,
   "metadata": {
    "execution": {
     "iopub.execute_input": "2022-04-14T18:32:53.634527Z",
     "iopub.status.busy": "2022-04-14T18:32:53.634001Z",
     "iopub.status.idle": "2022-04-14T18:32:53.641558Z",
     "shell.execute_reply": "2022-04-14T18:32:53.640761Z",
     "shell.execute_reply.started": "2022-04-14T18:32:53.634489Z"
    }
   },
   "outputs": [],
   "source": [
    "df['Remodeled year'][ind_Remodeled_new]"
   ]
  },
  {
   "cell_type": "code",
   "execution_count": 111,
   "metadata": {
    "execution": {
     "iopub.execute_input": "2022-04-14T18:32:53.644511Z",
     "iopub.status.busy": "2022-04-14T18:32:53.642508Z",
     "iopub.status.idle": "2022-04-14T18:32:54.018029Z",
     "shell.execute_reply": "2022-04-14T18:32:54.017256Z",
     "shell.execute_reply.started": "2022-04-14T18:32:53.644474Z"
    }
   },
   "outputs": [],
   "source": [
    "df['Remodeled year'][df['Remodeled year']>1900].hist(bins=100)"
   ]
  },
  {
   "cell_type": "code",
   "execution_count": null,
   "metadata": {},
   "outputs": [],
   "source": []
  },
  {
   "cell_type": "markdown",
   "metadata": {},
   "source": [
    "Данные признаки 'Year built' и 'Remodeled year' лучше преобразовать в числовой вид, вычитая данные из максимального значения принака. Тогда нулевые значения признака будет иметь какой-то смысл, как возраст недвижимости.\n",
    "\n",
    "****До определния разности исправим данные, или удалим ненужные строки."
   ]
  },
  {
   "cell_type": "code",
   "execution_count": 112,
   "metadata": {
    "execution": {
     "iopub.execute_input": "2022-04-14T18:32:54.019267Z",
     "iopub.status.busy": "2022-04-14T18:32:54.019042Z",
     "iopub.status.idle": "2022-04-14T18:32:54.028909Z",
     "shell.execute_reply": "2022-04-14T18:32:54.027983Z",
     "shell.execute_reply.started": "2022-04-14T18:32:54.019234Z"
    }
   },
   "outputs": [],
   "source": [
    "df.loc[ind_built_old, 'Year built']"
   ]
  },
  {
   "cell_type": "code",
   "execution_count": 113,
   "metadata": {
    "execution": {
     "iopub.execute_input": "2022-04-14T18:32:54.030985Z",
     "iopub.status.busy": "2022-04-14T18:32:54.030640Z",
     "iopub.status.idle": "2022-04-14T18:32:54.054925Z",
     "shell.execute_reply": "2022-04-14T18:32:54.054264Z",
     "shell.execute_reply.started": "2022-04-14T18:32:54.030946Z"
    }
   },
   "outputs": [],
   "source": [
    "df.loc[ind_built_old]"
   ]
  },
  {
   "cell_type": "code",
   "execution_count": 114,
   "metadata": {
    "execution": {
     "iopub.execute_input": "2022-04-14T18:32:54.056229Z",
     "iopub.status.busy": "2022-04-14T18:32:54.055927Z",
     "iopub.status.idle": "2022-04-14T18:32:54.063154Z",
     "shell.execute_reply": "2022-04-14T18:32:54.062448Z",
     "shell.execute_reply.started": "2022-04-14T18:32:54.056192Z"
    }
   },
   "outputs": [],
   "source": [
    "df['Year built'][ind_built_new]"
   ]
  },
  {
   "cell_type": "code",
   "execution_count": 115,
   "metadata": {
    "execution": {
     "iopub.execute_input": "2022-04-14T18:32:54.064688Z",
     "iopub.status.busy": "2022-04-14T18:32:54.064449Z",
     "iopub.status.idle": "2022-04-14T18:32:54.087928Z",
     "shell.execute_reply": "2022-04-14T18:32:54.087255Z",
     "shell.execute_reply.started": "2022-04-14T18:32:54.064656Z"
    }
   },
   "outputs": [],
   "source": [
    "df[df['Year built']==2025]"
   ]
  },
  {
   "cell_type": "code",
   "execution_count": 116,
   "metadata": {
    "execution": {
     "iopub.execute_input": "2022-04-14T18:32:54.089225Z",
     "iopub.status.busy": "2022-04-14T18:32:54.088927Z",
     "iopub.status.idle": "2022-04-14T18:32:54.096126Z",
     "shell.execute_reply": "2022-04-14T18:32:54.095237Z",
     "shell.execute_reply.started": "2022-04-14T18:32:54.089189Z"
    }
   },
   "outputs": [],
   "source": [
    "df['Remodeled year'][ind_Remodeled_old]"
   ]
  },
  {
   "cell_type": "code",
   "execution_count": 117,
   "metadata": {
    "execution": {
     "iopub.execute_input": "2022-04-14T18:32:54.098628Z",
     "iopub.status.busy": "2022-04-14T18:32:54.098185Z",
     "iopub.status.idle": "2022-04-14T18:32:54.104608Z",
     "shell.execute_reply": "2022-04-14T18:32:54.103873Z",
     "shell.execute_reply.started": "2022-04-14T18:32:54.098485Z"
    }
   },
   "outputs": [],
   "source": [
    "df['Remodeled year'][ind_Remodeled_new]"
   ]
  },
  {
   "cell_type": "markdown",
   "metadata": {},
   "source": [
    "Исправлению подлежат данные для индексов ind_built_old признака 'Year built' на ноль, так как остальные данные вполне приемлемы для использования в расчетах. Также можно обнулить для ind_Remodeled_old индексы  признака 'Remodeled year'"
   ]
  },
  {
   "cell_type": "code",
   "execution_count": 118,
   "metadata": {
    "execution": {
     "iopub.execute_input": "2022-04-14T18:32:54.106465Z",
     "iopub.status.busy": "2022-04-14T18:32:54.105862Z",
     "iopub.status.idle": "2022-04-14T18:32:54.118709Z",
     "shell.execute_reply": "2022-04-14T18:32:54.118026Z",
     "shell.execute_reply.started": "2022-04-14T18:32:54.106431Z"
    }
   },
   "outputs": [],
   "source": [
    "df.loc[ind_built_old, 'Year built'] = 0 \n",
    "\n",
    "df.loc[ind_built_new, 'Year built'] = 2022\n",
    "\n",
    "df.loc[ind_Remodeled_old, 'Remodeled year'] = 0"
   ]
  },
  {
   "cell_type": "markdown",
   "metadata": {},
   "source": [
    "Заметили, что для индекса 278869  в признаке 'Year built' год постройки 2004, а ремонт в 'Remodeled year'- 1748 год, здесь  явная ошибка. Необходимо программно проверить для всех строк."
   ]
  },
  {
   "cell_type": "markdown",
   "metadata": {},
   "source": [
    "Чтобы полученные большие числа в результате вычитания \"не потянули\" результат для отсутствующих данных и нулей, поставим -1.0"
   ]
  },
  {
   "cell_type": "code",
   "execution_count": 119,
   "metadata": {
    "execution": {
     "iopub.execute_input": "2022-04-14T18:32:54.120504Z",
     "iopub.status.busy": "2022-04-14T18:32:54.119784Z",
     "iopub.status.idle": "2022-04-14T18:32:54.296987Z",
     "shell.execute_reply": "2022-04-14T18:32:54.296299Z",
     "shell.execute_reply.started": "2022-04-14T18:32:54.120467Z"
    }
   },
   "outputs": [],
   "source": [
    "max = df['Year built'].max()\n",
    "df['Year built'] =  df['Year built'].apply(lambda x: float(max-x) if x!=0 else -1.0)\n",
    "df['Year built']"
   ]
  },
  {
   "cell_type": "code",
   "execution_count": 120,
   "metadata": {
    "execution": {
     "iopub.execute_input": "2022-04-14T18:32:54.298601Z",
     "iopub.status.busy": "2022-04-14T18:32:54.298213Z",
     "iopub.status.idle": "2022-04-14T18:32:54.451240Z",
     "shell.execute_reply": "2022-04-14T18:32:54.450451Z",
     "shell.execute_reply.started": "2022-04-14T18:32:54.298566Z"
    }
   },
   "outputs": [],
   "source": [
    "max = df['Remodeled year'].max()\n",
    "df['Remodeled year'] =  df['Remodeled year'].apply(lambda x: float(max-x) if x!=0 else -1.0)\n",
    "df['Remodeled year'].value_counts()"
   ]
  },
  {
   "cell_type": "code",
   "execution_count": 121,
   "metadata": {
    "execution": {
     "iopub.execute_input": "2022-04-14T18:32:54.452928Z",
     "iopub.status.busy": "2022-04-14T18:32:54.452677Z",
     "iopub.status.idle": "2022-04-14T18:32:54.739415Z",
     "shell.execute_reply": "2022-04-14T18:32:54.738737Z",
     "shell.execute_reply.started": "2022-04-14T18:32:54.452893Z"
    }
   },
   "outputs": [],
   "source": [
    "df['Year built'][df['Year built']>0].hist(bins=50)"
   ]
  },
  {
   "cell_type": "code",
   "execution_count": 122,
   "metadata": {
    "execution": {
     "iopub.execute_input": "2022-04-14T18:32:54.741031Z",
     "iopub.status.busy": "2022-04-14T18:32:54.740647Z",
     "iopub.status.idle": "2022-04-14T18:32:55.032783Z",
     "shell.execute_reply": "2022-04-14T18:32:55.032043Z",
     "shell.execute_reply.started": "2022-04-14T18:32:54.740993Z"
    }
   },
   "outputs": [],
   "source": [
    "df['Remodeled year'][df['Remodeled year']>0].hist(bins=50)"
   ]
  },
  {
   "cell_type": "markdown",
   "metadata": {},
   "source": [
    "Для индекса 278869  в признаке 'Year built' год постройки 2004, а ремонт в 'Remodeled year'- 1748 год, здесь  явная ошибка. Надо проверить."
   ]
  },
  {
   "cell_type": "code",
   "execution_count": null,
   "metadata": {},
   "outputs": [],
   "source": []
  },
  {
   "cell_type": "markdown",
   "metadata": {},
   "source": [
    "##### Признак 'Parking'"
   ]
  },
  {
   "cell_type": "code",
   "execution_count": 123,
   "metadata": {
    "execution": {
     "iopub.execute_input": "2022-04-14T18:32:55.034406Z",
     "iopub.status.busy": "2022-04-14T18:32:55.034131Z",
     "iopub.status.idle": "2022-04-14T18:32:57.813519Z",
     "shell.execute_reply": "2022-04-14T18:32:57.812751Z",
     "shell.execute_reply.started": "2022-04-14T18:32:55.034355Z"
    }
   },
   "outputs": [],
   "source": [
    "df['Parking'] = df['homeFacts'].apply(lambda x: app(x,4))"
   ]
  },
  {
   "cell_type": "code",
   "execution_count": 124,
   "metadata": {
    "execution": {
     "iopub.execute_input": "2022-04-14T18:32:57.815175Z",
     "iopub.status.busy": "2022-04-14T18:32:57.814933Z",
     "iopub.status.idle": "2022-04-14T18:32:57.883671Z",
     "shell.execute_reply": "2022-04-14T18:32:57.882878Z",
     "shell.execute_reply.started": "2022-04-14T18:32:57.815141Z"
    }
   },
   "outputs": [],
   "source": [
    "df['Parking'].value_counts()"
   ]
  },
  {
   "cell_type": "code",
   "execution_count": 125,
   "metadata": {
    "execution": {
     "iopub.execute_input": "2022-04-14T18:32:57.889796Z",
     "iopub.status.busy": "2022-04-14T18:32:57.887728Z",
     "iopub.status.idle": "2022-04-14T18:32:58.355132Z",
     "shell.execute_reply": "2022-04-14T18:32:58.354459Z",
     "shell.execute_reply.started": "2022-04-14T18:32:57.889760Z"
    }
   },
   "outputs": [],
   "source": [
    "# Признак будет бинарный: 0 - нет паркинг, 1 - есть паркинг.\n",
    "df['Parking']=df['Parking'].apply(lambda x: 0 \n",
    "            if x==0 or x=='' or x=='No Data' or x=='No' else 1)        \n",
    "\n",
    "df['Parking'].value_counts()"
   ]
  },
  {
   "cell_type": "code",
   "execution_count": null,
   "metadata": {},
   "outputs": [],
   "source": []
  },
  {
   "cell_type": "markdown",
   "metadata": {},
   "source": [
    "Была попытка систематизировать данные признака и сделать категориальным, но данные оказались слишким разнообразным.\n",
    "\n",
    "Yes = ['Garage','Space', 'Parking', 'Carport', 'Car', 'Attached', 'Detached', \n",
    "       'Off Street', 'On Street', 'Onstr', 'Basement', 'Electric Door',\n",
    "       'Driveway',  'Concr', 'Gravel', 'Assigned', 'Covered', 'Paved', \n",
    "       'Asphalt', 'Common', 'Alley', 'Open', 'Guest']\n",
    "def pars_parking(x):\n",
    "    if x==0 or x=='' or x=='No Data' or x=='No':\n",
    "        x = '0'\n",
    "    x = x.title()\n",
    "    x = x.replace('Gravl', 'Gravel')\n",
    "    x = x.replace('Drvwy', 'Driveway')\n",
    "    x = x.replace('Aspht','Asphalt')\n",
    "    x= x.replace('Spaces', 'Space')\n",
    "    for i in range(0,len(Yes)):\n",
    "        if -1!=x.find(Yes[i]):\n",
    "            x = re.sub('[^0-9\\.]', '', x).strip()\n",
    "            # x = Yes[i]+ ' - '+x\n",
    "            if len(x)==0:\n",
    "                x = '1'\n",
    "    return x\n",
    "\n",
    "df['Parking'] = df['Parking'].apply(pars_parking)\n",
    "\n",
    "top_Parking = df['Parking'].value_counts()[:30].index\n",
    "df['Parking'] = df['Parking'].apply(lambda x: x if x in top_Parking else 'Yes')"
   ]
  },
  {
   "cell_type": "code",
   "execution_count": null,
   "metadata": {},
   "outputs": [],
   "source": []
  },
  {
   "cell_type": "code",
   "execution_count": null,
   "metadata": {},
   "outputs": [],
   "source": []
  },
  {
   "cell_type": "markdown",
   "metadata": {},
   "source": [
    "##### Признак 'lotsize'"
   ]
  },
  {
   "cell_type": "code",
   "execution_count": 126,
   "metadata": {
    "execution": {
     "iopub.execute_input": "2022-04-14T18:32:58.359596Z",
     "iopub.status.busy": "2022-04-14T18:32:58.357947Z",
     "iopub.status.idle": "2022-04-14T18:32:58.366415Z",
     "shell.execute_reply": "2022-04-14T18:32:58.365493Z",
     "shell.execute_reply.started": "2022-04-14T18:32:58.359554Z"
    }
   },
   "outputs": [],
   "source": [
    "# df['lotsize'] = df['homeFacts'].apply(lambda x: app(x,5))"
   ]
  },
  {
   "cell_type": "code",
   "execution_count": 127,
   "metadata": {
    "execution": {
     "iopub.execute_input": "2022-04-14T18:32:58.370823Z",
     "iopub.status.busy": "2022-04-14T18:32:58.369781Z",
     "iopub.status.idle": "2022-04-14T18:32:58.469969Z",
     "shell.execute_reply": "2022-04-14T18:32:58.469348Z",
     "shell.execute_reply.started": "2022-04-14T18:32:58.370784Z"
    }
   },
   "outputs": [],
   "source": [
    "df['lotsize'].value_counts()"
   ]
  },
  {
   "cell_type": "code",
   "execution_count": 128,
   "metadata": {
    "execution": {
     "iopub.execute_input": "2022-04-14T18:32:58.471260Z",
     "iopub.status.busy": "2022-04-14T18:32:58.471029Z",
     "iopub.status.idle": "2022-04-14T18:32:58.475020Z",
     "shell.execute_reply": "2022-04-14T18:32:58.474366Z",
     "shell.execute_reply.started": "2022-04-14T18:32:58.471226Z"
    }
   },
   "outputs": [],
   "source": [
    "# df['lotsize'].value_counts().index.tolist()"
   ]
  },
  {
   "cell_type": "markdown",
   "metadata": {},
   "source": [
    "Необходимо убрать единицы измерения, предварительно приведя их в единое измерение, и преобразовать признак в числовой."
   ]
  },
  {
   "cell_type": "code",
   "execution_count": 129,
   "metadata": {
    "execution": {
     "iopub.execute_input": "2022-04-14T18:32:58.476562Z",
     "iopub.status.busy": "2022-04-14T18:32:58.476109Z",
     "iopub.status.idle": "2022-04-14T18:32:58.484048Z",
     "shell.execute_reply": "2022-04-14T18:32:58.483217Z",
     "shell.execute_reply.started": "2022-04-14T18:32:58.476526Z"
    }
   },
   "outputs": [],
   "source": [
    "# 1 acre = 43560 sqft \n",
    "sqft_acre = 43560"
   ]
  },
  {
   "cell_type": "code",
   "execution_count": 130,
   "metadata": {
    "execution": {
     "iopub.execute_input": "2022-04-14T18:32:58.486770Z",
     "iopub.status.busy": "2022-04-14T18:32:58.486558Z",
     "iopub.status.idle": "2022-04-14T18:32:58.494877Z",
     "shell.execute_reply": "2022-04-14T18:32:58.494233Z",
     "shell.execute_reply.started": "2022-04-14T18:32:58.486739Z"
    }
   },
   "outputs": [],
   "source": [
    "df['lotsize'][1055]"
   ]
  },
  {
   "cell_type": "code",
   "execution_count": 131,
   "metadata": {
    "execution": {
     "iopub.execute_input": "2022-04-14T18:32:58.496618Z",
     "iopub.status.busy": "2022-04-14T18:32:58.496167Z",
     "iopub.status.idle": "2022-04-14T18:32:58.605128Z",
     "shell.execute_reply": "2022-04-14T18:32:58.604403Z",
     "shell.execute_reply.started": "2022-04-14T18:32:58.496584Z"
    }
   },
   "outputs": [],
   "source": [
    "df['lotsize'] = df['lotsize'].apply(lambda x: '0' if (x==0) or (x=='') or \n",
    "                                    (x=='No Data') or (x=='—') or (x=='-- sqft lot') else x)"
   ]
  },
  {
   "cell_type": "code",
   "execution_count": 132,
   "metadata": {
    "execution": {
     "iopub.execute_input": "2022-04-14T18:32:58.606774Z",
     "iopub.status.busy": "2022-04-14T18:32:58.606519Z",
     "iopub.status.idle": "2022-04-14T18:32:58.613021Z",
     "shell.execute_reply": "2022-04-14T18:32:58.612152Z",
     "shell.execute_reply.started": "2022-04-14T18:32:58.606740Z"
    }
   },
   "outputs": [],
   "source": [
    "sf = ['sqft', 'sqft lot']\n",
    "acr = ['Acres', 'acres lot', 'Acre', 'acre', 'acre lot']\n",
    "def analyze(x):\n",
    "    x = x.replace('Sq. Ft.', 'sqft')\n",
    "    ed_izm = re.sub('[^A-Z a-z]', '', x).strip()\n",
    "    value = re.sub('[^0-9,\\.]', '', x).strip()\n",
    "    if ed_izm in sf:\n",
    "        x = x.replace(ed_izm, 'sqft')\n",
    "    if ed_izm in acr:\n",
    "        x = x.replace(ed_izm, 'acres')\n",
    "    return x"
   ]
  },
  {
   "cell_type": "code",
   "execution_count": 133,
   "metadata": {
    "execution": {
     "iopub.execute_input": "2022-04-14T18:32:58.614803Z",
     "iopub.status.busy": "2022-04-14T18:32:58.614550Z",
     "iopub.status.idle": "2022-04-14T18:33:00.437141Z",
     "shell.execute_reply": "2022-04-14T18:33:00.436423Z",
     "shell.execute_reply.started": "2022-04-14T18:32:58.614769Z"
    }
   },
   "outputs": [],
   "source": [
    "df['lotsize'] = df['lotsize'].apply(analyze)"
   ]
  },
  {
   "cell_type": "code",
   "execution_count": 134,
   "metadata": {
    "execution": {
     "iopub.execute_input": "2022-04-14T18:33:00.438782Z",
     "iopub.status.busy": "2022-04-14T18:33:00.438541Z",
     "iopub.status.idle": "2022-04-14T18:33:00.512297Z",
     "shell.execute_reply": "2022-04-14T18:33:00.511665Z",
     "shell.execute_reply.started": "2022-04-14T18:33:00.438748Z"
    }
   },
   "outputs": [],
   "source": [
    "df['lotsize'].value_counts()"
   ]
  },
  {
   "cell_type": "code",
   "execution_count": 135,
   "metadata": {
    "execution": {
     "iopub.execute_input": "2022-04-14T18:33:00.513534Z",
     "iopub.status.busy": "2022-04-14T18:33:00.513323Z",
     "iopub.status.idle": "2022-04-14T18:33:00.519263Z",
     "shell.execute_reply": "2022-04-14T18:33:00.518364Z",
     "shell.execute_reply.started": "2022-04-14T18:33:00.513510Z"
    }
   },
   "outputs": [],
   "source": [
    "# df['lotsize'].value_counts().index.tolist()"
   ]
  },
  {
   "cell_type": "code",
   "execution_count": 136,
   "metadata": {
    "execution": {
     "iopub.execute_input": "2022-04-14T18:33:00.520920Z",
     "iopub.status.busy": "2022-04-14T18:33:00.520308Z",
     "iopub.status.idle": "2022-04-14T18:33:02.808811Z",
     "shell.execute_reply": "2022-04-14T18:33:02.808042Z",
     "shell.execute_reply.started": "2022-04-14T18:33:00.520883Z"
    }
   },
   "outputs": [],
   "source": [
    "def to_num(x):\n",
    "    ed_izm = re.sub('[^A-Z a-z]', '', x).strip()\n",
    "    value = re.sub('[^0-9\\.]', '', x).strip()\n",
    "    if ed_izm=='acres':\n",
    "        value = round(float(value)*sqft_acre, 1)\n",
    "    if ed_izm=='sqft'  or ed_izm=='':\n",
    "        value = round(float(value), 1)\n",
    "    return value\n",
    "\n",
    "df['lotsize'] = df['lotsize'].apply(to_num) "
   ]
  },
  {
   "cell_type": "code",
   "execution_count": 137,
   "metadata": {
    "execution": {
     "iopub.execute_input": "2022-04-14T18:33:02.810128Z",
     "iopub.status.busy": "2022-04-14T18:33:02.809886Z",
     "iopub.status.idle": "2022-04-14T18:33:02.828062Z",
     "shell.execute_reply": "2022-04-14T18:33:02.827367Z",
     "shell.execute_reply.started": "2022-04-14T18:33:02.810094Z"
    }
   },
   "outputs": [],
   "source": [
    "df['lotsize'].value_counts()"
   ]
  },
  {
   "cell_type": "code",
   "execution_count": 138,
   "metadata": {
    "execution": {
     "iopub.execute_input": "2022-04-14T18:33:02.829718Z",
     "iopub.status.busy": "2022-04-14T18:33:02.829123Z",
     "iopub.status.idle": "2022-04-14T18:33:02.833327Z",
     "shell.execute_reply": "2022-04-14T18:33:02.832460Z",
     "shell.execute_reply.started": "2022-04-14T18:33:02.829681Z"
    }
   },
   "outputs": [],
   "source": [
    "# df['lotsize'].value_counts().index.tolist()"
   ]
  },
  {
   "cell_type": "code",
   "execution_count": 139,
   "metadata": {
    "execution": {
     "iopub.execute_input": "2022-04-14T18:33:02.834860Z",
     "iopub.status.busy": "2022-04-14T18:33:02.834480Z",
     "iopub.status.idle": "2022-04-14T18:33:02.858679Z",
     "shell.execute_reply": "2022-04-14T18:33:02.858071Z",
     "shell.execute_reply.started": "2022-04-14T18:33:02.834826Z"
    }
   },
   "outputs": [],
   "source": [
    "df['lotsize'].describe()"
   ]
  },
  {
   "cell_type": "code",
   "execution_count": 140,
   "metadata": {
    "execution": {
     "iopub.execute_input": "2022-04-14T18:33:02.860284Z",
     "iopub.status.busy": "2022-04-14T18:33:02.859623Z",
     "iopub.status.idle": "2022-04-14T18:33:02.891900Z",
     "shell.execute_reply": "2022-04-14T18:33:02.891258Z",
     "shell.execute_reply.started": "2022-04-14T18:33:02.860248Z"
    }
   },
   "outputs": [],
   "source": [
    "df[df['lotsize']==df['lotsize'].max()]"
   ]
  },
  {
   "cell_type": "code",
   "execution_count": 141,
   "metadata": {
    "execution": {
     "iopub.execute_input": "2022-04-14T18:33:02.893324Z",
     "iopub.status.busy": "2022-04-14T18:33:02.893079Z",
     "iopub.status.idle": "2022-04-14T18:33:02.899549Z",
     "shell.execute_reply": "2022-04-14T18:33:02.897735Z",
     "shell.execute_reply.started": "2022-04-14T18:33:02.893291Z"
    }
   },
   "outputs": [],
   "source": [
    "# Число слишком большое, обнуляем.\n",
    "df.loc[1148, 'lotsize'] = 0.0"
   ]
  },
  {
   "cell_type": "code",
   "execution_count": null,
   "metadata": {},
   "outputs": [],
   "source": []
  },
  {
   "cell_type": "markdown",
   "metadata": {},
   "source": [
    "##### Признак 'Price/sqft'"
   ]
  },
  {
   "cell_type": "code",
   "execution_count": 142,
   "metadata": {
    "execution": {
     "iopub.execute_input": "2022-04-14T18:33:02.902733Z",
     "iopub.status.busy": "2022-04-14T18:33:02.900572Z",
     "iopub.status.idle": "2022-04-14T18:33:02.906865Z",
     "shell.execute_reply": "2022-04-14T18:33:02.905888Z",
     "shell.execute_reply.started": "2022-04-14T18:33:02.902695Z"
    }
   },
   "outputs": [],
   "source": [
    "# df['Price/sqft']  = df['homeFacts'].apply(lambda x: app(x,6))"
   ]
  },
  {
   "cell_type": "code",
   "execution_count": 143,
   "metadata": {
    "execution": {
     "iopub.execute_input": "2022-04-14T18:33:02.909938Z",
     "iopub.status.busy": "2022-04-14T18:33:02.909275Z",
     "iopub.status.idle": "2022-04-14T18:33:02.980221Z",
     "shell.execute_reply": "2022-04-14T18:33:02.979613Z",
     "shell.execute_reply.started": "2022-04-14T18:33:02.909900Z"
    }
   },
   "outputs": [],
   "source": [
    "df['Price/sqft'].value_counts()"
   ]
  },
  {
   "cell_type": "code",
   "execution_count": 144,
   "metadata": {
    "execution": {
     "iopub.execute_input": "2022-04-14T18:33:02.983246Z",
     "iopub.status.busy": "2022-04-14T18:33:02.982835Z",
     "iopub.status.idle": "2022-04-14T18:33:02.987924Z",
     "shell.execute_reply": "2022-04-14T18:33:02.987227Z",
     "shell.execute_reply.started": "2022-04-14T18:33:02.983209Z"
    }
   },
   "outputs": [],
   "source": [
    "# df['Price/sqft'].value_counts().index.tolist()"
   ]
  },
  {
   "cell_type": "code",
   "execution_count": 145,
   "metadata": {
    "execution": {
     "iopub.execute_input": "2022-04-14T18:33:02.991556Z",
     "iopub.status.busy": "2022-04-14T18:33:02.988819Z",
     "iopub.status.idle": "2022-04-14T18:33:03.001176Z",
     "shell.execute_reply": "2022-04-14T18:33:03.000303Z",
     "shell.execute_reply.started": "2022-04-14T18:33:02.991527Z"
    }
   },
   "outputs": [],
   "source": [
    "df['Price/sqft']"
   ]
  },
  {
   "cell_type": "code",
   "execution_count": 146,
   "metadata": {
    "execution": {
     "iopub.execute_input": "2022-04-14T18:33:03.004516Z",
     "iopub.status.busy": "2022-04-14T18:33:03.003723Z",
     "iopub.status.idle": "2022-04-14T18:33:03.048454Z",
     "shell.execute_reply": "2022-04-14T18:33:03.047575Z",
     "shell.execute_reply.started": "2022-04-14T18:33:03.004479Z"
    }
   },
   "outputs": [],
   "source": [
    "df['Price/sqft'].isna().sum()"
   ]
  },
  {
   "cell_type": "code",
   "execution_count": 147,
   "metadata": {
    "execution": {
     "iopub.execute_input": "2022-04-14T18:33:03.050960Z",
     "iopub.status.busy": "2022-04-14T18:33:03.050469Z",
     "iopub.status.idle": "2022-04-14T18:33:03.100823Z",
     "shell.execute_reply": "2022-04-14T18:33:03.100053Z",
     "shell.execute_reply.started": "2022-04-14T18:33:03.050918Z"
    }
   },
   "outputs": [],
   "source": [
    "df['Price/sqft'] = df['Price/sqft'].fillna(0.0)"
   ]
  },
  {
   "cell_type": "code",
   "execution_count": 148,
   "metadata": {
    "execution": {
     "iopub.execute_input": "2022-04-14T18:33:03.102495Z",
     "iopub.status.busy": "2022-04-14T18:33:03.102225Z",
     "iopub.status.idle": "2022-04-14T18:33:03.108908Z",
     "shell.execute_reply": "2022-04-14T18:33:03.107957Z",
     "shell.execute_reply.started": "2022-04-14T18:33:03.102458Z"
    }
   },
   "outputs": [],
   "source": [
    "def is_num(x):\n",
    "    try:\n",
    "        float(x)\n",
    "        return True\n",
    "    except ValueError:\n",
    "        return False\n",
    "\n",
    "def Price_sqft(x):\n",
    "    if x==0 or x=='' or x=='No Data' or x=='No Info':\n",
    "        x = '0'\n",
    "        return float(x)\n",
    "    x = re.sub('[^0-9\\.]', '', x).strip()\n",
    "    if is_num(x):\n",
    "        return float(x)\n",
    "    else:\n",
    "        return 0.0"
   ]
  },
  {
   "cell_type": "code",
   "execution_count": 149,
   "metadata": {
    "execution": {
     "iopub.execute_input": "2022-04-14T18:33:03.111047Z",
     "iopub.status.busy": "2022-04-14T18:33:03.110444Z",
     "iopub.status.idle": "2022-04-14T18:33:04.384084Z",
     "shell.execute_reply": "2022-04-14T18:33:04.383348Z",
     "shell.execute_reply.started": "2022-04-14T18:33:03.111006Z"
    }
   },
   "outputs": [],
   "source": [
    "df['Price/sqft'] = df['Price/sqft'].apply(Price_sqft)"
   ]
  },
  {
   "cell_type": "code",
   "execution_count": 150,
   "metadata": {
    "execution": {
     "iopub.execute_input": "2022-04-14T18:33:04.385718Z",
     "iopub.status.busy": "2022-04-14T18:33:04.385482Z",
     "iopub.status.idle": "2022-04-14T18:33:04.393949Z",
     "shell.execute_reply": "2022-04-14T18:33:04.393169Z",
     "shell.execute_reply.started": "2022-04-14T18:33:04.385685Z"
    }
   },
   "outputs": [],
   "source": [
    "df['Price/sqft'].isna().sum()"
   ]
  },
  {
   "cell_type": "code",
   "execution_count": 151,
   "metadata": {
    "execution": {
     "iopub.execute_input": "2022-04-14T18:33:04.395783Z",
     "iopub.status.busy": "2022-04-14T18:33:04.395323Z",
     "iopub.status.idle": "2022-04-14T18:33:04.402496Z",
     "shell.execute_reply": "2022-04-14T18:33:04.401708Z",
     "shell.execute_reply.started": "2022-04-14T18:33:04.395746Z"
    }
   },
   "outputs": [],
   "source": [
    "df['Price/sqft'] = df['Price/sqft'].fillna(0.0)"
   ]
  },
  {
   "cell_type": "markdown",
   "metadata": {},
   "source": [
    "Необходимо выявить выбросы и их удалить или исправить!\n",
    "Признак 'Price/sqft' - числовой"
   ]
  },
  {
   "cell_type": "code",
   "execution_count": 152,
   "metadata": {
    "execution": {
     "iopub.execute_input": "2022-04-14T18:33:04.404409Z",
     "iopub.status.busy": "2022-04-14T18:33:04.403983Z",
     "iopub.status.idle": "2022-04-14T18:33:04.424721Z",
     "shell.execute_reply": "2022-04-14T18:33:04.424010Z",
     "shell.execute_reply.started": "2022-04-14T18:33:04.404361Z"
    }
   },
   "outputs": [],
   "source": [
    "df['Price/sqft'].describe()"
   ]
  },
  {
   "cell_type": "code",
   "execution_count": 153,
   "metadata": {
    "execution": {
     "iopub.execute_input": "2022-04-14T18:33:04.426623Z",
     "iopub.status.busy": "2022-04-14T18:33:04.426169Z",
     "iopub.status.idle": "2022-04-14T18:33:04.632890Z",
     "shell.execute_reply": "2022-04-14T18:33:04.632198Z",
     "shell.execute_reply.started": "2022-04-14T18:33:04.426586Z"
    }
   },
   "outputs": [],
   "source": [
    "plt.boxplot(df['Price/sqft'], vert=False)"
   ]
  },
  {
   "cell_type": "code",
   "execution_count": 154,
   "metadata": {
    "execution": {
     "iopub.execute_input": "2022-04-14T18:33:04.634683Z",
     "iopub.status.busy": "2022-04-14T18:33:04.634243Z",
     "iopub.status.idle": "2022-04-14T18:33:04.658435Z",
     "shell.execute_reply": "2022-04-14T18:33:04.657801Z",
     "shell.execute_reply.started": "2022-04-14T18:33:04.634647Z"
    }
   },
   "outputs": [],
   "source": [
    "df[['target','Price/sqft']][df['Price/sqft']>40000]"
   ]
  },
  {
   "cell_type": "markdown",
   "metadata": {},
   "source": [
    "Предельная цена установилась подбором чисел: 20000, 30000, 40000, и т.д.\n",
    "Цена кв.фута равна всей стоимости  недвижимости! Необходимо обнулять эти данные."
   ]
  },
  {
   "cell_type": "code",
   "execution_count": 155,
   "metadata": {
    "execution": {
     "iopub.execute_input": "2022-04-14T18:33:04.660153Z",
     "iopub.status.busy": "2022-04-14T18:33:04.659714Z",
     "iopub.status.idle": "2022-04-14T18:33:04.668723Z",
     "shell.execute_reply": "2022-04-14T18:33:04.667970Z",
     "shell.execute_reply.started": "2022-04-14T18:33:04.660117Z"
    }
   },
   "outputs": [],
   "source": [
    "ind_Price_sq = df[['target','Price/sqft']][df['Price/sqft']>40000].index\n",
    "ind_Price_sq"
   ]
  },
  {
   "cell_type": "code",
   "execution_count": 156,
   "metadata": {
    "execution": {
     "iopub.execute_input": "2022-04-14T18:33:04.670476Z",
     "iopub.status.busy": "2022-04-14T18:33:04.670130Z",
     "iopub.status.idle": "2022-04-14T18:33:04.676821Z",
     "shell.execute_reply": "2022-04-14T18:33:04.676130Z",
     "shell.execute_reply.started": "2022-04-14T18:33:04.670440Z"
    }
   },
   "outputs": [],
   "source": [
    "# =0.0\n",
    "df.loc[ind_Price_sq, 'Price/sqft'] = 0.0"
   ]
  },
  {
   "cell_type": "code",
   "execution_count": 157,
   "metadata": {
    "execution": {
     "iopub.execute_input": "2022-04-14T18:33:04.680267Z",
     "iopub.status.busy": "2022-04-14T18:33:04.679084Z",
     "iopub.status.idle": "2022-04-14T18:33:05.100302Z",
     "shell.execute_reply": "2022-04-14T18:33:05.099645Z",
     "shell.execute_reply.started": "2022-04-14T18:33:04.680237Z"
    }
   },
   "outputs": [],
   "source": [
    "plt.boxplot(df['Price/sqft'], vert=False)"
   ]
  },
  {
   "cell_type": "code",
   "execution_count": 158,
   "metadata": {
    "execution": {
     "iopub.execute_input": "2022-04-14T18:33:05.105761Z",
     "iopub.status.busy": "2022-04-14T18:33:05.103901Z",
     "iopub.status.idle": "2022-04-14T18:33:05.137076Z",
     "shell.execute_reply": "2022-04-14T18:33:05.136441Z",
     "shell.execute_reply.started": "2022-04-14T18:33:05.105720Z"
    }
   },
   "outputs": [],
   "source": [
    "df['Price/sqft'].describe()"
   ]
  },
  {
   "cell_type": "code",
   "execution_count": 159,
   "metadata": {
    "execution": {
     "iopub.execute_input": "2022-04-14T18:33:05.146659Z",
     "iopub.status.busy": "2022-04-14T18:33:05.144533Z",
     "iopub.status.idle": "2022-04-14T18:33:05.169111Z",
     "shell.execute_reply": "2022-04-14T18:33:05.168296Z",
     "shell.execute_reply.started": "2022-04-14T18:33:05.146622Z"
    }
   },
   "outputs": [],
   "source": [
    "df['Price/sqft'].value_counts()"
   ]
  },
  {
   "cell_type": "markdown",
   "metadata": {},
   "source": [
    "Признак 'Price/sqft' - числовой"
   ]
  },
  {
   "cell_type": "code",
   "execution_count": null,
   "metadata": {},
   "outputs": [],
   "source": []
  },
  {
   "cell_type": "code",
   "execution_count": null,
   "metadata": {},
   "outputs": [],
   "source": []
  },
  {
   "cell_type": "markdown",
   "metadata": {},
   "source": [
    "#### Признаки 'Heating' и 'Cooling' анализируем совместно "
   ]
  },
  {
   "cell_type": "code",
   "execution_count": 160,
   "metadata": {
    "execution": {
     "iopub.execute_input": "2022-04-14T18:33:05.170634Z",
     "iopub.status.busy": "2022-04-14T18:33:05.170276Z",
     "iopub.status.idle": "2022-04-14T18:33:05.259760Z",
     "shell.execute_reply": "2022-04-14T18:33:05.259129Z",
     "shell.execute_reply.started": "2022-04-14T18:33:05.170603Z"
    }
   },
   "outputs": [],
   "source": [
    "df['Heating'].value_counts()"
   ]
  },
  {
   "cell_type": "code",
   "execution_count": 161,
   "metadata": {
    "execution": {
     "iopub.execute_input": "2022-04-14T18:33:05.261152Z",
     "iopub.status.busy": "2022-04-14T18:33:05.260820Z",
     "iopub.status.idle": "2022-04-14T18:33:05.264426Z",
     "shell.execute_reply": "2022-04-14T18:33:05.263450Z",
     "shell.execute_reply.started": "2022-04-14T18:33:05.261121Z"
    }
   },
   "outputs": [],
   "source": [
    "# df['Heating'].value_counts().index.tolist()"
   ]
  },
  {
   "cell_type": "code",
   "execution_count": 162,
   "metadata": {
    "execution": {
     "iopub.execute_input": "2022-04-14T18:33:05.266149Z",
     "iopub.status.busy": "2022-04-14T18:33:05.265715Z",
     "iopub.status.idle": "2022-04-14T18:33:05.360866Z",
     "shell.execute_reply": "2022-04-14T18:33:05.360272Z",
     "shell.execute_reply.started": "2022-04-14T18:33:05.266116Z"
    }
   },
   "outputs": [],
   "source": [
    "df['Cooling'].value_counts()"
   ]
  },
  {
   "cell_type": "code",
   "execution_count": 163,
   "metadata": {
    "execution": {
     "iopub.execute_input": "2022-04-14T18:33:05.366261Z",
     "iopub.status.busy": "2022-04-14T18:33:05.364361Z",
     "iopub.status.idle": "2022-04-14T18:33:05.370936Z",
     "shell.execute_reply": "2022-04-14T18:33:05.370113Z",
     "shell.execute_reply.started": "2022-04-14T18:33:05.366176Z"
    }
   },
   "outputs": [],
   "source": [
    "# df['Cooling'].value_counts().index.tolist()"
   ]
  },
  {
   "cell_type": "markdown",
   "metadata": {},
   "source": [
    "  Два признака, 'Heating' и 'Cooling', существенно влияют на цену недвижимости. Поэтому необходимо привести данные этих показателей в пригодную форму для использования в моделях прогноза цен на недвижимость."
   ]
  },
  {
   "cell_type": "code",
   "execution_count": 164,
   "metadata": {
    "execution": {
     "iopub.execute_input": "2022-04-14T18:33:05.375427Z",
     "iopub.status.busy": "2022-04-14T18:33:05.374986Z",
     "iopub.status.idle": "2022-04-14T18:33:05.384916Z",
     "shell.execute_reply": "2022-04-14T18:33:05.384123Z",
     "shell.execute_reply.started": "2022-04-14T18:33:05.375379Z"
    }
   },
   "outputs": [],
   "source": [
    "# Функция для первоначального парсинга признаков 'Heating' и 'Cooling' \n",
    "patterns = \"[!#$%&()'*+.:;<=>?@[\\]^_`{|}~—\\\"]+\"\n",
    "def parsing (x):\n",
    "    if (x==0) or (x=='0') or (x=='') or (x=='No Data'):\n",
    "        x='No'\n",
    "    x = x.title()\n",
    "    x = re.sub(patterns, ' ', x)\n",
    "    if len(x)>0 and x[0]==',':\n",
    "        x = x[1:].strip()\n",
    "    return x"
   ]
  },
  {
   "cell_type": "code",
   "execution_count": 165,
   "metadata": {
    "execution": {
     "iopub.execute_input": "2022-04-14T18:33:05.387536Z",
     "iopub.status.busy": "2022-04-14T18:33:05.387232Z",
     "iopub.status.idle": "2022-04-14T18:33:06.546008Z",
     "shell.execute_reply": "2022-04-14T18:33:06.545205Z",
     "shell.execute_reply.started": "2022-04-14T18:33:05.387500Z"
    }
   },
   "outputs": [],
   "source": [
    "df['Heating'] = df['Heating'].apply(parsing)\n",
    "# df['Heating'].value_counts().index.tolist()"
   ]
  },
  {
   "cell_type": "code",
   "execution_count": 166,
   "metadata": {
    "execution": {
     "iopub.execute_input": "2022-04-14T18:33:06.547685Z",
     "iopub.status.busy": "2022-04-14T18:33:06.547305Z",
     "iopub.status.idle": "2022-04-14T18:33:06.615863Z",
     "shell.execute_reply": "2022-04-14T18:33:06.614944Z",
     "shell.execute_reply.started": "2022-04-14T18:33:06.547643Z"
    }
   },
   "outputs": [],
   "source": [
    "df['Heating'].value_counts()"
   ]
  },
  {
   "cell_type": "code",
   "execution_count": 167,
   "metadata": {
    "execution": {
     "iopub.execute_input": "2022-04-14T18:33:06.617565Z",
     "iopub.status.busy": "2022-04-14T18:33:06.617221Z",
     "iopub.status.idle": "2022-04-14T18:33:06.677466Z",
     "shell.execute_reply": "2022-04-14T18:33:06.676585Z",
     "shell.execute_reply.started": "2022-04-14T18:33:06.617527Z"
    }
   },
   "outputs": [],
   "source": [
    "df['Cooling'].value_counts()"
   ]
  },
  {
   "cell_type": "code",
   "execution_count": 168,
   "metadata": {
    "execution": {
     "iopub.execute_input": "2022-04-14T18:33:06.679253Z",
     "iopub.status.busy": "2022-04-14T18:33:06.678989Z",
     "iopub.status.idle": "2022-04-14T18:33:06.683128Z",
     "shell.execute_reply": "2022-04-14T18:33:06.682202Z",
     "shell.execute_reply.started": "2022-04-14T18:33:06.679215Z"
    }
   },
   "outputs": [],
   "source": [
    "# df['Cooling'].value_counts().index.tolist()"
   ]
  },
  {
   "cell_type": "markdown",
   "metadata": {},
   "source": [
    "Беглый просмотр содержимого признаков 'Heating' и 'Cooling' показывает, что в признаке 'Cooling' приведены  тепловые показатели , а в признаке 'Heating' приведены показатели охлаждения.\n",
    "Вначале исправим некоторые имеющиеся явно заметные неточности."
   ]
  },
  {
   "cell_type": "code",
   "execution_count": 169,
   "metadata": {
    "execution": {
     "iopub.execute_input": "2022-04-14T18:33:06.685361Z",
     "iopub.status.busy": "2022-04-14T18:33:06.684684Z",
     "iopub.status.idle": "2022-04-14T18:33:06.783239Z",
     "shell.execute_reply": "2022-04-14T18:33:06.782578Z",
     "shell.execute_reply.started": "2022-04-14T18:33:06.685321Z"
    }
   },
   "outputs": [],
   "source": [
    "df[df['Heating']=='Central Air']"
   ]
  },
  {
   "cell_type": "code",
   "execution_count": 170,
   "metadata": {
    "execution": {
     "iopub.execute_input": "2022-04-14T18:33:06.784896Z",
     "iopub.status.busy": "2022-04-14T18:33:06.784495Z",
     "iopub.status.idle": "2022-04-14T18:33:06.847959Z",
     "shell.execute_reply": "2022-04-14T18:33:06.847282Z",
     "shell.execute_reply.started": "2022-04-14T18:33:06.784857Z"
    }
   },
   "outputs": [],
   "source": [
    "# 'Central Air'\n",
    "#  Выделение индексов строк \n",
    "ind_H = df[df['Heating']=='Central Air'].index\n",
    "df['Cooling'][ind_H].value_counts()"
   ]
  },
  {
   "cell_type": "code",
   "execution_count": 171,
   "metadata": {
    "execution": {
     "iopub.execute_input": "2022-04-14T18:33:06.849415Z",
     "iopub.status.busy": "2022-04-14T18:33:06.849158Z",
     "iopub.status.idle": "2022-04-14T18:33:06.867537Z",
     "shell.execute_reply": "2022-04-14T18:33:06.866878Z",
     "shell.execute_reply.started": "2022-04-14T18:33:06.849375Z"
    }
   },
   "outputs": [],
   "source": [
    "# Изменеие 'Has Cooling' признака 'Cooling' на 'Central Air' признака 'Heating'.\n",
    "df.loc[ind_H,'Cooling'] = df['Heating'][ind_H]"
   ]
  },
  {
   "cell_type": "code",
   "execution_count": 172,
   "metadata": {
    "execution": {
     "iopub.execute_input": "2022-04-14T18:33:06.869241Z",
     "iopub.status.busy": "2022-04-14T18:33:06.868901Z",
     "iopub.status.idle": "2022-04-14T18:33:06.880159Z",
     "shell.execute_reply": "2022-04-14T18:33:06.879181Z",
     "shell.execute_reply.started": "2022-04-14T18:33:06.869201Z"
    }
   },
   "outputs": [],
   "source": [
    "df['Cooling'][ind_H].value_counts()"
   ]
  },
  {
   "cell_type": "code",
   "execution_count": 173,
   "metadata": {
    "execution": {
     "iopub.execute_input": "2022-04-14T18:33:06.881669Z",
     "iopub.status.busy": "2022-04-14T18:33:06.881354Z",
     "iopub.status.idle": "2022-04-14T18:33:06.941862Z",
     "shell.execute_reply": "2022-04-14T18:33:06.941167Z",
     "shell.execute_reply.started": "2022-04-14T18:33:06.881632Z"
    }
   },
   "outputs": [],
   "source": [
    "# Выделение индексов строк\n",
    "ind_C =df[df['Cooling']=='Central Heating'].index\n",
    "df['Heating'][ind_C].value_counts()"
   ]
  },
  {
   "cell_type": "code",
   "execution_count": 174,
   "metadata": {
    "execution": {
     "iopub.execute_input": "2022-04-14T18:33:06.943521Z",
     "iopub.status.busy": "2022-04-14T18:33:06.943251Z",
     "iopub.status.idle": "2022-04-14T18:33:06.949277Z",
     "shell.execute_reply": "2022-04-14T18:33:06.948438Z",
     "shell.execute_reply.started": "2022-04-14T18:33:06.943485Z"
    }
   },
   "outputs": [],
   "source": [
    "# Изменение  признака 'Heating' и  признака 'Cooling'.'Central Heating'\n",
    "def change(x):\n",
    "    if -1!=x.find('Gas'):\n",
    "        x = 'Central Heating '+'Gas'\n",
    "    if -1!=x.find('Electric '):\n",
    "        x = 'Central Heating '+'Electric '\n",
    "    return x"
   ]
  },
  {
   "cell_type": "code",
   "execution_count": 175,
   "metadata": {
    "execution": {
     "iopub.execute_input": "2022-04-14T18:33:06.951254Z",
     "iopub.status.busy": "2022-04-14T18:33:06.950965Z",
     "iopub.status.idle": "2022-04-14T18:33:06.979016Z",
     "shell.execute_reply": "2022-04-14T18:33:06.978305Z",
     "shell.execute_reply.started": "2022-04-14T18:33:06.951218Z"
    }
   },
   "outputs": [],
   "source": [
    "df.loc[ind_C, 'Heating'] = df['Heating'][ind_C].apply(change)\n",
    "df['Heating'][ind_C].value_counts()"
   ]
  },
  {
   "cell_type": "code",
   "execution_count": 176,
   "metadata": {
    "execution": {
     "iopub.execute_input": "2022-04-14T18:33:06.980636Z",
     "iopub.status.busy": "2022-04-14T18:33:06.980398Z",
     "iopub.status.idle": "2022-04-14T18:33:06.998800Z",
     "shell.execute_reply": "2022-04-14T18:33:06.998003Z",
     "shell.execute_reply.started": "2022-04-14T18:33:06.980603Z"
    }
   },
   "outputs": [],
   "source": [
    "df.loc[ind_C,'Cooling']= 'Central'\n",
    "df['Cooling'][ind_C].value_counts()"
   ]
  },
  {
   "cell_type": "code",
   "execution_count": 177,
   "metadata": {
    "execution": {
     "iopub.execute_input": "2022-04-14T18:33:07.000367Z",
     "iopub.status.busy": "2022-04-14T18:33:07.000054Z",
     "iopub.status.idle": "2022-04-14T18:33:07.056287Z",
     "shell.execute_reply": "2022-04-14T18:33:07.055563Z",
     "shell.execute_reply.started": "2022-04-14T18:33:07.000326Z"
    }
   },
   "outputs": [],
   "source": [
    "ind_CE =df[df['Cooling']=='Electric Heating'].index\n",
    "df['Heating'][ind_CE].value_counts()"
   ]
  },
  {
   "cell_type": "markdown",
   "metadata": {},
   "source": [
    "Содержимое признака 'Heating' выделенных строк больше похоже на данные признака 'Cooling'. Поэтому поменяем их между собой."
   ]
  },
  {
   "cell_type": "code",
   "execution_count": 178,
   "metadata": {
    "execution": {
     "iopub.execute_input": "2022-04-14T18:33:07.058754Z",
     "iopub.status.busy": "2022-04-14T18:33:07.058333Z",
     "iopub.status.idle": "2022-04-14T18:33:07.073127Z",
     "shell.execute_reply": "2022-04-14T18:33:07.072150Z",
     "shell.execute_reply.started": "2022-04-14T18:33:07.058717Z"
    }
   },
   "outputs": [],
   "source": [
    "df.loc[ind_CE, 'Cooling'] = df['Heating'][ind_CE]"
   ]
  },
  {
   "cell_type": "code",
   "execution_count": 179,
   "metadata": {
    "execution": {
     "iopub.execute_input": "2022-04-14T18:33:07.076651Z",
     "iopub.status.busy": "2022-04-14T18:33:07.076130Z",
     "iopub.status.idle": "2022-04-14T18:33:07.094017Z",
     "shell.execute_reply": "2022-04-14T18:33:07.093115Z",
     "shell.execute_reply.started": "2022-04-14T18:33:07.076620Z"
    }
   },
   "outputs": [],
   "source": [
    "df.loc[ind_CE, 'Heating'] = 'Electric Heating'"
   ]
  },
  {
   "cell_type": "code",
   "execution_count": 180,
   "metadata": {
    "execution": {
     "iopub.execute_input": "2022-04-14T18:33:07.095767Z",
     "iopub.status.busy": "2022-04-14T18:33:07.095508Z",
     "iopub.status.idle": "2022-04-14T18:33:07.103967Z",
     "shell.execute_reply": "2022-04-14T18:33:07.103169Z",
     "shell.execute_reply.started": "2022-04-14T18:33:07.095731Z"
    }
   },
   "outputs": [],
   "source": [
    "df['Heating'][ind_CE].value_counts()"
   ]
  },
  {
   "cell_type": "code",
   "execution_count": 181,
   "metadata": {
    "execution": {
     "iopub.execute_input": "2022-04-14T18:33:07.106325Z",
     "iopub.status.busy": "2022-04-14T18:33:07.105970Z",
     "iopub.status.idle": "2022-04-14T18:33:07.117190Z",
     "shell.execute_reply": "2022-04-14T18:33:07.116354Z",
     "shell.execute_reply.started": "2022-04-14T18:33:07.106259Z"
    }
   },
   "outputs": [],
   "source": [
    "df['Cooling'][ind_CE].value_counts()"
   ]
  },
  {
   "cell_type": "markdown",
   "metadata": {},
   "source": [
    "В дальнейшем содежимые этих признаков анализируются более подробно, и по мере возможности, очищаются, и данные приводятся к приемлемый вид для использования в моделях."
   ]
  },
  {
   "cell_type": "code",
   "execution_count": null,
   "metadata": {},
   "outputs": [],
   "source": []
  },
  {
   "cell_type": "markdown",
   "metadata": {},
   "source": [
    "#### Признак 'Heating' отдельно"
   ]
  },
  {
   "cell_type": "code",
   "execution_count": 182,
   "metadata": {
    "execution": {
     "iopub.execute_input": "2022-04-14T18:33:07.118762Z",
     "iopub.status.busy": "2022-04-14T18:33:07.118509Z",
     "iopub.status.idle": "2022-04-14T18:33:07.175134Z",
     "shell.execute_reply": "2022-04-14T18:33:07.174412Z",
     "shell.execute_reply.started": "2022-04-14T18:33:07.118728Z"
    }
   },
   "outputs": [],
   "source": [
    "df['Heating'].value_counts()"
   ]
  },
  {
   "cell_type": "code",
   "execution_count": 183,
   "metadata": {
    "execution": {
     "iopub.execute_input": "2022-04-14T18:33:07.177188Z",
     "iopub.status.busy": "2022-04-14T18:33:07.176562Z",
     "iopub.status.idle": "2022-04-14T18:33:07.181343Z",
     "shell.execute_reply": "2022-04-14T18:33:07.180572Z",
     "shell.execute_reply.started": "2022-04-14T18:33:07.177070Z"
    }
   },
   "outputs": [],
   "source": [
    "# df['Heating'].value_counts().index.tolist()"
   ]
  },
  {
   "cell_type": "code",
   "execution_count": 184,
   "metadata": {
    "execution": {
     "iopub.execute_input": "2022-04-14T18:33:07.183207Z",
     "iopub.status.busy": "2022-04-14T18:33:07.182955Z",
     "iopub.status.idle": "2022-04-14T18:33:07.195762Z",
     "shell.execute_reply": "2022-04-14T18:33:07.195131Z",
     "shell.execute_reply.started": "2022-04-14T18:33:07.183173Z"
    }
   },
   "outputs": [],
   "source": [
    "fnd =['Air Conditioning','Air Conditionings','Air Conditioner','Air Conditioners','A/C','Ac']\n",
    "   \n",
    "def dop_Heat(x):\n",
    "    if (-1!=x.find('Forced Air') or -1!=x.find('Heat Pump')) and -1!=x.find('Gas'):\n",
    "        x='Forced Gas'\n",
    "    if (-1!=x.find('Forced Air') or -1!=x.find('Heat Pump')) and -1!=x.find('Electric'):\n",
    "        x='Forced Electric'\n",
    "    if -1!=x.find('Heat Pump') or x=='Forcedair':\n",
    "         x='Forced'\n",
    "    if -1!=x.find('Forced Air') or x=='Forced Warm Air':\n",
    "        x='Forced'\n",
    "    for i in range(0, len(fnd)):\n",
    "        x = x.replace(fnd[i], '')\n",
    "    if -1!=x.find('Central Air'):\n",
    "        x='Central'\n",
    "    if -1!=x.find('Central') and -1!=x.find('Electric'):\n",
    "        x='Central Electric'\n",
    "    if -1!=x.find('Central') and -1!=x.find('Gas'):\n",
    "        x='Central Gas'\n",
    "    if x== 'Electric':\n",
    "        x='Central Electric'\n",
    "    return x\n"
   ]
  },
  {
   "cell_type": "code",
   "execution_count": 185,
   "metadata": {
    "execution": {
     "iopub.execute_input": "2022-04-14T18:33:07.197725Z",
     "iopub.status.busy": "2022-04-14T18:33:07.197308Z",
     "iopub.status.idle": "2022-04-14T18:33:08.275274Z",
     "shell.execute_reply": "2022-04-14T18:33:08.274532Z",
     "shell.execute_reply.started": "2022-04-14T18:33:07.197689Z"
    }
   },
   "outputs": [],
   "source": [
    "df['Heating'] = df['Heating'].apply(dop_Heat)"
   ]
  },
  {
   "cell_type": "code",
   "execution_count": 186,
   "metadata": {
    "execution": {
     "iopub.execute_input": "2022-04-14T18:33:08.276953Z",
     "iopub.status.busy": "2022-04-14T18:33:08.276687Z",
     "iopub.status.idle": "2022-04-14T18:33:08.287120Z",
     "shell.execute_reply": "2022-04-14T18:33:08.286448Z",
     "shell.execute_reply.started": "2022-04-14T18:33:08.276914Z"
    }
   },
   "outputs": [],
   "source": [
    "gas = ['Gas', 'Forced Gas', 'Central Gas', 'Electric, Gas']\n",
    "central = ['Central Electric', 'Central Gas', 'Central Furnace', 'Central Heating']\n",
    "electric = ['Central Electric', 'Forced Electric', 'Electric, Gas'] \n",
    "name_change = ['Wall', 'Refrigeration', 'Baseboard', 'Hot Water', 'Stove', 'Radiator']\n",
    "def in_gce(x):\n",
    "    x = x.strip()\n",
    "    x = x.replace('Units', 'Unit')\n",
    "    x = x.replace('Unit S', 'Unit')\n",
    "    if ((-1!=x.find('Gas') or -1!=x.find('Propane')) and (x not in gas)):\n",
    "        x='Gas'\n",
    "    if (-1!=x.find('Central') and (x not in central)):\n",
    "        x='Central'\n",
    "    if (-1!=x.find('Electric') and (x not in electric)):\n",
    "        x='Electric'\n",
    "    for i in range(0, len(name_change)):\n",
    "        if -1!=x.find(name_change[i]):\n",
    "            x = name_change[i]\n",
    "    if -1!=x.find('Heat') and -1==x.find('Heating'):\n",
    "        x='Heating'\n",
    "    if -1!=x.find('Heating') and (x not in ['Central Heating', 'Heating System']):\n",
    "        x='Heating'\n",
    "    if -1!=x.find('Window Unit') or x=='Window':\n",
    "        x = 'Window Unit'\n",
    "    if  -1!=x.find('Hot Air'):\n",
    "        x='Forced'\n",
    "    return x"
   ]
  },
  {
   "cell_type": "code",
   "execution_count": 187,
   "metadata": {
    "execution": {
     "iopub.execute_input": "2022-04-14T18:33:08.288953Z",
     "iopub.status.busy": "2022-04-14T18:33:08.288328Z",
     "iopub.status.idle": "2022-04-14T18:33:09.645802Z",
     "shell.execute_reply": "2022-04-14T18:33:09.645035Z",
     "shell.execute_reply.started": "2022-04-14T18:33:08.288916Z"
    }
   },
   "outputs": [],
   "source": [
    "df['Heating'] = df['Heating'].apply(in_gce)"
   ]
  },
  {
   "cell_type": "code",
   "execution_count": 188,
   "metadata": {
    "execution": {
     "iopub.execute_input": "2022-04-14T18:33:09.647314Z",
     "iopub.status.busy": "2022-04-14T18:33:09.647084Z",
     "iopub.status.idle": "2022-04-14T18:33:09.695059Z",
     "shell.execute_reply": "2022-04-14T18:33:09.694410Z",
     "shell.execute_reply.started": "2022-04-14T18:33:09.647281Z"
    }
   },
   "outputs": [],
   "source": [
    "df['Heating'].value_counts()"
   ]
  },
  {
   "cell_type": "code",
   "execution_count": 189,
   "metadata": {
    "execution": {
     "iopub.execute_input": "2022-04-14T18:33:09.696986Z",
     "iopub.status.busy": "2022-04-14T18:33:09.696330Z",
     "iopub.status.idle": "2022-04-14T18:33:09.754464Z",
     "shell.execute_reply": "2022-04-14T18:33:09.753615Z",
     "shell.execute_reply.started": "2022-04-14T18:33:09.696947Z"
    }
   },
   "outputs": [],
   "source": [
    "df['Heating'].value_counts().index.tolist()"
   ]
  },
  {
   "cell_type": "code",
   "execution_count": 190,
   "metadata": {
    "execution": {
     "iopub.execute_input": "2022-04-14T18:33:09.756403Z",
     "iopub.status.busy": "2022-04-14T18:33:09.755906Z",
     "iopub.status.idle": "2022-04-14T18:33:09.806322Z",
     "shell.execute_reply": "2022-04-14T18:33:09.805557Z",
     "shell.execute_reply.started": "2022-04-14T18:33:09.756355Z"
    }
   },
   "outputs": [],
   "source": [
    "df['Heating'].value_counts()['Stove':].sum()"
   ]
  },
  {
   "cell_type": "markdown",
   "metadata": {},
   "source": [
    "Данные признака 'Heating' оказались слишком разнообразными. Требовалось детально изучать данные по строкам. Данные по возможности приведены к удобному виду для категоризации данных.  \n",
    "Все остальные значения после  признака 'Stove' отнесем к 'Other'"
   ]
  },
  {
   "cell_type": "code",
   "execution_count": 191,
   "metadata": {
    "execution": {
     "iopub.execute_input": "2022-04-14T18:33:09.807987Z",
     "iopub.status.busy": "2022-04-14T18:33:09.807726Z",
     "iopub.status.idle": "2022-04-14T18:33:09.857983Z",
     "shell.execute_reply": "2022-04-14T18:33:09.856573Z",
     "shell.execute_reply.started": "2022-04-14T18:33:09.807953Z"
    }
   },
   "outputs": [],
   "source": [
    "ind_Heat = df['Heating'].value_counts()[:'Stove'].index\n",
    "ind_Heat"
   ]
  },
  {
   "cell_type": "code",
   "execution_count": 192,
   "metadata": {
    "execution": {
     "iopub.execute_input": "2022-04-14T18:33:09.863521Z",
     "iopub.status.busy": "2022-04-14T18:33:09.860626Z",
     "iopub.status.idle": "2022-04-14T18:33:10.137943Z",
     "shell.execute_reply": "2022-04-14T18:33:10.137225Z",
     "shell.execute_reply.started": "2022-04-14T18:33:09.863481Z"
    }
   },
   "outputs": [],
   "source": [
    "df['Heating'] = df['Heating'].apply(lambda x: x \n",
    "                                            if x in ind_Heat else 'other')"
   ]
  },
  {
   "cell_type": "code",
   "execution_count": 193,
   "metadata": {
    "execution": {
     "iopub.execute_input": "2022-04-14T18:33:10.139577Z",
     "iopub.status.busy": "2022-04-14T18:33:10.139306Z",
     "iopub.status.idle": "2022-04-14T18:33:10.187728Z",
     "shell.execute_reply": "2022-04-14T18:33:10.187070Z",
     "shell.execute_reply.started": "2022-04-14T18:33:10.139541Z"
    }
   },
   "outputs": [],
   "source": [
    "df['Heating'].value_counts()"
   ]
  },
  {
   "cell_type": "code",
   "execution_count": null,
   "metadata": {},
   "outputs": [],
   "source": []
  },
  {
   "cell_type": "markdown",
   "metadata": {},
   "source": [
    "#### Признак 'Cooling' отдельно"
   ]
  },
  {
   "cell_type": "code",
   "execution_count": 194,
   "metadata": {
    "execution": {
     "iopub.execute_input": "2022-04-14T18:33:10.189459Z",
     "iopub.status.busy": "2022-04-14T18:33:10.188792Z",
     "iopub.status.idle": "2022-04-14T18:33:10.245611Z",
     "shell.execute_reply": "2022-04-14T18:33:10.244817Z",
     "shell.execute_reply.started": "2022-04-14T18:33:10.189418Z"
    }
   },
   "outputs": [],
   "source": [
    "df['Cooling'].value_counts()"
   ]
  },
  {
   "cell_type": "code",
   "execution_count": 195,
   "metadata": {
    "execution": {
     "iopub.execute_input": "2022-04-14T18:33:10.247116Z",
     "iopub.status.busy": "2022-04-14T18:33:10.246806Z",
     "iopub.status.idle": "2022-04-14T18:33:10.250624Z",
     "shell.execute_reply": "2022-04-14T18:33:10.249857Z",
     "shell.execute_reply.started": "2022-04-14T18:33:10.247079Z"
    }
   },
   "outputs": [],
   "source": [
    "# df['Cooling'].value_counts().index.tolist()"
   ]
  },
  {
   "cell_type": "code",
   "execution_count": 196,
   "metadata": {
    "execution": {
     "iopub.execute_input": "2022-04-14T18:33:10.252225Z",
     "iopub.status.busy": "2022-04-14T18:33:10.251971Z",
     "iopub.status.idle": "2022-04-14T18:33:11.063578Z",
     "shell.execute_reply": "2022-04-14T18:33:11.062749Z",
     "shell.execute_reply.started": "2022-04-14T18:33:10.252189Z"
    }
   },
   "outputs": [],
   "source": [
    "df['Cooling'] = df['Cooling'].apply(parsing)"
   ]
  },
  {
   "cell_type": "code",
   "execution_count": 197,
   "metadata": {
    "execution": {
     "iopub.execute_input": "2022-04-14T18:33:11.065017Z",
     "iopub.status.busy": "2022-04-14T18:33:11.064744Z",
     "iopub.status.idle": "2022-04-14T18:33:11.147595Z",
     "shell.execute_reply": "2022-04-14T18:33:11.146806Z",
     "shell.execute_reply.started": "2022-04-14T18:33:11.064982Z"
    }
   },
   "outputs": [],
   "source": [
    "df['Cooling'].value_counts().index.tolist()"
   ]
  },
  {
   "cell_type": "code",
   "execution_count": 198,
   "metadata": {
    "execution": {
     "iopub.execute_input": "2022-04-14T18:33:11.149177Z",
     "iopub.status.busy": "2022-04-14T18:33:11.148859Z",
     "iopub.status.idle": "2022-04-14T18:33:11.162259Z",
     "shell.execute_reply": "2022-04-14T18:33:11.161454Z",
     "shell.execute_reply.started": "2022-04-14T18:33:11.149140Z"
    }
   },
   "outputs": [],
   "source": [
    "fnd =['Air Conditioning','Air Conditionings','Air Conditioner','Air Conditioners','A/C','Ac']\n",
    "name_change = ['Central Air','Hot Air','Window Unit','Refrigeration','Air Purification System',\n",
    "               'Common Heating/Cooling', 'Zoned','Baseboard','Wall','Other','No']\n",
    "def dop_Cool(x):\n",
    "    x = x.strip()\n",
    "    x = x.replace('Fan S', 'Fan')\n",
    "    x = x.replace('Unit S', 'Unit')\n",
    "    for i in range(0, len(fnd)):\n",
    "        x = x.replace(fnd[i], 'Air Conditioning')\n",
    "    if -1!=x.find('Air Conditioning'):\n",
    "        x='Air Conditioning'\n",
    "    if -1!=x.find('Central') and -1==x.find('Air'):\n",
    "        x='Central Air'\n",
    "    for i in range(0, len(name_change)):\n",
    "        if -1!=x.find(name_change[i]):\n",
    "            x = name_change[i]\n",
    "    if -1!=x.find('Central') and -1!=x.find('Electric'):\n",
    "        x='Central Electric'\n",
    "    if -1!=x.find('Central') and -1!=x.find('Gas'):\n",
    "        x='Central Gas'\n",
    "    if x== 'Electric':\n",
    "        x='Central Electric'\n",
    "    if -1!=x.find('Heat Pump') or -1!=x.find('Forced Air'):\n",
    "        x='Forced Air'\n",
    "    if -1!=x.find('Window') and -1==x.find('Unit'):\n",
    "        x = 'Window Unit'\n",
    "    if -1!=x.find('Ceiling'):   \n",
    "        x = 'Ceiling Fan'\n",
    "    if -1!=x.find('Air Purification System'):    \n",
    "        x = 'Air Purification System'\n",
    "    if -1!=x.find('Evaporative'):    \n",
    "        x = 'Evaporative Cooling'\n",
    "    return x"
   ]
  },
  {
   "cell_type": "code",
   "execution_count": 199,
   "metadata": {
    "execution": {
     "iopub.execute_input": "2022-04-14T18:33:11.163290Z",
     "iopub.status.busy": "2022-04-14T18:33:11.163113Z",
     "iopub.status.idle": "2022-04-14T18:33:13.202691Z",
     "shell.execute_reply": "2022-04-14T18:33:13.201950Z",
     "shell.execute_reply.started": "2022-04-14T18:33:11.163267Z"
    }
   },
   "outputs": [],
   "source": [
    "df['Cooling'] = df['Cooling'].apply(dop_Cool)"
   ]
  },
  {
   "cell_type": "code",
   "execution_count": 200,
   "metadata": {
    "execution": {
     "iopub.execute_input": "2022-04-14T18:33:13.204197Z",
     "iopub.status.busy": "2022-04-14T18:33:13.203958Z",
     "iopub.status.idle": "2022-04-14T18:33:13.244929Z",
     "shell.execute_reply": "2022-04-14T18:33:13.244264Z",
     "shell.execute_reply.started": "2022-04-14T18:33:13.204166Z"
    }
   },
   "outputs": [],
   "source": [
    "df['Cooling'].value_counts()"
   ]
  },
  {
   "cell_type": "code",
   "execution_count": 201,
   "metadata": {
    "execution": {
     "iopub.execute_input": "2022-04-14T18:33:13.246579Z",
     "iopub.status.busy": "2022-04-14T18:33:13.246138Z",
     "iopub.status.idle": "2022-04-14T18:33:13.252896Z",
     "shell.execute_reply": "2022-04-14T18:33:13.252198Z",
     "shell.execute_reply.started": "2022-04-14T18:33:13.246542Z"
    }
   },
   "outputs": [],
   "source": [
    "# df['Cooling'].value_counts().index.tolist()"
   ]
  },
  {
   "cell_type": "markdown",
   "metadata": {},
   "source": [
    "Все остальные значения после  с признака 'Zoned' отнесем к 'Other'\n",
    "Непонятно, почему-то в признаке 'Cooling' данные чаще всего описывают о теплоснабжении!?\n",
    "Предполагается,что некоторые установки для тепла также используются для охлаждения.\n",
    "Данные приведены к удобному виду для категоризации данных, по возможности."
   ]
  },
  {
   "cell_type": "code",
   "execution_count": 202,
   "metadata": {
    "execution": {
     "iopub.execute_input": "2022-04-14T18:33:13.254897Z",
     "iopub.status.busy": "2022-04-14T18:33:13.254132Z",
     "iopub.status.idle": "2022-04-14T18:33:13.298439Z",
     "shell.execute_reply": "2022-04-14T18:33:13.297741Z",
     "shell.execute_reply.started": "2022-04-14T18:33:13.254862Z"
    }
   },
   "outputs": [],
   "source": [
    "ind_Cool = df['Cooling'].value_counts()['Zoned':].index\n",
    "ind_Cool"
   ]
  },
  {
   "cell_type": "code",
   "execution_count": 203,
   "metadata": {
    "execution": {
     "iopub.execute_input": "2022-04-14T18:33:13.299791Z",
     "iopub.status.busy": "2022-04-14T18:33:13.299549Z",
     "iopub.status.idle": "2022-04-14T18:33:13.538222Z",
     "shell.execute_reply": "2022-04-14T18:33:13.537588Z",
     "shell.execute_reply.started": "2022-04-14T18:33:13.299758Z"
    }
   },
   "outputs": [],
   "source": [
    "df['Cooling'] = df['Cooling'].apply(lambda x: x if x in ind_Cool else 'Other')"
   ]
  },
  {
   "cell_type": "code",
   "execution_count": 204,
   "metadata": {
    "execution": {
     "iopub.execute_input": "2022-04-14T18:33:13.539658Z",
     "iopub.status.busy": "2022-04-14T18:33:13.539410Z",
     "iopub.status.idle": "2022-04-14T18:33:13.579031Z",
     "shell.execute_reply": "2022-04-14T18:33:13.578377Z",
     "shell.execute_reply.started": "2022-04-14T18:33:13.539623Z"
    }
   },
   "outputs": [],
   "source": [
    "df['Cooling'].value_counts()['Zoned':].sum()"
   ]
  },
  {
   "cell_type": "code",
   "execution_count": 205,
   "metadata": {
    "execution": {
     "iopub.execute_input": "2022-04-14T18:33:13.580728Z",
     "iopub.status.busy": "2022-04-14T18:33:13.580130Z",
     "iopub.status.idle": "2022-04-14T18:33:13.622451Z",
     "shell.execute_reply": "2022-04-14T18:33:13.621576Z",
     "shell.execute_reply.started": "2022-04-14T18:33:13.580692Z"
    }
   },
   "outputs": [],
   "source": [
    "df['Cooling'].value_counts()['Other']"
   ]
  },
  {
   "cell_type": "code",
   "execution_count": 206,
   "metadata": {
    "execution": {
     "iopub.execute_input": "2022-04-14T18:33:13.623949Z",
     "iopub.status.busy": "2022-04-14T18:33:13.623706Z",
     "iopub.status.idle": "2022-04-14T18:33:13.631034Z",
     "shell.execute_reply": "2022-04-14T18:33:13.630376Z",
     "shell.execute_reply.started": "2022-04-14T18:33:13.623914Z"
    }
   },
   "outputs": [],
   "source": [
    "# df['Heating_Cooling'] = df['Heating']+', '+df['Cooling']\n",
    "# df['Heating_Cooling'] = df['Heating_Cooling'].apply(parsing)"
   ]
  },
  {
   "cell_type": "code",
   "execution_count": 207,
   "metadata": {
    "execution": {
     "iopub.execute_input": "2022-04-14T18:33:13.632600Z",
     "iopub.status.busy": "2022-04-14T18:33:13.632308Z",
     "iopub.status.idle": "2022-04-14T18:33:13.639294Z",
     "shell.execute_reply": "2022-04-14T18:33:13.638611Z",
     "shell.execute_reply.started": "2022-04-14T18:33:13.632564Z"
    }
   },
   "outputs": [],
   "source": [
    "# df['Heating_Cooling'].value_counts()"
   ]
  },
  {
   "cell_type": "code",
   "execution_count": 208,
   "metadata": {
    "execution": {
     "iopub.execute_input": "2022-04-14T18:33:13.641333Z",
     "iopub.status.busy": "2022-04-14T18:33:13.640737Z",
     "iopub.status.idle": "2022-04-14T18:33:13.647125Z",
     "shell.execute_reply": "2022-04-14T18:33:13.646438Z",
     "shell.execute_reply.started": "2022-04-14T18:33:13.641274Z"
    }
   },
   "outputs": [],
   "source": [
    "# df['Heating_Cooling'].value_counts().index.tolist()"
   ]
  },
  {
   "cell_type": "code",
   "execution_count": null,
   "metadata": {},
   "outputs": [],
   "source": []
  },
  {
   "cell_type": "markdown",
   "metadata": {},
   "source": [
    "#### Признак \"schools\""
   ]
  },
  {
   "cell_type": "markdown",
   "metadata": {},
   "source": [
    "Признак \"schools\" как и признак \"homeFacts\" также  содержит  отдельные данные, имеющие влияние на оценку недвижимости (дома, квартиры). Поэтому выделим эти данные. Для этого также приведем содежимое данного признака к формату .json и сформируем новые признаки."
   ]
  },
  {
   "cell_type": "code",
   "execution_count": 209,
   "metadata": {
    "execution": {
     "iopub.execute_input": "2022-04-14T18:33:13.648834Z",
     "iopub.status.busy": "2022-04-14T18:33:13.648509Z",
     "iopub.status.idle": "2022-04-14T18:33:13.654885Z",
     "shell.execute_reply": "2022-04-14T18:33:13.654159Z",
     "shell.execute_reply.started": "2022-04-14T18:33:13.648790Z"
    }
   },
   "outputs": [],
   "source": [
    "# df['schools']=data['schools']"
   ]
  },
  {
   "cell_type": "code",
   "execution_count": 210,
   "metadata": {
    "execution": {
     "iopub.execute_input": "2022-04-14T18:33:13.655958Z",
     "iopub.status.busy": "2022-04-14T18:33:13.655770Z",
     "iopub.status.idle": "2022-04-14T18:33:13.847828Z",
     "shell.execute_reply": "2022-04-14T18:33:13.847099Z",
     "shell.execute_reply.started": "2022-04-14T18:33:13.655928Z"
    }
   },
   "outputs": [],
   "source": [
    "df['schools'] = df['schools'].apply(lambda x: x.replace('None', '0'))"
   ]
  },
  {
   "cell_type": "code",
   "execution_count": 211,
   "metadata": {
    "execution": {
     "iopub.execute_input": "2022-04-14T18:33:13.849302Z",
     "iopub.status.busy": "2022-04-14T18:33:13.849060Z",
     "iopub.status.idle": "2022-04-14T18:33:14.150551Z",
     "shell.execute_reply": "2022-04-14T18:33:14.149724Z",
     "shell.execute_reply.started": "2022-04-14T18:33:13.849268Z"
    }
   },
   "outputs": [],
   "source": [
    "df['schools'].value_counts()"
   ]
  },
  {
   "cell_type": "code",
   "execution_count": 212,
   "metadata": {
    "execution": {
     "iopub.execute_input": "2022-04-14T18:33:14.152143Z",
     "iopub.status.busy": "2022-04-14T18:33:14.151832Z",
     "iopub.status.idle": "2022-04-14T18:33:14.156139Z",
     "shell.execute_reply": "2022-04-14T18:33:14.155216Z",
     "shell.execute_reply.started": "2022-04-14T18:33:14.152104Z"
    }
   },
   "outputs": [],
   "source": [
    "# df['schools'].value_counts().index.tolist()"
   ]
  },
  {
   "cell_type": "markdown",
   "metadata": {
    "execution": {
     "iopub.execute_input": "2022-02-07T18:45:15.717287Z",
     "iopub.status.busy": "2022-02-07T18:45:15.716654Z",
     "iopub.status.idle": "2022-02-07T18:45:15.72627Z",
     "shell.execute_reply": "2022-02-07T18:45:15.725142Z",
     "shell.execute_reply.started": "2022-02-07T18:45:15.717253Z"
    }
   },
   "source": [
    "Предварительный обзор данных показывает необходимость подробного парсинга признака. В ручную подберем символов, подлежащие изменению."
   ]
  },
  {
   "cell_type": "code",
   "execution_count": 213,
   "metadata": {
    "execution": {
     "iopub.execute_input": "2022-04-14T18:33:14.157849Z",
     "iopub.status.busy": "2022-04-14T18:33:14.157447Z",
     "iopub.status.idle": "2022-04-14T18:33:14.168068Z",
     "shell.execute_reply": "2022-04-14T18:33:14.167438Z",
     "shell.execute_reply.started": "2022-04-14T18:33:14.157806Z"
    }
   },
   "outputs": [],
   "source": [
    "# Просмотр строк с апострофом среди текста, например, \"Lil\\' Wonders Development Center Private School\" \n",
    "ss = df['schools'].loc[1485]\n",
    "ss"
   ]
  },
  {
   "cell_type": "code",
   "execution_count": 214,
   "metadata": {
    "execution": {
     "iopub.execute_input": "2022-04-14T18:33:14.169856Z",
     "iopub.status.busy": "2022-04-14T18:33:14.169311Z",
     "iopub.status.idle": "2022-04-14T18:33:14.177481Z",
     "shell.execute_reply": "2022-04-14T18:33:14.176830Z",
     "shell.execute_reply.started": "2022-04-14T18:33:14.169809Z"
    }
   },
   "outputs": [],
   "source": [
    "old = [\"O\\'\", \" O`,\",  \"'s\", \"\\'Duke\\'\", \"B\\'Nai\", \"B\\'inai\",  \"L\\'Ouver\", \"L\\'ouver\",  \"L\\'Banos\", \"L\\'Dovid\", \n",
    "              \"Lil\\'\", \"D\\'\",  \"d\\'Evelyn\", \"Q\\'\", \"Loggers\\'\", \"Teach N\\'\",  \"K\\'Tana\", \"R&D`\",  \"Citizens\\'\",  \"Kids\\'\", \n",
    "              \"Girls\\' \", \"d\\'Chassidei\", \"d\\'Gur\", \"d\\'Rav\", \"Pe\\'Er\", \"Be\\'Er\", \"Kids \\'R\\' Kids\", \"\\'joe\\' \", \n",
    "              \"Meadow\\'S\", \"Sheriff\\'S\", \"Friends\\' \", \"\\'Mother\\'\", \"Int\\'L\", \"\\'buddy\\'\"]\n",
    "new = ['O`',  \" O\\', \", '`s', '`Duke`', 'B`Nai', 'B`inai',  'L`Ouver', 'L`Ouver', 'L`Banos', 'L`Dovid', \n",
    "              'Lil`', 'D`', 'd`Evelyn', 'Q`', 'Loggers`', 'Teach N`', 'K`Tana', \"R&D\\'\",   'Citizens`', 'Kids`', \n",
    "              'Girls` ',  'd`Chassidei','d`Gur', 'd`Rav', 'Pe`Er', 'Be`Er', 'Kids `R` Kids', '`joe` ', \n",
    "              'Meadow`S', 'Sheriff`S', 'Friends` ', '`Mother`', 'Int`L', '`buddy`']"
   ]
  },
  {
   "cell_type": "code",
   "execution_count": 215,
   "metadata": {
    "execution": {
     "iopub.execute_input": "2022-04-14T18:33:14.179195Z",
     "iopub.status.busy": "2022-04-14T18:33:14.178751Z",
     "iopub.status.idle": "2022-04-14T18:33:22.027588Z",
     "shell.execute_reply": "2022-04-14T18:33:22.026833Z",
     "shell.execute_reply.started": "2022-04-14T18:33:14.179158Z"
    }
   },
   "outputs": [],
   "source": [
    "for i in range(0,len(old)):\n",
    "    df['schools'] = df['schools'].apply(lambda x: x.replace(old[i], new[i]))\n",
    "\n",
    "df['schools'] = df['schools'].apply(lambda x: x.replace(\"'\",'\"'))"
   ]
  },
  {
   "cell_type": "code",
   "execution_count": 216,
   "metadata": {
    "execution": {
     "iopub.execute_input": "2022-04-14T18:33:22.029203Z",
     "iopub.status.busy": "2022-04-14T18:33:22.028957Z",
     "iopub.status.idle": "2022-04-14T18:33:22.038011Z",
     "shell.execute_reply": "2022-04-14T18:33:22.037122Z",
     "shell.execute_reply.started": "2022-04-14T18:33:22.029169Z"
    }
   },
   "outputs": [],
   "source": [
    "# Проверка после преобразования отдельных строк с неправильными данными\n",
    "ss = df['schools'].loc[1485]\n",
    "sa = json.loads(ss)\n",
    "sa"
   ]
  },
  {
   "cell_type": "code",
   "execution_count": 217,
   "metadata": {
    "execution": {
     "iopub.execute_input": "2022-04-14T18:33:22.039744Z",
     "iopub.status.busy": "2022-04-14T18:33:22.039468Z",
     "iopub.status.idle": "2022-04-14T18:33:22.049812Z",
     "shell.execute_reply": "2022-04-14T18:33:22.049108Z",
     "shell.execute_reply.started": "2022-04-14T18:33:22.039691Z"
    }
   },
   "outputs": [],
   "source": [
    "ss = df['schools'].loc[1492][1:len(df['schools'][1492])-1]\n",
    "sa = json.loads(ss)\n",
    "sa"
   ]
  },
  {
   "cell_type": "code",
   "execution_count": 218,
   "metadata": {
    "execution": {
     "iopub.execute_input": "2022-04-14T18:33:22.051609Z",
     "iopub.status.busy": "2022-04-14T18:33:22.051303Z",
     "iopub.status.idle": "2022-04-14T18:33:32.548505Z",
     "shell.execute_reply": "2022-04-14T18:33:32.547686Z",
     "shell.execute_reply.started": "2022-04-14T18:33:22.051574Z"
    }
   },
   "outputs": [],
   "source": [
    "# Для проверки правильности парсинга признака 'schools' в json формат\n",
    "for i in range(0,len(df)):\n",
    "    ss = df['schools'].loc[i][1:len(df['schools'][i])-1]\n",
    "    try:\n",
    "        sa = json.loads(ss)\n",
    "    except:\n",
    "        print(i)"
   ]
  },
  {
   "cell_type": "markdown",
   "metadata": {},
   "source": [
    "Создание новых признаков из признака 'schools'"
   ]
  },
  {
   "cell_type": "code",
   "execution_count": null,
   "metadata": {},
   "outputs": [],
   "source": []
  },
  {
   "cell_type": "code",
   "execution_count": 219,
   "metadata": {
    "execution": {
     "iopub.execute_input": "2022-04-14T18:33:32.550014Z",
     "iopub.status.busy": "2022-04-14T18:33:32.549694Z",
     "iopub.status.idle": "2022-04-14T18:33:32.559106Z",
     "shell.execute_reply": "2022-04-14T18:33:32.558353Z",
     "shell.execute_reply.started": "2022-04-14T18:33:32.549976Z"
    }
   },
   "outputs": [],
   "source": [
    "def app_schools(x,k):\n",
    "    js = json.loads(x[1:len(x)-1])\n",
    "    if k==0:\n",
    "        return js['rating']\n",
    "    if k==1:\n",
    "        return js['data']['Distance']\n",
    "    if k==2:\n",
    "        return js['data']['Grades']\n",
    "    if k==3:\n",
    "        return js['name']"
   ]
  },
  {
   "cell_type": "code",
   "execution_count": 220,
   "metadata": {
    "execution": {
     "iopub.execute_input": "2022-04-14T18:33:32.562435Z",
     "iopub.status.busy": "2022-04-14T18:33:32.561601Z",
     "iopub.status.idle": "2022-04-14T18:33:44.894818Z",
     "shell.execute_reply": "2022-04-14T18:33:44.894071Z",
     "shell.execute_reply.started": "2022-04-14T18:33:32.562400Z"
    }
   },
   "outputs": [],
   "source": [
    "df['schools_rating'] = df['schools'].apply(lambda x: app_schools(x,0))\n",
    "df['schools_Distance'] = df['schools'].apply(lambda x: app_schools(x,1))\n",
    "df['schools_Grades'] = df['schools'].apply(lambda x: app_schools(x,2))\n",
    "df['schools_name'] = df['schools'].apply(lambda x: app_schools(x,3))"
   ]
  },
  {
   "cell_type": "code",
   "execution_count": null,
   "metadata": {},
   "outputs": [],
   "source": []
  },
  {
   "cell_type": "markdown",
   "metadata": {},
   "source": [
    "#### Новые признаки  анализируются по отдельности\n",
    "'schools_rating', 'schools_Distance', 'schools_Grades', 'schools_name'"
   ]
  },
  {
   "cell_type": "markdown",
   "metadata": {},
   "source": [
    "Сперва посчитаем количества школ и создаем отдельный признак \"school_count\""
   ]
  },
  {
   "cell_type": "code",
   "execution_count": 221,
   "metadata": {
    "execution": {
     "iopub.execute_input": "2022-04-14T18:33:44.896100Z",
     "iopub.status.busy": "2022-04-14T18:33:44.895868Z",
     "iopub.status.idle": "2022-04-14T18:33:45.081800Z",
     "shell.execute_reply": "2022-04-14T18:33:45.081098Z",
     "shell.execute_reply.started": "2022-04-14T18:33:44.896067Z"
    }
   },
   "outputs": [],
   "source": [
    "df['school_count'] = df['schools_rating'].apply(lambda x: len(x))"
   ]
  },
  {
   "cell_type": "code",
   "execution_count": 222,
   "metadata": {
    "execution": {
     "iopub.execute_input": "2022-04-14T18:33:45.083536Z",
     "iopub.status.busy": "2022-04-14T18:33:45.083252Z",
     "iopub.status.idle": "2022-04-14T18:33:45.091286Z",
     "shell.execute_reply": "2022-04-14T18:33:45.090656Z",
     "shell.execute_reply.started": "2022-04-14T18:33:45.083500Z"
    }
   },
   "outputs": [],
   "source": [
    "df['school_count'].value_counts()"
   ]
  },
  {
   "cell_type": "code",
   "execution_count": 223,
   "metadata": {
    "execution": {
     "iopub.execute_input": "2022-04-14T18:33:45.092890Z",
     "iopub.status.busy": "2022-04-14T18:33:45.092518Z",
     "iopub.status.idle": "2022-04-14T18:33:45.105145Z",
     "shell.execute_reply": "2022-04-14T18:33:45.104439Z",
     "shell.execute_reply.started": "2022-04-14T18:33:45.092857Z"
    }
   },
   "outputs": [],
   "source": [
    "df['school_count'].value_counts().index.tolist()"
   ]
  },
  {
   "cell_type": "markdown",
   "metadata": {},
   "source": [
    "##### Признак  'schools_rating'"
   ]
  },
  {
   "cell_type": "code",
   "execution_count": 224,
   "metadata": {
    "execution": {
     "iopub.execute_input": "2022-04-14T18:33:45.106955Z",
     "iopub.status.busy": "2022-04-14T18:33:45.106304Z",
     "iopub.status.idle": "2022-04-14T18:33:45.120576Z",
     "shell.execute_reply": "2022-04-14T18:33:45.119916Z",
     "shell.execute_reply.started": "2022-04-14T18:33:45.106921Z"
    }
   },
   "outputs": [],
   "source": [
    "# Вычисляется средний рейтинг школ\n",
    "df['schools_rating']"
   ]
  },
  {
   "cell_type": "code",
   "execution_count": 225,
   "metadata": {
    "execution": {
     "iopub.execute_input": "2022-04-14T18:33:45.122704Z",
     "iopub.status.busy": "2022-04-14T18:33:45.121841Z",
     "iopub.status.idle": "2022-04-14T18:33:45.126548Z",
     "shell.execute_reply": "2022-04-14T18:33:45.125638Z",
     "shell.execute_reply.started": "2022-04-14T18:33:45.122666Z"
    }
   },
   "outputs": [],
   "source": [
    "# df['schools_rating'].value_counts().index.tolist()"
   ]
  },
  {
   "cell_type": "code",
   "execution_count": 226,
   "metadata": {
    "execution": {
     "iopub.execute_input": "2022-04-14T18:33:45.128655Z",
     "iopub.status.busy": "2022-04-14T18:33:45.128117Z",
     "iopub.status.idle": "2022-04-14T18:33:45.135669Z",
     "shell.execute_reply": "2022-04-14T18:33:45.135015Z",
     "shell.execute_reply.started": "2022-04-14T18:33:45.128620Z"
    }
   },
   "outputs": [],
   "source": [
    "def rait_ch(x):\n",
    "    count = len(x)\n",
    "    c = 0\n",
    "    s = 0\n",
    "    for i in range(0, len(x)):\n",
    "        x[i]=x[i].replace('/10', '')\n",
    "        if x[i].isdigit():\n",
    "            s+=int(x[i])\n",
    "            c+=1\n",
    "    if c!=0:\n",
    "        s = round(s/c, 2)\n",
    "    else:\n",
    "        s = 0\n",
    "    return s"
   ]
  },
  {
   "cell_type": "code",
   "execution_count": 227,
   "metadata": {
    "execution": {
     "iopub.execute_input": "2022-04-14T18:33:45.137628Z",
     "iopub.status.busy": "2022-04-14T18:33:45.137305Z",
     "iopub.status.idle": "2022-04-14T18:33:46.518103Z",
     "shell.execute_reply": "2022-04-14T18:33:46.517312Z",
     "shell.execute_reply.started": "2022-04-14T18:33:45.137594Z"
    }
   },
   "outputs": [],
   "source": [
    "df['schools_rating'] = df['schools_rating'].apply(rait_ch)"
   ]
  },
  {
   "cell_type": "code",
   "execution_count": 228,
   "metadata": {
    "execution": {
     "iopub.execute_input": "2022-04-14T18:33:46.521445Z",
     "iopub.status.busy": "2022-04-14T18:33:46.519339Z",
     "iopub.status.idle": "2022-04-14T18:33:46.525943Z",
     "shell.execute_reply": "2022-04-14T18:33:46.525119Z",
     "shell.execute_reply.started": "2022-04-14T18:33:46.521411Z"
    }
   },
   "outputs": [],
   "source": [
    "# df['schools_rating'].value_counts().index.tolist()"
   ]
  },
  {
   "cell_type": "code",
   "execution_count": 229,
   "metadata": {
    "execution": {
     "iopub.execute_input": "2022-04-14T18:33:46.528366Z",
     "iopub.status.busy": "2022-04-14T18:33:46.527443Z",
     "iopub.status.idle": "2022-04-14T18:33:46.542144Z",
     "shell.execute_reply": "2022-04-14T18:33:46.541213Z",
     "shell.execute_reply.started": "2022-04-14T18:33:46.528313Z"
    }
   },
   "outputs": [],
   "source": [
    "df['schools_rating'].value_counts()"
   ]
  },
  {
   "cell_type": "code",
   "execution_count": null,
   "metadata": {},
   "outputs": [],
   "source": []
  },
  {
   "cell_type": "markdown",
   "metadata": {},
   "source": [
    "##### Признак  'schools_Distance'"
   ]
  },
  {
   "cell_type": "code",
   "execution_count": 230,
   "metadata": {
    "execution": {
     "iopub.execute_input": "2022-04-14T18:33:46.544094Z",
     "iopub.status.busy": "2022-04-14T18:33:46.543657Z",
     "iopub.status.idle": "2022-04-14T18:33:46.555151Z",
     "shell.execute_reply": "2022-04-14T18:33:46.554443Z",
     "shell.execute_reply.started": "2022-04-14T18:33:46.544056Z"
    }
   },
   "outputs": [],
   "source": [
    "# Вычисляется средняя дистанция до школ\n",
    "df['schools_Distance']"
   ]
  },
  {
   "cell_type": "code",
   "execution_count": 231,
   "metadata": {
    "execution": {
     "iopub.execute_input": "2022-04-14T18:33:46.557046Z",
     "iopub.status.busy": "2022-04-14T18:33:46.556766Z",
     "iopub.status.idle": "2022-04-14T18:33:46.563076Z",
     "shell.execute_reply": "2022-04-14T18:33:46.562426Z",
     "shell.execute_reply.started": "2022-04-14T18:33:46.557011Z"
    }
   },
   "outputs": [],
   "source": [
    "def dist_ch(x):\n",
    "    count = len(x)\n",
    "    c = 0\n",
    "    s = 0\n",
    "    for i in range(0, len(x)):\n",
    "        x[i]=x[i].replace('mi', '')\n",
    "        if float(x[i]):\n",
    "            s+=float(x[i])\n",
    "            c+=1\n",
    "    if c!=0:\n",
    "        s = round(s/c, 2)\n",
    "    else:\n",
    "        s = 0\n",
    "    return s"
   ]
  },
  {
   "cell_type": "code",
   "execution_count": 232,
   "metadata": {
    "execution": {
     "iopub.execute_input": "2022-04-14T18:33:46.564928Z",
     "iopub.status.busy": "2022-04-14T18:33:46.564480Z",
     "iopub.status.idle": "2022-04-14T18:33:48.292158Z",
     "shell.execute_reply": "2022-04-14T18:33:48.291434Z",
     "shell.execute_reply.started": "2022-04-14T18:33:46.564889Z"
    }
   },
   "outputs": [],
   "source": [
    "df['schools_Distance'] = df['schools_Distance'].apply(dist_ch)"
   ]
  },
  {
   "cell_type": "code",
   "execution_count": 233,
   "metadata": {
    "execution": {
     "iopub.execute_input": "2022-04-14T18:33:48.293758Z",
     "iopub.status.busy": "2022-04-14T18:33:48.293304Z",
     "iopub.status.idle": "2022-04-14T18:33:48.297529Z",
     "shell.execute_reply": "2022-04-14T18:33:48.296865Z",
     "shell.execute_reply.started": "2022-04-14T18:33:48.293717Z"
    }
   },
   "outputs": [],
   "source": [
    "# df['schools_Distance'].value_counts().index.tolist()"
   ]
  },
  {
   "cell_type": "code",
   "execution_count": 234,
   "metadata": {
    "execution": {
     "iopub.execute_input": "2022-04-14T18:33:48.299282Z",
     "iopub.status.busy": "2022-04-14T18:33:48.298602Z",
     "iopub.status.idle": "2022-04-14T18:33:48.310285Z",
     "shell.execute_reply": "2022-04-14T18:33:48.309549Z",
     "shell.execute_reply.started": "2022-04-14T18:33:48.299242Z"
    }
   },
   "outputs": [],
   "source": [
    "df['schools_Distance']"
   ]
  },
  {
   "cell_type": "markdown",
   "metadata": {},
   "source": [
    "##### Признак  'schools_Grades'"
   ]
  },
  {
   "cell_type": "code",
   "execution_count": 235,
   "metadata": {
    "execution": {
     "iopub.execute_input": "2022-04-14T18:33:48.312024Z",
     "iopub.status.busy": "2022-04-14T18:33:48.311652Z",
     "iopub.status.idle": "2022-04-14T18:33:48.323069Z",
     "shell.execute_reply": "2022-04-14T18:33:48.322343Z",
     "shell.execute_reply.started": "2022-04-14T18:33:48.311989Z"
    }
   },
   "outputs": [],
   "source": [
    "df['schools_Grades']"
   ]
  },
  {
   "cell_type": "code",
   "execution_count": 236,
   "metadata": {
    "execution": {
     "iopub.execute_input": "2022-04-14T18:33:48.324486Z",
     "iopub.status.busy": "2022-04-14T18:33:48.324177Z",
     "iopub.status.idle": "2022-04-14T18:34:26.237597Z",
     "shell.execute_reply": "2022-04-14T18:34:26.236944Z",
     "shell.execute_reply.started": "2022-04-14T18:33:48.324450Z"
    }
   },
   "outputs": [],
   "source": [
    "df['schools_Grades'].value_counts()"
   ]
  },
  {
   "cell_type": "code",
   "execution_count": 237,
   "metadata": {
    "execution": {
     "iopub.execute_input": "2022-04-14T18:34:26.243174Z",
     "iopub.status.busy": "2022-04-14T18:34:26.241029Z",
     "iopub.status.idle": "2022-04-14T18:34:26.250816Z",
     "shell.execute_reply": "2022-04-14T18:34:26.250180Z",
     "shell.execute_reply.started": "2022-04-14T18:34:26.243131Z"
    }
   },
   "outputs": [],
   "source": [
    "# Для приведения к единой структуре данных \n",
    "def change_to(x):\n",
    "    if len(x)!=0:\n",
    "        for i in range(0, len(x)):\n",
    "            try:\n",
    "                x[i] = str(x[i].replace(' to ','-'))\n",
    "            except:\n",
    "                if x[i]==0: x[i]='0'\n",
    "                else: print(x)\n",
    "    else:\n",
    "        x = []\n",
    "    return x"
   ]
  },
  {
   "cell_type": "code",
   "execution_count": 238,
   "metadata": {
    "execution": {
     "iopub.execute_input": "2022-04-14T18:34:26.255212Z",
     "iopub.status.busy": "2022-04-14T18:34:26.254903Z",
     "iopub.status.idle": "2022-04-14T18:34:26.992011Z",
     "shell.execute_reply": "2022-04-14T18:34:26.991279Z",
     "shell.execute_reply.started": "2022-04-14T18:34:26.255173Z"
    }
   },
   "outputs": [],
   "source": [
    "df['schools_Grades'] = df['schools_Grades'].apply(change_to)"
   ]
  },
  {
   "cell_type": "code",
   "execution_count": 239,
   "metadata": {
    "execution": {
     "iopub.execute_input": "2022-04-14T18:34:26.993669Z",
     "iopub.status.busy": "2022-04-14T18:34:26.993422Z",
     "iopub.status.idle": "2022-04-14T18:35:04.902930Z",
     "shell.execute_reply": "2022-04-14T18:35:04.902284Z",
     "shell.execute_reply.started": "2022-04-14T18:34:26.993636Z"
    }
   },
   "outputs": [],
   "source": [
    "df['schools_Grades'].value_counts()"
   ]
  },
  {
   "cell_type": "code",
   "execution_count": 240,
   "metadata": {
    "execution": {
     "iopub.execute_input": "2022-04-14T18:35:04.904496Z",
     "iopub.status.busy": "2022-04-14T18:35:04.904215Z",
     "iopub.status.idle": "2022-04-14T18:35:04.908773Z",
     "shell.execute_reply": "2022-04-14T18:35:04.908048Z",
     "shell.execute_reply.started": "2022-04-14T18:35:04.904461Z"
    }
   },
   "outputs": [],
   "source": [
    "# df['schools_Grades'].value_counts().index.tolist()"
   ]
  },
  {
   "cell_type": "markdown",
   "metadata": {},
   "source": [
    "Цель преобразования:  данные признака  привести к форму \n",
    "\n",
    "\"Самое младшее образовательное учреждение\" - \"Самое старшое образовательное учреждение\""
   ]
  },
  {
   "cell_type": "code",
   "execution_count": 241,
   "metadata": {
    "execution": {
     "iopub.execute_input": "2022-04-14T18:35:04.911037Z",
     "iopub.status.busy": "2022-04-14T18:35:04.910136Z",
     "iopub.status.idle": "2022-04-14T18:35:11.069752Z",
     "shell.execute_reply": "2022-04-14T18:35:11.069019Z",
     "shell.execute_reply.started": "2022-04-14T18:35:04.911001Z"
    }
   },
   "outputs": [],
   "source": [
    "def corr(x):\n",
    "    s = set()\n",
    "    for i in range(0, len(x)):\n",
    "        if [x[i]]==x[i].split(','):\n",
    "            ch = re.sub(r'[0-9a-zA-Z]', '', x[i])\n",
    "            if ch!='':\n",
    "                s.add(x[i].split(ch)[0])\n",
    "                if len(x[i].split(ch))>1:\n",
    "                    s.add(x[i].split(ch)[1])\n",
    "            else:\n",
    "                s.add(x[i])\n",
    "        else:\n",
    "            a = x[i].split(',')\n",
    "            ch = re.sub(r'[0-9a-zA-Z]', '', a[0])\n",
    "            if ch!='':\n",
    "                s.add(a[0].split(ch)[0])\n",
    "                if len(a[0].split(ch))>1:\n",
    "                    s.add(a[0].split(ch)[1])\n",
    "            else:\n",
    "                s.add(a[0])\n",
    "            ch = re.sub(r'[0-9a-zA-Z]', '', a[1])\n",
    "            if ch!='':\n",
    "                try:\n",
    "                    s.add(a[1].split(ch)[0])\n",
    "                except:\n",
    "                    print(ch,'  ', a)\n",
    "                if len(a[1].split(ch))>1:\n",
    "                    s.add(a[1].split(ch)[1])\n",
    "            else:\n",
    "                s.add(a[1])\n",
    "    return s\n",
    "\n",
    "df['schools_Grades'] = df['schools_Grades'].apply(corr)"
   ]
  },
  {
   "cell_type": "code",
   "execution_count": 242,
   "metadata": {
    "execution": {
     "iopub.execute_input": "2022-04-14T18:35:11.071264Z",
     "iopub.status.busy": "2022-04-14T18:35:11.071034Z",
     "iopub.status.idle": "2022-04-14T18:35:12.030641Z",
     "shell.execute_reply": "2022-04-14T18:35:12.029797Z",
     "shell.execute_reply.started": "2022-04-14T18:35:11.071235Z"
    }
   },
   "outputs": [],
   "source": [
    "df['schools_Grades'].value_counts()"
   ]
  },
  {
   "cell_type": "code",
   "execution_count": 243,
   "metadata": {
    "execution": {
     "iopub.execute_input": "2022-04-14T18:35:12.032357Z",
     "iopub.status.busy": "2022-04-14T18:35:12.032014Z",
     "iopub.status.idle": "2022-04-14T18:35:12.036674Z",
     "shell.execute_reply": "2022-04-14T18:35:12.035886Z",
     "shell.execute_reply.started": "2022-04-14T18:35:12.032315Z"
    }
   },
   "outputs": [],
   "source": [
    "# df['schools_Grades'].value_counts().index.tolist()"
   ]
  },
  {
   "cell_type": "code",
   "execution_count": 244,
   "metadata": {
    "execution": {
     "iopub.execute_input": "2022-04-14T18:35:12.038828Z",
     "iopub.status.busy": "2022-04-14T18:35:12.038008Z",
     "iopub.status.idle": "2022-04-14T18:35:14.760470Z",
     "shell.execute_reply": "2022-04-14T18:35:14.759724Z",
     "shell.execute_reply.started": "2022-04-14T18:35:12.038784Z"
    }
   },
   "outputs": [],
   "source": [
    "left = ['Preschool', 'PK', 'K']\n",
    "def diapason_school(x):\n",
    "    x = list(x)\n",
    "    stroka=''\n",
    "    if len(x)==0:\n",
    "        stroka = '0'\n",
    "    else:\n",
    "        x.sort()\n",
    "    # Предполагаемое самое младшее образовательное учреждение\n",
    "        a = x[-1]\n",
    "        max=0\n",
    "        min=12\n",
    "    # Выделение самого старшего класса\n",
    "        for i in range(0, len(x)):\n",
    "            try:\n",
    "                if max<int(x[i]):\n",
    "                    max = int(x[i])\n",
    "                if min>int(x[i]):\n",
    "                    min=int(x[i])\n",
    "            except:\n",
    "                continue\n",
    "        if a in left:\n",
    "            stroka = a+' - '+str(max)\n",
    "        else:\n",
    "            stroka = str(min)+' - '+str(max)\n",
    "    return stroka\n",
    "\n",
    "df['schools_Grades'] = df['schools_Grades'].apply(diapason_school)"
   ]
  },
  {
   "cell_type": "code",
   "execution_count": 245,
   "metadata": {
    "execution": {
     "iopub.execute_input": "2022-04-14T18:35:14.762069Z",
     "iopub.status.busy": "2022-04-14T18:35:14.761819Z",
     "iopub.status.idle": "2022-04-14T18:35:14.766218Z",
     "shell.execute_reply": "2022-04-14T18:35:14.765451Z",
     "shell.execute_reply.started": "2022-04-14T18:35:14.762035Z"
    }
   },
   "outputs": [],
   "source": [
    "# df['schools_Grades'].value_counts().index.tolist()"
   ]
  },
  {
   "cell_type": "code",
   "execution_count": 246,
   "metadata": {
    "execution": {
     "iopub.execute_input": "2022-04-14T18:35:14.785145Z",
     "iopub.status.busy": "2022-04-14T18:35:14.784862Z",
     "iopub.status.idle": "2022-04-14T18:35:14.848355Z",
     "shell.execute_reply": "2022-04-14T18:35:14.847684Z",
     "shell.execute_reply.started": "2022-04-14T18:35:14.785117Z"
    }
   },
   "outputs": [],
   "source": [
    "df['schools_Grades'].value_counts()"
   ]
  },
  {
   "cell_type": "markdown",
   "metadata": {},
   "source": [
    "Признак категориальный"
   ]
  },
  {
   "cell_type": "code",
   "execution_count": null,
   "metadata": {},
   "outputs": [],
   "source": []
  },
  {
   "cell_type": "code",
   "execution_count": null,
   "metadata": {},
   "outputs": [],
   "source": []
  },
  {
   "cell_type": "markdown",
   "metadata": {},
   "source": [
    "##### Признак  'schools_name'"
   ]
  },
  {
   "cell_type": "code",
   "execution_count": 247,
   "metadata": {
    "execution": {
     "iopub.execute_input": "2022-04-14T18:35:14.850160Z",
     "iopub.status.busy": "2022-04-14T18:35:14.849725Z",
     "iopub.status.idle": "2022-04-14T18:35:14.863044Z",
     "shell.execute_reply": "2022-04-14T18:35:14.862237Z",
     "shell.execute_reply.started": "2022-04-14T18:35:14.850122Z"
    }
   },
   "outputs": [],
   "source": [
    "# Данный признак подлежит удалению.\n",
    "df['schools_name']"
   ]
  },
  {
   "cell_type": "code",
   "execution_count": 248,
   "metadata": {
    "execution": {
     "iopub.execute_input": "2022-04-14T18:35:14.864590Z",
     "iopub.status.busy": "2022-04-14T18:35:14.864175Z",
     "iopub.status.idle": "2022-04-14T18:35:15.179176Z",
     "shell.execute_reply": "2022-04-14T18:35:15.178433Z",
     "shell.execute_reply.started": "2022-04-14T18:35:14.864553Z"
    }
   },
   "outputs": [],
   "source": [
    "df.drop(['schools_name'], axis=1, inplace=True)"
   ]
  },
  {
   "cell_type": "code",
   "execution_count": null,
   "metadata": {},
   "outputs": [],
   "source": []
  },
  {
   "cell_type": "markdown",
   "metadata": {},
   "source": [
    "#### Признак \"PrivatePool\" & \"private pool\""
   ]
  },
  {
   "cell_type": "code",
   "execution_count": 249,
   "metadata": {
    "execution": {
     "iopub.execute_input": "2022-04-14T18:35:15.180750Z",
     "iopub.status.busy": "2022-04-14T18:35:15.180297Z",
     "iopub.status.idle": "2022-04-14T18:35:15.186599Z",
     "shell.execute_reply": "2022-04-14T18:35:15.185894Z",
     "shell.execute_reply.started": "2022-04-14T18:35:15.180711Z"
    }
   },
   "outputs": [],
   "source": [
    "df.columns"
   ]
  },
  {
   "cell_type": "code",
   "execution_count": 250,
   "metadata": {
    "execution": {
     "iopub.execute_input": "2022-04-14T18:35:15.188289Z",
     "iopub.status.busy": "2022-04-14T18:35:15.187860Z",
     "iopub.status.idle": "2022-04-14T18:35:15.208193Z",
     "shell.execute_reply": "2022-04-14T18:35:15.207453Z",
     "shell.execute_reply.started": "2022-04-14T18:35:15.188252Z"
    }
   },
   "outputs": [],
   "source": [
    "df['private pool'].value_counts()"
   ]
  },
  {
   "cell_type": "code",
   "execution_count": 251,
   "metadata": {
    "execution": {
     "iopub.execute_input": "2022-04-14T18:35:15.209885Z",
     "iopub.status.busy": "2022-04-14T18:35:15.209621Z",
     "iopub.status.idle": "2022-04-14T18:35:15.232952Z",
     "shell.execute_reply": "2022-04-14T18:35:15.232362Z",
     "shell.execute_reply.started": "2022-04-14T18:35:15.209851Z"
    }
   },
   "outputs": [],
   "source": [
    "df['PrivatePool'].value_counts()"
   ]
  },
  {
   "cell_type": "code",
   "execution_count": 252,
   "metadata": {
    "execution": {
     "iopub.execute_input": "2022-04-14T18:35:15.235697Z",
     "iopub.status.busy": "2022-04-14T18:35:15.235518Z",
     "iopub.status.idle": "2022-04-14T18:35:15.782589Z",
     "shell.execute_reply": "2022-04-14T18:35:15.781838Z",
     "shell.execute_reply.started": "2022-04-14T18:35:15.235676Z"
    }
   },
   "outputs": [],
   "source": [
    "df['private pool'] = df['private pool'].apply(lambda x: 1 if x=='Yes' else 0)\n",
    "df['PrivatePool'] = df['PrivatePool'].apply(lambda x: 1 if (x=='Yes' or x=='yes') else 0)"
   ]
  },
  {
   "cell_type": "code",
   "execution_count": 253,
   "metadata": {
    "execution": {
     "iopub.execute_input": "2022-04-14T18:35:15.784182Z",
     "iopub.status.busy": "2022-04-14T18:35:15.783850Z",
     "iopub.status.idle": "2022-04-14T18:35:15.794869Z",
     "shell.execute_reply": "2022-04-14T18:35:15.794092Z",
     "shell.execute_reply.started": "2022-04-14T18:35:15.784145Z"
    }
   },
   "outputs": [],
   "source": [
    "df['PrivatePool'].value_counts()"
   ]
  },
  {
   "cell_type": "code",
   "execution_count": 254,
   "metadata": {
    "execution": {
     "iopub.execute_input": "2022-04-14T18:35:15.796534Z",
     "iopub.status.busy": "2022-04-14T18:35:15.796248Z",
     "iopub.status.idle": "2022-04-14T18:35:15.806104Z",
     "shell.execute_reply": "2022-04-14T18:35:15.805344Z",
     "shell.execute_reply.started": "2022-04-14T18:35:15.796501Z"
    }
   },
   "outputs": [],
   "source": [
    "df['private pool'].value_counts()"
   ]
  },
  {
   "cell_type": "code",
   "execution_count": 255,
   "metadata": {
    "execution": {
     "iopub.execute_input": "2022-04-14T18:35:15.808092Z",
     "iopub.status.busy": "2022-04-14T18:35:15.807815Z",
     "iopub.status.idle": "2022-04-14T18:35:15.902017Z",
     "shell.execute_reply": "2022-04-14T18:35:15.901290Z",
     "shell.execute_reply.started": "2022-04-14T18:35:15.808057Z"
    }
   },
   "outputs": [],
   "source": [
    "# Объединим два признака:\n",
    "df['PrivatePool'] = df['private pool'] | df['PrivatePool']\n",
    "df.drop(['private pool'], axis=1, inplace=True)"
   ]
  },
  {
   "cell_type": "code",
   "execution_count": 256,
   "metadata": {
    "execution": {
     "iopub.execute_input": "2022-04-14T18:35:15.903634Z",
     "iopub.status.busy": "2022-04-14T18:35:15.903363Z",
     "iopub.status.idle": "2022-04-14T18:35:15.913004Z",
     "shell.execute_reply": "2022-04-14T18:35:15.912257Z",
     "shell.execute_reply.started": "2022-04-14T18:35:15.903599Z"
    }
   },
   "outputs": [],
   "source": [
    "df['PrivatePool'].value_counts()"
   ]
  },
  {
   "cell_type": "code",
   "execution_count": null,
   "metadata": {},
   "outputs": [],
   "source": []
  },
  {
   "cell_type": "markdown",
   "metadata": {},
   "source": [
    "#### Признак \"fireplace\""
   ]
  },
  {
   "cell_type": "markdown",
   "metadata": {},
   "source": [
    "Содержимое признака \"fireplace\" также небрежно заполнено и данные очень разнообразны, поэтому требуют сложного и кропотливого парсинга содежимого признака."
   ]
  },
  {
   "cell_type": "code",
   "execution_count": 257,
   "metadata": {
    "execution": {
     "iopub.execute_input": "2022-04-14T18:35:15.914999Z",
     "iopub.status.busy": "2022-04-14T18:35:15.914534Z",
     "iopub.status.idle": "2022-04-14T18:35:16.033960Z",
     "shell.execute_reply": "2022-04-14T18:35:16.033244Z",
     "shell.execute_reply.started": "2022-04-14T18:35:15.914964Z"
    }
   },
   "outputs": [],
   "source": [
    "df['fireplace'] = df['fireplace'].fillna('0') # Заполнение 0 пустых признаков, отсутствие камин \n",
    "df['fireplace'] = df['fireplace'].apply(lambda x: x.lower()) #  Перевод всех символов к нижнему регистру"
   ]
  },
  {
   "cell_type": "code",
   "execution_count": 258,
   "metadata": {
    "execution": {
     "iopub.execute_input": "2022-04-14T18:35:16.035551Z",
     "iopub.status.busy": "2022-04-14T18:35:16.035276Z",
     "iopub.status.idle": "2022-04-14T18:35:16.322285Z",
     "shell.execute_reply": "2022-04-14T18:35:16.321573Z",
     "shell.execute_reply.started": "2022-04-14T18:35:16.035515Z"
    }
   },
   "outputs": [],
   "source": [
    "no = ['no fireplace', 'no', 'n/k'] # Признаки  отсутствия камин\n",
    "for i in range(0, len(no)):\n",
    "    df['fireplace'] = df['fireplace'].apply(lambda x: '0' if x==no[i] else x)"
   ]
  },
  {
   "cell_type": "code",
   "execution_count": 259,
   "metadata": {
    "execution": {
     "iopub.execute_input": "2022-04-14T18:35:16.324599Z",
     "iopub.status.busy": "2022-04-14T18:35:16.324183Z",
     "iopub.status.idle": "2022-04-14T18:35:16.407774Z",
     "shell.execute_reply": "2022-04-14T18:35:16.407097Z",
     "shell.execute_reply.started": "2022-04-14T18:35:16.324562Z"
    }
   },
   "outputs": [],
   "source": [
    "df['fireplace'] = df['fireplace'].apply(lambda x: '1' if x=='yes' else x) # Есть камин, считаем,  что единственный"
   ]
  },
  {
   "cell_type": "code",
   "execution_count": 260,
   "metadata": {
    "execution": {
     "iopub.execute_input": "2022-04-14T18:35:16.409300Z",
     "iopub.status.busy": "2022-04-14T18:35:16.408967Z",
     "iopub.status.idle": "2022-04-14T18:35:17.719727Z",
     "shell.execute_reply": "2022-04-14T18:35:17.718956Z",
     "shell.execute_reply.started": "2022-04-14T18:35:16.409261Z"
    }
   },
   "outputs": [],
   "source": [
    "# Для подсчета каминов в доме используем слово \"room\". \n",
    "# Для этого в названиях комнат расшифруем сокращения и пропущенное слово \"room\", заодно расшифруем слово 'fp'\n",
    "old= ['fp', 'bedroom',  'familyrm', 'family rm', 'livingrm', 'living rm', 'guest house',\n",
    "      'kitchen',  'basement',  'in-law quarters'] \n",
    "\n",
    "new = ['fireplace',   'bed room', 'family room', 'family room', 'living room', 'living room', 'guest house room',\n",
    "'kitchen room', 'basement room',  'in-law quarters room']\n",
    "\n",
    "for i in range(0, len(old)):\n",
    "    df['fireplace'] = df['fireplace'].apply(lambda x: x.replace(old[i], new[i]))"
   ]
  },
  {
   "cell_type": "code",
   "execution_count": 261,
   "metadata": {
    "execution": {
     "iopub.execute_input": "2022-04-14T18:35:17.721259Z",
     "iopub.status.busy": "2022-04-14T18:35:17.721015Z",
     "iopub.status.idle": "2022-04-14T18:35:18.128836Z",
     "shell.execute_reply": "2022-04-14T18:35:18.128060Z",
     "shell.execute_reply.started": "2022-04-14T18:35:17.721223Z"
    }
   },
   "outputs": [],
   "source": [
    "# Здесь слово из yes_substr заменяется на слово из in_str , если отсуствует некотроые сопутствующее слово из non_substr.\n",
    "yes_substr = ['master', 'dining', 'den']\n",
    "non_substr = ['bed room', 'kitchen/dining room', 'den/family']\n",
    "in_str = ['master bed room', 'dining room', 'den room'] \n",
    "for i in range(0,len(yes_substr)):\n",
    "    df['fireplace'] = df['fireplace'].apply(\n",
    "        lambda x: x.replace(yes_substr[i], in_str[i]) if ((-1!=x.find(yes_substr[i])) and (-1==x.find(non_substr[i]))) else x)"
   ]
  },
  {
   "cell_type": "code",
   "execution_count": 262,
   "metadata": {
    "execution": {
     "iopub.execute_input": "2022-04-14T18:35:18.130619Z",
     "iopub.status.busy": "2022-04-14T18:35:18.130307Z",
     "iopub.status.idle": "2022-04-14T18:35:18.672992Z",
     "shell.execute_reply": "2022-04-14T18:35:18.672249Z",
     "shell.execute_reply.started": "2022-04-14T18:35:18.130580Z"
    }
   },
   "outputs": [],
   "source": [
    "#  Переводим словесное описание чисел в цифровой вид и заменим всю строку\n",
    "n_old = ['one', 'two', 'three', 'four'] \n",
    "n_new = ['1','2', '3', '4']\n",
    "for i in range(0, len(n_old)):\n",
    "    df['fireplace'] = df['fireplace'].apply(lambda x: n_new[i] if (-1!=x.find(n_old[i])) else x)"
   ]
  },
  {
   "cell_type": "code",
   "execution_count": 263,
   "metadata": {
    "execution": {
     "iopub.execute_input": "2022-04-14T18:35:18.674639Z",
     "iopub.status.busy": "2022-04-14T18:35:18.674373Z",
     "iopub.status.idle": "2022-04-14T18:35:18.933922Z",
     "shell.execute_reply": "2022-04-14T18:35:18.933089Z",
     "shell.execute_reply.started": "2022-04-14T18:35:18.674603Z"
    }
   },
   "outputs": [],
   "source": [
    "sub_str = ['fireplace','gas log']\n",
    "for i in range(0,len(sub_str)):\n",
    "    df['fireplace'] = df['fireplace'].apply(lambda x: '1' if -1!=x.find(sub_str[i]) else x)"
   ]
  },
  {
   "cell_type": "code",
   "execution_count": 264,
   "metadata": {
    "execution": {
     "iopub.execute_input": "2022-04-14T18:35:18.935633Z",
     "iopub.status.busy": "2022-04-14T18:35:18.935345Z",
     "iopub.status.idle": "2022-04-14T18:35:19.332638Z",
     "shell.execute_reply": "2022-04-14T18:35:19.331878Z",
     "shell.execute_reply.started": "2022-04-14T18:35:18.935593Z"
    }
   },
   "outputs": [],
   "source": [
    "# Подсчет количества комнат, где имеется камин\n",
    "df['fireplace'] = df['fireplace'].apply(lambda x: str(x.count('room'))+' '+x if 0<x.count('room') else x)\n",
    "\n",
    "df['fireplace'] = df['fireplace'].apply(\n",
    "        lambda x: '2' if (-1!=x.find('2') and  -1==x.find('2+') and -1==x.find('12')) else x)\n",
    "\n",
    "df['fireplace'] = df['fireplace'].apply(\n",
    "        lambda x: '1' if (-1!=x.find('1') and -1==x.find('10') and -1==x.find('11') and -1==x.find('12')) else x)"
   ]
  },
  {
   "cell_type": "code",
   "execution_count": 265,
   "metadata": {
    "execution": {
     "iopub.execute_input": "2022-04-14T18:35:19.334240Z",
     "iopub.status.busy": "2022-04-14T18:35:19.333983Z",
     "iopub.status.idle": "2022-04-14T18:35:19.746207Z",
     "shell.execute_reply": "2022-04-14T18:35:19.745439Z",
     "shell.execute_reply.started": "2022-04-14T18:35:19.334205Z"
    }
   },
   "outputs": [],
   "source": [
    "# Замена всей строки на элемент из n_new  при отсутсвии сопутствущего слово из n_not\n",
    "n_new = ['3', '4', 'ceiling fan']\n",
    "n_not = ['3+', '4+', 'fireplace']\n",
    "for i in range(0,len(n_new)):\n",
    "    df['fireplace'] = df['fireplace'].apply(\n",
    "        lambda x: n_new[i] if (-1!=x.find(n_new[i]) and -1==x.find(n_not[i])) else x)"
   ]
  },
  {
   "cell_type": "code",
   "execution_count": 266,
   "metadata": {
    "execution": {
     "iopub.execute_input": "2022-04-14T18:35:19.747788Z",
     "iopub.status.busy": "2022-04-14T18:35:19.747540Z",
     "iopub.status.idle": "2022-04-14T18:35:21.537152Z",
     "shell.execute_reply": "2022-04-14T18:35:21.536429Z",
     "shell.execute_reply.started": "2022-04-14T18:35:19.747754Z"
    }
   },
   "outputs": [],
   "source": [
    "n = ['2+', '3+', '4+', '5', '6', '7', '8', '9' , '10', '11', '12']\n",
    "for i in range(0, len(n)):\n",
    "    df['fireplace'] = df['fireplace'].apply(lambda x: n[i] if (-1!=x.find(n[i])) else x)\n",
    "\n",
    "df['fireplace'] = df['fireplace'].apply(lambda x: '0' if -1!=x.find('utility connection') else x)"
   ]
  },
  {
   "cell_type": "code",
   "execution_count": 267,
   "metadata": {
    "execution": {
     "iopub.execute_input": "2022-04-14T18:35:21.538705Z",
     "iopub.status.busy": "2022-04-14T18:35:21.538450Z",
     "iopub.status.idle": "2022-04-14T18:35:21.596286Z",
     "shell.execute_reply": "2022-04-14T18:35:21.595361Z",
     "shell.execute_reply.started": "2022-04-14T18:35:21.538670Z"
    }
   },
   "outputs": [],
   "source": [
    "df['fireplace'].value_counts()"
   ]
  },
  {
   "cell_type": "markdown",
   "metadata": {},
   "source": [
    "Создаем список вручную, скопировав распечатки Type.index.tolist(), и вручную выберем индексы-наименования, показывающие  отсутствование камина, и создаем список fp_no.\n",
    "Затем вычитаем из общего списка содержимого fp_no, и из оставшегося списка выберем также вручную все индексы-наименования  с числами и создаем список fp_yes.\n",
    "Предполагаем, что оставшийся список показывает наличия хотя бы одного камина.\n",
    "Из списков fp_no и создаем файлы: \"fireplace_no\" и \"fireplace_yes\".\n",
    "\n",
    "Пришлось обойтись без лемминга и токенайзера."
   ]
  },
  {
   "cell_type": "code",
   "execution_count": 268,
   "metadata": {
    "execution": {
     "iopub.execute_input": "2022-04-14T18:35:21.598340Z",
     "iopub.status.busy": "2022-04-14T18:35:21.597565Z",
     "iopub.status.idle": "2022-04-14T18:35:21.647782Z",
     "shell.execute_reply": "2022-04-14T18:35:21.647127Z",
     "shell.execute_reply.started": "2022-04-14T18:35:21.598289Z"
    }
   },
   "outputs": [],
   "source": [
    "Type = df['fireplace'].value_counts()\n",
    "s = Type.index.tolist()\n",
    "# s"
   ]
  },
  {
   "cell_type": "code",
   "execution_count": 269,
   "metadata": {
    "execution": {
     "iopub.execute_input": "2022-04-14T18:35:21.651003Z",
     "iopub.status.busy": "2022-04-14T18:35:21.650649Z",
     "iopub.status.idle": "2022-04-14T18:35:21.659962Z",
     "shell.execute_reply": "2022-04-14T18:35:21.659287Z",
     "shell.execute_reply.started": "2022-04-14T18:35:21.650976Z"
    },
    "jupyter": {
     "source_hidden": true
    }
   },
   "outputs": [],
   "source": [
    "# Из списка s вручную выделим строки датасет,  где предполагается \n",
    "#  отсутствие камина ('fireplace'), и переименуем списка как  fp_no\n",
    "fp_no =['not applicable',\n",
    " 'ceiling fan',\n",
    " 'smthr',\n",
    " 'smapl',\n",
    " 'number',\n",
    " 'extra closets, walk-in closets',\n",
    " 'extra closets, smthr, storage, walk-in closets',\n",
    " 'redecorated',\n",
    " 'other-see remarks',\n",
    " 'air filter, storage, walk-in closets',\n",
    " 'extra closets, smthr, walk-in closets',\n",
    " 'smthr, storage, walk-in closets',\n",
    " 'air filter',\n",
    " 'see through',\n",
    " 'elevator',\n",
    " 'extra closets, smthr',\n",
    " 'storage, wet bar',\n",
    " 'extra closets, redecorated, storage',\n",
    " 'fire sprinkler system, smcam, smlt, smthr, storage, walk-in closets',\n",
    " 'fire sprinkler system, redecorated',\n",
    " 'central vacuum, elevator, extra closets, walk-in closets, wet bar',\n",
    " 'water filter',\n",
    " 'air filter, extra closets, smthr, walk-in closets',\n",
    " 'heating system: yes(s)',\n",
    " 'water filter, wet bar',\n",
    " 'central vacuum, elevator, walk-in closets, wet bar',\n",
    " 'smcam',\n",
    " 'extra closets, fire sprinkler system',\n",
    " 'central vacuum, smthr',\n",
    " 'extra closets, storage, walk-in closets, water filter, wet bar',\n",
    " 'redecorated, storage',\n",
    " 'air filter, dehumidifier, extra closets, redecorated, storage, water filter',\n",
    " 'fire sprinkler system, smthr',\n",
    " 'extra closets, storage, walk-in closets, wet bar',\n",
    " 'extra closets, fire sprinkler system, redecorated',\n",
    " 'air filter, walk-in closets, water filter, wet bar',\n",
    " 'central vacuum, elevator, extra closets, hot tub, smthr, wet bar',\n",
    " 'extra closets, smcam, smthr',\n",
    " 'elevator, fire sprinkler system, storage, walk-in closets',\n",
    " 'walk-in closets, water filter, wet bar',\n",
    " 'hot tub, redecorated',\n",
    " 'redecorated, walk-in closets',\n",
    " 'extra closets, smapl',\n",
    " 'presently inoperative, decorative only',\n",
    " 'other - see remarks',\n",
    " 'air filter, central vacuum, intercom, walk-in closets',\n",
    " 'firepit',\n",
    " 'fire pit,gas fuel,location',\n",
    " 'fire pit, location',\n",
    " 'firepit, wood',\n",
    " 'central vacuum',\n",
    " 'central vacuum, elevator, extra closets, storage, walk-in closets, wet bar',\n",
    " 'storage, walk-in closets, water filter, wet bar',\n",
    " 'fire pit,see through,location',\n",
    " 'air filter, central vacuum, elevator, extra closets, redecorated, wet bar',\n",
    " 'air filter, elevator, extra closets, walk-in closets, wet bar',\n",
    " 'elevator, walk-in closets',\n",
    " 'central vacuum, extra closets, smthr, storage, walk-in closets',\n",
    " 'elevator, extra closets, fire sprinkler system, storage, walk-in closets',\n",
    " 'air filter, extra closets, storage, walk-in closets',\n",
    " 'dehumidifier, fire sprinkler system, storage, walk-in closets, water filter']"
   ]
  },
  {
   "cell_type": "code",
   "execution_count": 270,
   "metadata": {
    "execution": {
     "iopub.execute_input": "2022-04-14T18:35:21.661676Z",
     "iopub.status.busy": "2022-04-14T18:35:21.661332Z",
     "iopub.status.idle": "2022-04-14T18:35:21.669998Z",
     "shell.execute_reply": "2022-04-14T18:35:21.669349Z",
     "shell.execute_reply.started": "2022-04-14T18:35:21.661641Z"
    }
   },
   "outputs": [],
   "source": [
    "f = open(\"fireplace_no\", \"w\")\n",
    "for  line in fp_no:\n",
    "    f.write(line)\n",
    "    f.write('\\n')\n",
    "f.close()"
   ]
  },
  {
   "cell_type": "code",
   "execution_count": 271,
   "metadata": {
    "execution": {
     "iopub.execute_input": "2022-04-14T18:35:21.672168Z",
     "iopub.status.busy": "2022-04-14T18:35:21.671452Z",
     "iopub.status.idle": "2022-04-14T18:35:21.677594Z",
     "shell.execute_reply": "2022-04-14T18:35:21.676931Z",
     "shell.execute_reply.started": "2022-04-14T18:35:21.672131Z"
    }
   },
   "outputs": [],
   "source": [
    "s1 = list(set(s) - set(fp_no))\n",
    "# s1"
   ]
  },
  {
   "cell_type": "code",
   "execution_count": 272,
   "metadata": {
    "execution": {
     "iopub.execute_input": "2022-04-14T18:35:21.679586Z",
     "iopub.status.busy": "2022-04-14T18:35:21.679156Z",
     "iopub.status.idle": "2022-04-14T18:35:21.695131Z",
     "shell.execute_reply": "2022-04-14T18:35:21.694440Z",
     "shell.execute_reply.started": "2022-04-14T18:35:21.679549Z"
    },
    "jupyter": {
     "source_hidden": true
    }
   },
   "outputs": [],
   "source": [
    "fp_yes = ['natural gas, propane logs convey',\n",
    " 'elevator, storage, walk-in closets',\n",
    " 'wood burning, gas',\n",
    " 'wood burning w/gas starter',\n",
    " 'bath features',\n",
    " 'redecorated, storage, walk-in closets',\n",
    " 'decorative,fire pit,location',\n",
    " 'recirculator, wood',\n",
    " 'gas fuel,wood fuel,location',\n",
    " 'factory built, gas starter',\n",
    " 'wood, location',\n",
    " 'wood burning',\n",
    " 'insert unit, blower',\n",
    " 'fire sprinkler system',\n",
    " 'extra closets, fire sprinkler system, storage, walk-in closets',\n",
    " 'gas vented',\n",
    " 'wood stove',\n",
    " 'attached doors, ventless',\n",
    " 'factory built, metal, wood stove',\n",
    " 'insert, wood',\n",
    " 'extra closets, storage, walk-in closets',\n",
    " 'wood burning, woodstove',\n",
    " 'fire pit,free standing,electric,location',\n",
    " 'outside, wood burning',\n",
    " 'woodburning',\n",
    " 'wood fuel,location',\n",
    " 'gas, wood burning',\n",
    " 'wood burning, includes accessories',\n",
    " 'brick, wood burning, wood stove',\n",
    " 'factory built, metal',\n",
    " 'central vacuum, extra closets, redecorated, smthr, walk-in closets',\n",
    " 'electric logs',\n",
    " 'free standing,location',\n",
    " 'ventless, propane',\n",
    " 'wood',\n",
    " 'gas starter',\n",
    " 'prefab',\n",
    " 'free-standing, insert, wood',\n",
    " 'flue',\n",
    " 'gas, location',\n",
    " 'gas, propane logs convey',\n",
    " 'electric, wood burning',\n",
    " 'gas',\n",
    " 'gas, ventless, propane',\n",
    " 'gas, wall mounted',\n",
    " 'woodburning, gas starter, living, freestanding',\n",
    " 'gas starter, portable/ventless',\n",
    " 'metal',\n",
    " 'insert, recirculator, wood',\n",
    " 'decorative, electric, wood burning',\n",
    " 'decorative',\n",
    " 'free standing',\n",
    " 'wood burning, heatilator type system, includes accessories',\n",
    " 'fire pit,location',\n",
    " 'ventless',\n",
    " 'free standing, wood burning',\n",
    " 'factory built, wood stove',\n",
    " 'free standing, propane',\n",
    " 'bath',\n",
    " 'wood burning, electric, gas starter',\n",
    " 'in living area, wood burning',\n",
    " 'living',\n",
    " 'gas, attached doors, flue',\n",
    " 'wood burning, gas starters, ventless',\n",
    " 'wall mounted, electric',\n",
    " 'decorative,gas fuel',\n",
    " 'gas burning, woodburning',\n",
    " 'gas unvented, propane',\n",
    " 'gas starters',\n",
    " 'gas, gas starters',\n",
    " 'coal',\n",
    " 'electric logs, outside',\n",
    " 'free standing wood stove',\n",
    " 'insert',\n",
    " 'decorative, wood burning',\n",
    " 'decorative, electric, non wood burning',\n",
    " 'other (see remarks)',\n",
    " 'intercom, storage',\n",
    " 'propane stove, freestanding',\n",
    " 'wood fuel',\n",
    " 'marble, stove',\n",
    " 'decorative, gas',\n",
    " 'wood burning frplc',\n",
    " 'gas fuel,location',\n",
    " 'gas starter, masonry',\n",
    " 'extra closets, redecorated, storage, walk-in closets',\n",
    " 'wet bar',\n",
    " 'see through,location',\n",
    " 'factory built',\n",
    " 'gas, gas starters, free standing',\n",
    " 'propane, wood burning',\n",
    " 'vented gas',\n",
    " 'decorative only',\n",
    " 'gas, propane',\n",
    " 'gas, ventless',\n",
    " 'special features',\n",
    " 'extra closets, fire sprinkler system, redecorated, storage',\n",
    " 'decorative,location',\n",
    " 'gas burning',\n",
    " 'extra closets, smcam, smlt, smthr, storage, wet bar',\n",
    " 'unit features',\n",
    " 'extras',\n",
    " 'extra closets, storage',\n",
    " 'woodstove',\n",
    " 'wood stove insert',\n",
    " 'smcam, smlt, smthr, storage, walk-in closets',\n",
    " 'brick',\n",
    " 'decorative, electric, free standing',\n",
    " 'walk-in closets, wet bar',\n",
    " 'decorative,gas fuel,location',\n",
    " 'outdoors',\n",
    " 'gas unvented',\n",
    " 'brick, flue, wood burning stove',\n",
    " 'brick, wood burning',\n",
    " 'in living area',\n",
    " 'wood burning, electric logs',\n",
    " 'log wood-burning',\n",
    " 'decorative, other (see remarks)',\n",
    " 'free-standing, wood',\n",
    " 'location',\n",
    " 'stove, wood burning',\n",
    " 'see agent',\n",
    " 'extra closets',\n",
    " 'gas vented, natural gas',\n",
    " 'pellet',\n",
    " 'electric',\n",
    " 'masonry',\n",
    " 'pre-fab',\n",
    " 'decorative, electric',\n",
    " 'woodburning stove',\n",
    " 'smthr, walk-in closets',\n",
    " 'gas fuel,wood fuel',\n",
    " 'gas, gas starters, attached screens',\n",
    " 'fire sprinkler system, smlt, smthr',\n",
    " 'pellet, wood',\n",
    " 'walk-in closets',\n",
    " 'wood burning, gas, flue',\n",
    " 'log woodburning',\n",
    " 'gas fuel',\n",
    " 'gas fuel,gas starter,location',\n",
    " 'gas, attached screens, ventless',\n",
    " 'wood-burning stove',\n",
    " 'storage',\n",
    " 'gas, wood stove, ventless',\n",
    " 'heatilator type system',\n",
    " 'free standing frplc',\n",
    " 'wood burning, gas starter',\n",
    " 'pellet stove',\n",
    " 'masonry, wood stove',\n",
    " 'electric, non wood burning',\n",
    " 'electric, free standing',\n",
    " 'fire pit',\n",
    " 'gas, gas starters, ventless',\n",
    " 'brick, free standing',\n",
    " 'gas, gas starters, ventless, propane',\n",
    " 'in living area, wood burning, free standing',\n",
    " 'wood burning stove',\n",
    " 'direct vent',\n",
    " 'gas, attached screens',\n",
    " 'storage, walk-in closets',\n",
    " 'electric logs, free standing',\n",
    " 'gas fuel,gas starter',\n",
    " 'factory built, masonry',\n",
    " 'electric,location',\n",
    " 'study',\n",
    " 'natural gas',\n",
    " 'gas, non wood burning',\n",
    " 'electric,gas fuel,location']"
   ]
  },
  {
   "cell_type": "code",
   "execution_count": 273,
   "metadata": {
    "execution": {
     "iopub.execute_input": "2022-04-14T18:35:21.697082Z",
     "iopub.status.busy": "2022-04-14T18:35:21.696594Z",
     "iopub.status.idle": "2022-04-14T18:35:21.705997Z",
     "shell.execute_reply": "2022-04-14T18:35:21.705259Z",
     "shell.execute_reply.started": "2022-04-14T18:35:21.697046Z"
    }
   },
   "outputs": [],
   "source": [
    "f = open(\"fireplace_yes\", \"w\")\n",
    "for  line in fp_yes:\n",
    "    f.write(line)\n",
    "    f.write('\\n')\n",
    "f.close()"
   ]
  },
  {
   "cell_type": "code",
   "execution_count": 274,
   "metadata": {
    "execution": {
     "iopub.execute_input": "2022-04-14T18:35:21.707613Z",
     "iopub.status.busy": "2022-04-14T18:35:21.707338Z",
     "iopub.status.idle": "2022-04-14T18:35:21.713886Z",
     "shell.execute_reply": "2022-04-14T18:35:21.713247Z",
     "shell.execute_reply.started": "2022-04-14T18:35:21.707578Z"
    }
   },
   "outputs": [],
   "source": [
    "#  Переменное содержит строки, по смыслу указывающие на отсутствие камина. \n",
    "f = open(\"fireplace_no\", \"r\")\n",
    "fp_0 = f.readlines()\n",
    "f.close()"
   ]
  },
  {
   "cell_type": "code",
   "execution_count": 275,
   "metadata": {
    "execution": {
     "iopub.execute_input": "2022-04-14T18:35:21.715666Z",
     "iopub.status.busy": "2022-04-14T18:35:21.715411Z",
     "iopub.status.idle": "2022-04-14T18:35:21.721151Z",
     "shell.execute_reply": "2022-04-14T18:35:21.720451Z",
     "shell.execute_reply.started": "2022-04-14T18:35:21.715632Z"
    }
   },
   "outputs": [],
   "source": [
    "## Переменное содержит строки, по смыслу указывающие на наличие  хотя бы одного камина.\n",
    "f = open(\"fireplace_yes\", \"r\")\n",
    "fp_1 = f.readlines()\n",
    "f.close()"
   ]
  },
  {
   "cell_type": "code",
   "execution_count": 276,
   "metadata": {
    "execution": {
     "iopub.execute_input": "2022-04-14T18:35:21.722843Z",
     "iopub.status.busy": "2022-04-14T18:35:21.722444Z",
     "iopub.status.idle": "2022-04-14T18:35:49.327112Z",
     "shell.execute_reply": "2022-04-14T18:35:49.326342Z",
     "shell.execute_reply.started": "2022-04-14T18:35:21.722805Z"
    }
   },
   "outputs": [],
   "source": [
    "for i in range(0, len(fp_0)):\n",
    "    df['fireplace'] = df['fireplace'].apply(lambda x: '0' if x== fp_0[i].strip() else x)\n",
    "for i in range(0, len(fp_1)):\n",
    "    df['fireplace'] = df['fireplace'].apply(lambda x: '1' if x== fp_1[i].strip() else x)"
   ]
  },
  {
   "cell_type": "code",
   "execution_count": 277,
   "metadata": {
    "execution": {
     "iopub.execute_input": "2022-04-14T18:35:49.328919Z",
     "iopub.status.busy": "2022-04-14T18:35:49.328641Z",
     "iopub.status.idle": "2022-04-14T18:35:50.033162Z",
     "shell.execute_reply": "2022-04-14T18:35:50.032436Z",
     "shell.execute_reply.started": "2022-04-14T18:35:49.328882Z"
    }
   },
   "outputs": [],
   "source": [
    "# Признак сделаем числовым\n",
    "df['fireplace'] = df['fireplace'].apply(lambda x: int(re.sub('\\+','',x)))"
   ]
  },
  {
   "cell_type": "code",
   "execution_count": 278,
   "metadata": {
    "execution": {
     "iopub.execute_input": "2022-04-14T18:35:50.034781Z",
     "iopub.status.busy": "2022-04-14T18:35:50.034539Z",
     "iopub.status.idle": "2022-04-14T18:35:50.045932Z",
     "shell.execute_reply": "2022-04-14T18:35:50.045247Z",
     "shell.execute_reply.started": "2022-04-14T18:35:50.034747Z"
    }
   },
   "outputs": [],
   "source": [
    "df['fireplace'].value_counts()"
   ]
  },
  {
   "cell_type": "markdown",
   "metadata": {},
   "source": [
    "Признак оказался самым сложным. "
   ]
  },
  {
   "cell_type": "code",
   "execution_count": null,
   "metadata": {},
   "outputs": [],
   "source": []
  },
  {
   "cell_type": "markdown",
   "metadata": {},
   "source": [
    "#### Признак \"state\""
   ]
  },
  {
   "cell_type": "code",
   "execution_count": 279,
   "metadata": {
    "execution": {
     "iopub.execute_input": "2022-04-14T18:35:50.047322Z",
     "iopub.status.busy": "2022-04-14T18:35:50.047074Z",
     "iopub.status.idle": "2022-04-14T18:35:50.100915Z",
     "shell.execute_reply": "2022-04-14T18:35:50.100263Z",
     "shell.execute_reply.started": "2022-04-14T18:35:50.047287Z"
    }
   },
   "outputs": [],
   "source": [
    "df['state'].value_counts()"
   ]
  },
  {
   "cell_type": "code",
   "execution_count": 280,
   "metadata": {
    "execution": {
     "iopub.execute_input": "2022-04-14T18:35:50.102497Z",
     "iopub.status.busy": "2022-04-14T18:35:50.102209Z",
     "iopub.status.idle": "2022-04-14T18:35:50.211443Z",
     "shell.execute_reply": "2022-04-14T18:35:50.210742Z",
     "shell.execute_reply.started": "2022-04-14T18:35:50.102460Z"
    }
   },
   "outputs": [],
   "source": [
    "df['state'] = df['state'].apply(lambda x: x.upper())\n",
    "df['state'].unique()"
   ]
  },
  {
   "cell_type": "code",
   "execution_count": 281,
   "metadata": {
    "execution": {
     "iopub.execute_input": "2022-04-14T18:35:50.213076Z",
     "iopub.status.busy": "2022-04-14T18:35:50.212710Z",
     "iopub.status.idle": "2022-04-14T18:35:50.654764Z",
     "shell.execute_reply": "2022-04-14T18:35:50.654111Z",
     "shell.execute_reply.started": "2022-04-14T18:35:50.213041Z"
    }
   },
   "outputs": [],
   "source": [
    "df['state'].value_counts(ascending = True).plot(kind = 'barh')"
   ]
  },
  {
   "cell_type": "code",
   "execution_count": null,
   "metadata": {},
   "outputs": [],
   "source": []
  },
  {
   "cell_type": "markdown",
   "metadata": {},
   "source": [
    "#### Признак \"city\""
   ]
  },
  {
   "cell_type": "code",
   "execution_count": 282,
   "metadata": {
    "execution": {
     "iopub.execute_input": "2022-04-14T18:35:50.656171Z",
     "iopub.status.busy": "2022-04-14T18:35:50.655938Z",
     "iopub.status.idle": "2022-04-14T18:35:50.711733Z",
     "shell.execute_reply": "2022-04-14T18:35:50.710906Z",
     "shell.execute_reply.started": "2022-04-14T18:35:50.656138Z"
    }
   },
   "outputs": [],
   "source": [
    "df['city'].value_counts()"
   ]
  },
  {
   "cell_type": "code",
   "execution_count": 283,
   "metadata": {
    "execution": {
     "iopub.execute_input": "2022-04-14T18:35:50.714001Z",
     "iopub.status.busy": "2022-04-14T18:35:50.713183Z",
     "iopub.status.idle": "2022-04-14T18:35:50.717093Z",
     "shell.execute_reply": "2022-04-14T18:35:50.716460Z",
     "shell.execute_reply.started": "2022-04-14T18:35:50.713964Z"
    }
   },
   "outputs": [],
   "source": [
    "# df[df['city'].isna()].sum()"
   ]
  },
  {
   "cell_type": "code",
   "execution_count": 284,
   "metadata": {
    "execution": {
     "iopub.execute_input": "2022-04-14T18:35:50.718974Z",
     "iopub.status.busy": "2022-04-14T18:35:50.718499Z",
     "iopub.status.idle": "2022-04-14T18:35:51.057143Z",
     "shell.execute_reply": "2022-04-14T18:35:51.056455Z",
     "shell.execute_reply.started": "2022-04-14T18:35:50.718935Z"
    }
   },
   "outputs": [],
   "source": [
    "df['city'] = df['city'].fillna('other')\n",
    "top_city = df['city'].value_counts()[:200].index\n",
    "\n",
    "df['city'] = df['city'].apply(lambda x: x if x in top_city else 'other')"
   ]
  },
  {
   "cell_type": "code",
   "execution_count": 285,
   "metadata": {
    "execution": {
     "iopub.execute_input": "2022-04-14T18:35:51.058770Z",
     "iopub.status.busy": "2022-04-14T18:35:51.058533Z",
     "iopub.status.idle": "2022-04-14T18:35:51.109774Z",
     "shell.execute_reply": "2022-04-14T18:35:51.109136Z",
     "shell.execute_reply.started": "2022-04-14T18:35:51.058738Z"
    }
   },
   "outputs": [],
   "source": [
    "df['city'].value_counts()"
   ]
  },
  {
   "cell_type": "markdown",
   "metadata": {},
   "source": [
    "Признак \"city\" - категориальный. Если категориальных признаков будут слишком много, то придется уменьшить число категории признака \"city\", Если необходимо, то категории можно и увеличить."
   ]
  },
  {
   "cell_type": "code",
   "execution_count": null,
   "metadata": {},
   "outputs": [],
   "source": []
  },
  {
   "cell_type": "code",
   "execution_count": null,
   "metadata": {},
   "outputs": [],
   "source": []
  },
  {
   "cell_type": "markdown",
   "metadata": {},
   "source": [
    "#### Признак \"sqft\""
   ]
  },
  {
   "cell_type": "code",
   "execution_count": 286,
   "metadata": {
    "execution": {
     "iopub.execute_input": "2022-04-14T18:35:51.111850Z",
     "iopub.status.busy": "2022-04-14T18:35:51.111277Z",
     "iopub.status.idle": "2022-04-14T18:35:51.185841Z",
     "shell.execute_reply": "2022-04-14T18:35:51.185152Z",
     "shell.execute_reply.started": "2022-04-14T18:35:51.111814Z"
    }
   },
   "outputs": [],
   "source": [
    "df['sqft'].value_counts()"
   ]
  },
  {
   "cell_type": "code",
   "execution_count": 287,
   "metadata": {
    "execution": {
     "iopub.execute_input": "2022-04-14T18:35:51.187333Z",
     "iopub.status.busy": "2022-04-14T18:35:51.187091Z",
     "iopub.status.idle": "2022-04-14T18:35:51.192771Z",
     "shell.execute_reply": "2022-04-14T18:35:51.192031Z",
     "shell.execute_reply.started": "2022-04-14T18:35:51.187291Z"
    }
   },
   "outputs": [],
   "source": [
    "# df['sqft'].value_counts().index.tolist()"
   ]
  },
  {
   "cell_type": "code",
   "execution_count": 288,
   "metadata": {
    "execution": {
     "iopub.execute_input": "2022-04-14T18:35:51.194736Z",
     "iopub.status.busy": "2022-04-14T18:35:51.194152Z",
     "iopub.status.idle": "2022-04-14T18:35:51.231218Z",
     "shell.execute_reply": "2022-04-14T18:35:51.230443Z",
     "shell.execute_reply.started": "2022-04-14T18:35:51.194661Z"
    }
   },
   "outputs": [],
   "source": [
    "df.sqft.isna().sum()"
   ]
  },
  {
   "cell_type": "code",
   "execution_count": 289,
   "metadata": {
    "execution": {
     "iopub.execute_input": "2022-04-14T18:35:51.232844Z",
     "iopub.status.busy": "2022-04-14T18:35:51.232447Z",
     "iopub.status.idle": "2022-04-14T18:35:51.273727Z",
     "shell.execute_reply": "2022-04-14T18:35:51.272659Z",
     "shell.execute_reply.started": "2022-04-14T18:35:51.232809Z"
    }
   },
   "outputs": [],
   "source": [
    "df.sqft = df.sqft.fillna('0')"
   ]
  },
  {
   "cell_type": "code",
   "execution_count": 290,
   "metadata": {
    "execution": {
     "iopub.execute_input": "2022-04-14T18:35:51.276967Z",
     "iopub.status.busy": "2022-04-14T18:35:51.276742Z",
     "iopub.status.idle": "2022-04-14T18:35:52.387997Z",
     "shell.execute_reply": "2022-04-14T18:35:52.387174Z",
     "shell.execute_reply.started": "2022-04-14T18:35:51.276940Z"
    }
   },
   "outputs": [],
   "source": [
    "def make_features_sqft(x):\n",
    "    x = x.replace('--', '0')\n",
    "    x = re.sub('[^0-9]', '', x)\n",
    "    return x\n",
    "\n",
    "df.sqft = df.sqft.apply(make_features_sqft)"
   ]
  },
  {
   "cell_type": "code",
   "execution_count": 291,
   "metadata": {
    "execution": {
     "iopub.execute_input": "2022-04-14T18:35:52.389479Z",
     "iopub.status.busy": "2022-04-14T18:35:52.389172Z",
     "iopub.status.idle": "2022-04-14T18:35:52.393008Z",
     "shell.execute_reply": "2022-04-14T18:35:52.392269Z",
     "shell.execute_reply.started": "2022-04-14T18:35:52.389440Z"
    }
   },
   "outputs": [],
   "source": [
    "# df.sqft.value_counts().index.tolist()"
   ]
  },
  {
   "cell_type": "code",
   "execution_count": 292,
   "metadata": {
    "execution": {
     "iopub.execute_input": "2022-04-14T18:35:52.394914Z",
     "iopub.status.busy": "2022-04-14T18:35:52.394423Z",
     "iopub.status.idle": "2022-04-14T18:35:52.616286Z",
     "shell.execute_reply": "2022-04-14T18:35:52.615433Z",
     "shell.execute_reply.started": "2022-04-14T18:35:52.394868Z"
    }
   },
   "outputs": [],
   "source": [
    "df['sqft'] = df['sqft'].apply(lambda x: '0' if x=='' else x)\n",
    "df['sqft'] = df['sqft'].astype(np.float)\n",
    "\n",
    "# df.sqft.value_counts().index.tolist()"
   ]
  },
  {
   "cell_type": "code",
   "execution_count": 293,
   "metadata": {
    "execution": {
     "iopub.execute_input": "2022-04-14T18:35:52.618013Z",
     "iopub.status.busy": "2022-04-14T18:35:52.617752Z",
     "iopub.status.idle": "2022-04-14T18:35:52.632301Z",
     "shell.execute_reply": "2022-04-14T18:35:52.631435Z",
     "shell.execute_reply.started": "2022-04-14T18:35:52.617977Z"
    }
   },
   "outputs": [],
   "source": [
    "df.sqft.value_counts()"
   ]
  },
  {
   "cell_type": "code",
   "execution_count": null,
   "metadata": {},
   "outputs": [],
   "source": []
  },
  {
   "cell_type": "markdown",
   "metadata": {},
   "source": [
    "Всем пропущенным значениям поставлено число 0. Этот признак не очень согласуется с признаками \"beds\" и \"baths\".\n",
    "\n",
    "Признак  \"sqft\" - числовой"
   ]
  },
  {
   "cell_type": "code",
   "execution_count": null,
   "metadata": {},
   "outputs": [],
   "source": []
  },
  {
   "cell_type": "code",
   "execution_count": 294,
   "metadata": {
    "execution": {
     "iopub.execute_input": "2022-04-14T18:35:52.634155Z",
     "iopub.status.busy": "2022-04-14T18:35:52.633907Z",
     "iopub.status.idle": "2022-04-14T18:35:52.781192Z",
     "shell.execute_reply": "2022-04-14T18:35:52.780398Z",
     "shell.execute_reply.started": "2022-04-14T18:35:52.634121Z"
    }
   },
   "outputs": [],
   "source": [
    "df['sqft'] = df['sqft'].apply(lambda x: -1.0 if x=='' or x=='0' else x)\n",
    "df['sqft'].astype(np.float)"
   ]
  },
  {
   "cell_type": "markdown",
   "metadata": {},
   "source": [
    "Всем пропущенным значениям проставлено число 0. Этот признак не очень согласуется с признаками \"beds\" и \"baths\".\n",
    "\n",
    "Признак  \"sqft\" - числовой"
   ]
  },
  {
   "cell_type": "code",
   "execution_count": null,
   "metadata": {},
   "outputs": [],
   "source": []
  },
  {
   "cell_type": "markdown",
   "metadata": {},
   "source": [
    "#### Признак \"baths\""
   ]
  },
  {
   "cell_type": "code",
   "execution_count": 295,
   "metadata": {
    "execution": {
     "iopub.execute_input": "2022-04-14T18:35:52.782926Z",
     "iopub.status.busy": "2022-04-14T18:35:52.782672Z",
     "iopub.status.idle": "2022-04-14T18:35:52.827542Z",
     "shell.execute_reply": "2022-04-14T18:35:52.826785Z",
     "shell.execute_reply.started": "2022-04-14T18:35:52.782891Z"
    }
   },
   "outputs": [],
   "source": [
    "df['baths'].value_counts()"
   ]
  },
  {
   "cell_type": "code",
   "execution_count": 296,
   "metadata": {
    "execution": {
     "iopub.execute_input": "2022-04-14T18:35:52.829558Z",
     "iopub.status.busy": "2022-04-14T18:35:52.829003Z",
     "iopub.status.idle": "2022-04-14T18:35:52.835174Z",
     "shell.execute_reply": "2022-04-14T18:35:52.834303Z",
     "shell.execute_reply.started": "2022-04-14T18:35:52.829520Z"
    }
   },
   "outputs": [],
   "source": [
    "# df['baths'].value_counts().index.tolist()"
   ]
  },
  {
   "cell_type": "markdown",
   "metadata": {},
   "source": [
    "В результате детального анализа признака данные приведены к более или менее единообразию. \n",
    "Значение поля \"Bathrooms: 241\"   в признаке \"baths\" по всей вероятности \"Bathrooms: 4\", так как является домом с 4-мя спальнями для одной семьи. Поэтому ставим 4 вместо 241. Bathrooms: SemiMod ==> \"Bathrooms: 6\", и т.д. Все изменения в функции  make_baths(x)."
   ]
  },
  {
   "cell_type": "code",
   "execution_count": 297,
   "metadata": {
    "execution": {
     "iopub.execute_input": "2022-04-14T18:35:52.837002Z",
     "iopub.status.busy": "2022-04-14T18:35:52.836678Z",
     "iopub.status.idle": "2022-04-14T18:35:52.847093Z",
     "shell.execute_reply": "2022-04-14T18:35:52.846403Z",
     "shell.execute_reply.started": "2022-04-14T18:35:52.836946Z"
    }
   },
   "outputs": [],
   "source": [
    "def is_num(x):\n",
    "    try:\n",
    "        float(x)\n",
    "        return True\n",
    "    except ValueError:\n",
    "        return False\n",
    "\n",
    "def make_baths(x):\n",
    "    x = re.sub('ba','Baths', x)\n",
    "    x = re.sub('1 1/2', '1.5', x)\n",
    "    x = x.replace('.0', '')\n",
    "    x = x.replace('Bathsths','Baths')\n",
    "    x = x.replace('7,500+','7,500')\n",
    "    if x == 'Bathrooms: 241': \n",
    "        x='4 Baths'\n",
    "    if x == 'Bathrooms: SemiMod': \n",
    "        x='6 Baths'\n",
    "    if x == 'Sq. Ft. ':\n",
    "        x = '0'\n",
    "    x = x.replace('Bathrooms: ','')\n",
    "    x = x.replace('Bathrooms: ','')\n",
    "    x = x.replace('+','+ Baths')\n",
    "    if x=='1 / 1-0 / 1-0 / 1-0' or x=='2-1 / 2-1 / 1-1 / 1-1':  \n",
    "        x = '2 Baths'\n",
    "    if x=='1 / 1 / 1 / 1' or x=='1-0 / 1-0 / 1' or x=='3-1 / 2-2':  \n",
    "        x = '3'\n",
    "    if x=='116 / 116 / 116':\n",
    "        x='116 Baths'\n",
    "    if x=='0 / 0' or x== '0.00' or x=='0.0' or x=='00' or x=='0 /':\n",
    "        x='0'\n",
    "    if (-1.0!=x.find('--') or -1.0!=x.find('~') or -1.0!=x.find('—')):\n",
    "        x = '0'\n",
    "    if is_num(x) and float(x)<120:\n",
    "        x = x + ' Baths'\n",
    "    return x"
   ]
  },
  {
   "cell_type": "code",
   "execution_count": 298,
   "metadata": {
    "execution": {
     "iopub.execute_input": "2022-04-14T18:35:52.848861Z",
     "iopub.status.busy": "2022-04-14T18:35:52.848439Z",
     "iopub.status.idle": "2022-04-14T18:35:54.832647Z",
     "shell.execute_reply": "2022-04-14T18:35:54.831895Z",
     "shell.execute_reply.started": "2022-04-14T18:35:52.848825Z"
    }
   },
   "outputs": [],
   "source": [
    "df.baths = df.baths.fillna('0')\n",
    "df.baths = df.baths.apply(make_baths)"
   ]
  },
  {
   "cell_type": "code",
   "execution_count": 299,
   "metadata": {
    "execution": {
     "iopub.execute_input": "2022-04-14T18:35:54.834115Z",
     "iopub.status.busy": "2022-04-14T18:35:54.833877Z",
     "iopub.status.idle": "2022-04-14T18:35:54.892694Z",
     "shell.execute_reply": "2022-04-14T18:35:54.891793Z",
     "shell.execute_reply.started": "2022-04-14T18:35:54.834083Z"
    }
   },
   "outputs": [],
   "source": [
    "df.baths.value_counts()"
   ]
  },
  {
   "cell_type": "code",
   "execution_count": 300,
   "metadata": {
    "execution": {
     "iopub.execute_input": "2022-04-14T18:35:54.894703Z",
     "iopub.status.busy": "2022-04-14T18:35:54.893844Z",
     "iopub.status.idle": "2022-04-14T18:35:54.902662Z",
     "shell.execute_reply": "2022-04-14T18:35:54.901943Z",
     "shell.execute_reply.started": "2022-04-14T18:35:54.894665Z"
    }
   },
   "outputs": [],
   "source": [
    "# df.baths.value_counts().index.tolist()"
   ]
  },
  {
   "cell_type": "code",
   "execution_count": 301,
   "metadata": {
    "execution": {
     "iopub.execute_input": "2022-04-14T18:35:54.904141Z",
     "iopub.status.busy": "2022-04-14T18:35:54.903800Z",
     "iopub.status.idle": "2022-04-14T18:35:54.960533Z",
     "shell.execute_reply": "2022-04-14T18:35:54.959837Z",
     "shell.execute_reply.started": "2022-04-14T18:35:54.904077Z"
    }
   },
   "outputs": [],
   "source": [
    "df.baths.value_counts()['44 Baths':].sum()"
   ]
  },
  {
   "cell_type": "code",
   "execution_count": 302,
   "metadata": {
    "execution": {
     "iopub.execute_input": "2022-04-14T18:35:54.963482Z",
     "iopub.status.busy": "2022-04-14T18:35:54.963218Z",
     "iopub.status.idle": "2022-04-14T18:35:55.014189Z",
     "shell.execute_reply": "2022-04-14T18:35:55.013430Z",
     "shell.execute_reply.started": "2022-04-14T18:35:54.963458Z"
    }
   },
   "outputs": [],
   "source": [
    "ind_Baths_top = df.baths.value_counts()[:50]"
   ]
  },
  {
   "cell_type": "markdown",
   "metadata": {},
   "source": [
    "Признак 'baths' - категориальный, так как данные заданы и в количестве и в виде  площади."
   ]
  },
  {
   "cell_type": "code",
   "execution_count": null,
   "metadata": {},
   "outputs": [],
   "source": []
  },
  {
   "cell_type": "code",
   "execution_count": null,
   "metadata": {},
   "outputs": [],
   "source": []
  },
  {
   "cell_type": "markdown",
   "metadata": {},
   "source": [
    "#### Признак \"beds\""
   ]
  },
  {
   "cell_type": "code",
   "execution_count": 303,
   "metadata": {
    "execution": {
     "iopub.execute_input": "2022-04-14T18:35:55.015780Z",
     "iopub.status.busy": "2022-04-14T18:35:55.015497Z",
     "iopub.status.idle": "2022-04-14T18:35:55.062845Z",
     "shell.execute_reply": "2022-04-14T18:35:55.062095Z",
     "shell.execute_reply.started": "2022-04-14T18:35:55.015745Z"
    }
   },
   "outputs": [],
   "source": [
    "df['beds'].value_counts()"
   ]
  },
  {
   "cell_type": "code",
   "execution_count": 304,
   "metadata": {
    "execution": {
     "iopub.execute_input": "2022-04-14T18:35:55.064498Z",
     "iopub.status.busy": "2022-04-14T18:35:55.064124Z",
     "iopub.status.idle": "2022-04-14T18:35:55.067629Z",
     "shell.execute_reply": "2022-04-14T18:35:55.066942Z",
     "shell.execute_reply.started": "2022-04-14T18:35:55.064435Z"
    }
   },
   "outputs": [],
   "source": [
    "# df['beds'].value_counts().index.tolist()"
   ]
  },
  {
   "cell_type": "code",
   "execution_count": 305,
   "metadata": {
    "execution": {
     "iopub.execute_input": "2022-04-14T18:35:55.069398Z",
     "iopub.status.busy": "2022-04-14T18:35:55.068914Z",
     "iopub.status.idle": "2022-04-14T18:35:55.109103Z",
     "shell.execute_reply": "2022-04-14T18:35:55.108305Z",
     "shell.execute_reply.started": "2022-04-14T18:35:55.069348Z"
    }
   },
   "outputs": [],
   "source": [
    "df.beds = df.beds.fillna('0')"
   ]
  },
  {
   "cell_type": "code",
   "execution_count": 306,
   "metadata": {
    "execution": {
     "iopub.execute_input": "2022-04-14T18:35:55.110512Z",
     "iopub.status.busy": "2022-04-14T18:35:55.110259Z",
     "iopub.status.idle": "2022-04-14T18:35:55.158474Z",
     "shell.execute_reply": "2022-04-14T18:35:55.157780Z",
     "shell.execute_reply.started": "2022-04-14T18:35:55.110481Z"
    }
   },
   "outputs": [],
   "source": [
    "df['beds'].value_counts()"
   ]
  },
  {
   "cell_type": "code",
   "execution_count": 307,
   "metadata": {
    "execution": {
     "iopub.execute_input": "2022-04-14T18:35:55.159998Z",
     "iopub.status.busy": "2022-04-14T18:35:55.159699Z",
     "iopub.status.idle": "2022-04-14T18:35:55.165431Z",
     "shell.execute_reply": "2022-04-14T18:35:55.164663Z",
     "shell.execute_reply.started": "2022-04-14T18:35:55.159963Z"
    }
   },
   "outputs": [],
   "source": [
    "# df['beds'].value_counts().index.tolist()"
   ]
  },
  {
   "cell_type": "code",
   "execution_count": 308,
   "metadata": {
    "execution": {
     "iopub.execute_input": "2022-04-14T18:35:55.167116Z",
     "iopub.status.busy": "2022-04-14T18:35:55.166289Z",
     "iopub.status.idle": "2022-04-14T18:35:55.283684Z",
     "shell.execute_reply": "2022-04-14T18:35:55.283029Z",
     "shell.execute_reply.started": "2022-04-14T18:35:55.167078Z"
    }
   },
   "outputs": [],
   "source": [
    "# Выделим из признака 'beds' идексов строк датасет (df), где заначением являются 'Bath' или 'Baths'\n",
    "# Для этого создаем временный служебный признак\n",
    "df['beds_Baths'] = df['beds'].apply(lambda x: x if -1!=x.find('Bath') else ' ')"
   ]
  },
  {
   "cell_type": "code",
   "execution_count": 309,
   "metadata": {
    "execution": {
     "iopub.execute_input": "2022-04-14T18:35:55.286424Z",
     "iopub.status.busy": "2022-04-14T18:35:55.286211Z",
     "iopub.status.idle": "2022-04-14T18:35:55.537917Z",
     "shell.execute_reply": "2022-04-14T18:35:55.537123Z",
     "shell.execute_reply.started": "2022-04-14T18:35:55.286382Z"
    }
   },
   "outputs": [],
   "source": [
    "# Выделим  и сгруппируем для этих индексов данные признака 'baths'\n",
    "ind_Baths =  df[df['beds_Baths']!=' '].index"
   ]
  },
  {
   "cell_type": "code",
   "execution_count": 310,
   "metadata": {
    "execution": {
     "iopub.execute_input": "2022-04-14T18:35:55.540861Z",
     "iopub.status.busy": "2022-04-14T18:35:55.540429Z",
     "iopub.status.idle": "2022-04-14T18:35:55.617155Z",
     "shell.execute_reply": "2022-04-14T18:35:55.616363Z",
     "shell.execute_reply.started": "2022-04-14T18:35:55.540810Z"
    }
   },
   "outputs": [],
   "source": [
    "# Удалим служебный признак\n",
    "df.drop('beds_Baths', axis=1, inplace=True)"
   ]
  },
  {
   "cell_type": "code",
   "execution_count": 311,
   "metadata": {
    "execution": {
     "iopub.execute_input": "2022-04-14T18:35:55.618633Z",
     "iopub.status.busy": "2022-04-14T18:35:55.618398Z",
     "iopub.status.idle": "2022-04-14T18:35:55.631099Z",
     "shell.execute_reply": "2022-04-14T18:35:55.630445Z",
     "shell.execute_reply.started": "2022-04-14T18:35:55.618600Z"
    }
   },
   "outputs": [],
   "source": [
    "df['beds'][ind_Baths].value_counts()"
   ]
  },
  {
   "cell_type": "markdown",
   "metadata": {},
   "source": [
    "Заметим, что  3356  строк имеют значения 0, хотя в признаке есть \"Baths\". Заменим их на \"1 Bath\""
   ]
  },
  {
   "cell_type": "code",
   "execution_count": 312,
   "metadata": {
    "execution": {
     "iopub.execute_input": "2022-04-14T18:35:55.632657Z",
     "iopub.status.busy": "2022-04-14T18:35:55.632270Z",
     "iopub.status.idle": "2022-04-14T18:35:55.652206Z",
     "shell.execute_reply": "2022-04-14T18:35:55.651569Z",
     "shell.execute_reply.started": "2022-04-14T18:35:55.632623Z"
    }
   },
   "outputs": [],
   "source": [
    "df.loc[ind_Baths, 'baths'] = df['baths'][ind_Baths].apply(lambda x: '1 Bath' \n",
    "                                                          if x== '0 Baths' else x)"
   ]
  },
  {
   "cell_type": "code",
   "execution_count": 313,
   "metadata": {
    "execution": {
     "iopub.execute_input": "2022-04-14T18:35:55.653699Z",
     "iopub.status.busy": "2022-04-14T18:35:55.653452Z",
     "iopub.status.idle": "2022-04-14T18:35:55.665968Z",
     "shell.execute_reply": "2022-04-14T18:35:55.665243Z",
     "shell.execute_reply.started": "2022-04-14T18:35:55.653666Z"
    }
   },
   "outputs": [],
   "source": [
    "df['baths'][ind_Baths].value_counts()"
   ]
  },
  {
   "cell_type": "code",
   "execution_count": 314,
   "metadata": {
    "execution": {
     "iopub.execute_input": "2022-04-14T18:35:55.667512Z",
     "iopub.status.busy": "2022-04-14T18:35:55.667122Z",
     "iopub.status.idle": "2022-04-14T18:35:55.679414Z",
     "shell.execute_reply": "2022-04-14T18:35:55.678799Z",
     "shell.execute_reply.started": "2022-04-14T18:35:55.667478Z"
    }
   },
   "outputs": [],
   "source": [
    "df['beds'][ind_Baths].value_counts().index.tolist()"
   ]
  },
  {
   "cell_type": "code",
   "execution_count": 315,
   "metadata": {
    "execution": {
     "iopub.execute_input": "2022-04-14T18:35:55.681585Z",
     "iopub.status.busy": "2022-04-14T18:35:55.681174Z",
     "iopub.status.idle": "2022-04-14T18:35:55.691738Z",
     "shell.execute_reply": "2022-04-14T18:35:55.690978Z",
     "shell.execute_reply.started": "2022-04-14T18:35:55.681551Z"
    }
   },
   "outputs": [],
   "source": [
    "df['beds'][ind_Baths].value_counts()['2 Baths, 3 or More Bedrooms']"
   ]
  },
  {
   "cell_type": "code",
   "execution_count": 316,
   "metadata": {
    "execution": {
     "iopub.execute_input": "2022-04-14T18:35:55.693331Z",
     "iopub.status.busy": "2022-04-14T18:35:55.693093Z",
     "iopub.status.idle": "2022-04-14T18:35:55.700183Z",
     "shell.execute_reply": "2022-04-14T18:35:55.699350Z",
     "shell.execute_reply.started": "2022-04-14T18:35:55.693298Z"
    }
   },
   "outputs": [],
   "source": [
    "def make_beds(x):\n",
    "    x = x.replace('bd','Beds')\n",
    "    x = x.replace('1-2','2')\n",
    "    x = x.replace('.0', '')\n",
    "    x = x.replace('--', '0')\n",
    "    if x=='Baths':\n",
    "        x='Bath'\n",
    "    if len(x)>0 and len(x)<=3 and x!='0':\n",
    "        x = x + ' Beds'\n",
    "    if( x==' ') or (x=='0 sqft') or (x=='0'):\n",
    "        x='0 Beds'\n",
    "        \n",
    "    if x==' Beds' or x=='  Beds':\n",
    "        x='1 Beds'\n",
    "    if -1!=x.find('3 or More Bedrooms'):\n",
    "        x = '3+ Beds' \n",
    "    if -1!=x.find('2 Bedrooms'):\n",
    "        x = '2 Beds' \n",
    "    return x"
   ]
  },
  {
   "cell_type": "code",
   "execution_count": 317,
   "metadata": {
    "execution": {
     "iopub.execute_input": "2022-04-14T18:35:55.702337Z",
     "iopub.status.busy": "2022-04-14T18:35:55.701850Z",
     "iopub.status.idle": "2022-04-14T18:35:56.170684Z",
     "shell.execute_reply": "2022-04-14T18:35:56.169918Z",
     "shell.execute_reply.started": "2022-04-14T18:35:55.702300Z"
    }
   },
   "outputs": [],
   "source": [
    "df.beds = df.beds.apply(make_beds)"
   ]
  },
  {
   "cell_type": "code",
   "execution_count": 318,
   "metadata": {
    "execution": {
     "iopub.execute_input": "2022-04-14T18:35:56.173971Z",
     "iopub.status.busy": "2022-04-14T18:35:56.173469Z",
     "iopub.status.idle": "2022-04-14T18:35:56.228716Z",
     "shell.execute_reply": "2022-04-14T18:35:56.227828Z",
     "shell.execute_reply.started": "2022-04-14T18:35:56.173932Z"
    }
   },
   "outputs": [],
   "source": [
    "df['beds'].value_counts()"
   ]
  },
  {
   "cell_type": "code",
   "execution_count": 319,
   "metadata": {
    "execution": {
     "iopub.execute_input": "2022-04-14T18:35:56.230726Z",
     "iopub.status.busy": "2022-04-14T18:35:56.230457Z",
     "iopub.status.idle": "2022-04-14T18:35:56.236277Z",
     "shell.execute_reply": "2022-04-14T18:35:56.235627Z",
     "shell.execute_reply.started": "2022-04-14T18:35:56.230688Z"
    }
   },
   "outputs": [],
   "source": [
    "# df['beds'].value_counts().index.tolist()"
   ]
  },
  {
   "cell_type": "code",
   "execution_count": 320,
   "metadata": {
    "execution": {
     "iopub.execute_input": "2022-04-14T18:35:56.237769Z",
     "iopub.status.busy": "2022-04-14T18:35:56.237416Z",
     "iopub.status.idle": "2022-04-14T18:35:56.328414Z",
     "shell.execute_reply": "2022-04-14T18:35:56.327762Z",
     "shell.execute_reply.started": "2022-04-14T18:35:56.237731Z"
    }
   },
   "outputs": [],
   "source": [
    "# Имеются длинные данные, которые не имеют отношения к данному признаку. Их два,поставим 0.\n",
    "df.beds = df.beds.apply(lambda x: '0 Beds' if len(x)>25 else x)"
   ]
  },
  {
   "cell_type": "markdown",
   "metadata": {},
   "source": [
    "Здесь небходим полный анализ данных, так как в признаке о спальнях присутствуют несвойственные данные для спальных комнат в акрах, измеримые для оценки земельных участков. Размеры в кв. футах допустимы, надо найти способ совместить с количеством комнат.\n",
    "* 1 acre = 4046,856 кв.м.\n",
    "* 1 acre = 43560 sqft \n",
    "* 1 sqft = 0,092903 кв.м.\n",
    "* acre_sqft = 43560"
   ]
  },
  {
   "cell_type": "code",
   "execution_count": 321,
   "metadata": {
    "execution": {
     "iopub.execute_input": "2022-04-14T18:35:56.329725Z",
     "iopub.status.busy": "2022-04-14T18:35:56.329431Z",
     "iopub.status.idle": "2022-04-14T18:35:56.334669Z",
     "shell.execute_reply": "2022-04-14T18:35:56.333991Z",
     "shell.execute_reply.started": "2022-04-14T18:35:56.329685Z"
    }
   },
   "outputs": [],
   "source": [
    "def is_num(x):\n",
    "    try:\n",
    "        float(x)\n",
    "        return True\n",
    "    except ValueError:\n",
    "        return False\n",
    "\n",
    "acre_sqft = 43560"
   ]
  },
  {
   "cell_type": "code",
   "execution_count": 322,
   "metadata": {
    "execution": {
     "iopub.execute_input": "2022-04-14T18:35:56.336265Z",
     "iopub.status.busy": "2022-04-14T18:35:56.335881Z",
     "iopub.status.idle": "2022-04-14T18:35:56.344983Z",
     "shell.execute_reply": "2022-04-14T18:35:56.344250Z",
     "shell.execute_reply.started": "2022-04-14T18:35:56.336231Z"
    }
   },
   "outputs": [],
   "source": [
    "def acre_to_sqft(x):\n",
    "    ed_izm = re.sub('[^A-Z a-z]', '', x).strip()\n",
    "    value = re.sub('[^0-9\\.]', '', x).strip()\n",
    "    if ed_izm=='acres' or ed_izm=='acre':\n",
    "        if is_num(value):\n",
    "            value = round(float(value)*acre_sqft, 1)\n",
    "            return str(value)+' '+ 'sqft'\n",
    "        else:\n",
    "            return value\n",
    "    if ed_izm=='sqft'  or ed_izm=='':\n",
    "        if is_num(value):\n",
    "            value = round(float(value), 1)\n",
    "            return str(value)+' '+ 'sqft'\n",
    "        else:\n",
    "            return value\n",
    "    if ed_izm =='Beds' or ed_izm=='Bath':\n",
    "        return x"
   ]
  },
  {
   "cell_type": "code",
   "execution_count": 323,
   "metadata": {
    "execution": {
     "iopub.execute_input": "2022-04-14T18:35:56.346597Z",
     "iopub.status.busy": "2022-04-14T18:35:56.346281Z",
     "iopub.status.idle": "2022-04-14T18:35:58.026552Z",
     "shell.execute_reply": "2022-04-14T18:35:58.025819Z",
     "shell.execute_reply.started": "2022-04-14T18:35:56.346562Z"
    }
   },
   "outputs": [],
   "source": [
    "df['beds'] = df['beds'].apply(acre_to_sqft)"
   ]
  },
  {
   "cell_type": "code",
   "execution_count": 324,
   "metadata": {
    "execution": {
     "iopub.execute_input": "2022-04-14T18:35:58.029886Z",
     "iopub.status.busy": "2022-04-14T18:35:58.029674Z",
     "iopub.status.idle": "2022-04-14T18:35:58.083534Z",
     "shell.execute_reply": "2022-04-14T18:35:58.082889Z",
     "shell.execute_reply.started": "2022-04-14T18:35:58.029860Z"
    }
   },
   "outputs": [],
   "source": [
    "df['beds'].value_counts()"
   ]
  },
  {
   "cell_type": "code",
   "execution_count": 325,
   "metadata": {
    "execution": {
     "iopub.execute_input": "2022-04-14T18:35:58.084882Z",
     "iopub.status.busy": "2022-04-14T18:35:58.084646Z",
     "iopub.status.idle": "2022-04-14T18:35:58.093142Z",
     "shell.execute_reply": "2022-04-14T18:35:58.092491Z",
     "shell.execute_reply.started": "2022-04-14T18:35:58.084849Z"
    }
   },
   "outputs": [],
   "source": [
    "# df['beds'].value_counts().index.tolist()"
   ]
  },
  {
   "cell_type": "markdown",
   "metadata": {},
   "source": [
    "Признак 'beds' - категориальный, но можно сделать числовым, разделив признак на два признака: 'count_beds' и 'sqft_beds'"
   ]
  },
  {
   "cell_type": "code",
   "execution_count": 326,
   "metadata": {
    "execution": {
     "iopub.execute_input": "2022-04-14T18:35:58.095192Z",
     "iopub.status.busy": "2022-04-14T18:35:58.094529Z",
     "iopub.status.idle": "2022-04-14T18:35:58.247022Z",
     "shell.execute_reply": "2022-04-14T18:35:58.246250Z",
     "shell.execute_reply.started": "2022-04-14T18:35:58.095156Z"
    }
   },
   "outputs": [],
   "source": [
    "df['sqft_beds'] = df['beds'].apply(lambda x: x if -1!=x.find('sqft') else '0')\n",
    "\n",
    "df['sqft_beds'].value_counts()"
   ]
  },
  {
   "cell_type": "code",
   "execution_count": 327,
   "metadata": {
    "execution": {
     "iopub.execute_input": "2022-04-14T18:35:58.248486Z",
     "iopub.status.busy": "2022-04-14T18:35:58.248224Z",
     "iopub.status.idle": "2022-04-14T18:35:58.471738Z",
     "shell.execute_reply": "2022-04-14T18:35:58.471057Z",
     "shell.execute_reply.started": "2022-04-14T18:35:58.248450Z"
    }
   },
   "outputs": [],
   "source": [
    "df['sqft_beds'] = df['beds'].apply(lambda x: float(re.sub('[^0-9\\.]', '', x).strip())\n",
    "                                   if -1!=x.find('sqft') else 0)"
   ]
  },
  {
   "cell_type": "code",
   "execution_count": 328,
   "metadata": {
    "execution": {
     "iopub.execute_input": "2022-04-14T18:35:58.474444Z",
     "iopub.status.busy": "2022-04-14T18:35:58.473979Z",
     "iopub.status.idle": "2022-04-14T18:35:58.484208Z",
     "shell.execute_reply": "2022-04-14T18:35:58.483375Z",
     "shell.execute_reply.started": "2022-04-14T18:35:58.474407Z"
    }
   },
   "outputs": [],
   "source": [
    "df['sqft_beds'].value_counts()"
   ]
  },
  {
   "cell_type": "code",
   "execution_count": 329,
   "metadata": {
    "execution": {
     "iopub.execute_input": "2022-04-14T18:35:58.485920Z",
     "iopub.status.busy": "2022-04-14T18:35:58.485639Z",
     "iopub.status.idle": "2022-04-14T18:35:58.604620Z",
     "shell.execute_reply": "2022-04-14T18:35:58.603932Z",
     "shell.execute_reply.started": "2022-04-14T18:35:58.485885Z"
    }
   },
   "outputs": [],
   "source": [
    "df['count_beds'] = df['beds'].apply(lambda x: x if (-1==x.find('sqft'))  else '0')"
   ]
  },
  {
   "cell_type": "code",
   "execution_count": 330,
   "metadata": {
    "execution": {
     "iopub.execute_input": "2022-04-14T18:35:58.606171Z",
     "iopub.status.busy": "2022-04-14T18:35:58.605931Z",
     "iopub.status.idle": "2022-04-14T18:35:58.658751Z",
     "shell.execute_reply": "2022-04-14T18:35:58.658098Z",
     "shell.execute_reply.started": "2022-04-14T18:35:58.606138Z"
    }
   },
   "outputs": [],
   "source": [
    "df['count_beds'].value_counts()"
   ]
  },
  {
   "cell_type": "code",
   "execution_count": 331,
   "metadata": {
    "execution": {
     "iopub.execute_input": "2022-04-14T18:35:58.660150Z",
     "iopub.status.busy": "2022-04-14T18:35:58.659846Z",
     "iopub.status.idle": "2022-04-14T18:35:59.963653Z",
     "shell.execute_reply": "2022-04-14T18:35:59.962896Z",
     "shell.execute_reply.started": "2022-04-14T18:35:58.660116Z"
    }
   },
   "outputs": [],
   "source": [
    "df['beds'] = df['beds'].apply(lambda x: '999 Beds' if -1!=x.find('Bath') else x)\n",
    "df['count_beds'] = df['beds'].apply(lambda x: float(re.sub('[^0-9\\.]', '', x).strip())\n",
    "                                   if -1!=x.find('Beds') else 0)"
   ]
  },
  {
   "cell_type": "code",
   "execution_count": 332,
   "metadata": {
    "execution": {
     "iopub.execute_input": "2022-04-14T18:35:59.965281Z",
     "iopub.status.busy": "2022-04-14T18:35:59.965038Z",
     "iopub.status.idle": "2022-04-14T18:35:59.977230Z",
     "shell.execute_reply": "2022-04-14T18:35:59.976606Z",
     "shell.execute_reply.started": "2022-04-14T18:35:59.965247Z"
    }
   },
   "outputs": [],
   "source": [
    "df['count_beds'].value_counts()"
   ]
  },
  {
   "cell_type": "markdown",
   "metadata": {},
   "source": [
    "Для признака  поставим значение 999 (большое число) вместо 'Bath' для того, чтобы подчеркнуть значимость совмещенных спальных комнат с ванной."
   ]
  },
  {
   "cell_type": "code",
   "execution_count": 333,
   "metadata": {
    "execution": {
     "iopub.execute_input": "2022-04-14T18:35:59.978792Z",
     "iopub.status.busy": "2022-04-14T18:35:59.978416Z",
     "iopub.status.idle": "2022-04-14T18:36:00.378183Z",
     "shell.execute_reply": "2022-04-14T18:36:00.377466Z",
     "shell.execute_reply.started": "2022-04-14T18:35:59.978757Z"
    }
   },
   "outputs": [],
   "source": [
    "df.info()"
   ]
  },
  {
   "cell_type": "code",
   "execution_count": 334,
   "metadata": {
    "execution": {
     "iopub.execute_input": "2022-04-14T18:36:00.379926Z",
     "iopub.status.busy": "2022-04-14T18:36:00.379359Z",
     "iopub.status.idle": "2022-04-14T18:36:00.474766Z",
     "shell.execute_reply": "2022-04-14T18:36:00.473933Z",
     "shell.execute_reply.started": "2022-04-14T18:36:00.379885Z"
    }
   },
   "outputs": [],
   "source": [
    "#  Удаляется признаки: вспомогательные, рабочие и расшипленные на отдельные признаки\n",
    "feature_drop = ['schools',  'homeFacts', 'beds']\n",
    "df.drop(feature_drop, axis=1, inplace=True)"
   ]
  },
  {
   "cell_type": "code",
   "execution_count": 335,
   "metadata": {
    "execution": {
     "iopub.execute_input": "2022-04-14T18:36:00.476451Z",
     "iopub.status.busy": "2022-04-14T18:36:00.476158Z",
     "iopub.status.idle": "2022-04-14T18:36:00.750174Z",
     "shell.execute_reply": "2022-04-14T18:36:00.749454Z",
     "shell.execute_reply.started": "2022-04-14T18:36:00.476413Z"
    }
   },
   "outputs": [],
   "source": [
    "df.info()"
   ]
  },
  {
   "cell_type": "markdown",
   "metadata": {},
   "source": [
    "Признак \"target\" надо преобразовать float"
   ]
  },
  {
   "cell_type": "markdown",
   "metadata": {},
   "source": [
    "# Результаты EDA"
   ]
  },
  {
   "cell_type": "markdown",
   "metadata": {},
   "source": [
    "Датасет очень \"грязный\". Цель -  максимально сохранить исходные данные. Поэтому пришлось изменить и исправить даже одиночные строки.\n",
    "* Слишком длительное время было уделено для чистки датасет.\n",
    "* В датасет очень большое число категориальных признаков. На следующем этапе, при выборе методов прогноза необходимо учитывать эту особенность проекта.\n",
    "* Следующим ответственным этапом будет подборка важных признаков и их типа, которые определяются с помощью модельных экспериментов. \n",
    "* Выбор модели для прогноза особой сложности не представляет.\n",
    "* Для прогнозных расчетов используется Kaggle.\n",
    "\n",
    "Окончательный результат постараюсь оформить в виде презентации."
   ]
  }
 ],
 "metadata": {
  "kernelspec": {
   "display_name": "Python 3",
   "language": "python",
   "name": "python3"
  },
  "language_info": {
   "codemirror_mode": {
    "name": "ipython",
    "version": 3
   },
   "file_extension": ".py",
   "mimetype": "text/x-python",
   "name": "python",
   "nbconvert_exporter": "python",
   "pygments_lexer": "ipython3",
   "version": "3.8.8"
  }
 },
 "nbformat": 4,
 "nbformat_minor": 4
}
