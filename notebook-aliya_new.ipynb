{
 "cells": [
  {
   "cell_type": "code",
   "execution_count": 1,
   "metadata": {
    "_cell_guid": "b1076dfc-b9ad-4769-8c92-a6c4dae69d19",
    "_uuid": "8f2839f25d086af736a60e9eeb907d3b93b6e0e5",
    "execution": {
     "iopub.execute_input": "2022-04-23T19:54:29.076566Z",
     "iopub.status.busy": "2022-04-23T19:54:29.076204Z",
     "iopub.status.idle": "2022-04-23T19:54:29.119969Z",
     "shell.execute_reply": "2022-04-23T19:54:29.119271Z",
     "shell.execute_reply.started": "2022-04-23T19:54:29.076481Z"
    }
   },
   "outputs": [],
   "source": [
    "# This Python 3 environment comes with many helpful analytics libraries installed\n",
    "# It is defined by the kaggle/python Docker image: https://github.com/kaggle/docker-python\n",
    "# For example, here's several helpful packages to load\n",
    "\n",
    "import numpy as np # linear algebra\n",
    "import pandas as pd # data processing, CSV file I/O (e.g. pd.read_csv)\n",
    "\n",
    "# Input data files are available in the read-only \"../input/\" directory\n",
    "# For example, running this (by clicking run or pressing Shift+Enter) will list all files under the input directory\n",
    "\n",
    "import os\n",
    "for dirname, _, filenames in os.walk('/kaggle/input'):\n",
    "    for filename in filenames:\n",
    "        print(os.path.join(dirname, filename))\n",
    "\n",
    "# You can write up to 20GB to the current directory (/kaggle/working/) that gets preserved as output when you create a version using \"Save & Run All\" \n",
    "# You can also write temporary files to /kaggle/temp/, but they won't be saved outside of the current session"
   ]
  },
  {
   "cell_type": "code",
   "execution_count": 2,
   "metadata": {
    "execution": {
     "iopub.execute_input": "2022-04-23T19:54:29.183863Z",
     "iopub.status.busy": "2022-04-23T19:54:29.183353Z",
     "iopub.status.idle": "2022-04-23T19:54:29.188350Z",
     "shell.execute_reply": "2022-04-23T19:54:29.187522Z",
     "shell.execute_reply.started": "2022-04-23T19:54:29.183833Z"
    }
   },
   "outputs": [],
   "source": [
    "import numpy as np\n",
    "import pandas as pd\n",
    "import json\n",
    "import re"
   ]
  },
  {
   "cell_type": "code",
   "execution_count": 3,
   "metadata": {
    "execution": {
     "iopub.execute_input": "2022-04-23T19:54:29.310982Z",
     "iopub.status.busy": "2022-04-23T19:54:29.310701Z",
     "iopub.status.idle": "2022-04-23T19:54:36.087349Z",
     "shell.execute_reply": "2022-04-23T19:54:36.086583Z",
     "shell.execute_reply.started": "2022-04-23T19:54:29.310954Z"
    }
   },
   "outputs": [],
   "source": [
    "data = pd.read_csv('/kaggle/input/house-prices/data.csv')"
   ]
  },
  {
   "cell_type": "code",
   "execution_count": 4,
   "metadata": {
    "execution": {
     "iopub.execute_input": "2022-04-23T19:54:36.091049Z",
     "iopub.status.busy": "2022-04-23T19:54:36.090848Z",
     "iopub.status.idle": "2022-04-23T19:54:36.117899Z",
     "shell.execute_reply": "2022-04-23T19:54:36.117196Z",
     "shell.execute_reply.started": "2022-04-23T19:54:36.091025Z"
    }
   },
   "outputs": [],
   "source": [
    "data.head(3)"
   ]
  },
  {
   "cell_type": "code",
   "execution_count": 5,
   "metadata": {
    "execution": {
     "iopub.execute_input": "2022-04-23T19:54:36.119281Z",
     "iopub.status.busy": "2022-04-23T19:54:36.119024Z",
     "iopub.status.idle": "2022-04-23T19:54:36.693331Z",
     "shell.execute_reply": "2022-04-23T19:54:36.692451Z",
     "shell.execute_reply.started": "2022-04-23T19:54:36.119247Z"
    }
   },
   "outputs": [],
   "source": [
    "data.info()"
   ]
  },
  {
   "cell_type": "code",
   "execution_count": 6,
   "metadata": {
    "execution": {
     "iopub.execute_input": "2022-04-23T19:54:36.695813Z",
     "iopub.status.busy": "2022-04-23T19:54:36.695491Z",
     "iopub.status.idle": "2022-04-23T19:54:36.701121Z",
     "shell.execute_reply": "2022-04-23T19:54:36.700420Z",
     "shell.execute_reply.started": "2022-04-23T19:54:36.695774Z"
    }
   },
   "outputs": [],
   "source": [
    "data.columns"
   ]
  },
  {
   "cell_type": "markdown",
   "metadata": {},
   "source": [
    "* 'status'\t    - статус, \n",
    "* 'private pool\t- частный бассейн, \n",
    "* 'propertyType'\t- тип недвижимости, поместья, свойства, \n",
    "* 'street'\t    - улица, \n",
    "* 'baths'         - бани,     \n",
    "* 'homeFacts'\t- домашние факты, сведения о доме\n",
    "* 'fireplace'\t- камин, \n",
    "* 'city'\t\t- город, \n",
    "* 'schools'\t- школы, \n",
    "* 'sqft'\t\t- квадратный фут, \n",
    "* 'zipcode'\t- почтовый индекс, \n",
    "* 'beds'\t\t- кровати, спальня\n",
    "* 'state'\t\t- государство, штаты, \n",
    "* 'stories'\t- рассказы--(этажность недвижимости)?, \n",
    "* 'mls-id'\t- млс-идентификатор, \n",
    "* 'PrivatePool'\t- Частный бассейн, \n",
    "* 'MlsId'\t\t- MlsId идентификатор,\n",
    "* 'target'\t- цель (цена недвижиости)* 'status'\t    - статус.\n"
   ]
  },
  {
   "cell_type": "markdown",
   "metadata": {},
   "source": [
    "## EDA"
   ]
  },
  {
   "cell_type": "markdown",
   "metadata": {},
   "source": [
    "#### Признак \"target\""
   ]
  },
  {
   "cell_type": "code",
   "execution_count": 7,
   "metadata": {
    "execution": {
     "iopub.execute_input": "2022-04-23T19:54:36.703055Z",
     "iopub.status.busy": "2022-04-23T19:54:36.702589Z",
     "iopub.status.idle": "2022-04-23T19:54:37.264183Z",
     "shell.execute_reply": "2022-04-23T19:54:37.263540Z",
     "shell.execute_reply.started": "2022-04-23T19:54:36.703017Z"
    }
   },
   "outputs": [],
   "source": [
    "data.isna().sum()/(data.shape[0]/100)"
   ]
  },
  {
   "cell_type": "markdown",
   "metadata": {},
   "source": [
    "Строки с пустыми значениями признака \"target\" надо удалять."
   ]
  },
  {
   "cell_type": "code",
   "execution_count": 8,
   "metadata": {
    "execution": {
     "iopub.execute_input": "2022-04-23T19:54:37.266914Z",
     "iopub.status.busy": "2022-04-23T19:54:37.266515Z",
     "iopub.status.idle": "2022-04-23T19:54:37.508737Z",
     "shell.execute_reply": "2022-04-23T19:54:37.508000Z",
     "shell.execute_reply.started": "2022-04-23T19:54:37.266877Z"
    }
   },
   "outputs": [],
   "source": [
    "data.drop(data[data.target.isna()].index, inplace=True)\n",
    "data = data.reset_index(drop=True)"
   ]
  },
  {
   "cell_type": "code",
   "execution_count": 9,
   "metadata": {
    "execution": {
     "iopub.execute_input": "2022-04-23T19:54:37.510597Z",
     "iopub.status.busy": "2022-04-23T19:54:37.510085Z",
     "iopub.status.idle": "2022-04-23T19:54:38.572735Z",
     "shell.execute_reply": "2022-04-23T19:54:38.571996Z",
     "shell.execute_reply.started": "2022-04-23T19:54:37.510551Z"
    }
   },
   "outputs": [],
   "source": [
    "def make_target(x):\n",
    "    x = re.sub('[^0-9]', '', x)\n",
    "    x = int(x)\n",
    "    return x\n",
    "\n",
    "data.target = data.target.apply(make_target)"
   ]
  },
  {
   "cell_type": "code",
   "execution_count": 10,
   "metadata": {
    "execution": {
     "iopub.execute_input": "2022-04-23T19:54:38.574587Z",
     "iopub.status.busy": "2022-04-23T19:54:38.574014Z",
     "iopub.status.idle": "2022-04-23T19:54:38.598718Z",
     "shell.execute_reply": "2022-04-23T19:54:38.597874Z",
     "shell.execute_reply.started": "2022-04-23T19:54:38.574548Z"
    }
   },
   "outputs": [],
   "source": [
    "data.target.describe()"
   ]
  },
  {
   "cell_type": "markdown",
   "metadata": {},
   "source": [
    "По содержанию будем предполагать, что признаки ['street', 'mls-id', 'MlsId', 'zipcode'] не должны сильно влиять на цену недвижимости. Поэтому удаляем этих признаков."
   ]
  },
  {
   "cell_type": "code",
   "execution_count": 11,
   "metadata": {
    "execution": {
     "iopub.execute_input": "2022-04-23T19:54:38.600375Z",
     "iopub.status.busy": "2022-04-23T19:54:38.600130Z",
     "iopub.status.idle": "2022-04-23T19:54:38.678057Z",
     "shell.execute_reply": "2022-04-23T19:54:38.677213Z",
     "shell.execute_reply.started": "2022-04-23T19:54:38.600342Z"
    }
   },
   "outputs": [],
   "source": [
    "cols_drop = ['street', 'zipcode',  'mls-id', 'MlsId']\n",
    "data.drop(cols_drop, axis=1, inplace=True)"
   ]
  },
  {
   "cell_type": "code",
   "execution_count": 12,
   "metadata": {
    "execution": {
     "iopub.execute_input": "2022-04-23T19:54:38.682043Z",
     "iopub.status.busy": "2022-04-23T19:54:38.681773Z",
     "iopub.status.idle": "2022-04-23T19:54:38.751103Z",
     "shell.execute_reply": "2022-04-23T19:54:38.750221Z",
     "shell.execute_reply.started": "2022-04-23T19:54:38.682003Z"
    }
   },
   "outputs": [],
   "source": [
    "df = data.copy()\n",
    "df.shape"
   ]
  },
  {
   "cell_type": "markdown",
   "metadata": {},
   "source": [
    "##### Если данные не качественные, то любая хорошая модель не поможет получить  хороший результат\n",
    "Для анализа данных признаков используются общие стандартные методы python, numpy, pandas, matplotlib, seaborn, модели sklearn, разные приемы парсинга. При необходимости придется анализировать данные построчно."
   ]
  },
  {
   "cell_type": "code",
   "execution_count": null,
   "metadata": {},
   "outputs": [],
   "source": []
  },
  {
   "cell_type": "markdown",
   "metadata": {},
   "source": [
    "#### Признак \"status\""
   ]
  },
  {
   "cell_type": "code",
   "execution_count": 13,
   "metadata": {
    "execution": {
     "iopub.execute_input": "2022-04-23T19:54:38.754424Z",
     "iopub.status.busy": "2022-04-23T19:54:38.753638Z",
     "iopub.status.idle": "2022-04-23T19:54:38.811657Z",
     "shell.execute_reply": "2022-04-23T19:54:38.810936Z",
     "shell.execute_reply.started": "2022-04-23T19:54:38.754363Z"
    }
   },
   "outputs": [],
   "source": [
    "df['status'].value_counts().index.tolist()"
   ]
  },
  {
   "cell_type": "code",
   "execution_count": 14,
   "metadata": {
    "execution": {
     "iopub.execute_input": "2022-04-23T19:54:38.813668Z",
     "iopub.status.busy": "2022-04-23T19:54:38.812862Z",
     "iopub.status.idle": "2022-04-23T19:54:38.857893Z",
     "shell.execute_reply": "2022-04-23T19:54:38.857151Z",
     "shell.execute_reply.started": "2022-04-23T19:54:38.813628Z"
    }
   },
   "outputs": [],
   "source": [
    "df['status'].nunique()"
   ]
  },
  {
   "cell_type": "markdown",
   "metadata": {},
   "source": [
    "'Pf' = 'Pre foreclosure'\n",
    "'Ps' = 'Pending Sale'\n",
    "'Bckp' = 'Backup'\n",
    "W/ Cont. = 'with contract' ???\n",
    "'insp' = 'inspection'"
   ]
  },
  {
   "cell_type": "code",
   "execution_count": 15,
   "metadata": {
    "execution": {
     "iopub.execute_input": "2022-04-23T19:54:38.859616Z",
     "iopub.status.busy": "2022-04-23T19:54:38.859242Z",
     "iopub.status.idle": "2022-04-23T19:54:38.916318Z",
     "shell.execute_reply": "2022-04-23T19:54:38.915589Z",
     "shell.execute_reply.started": "2022-04-23T19:54:38.859575Z"
    }
   },
   "outputs": [],
   "source": [
    "df['status'].value_counts()"
   ]
  },
  {
   "cell_type": "code",
   "execution_count": 16,
   "metadata": {
    "execution": {
     "iopub.execute_input": "2022-04-23T19:54:38.917851Z",
     "iopub.status.busy": "2022-04-23T19:54:38.917545Z",
     "iopub.status.idle": "2022-04-23T19:54:38.923954Z",
     "shell.execute_reply": "2022-04-23T19:54:38.922967Z",
     "shell.execute_reply.started": "2022-04-23T19:54:38.917815Z"
    }
   },
   "outputs": [],
   "source": [
    "def make_status(x):\n",
    "    if x.startswith('Coming soon'): x = 'coming soon'\n",
    "    x = x.replace('Showing', 'show')\n",
    "    x = x.replace('Pf', 'pre foreclosure')\n",
    "    x = x.replace('Ps', 'pending Sale')\n",
    "    x = x.replace('Bckp', 'backups')\n",
    "    # x = x.replace('insp', 'inspection')              \n",
    "    x = x.lower()\n",
    "    x = re.sub('[^a-z:]', ' ', x)\n",
    "    x = re.sub(r'\\b\\w{,2}\\b', '', x)\n",
    "    x = re.sub(r'\\s+', ' ', x)\n",
    "    return x.strip()"
   ]
  },
  {
   "cell_type": "code",
   "execution_count": 17,
   "metadata": {
    "execution": {
     "iopub.execute_input": "2022-04-23T19:54:38.925721Z",
     "iopub.status.busy": "2022-04-23T19:54:38.925469Z",
     "iopub.status.idle": "2022-04-23T19:54:41.585968Z",
     "shell.execute_reply": "2022-04-23T19:54:41.585275Z",
     "shell.execute_reply.started": "2022-04-23T19:54:38.925686Z"
    }
   },
   "outputs": [],
   "source": [
    "df['status'] = df['status'].fillna('other')\n",
    "df['status'] = df['status'].apply(make_status)\n",
    "\n",
    "df['status'].value_counts()"
   ]
  },
  {
   "cell_type": "code",
   "execution_count": 18,
   "metadata": {
    "execution": {
     "iopub.execute_input": "2022-04-23T19:54:41.587459Z",
     "iopub.status.busy": "2022-04-23T19:54:41.587070Z",
     "iopub.status.idle": "2022-04-23T19:54:41.592149Z",
     "shell.execute_reply": "2022-04-23T19:54:41.591464Z",
     "shell.execute_reply.started": "2022-04-23T19:54:41.587424Z"
    }
   },
   "outputs": [],
   "source": [
    "# df['status'].value_counts().index.tolist()"
   ]
  },
  {
   "cell_type": "markdown",
   "metadata": {
    "execution": {
     "iopub.execute_input": "2022-04-06T07:20:55.703553Z",
     "iopub.status.busy": "2022-04-06T07:20:55.702354Z",
     "iopub.status.idle": "2022-04-06T07:20:55.710667Z",
     "shell.execute_reply": "2022-04-06T07:20:55.709172Z",
     "shell.execute_reply.started": "2022-04-06T07:20:55.703458Z"
    }
   },
   "source": [
    "Термины, используемые в сфере продажи-покупки недвижимости:\n",
    "status - статус, состояние\n",
    "estate - недвижимость\n",
    "Multiple Listing Service (MLS) - Служба множественного листинга \n",
    "\n",
    "'foreclosed' - 'исключено', 'лишен права выкупа'\n",
    "'foreclosure' - 'выкупа'. — это процесс, когда ваша недвижимость переходит к кредитору из-за неуплаты Вами ипотечных выплат. Продажа foreclosure недвижимости отличается от традиционных продаж. \n",
    "Переход недвижимости в собственность залогодержателя если, по какой-либо причине, вы не можете выплачивать ваш mortgage\n",
    "Mortgage - ссуда в банке на недвижимость (Ипотека).\n",
    "\n",
    "'pre foreclosure' - «до выкупа»\n",
    "'pre foreclosure auction' - «аукцион до выкупа»\n",
    "\n",
    "'under contract showing',\n",
    "'under contract show',\n",
    "'under contract' - 'по договору',\n",
    "'active under contract' - «действующий по контракту»,\n",
    "\n",
    "'under contract backups' - резервное копирование по контракту,\n",
    "'active backup'  -  «активное резервное копирование»\n",
    "'backup contract' - «резервный контракт»\n",
    "'active backup' - «активное резервное копирование»\n",
    "\n",
    "'contingency' - 'непредвиденные обстоятельства'\n",
    "'contingency contract' - «контракт на случай непредвиденных обстоятельств»,\n",
    "'active contingency' - 'активное непредвиденное обстоятельство',\n",
    "'insp inspection contingency' - 'непредвиденные обстоятельства инспектирования'\n",
    "\n",
    "'pending escape clause' - 'ожидающая оговорка об освобождении'\n",
    "\n",
    "'pending backup wanted' - «требуется резервное копирование в ожидании»\n",
    "'pending take backups' - «ожидание создания резервных копий»\n",
    " \n",
    "'pending continue show financing' - 'в ожидании продолжения шоу финансирования'\n",
    "'pending continue show' - 'ожидание продолжения шоу'\n",
    "\n",
    "'pending insp finance' - 'в ожидании финансовой поддержки'\n",
    "'pending inspection' - \"в ожидании проверки\"\n",
    "\n",
    "'due diligence period' - «период должной осмотрительности»\n",
    "\n",
    "'activated' - активирован (active)\n",
    "\n",
    "'active with contract' - 'активен с контрактом'\n",
    "'active option' =\n",
    "= active with contract =\n",
    "= 'active option contract' =\n",
    "= contingency period =\n",
    "= due diligence period\n",
    "«активный вариант» - «активный опционный контракт»,\n",
    "In some states, the active option contract is referred to as a contingency period or due diligence period.\n",
    "\n",
    "'active with offer' - 'активен с предложением'\n",
    "\n",
    "\n",
    "'active auction',\n",
    "'auction active',\n",
    "'auction'\n",
    "\n",
    "contingency, contingencies - случайность, непредвиденные обстоятельства \n",
    "contingent - условный. В сфере недвижимости, когда дом указан как условный, это означает, что предложение было сделано и принято, но до завершения сделки должны быть выполнены некоторые дополнительные критерии. В сфере недвижимости, когда дом указан как условный, это означает, что предложение было сделано и принято, но до завершения сделки должны быть выполнены некоторые дополнительные критерии.\n",
    "\n",
    "cooling-off period - период обдумывание (период охлаждения)\n",
    "conditional offers - условные предложения\n"
   ]
  },
  {
   "cell_type": "code",
   "execution_count": 19,
   "metadata": {
    "execution": {
     "iopub.execute_input": "2022-04-23T19:54:41.594026Z",
     "iopub.status.busy": "2022-04-23T19:54:41.593749Z",
     "iopub.status.idle": "2022-04-23T19:54:41.688659Z",
     "shell.execute_reply": "2022-04-23T19:54:41.687841Z",
     "shell.execute_reply.started": "2022-04-23T19:54:41.593990Z"
    }
   },
   "outputs": [],
   "source": [
    "df['status'] = df['status'].apply(lambda x: 'other' if x=='' else x)"
   ]
  },
  {
   "cell_type": "code",
   "execution_count": 20,
   "metadata": {
    "execution": {
     "iopub.execute_input": "2022-04-23T19:54:41.692031Z",
     "iopub.status.busy": "2022-04-23T19:54:41.691814Z",
     "iopub.status.idle": "2022-04-23T19:54:41.749975Z",
     "shell.execute_reply": "2022-04-23T19:54:41.749264Z",
     "shell.execute_reply.started": "2022-04-23T19:54:41.692006Z"
    }
   },
   "outputs": [],
   "source": [
    "df['status'].value_counts()['continue show']"
   ]
  },
  {
   "cell_type": "code",
   "execution_count": 21,
   "metadata": {
    "execution": {
     "iopub.execute_input": "2022-04-23T19:54:41.752190Z",
     "iopub.status.busy": "2022-04-23T19:54:41.751313Z",
     "iopub.status.idle": "2022-04-23T19:54:42.188004Z",
     "shell.execute_reply": "2022-04-23T19:54:42.187291Z",
     "shell.execute_reply.started": "2022-04-23T19:54:41.752149Z"
    }
   },
   "outputs": [],
   "source": [
    "# Заменим некоторые слова для приобретения единой формы\n",
    "old_words = ['auction active', 'pending continue show financing', 'activated']\n",
    "new_words = ['active auction', 'pending continue show','active']\n",
    "\n",
    "for i in range(0,len(new_words)):\n",
    "    df['status'] = df['status'].apply(lambda x: \n",
    "                                    x.replace(old_words[i], new_words[i]))"
   ]
  },
  {
   "cell_type": "code",
   "execution_count": 22,
   "metadata": {
    "execution": {
     "iopub.execute_input": "2022-04-23T19:54:42.189678Z",
     "iopub.status.busy": "2022-04-23T19:54:42.189421Z",
     "iopub.status.idle": "2022-04-23T19:54:42.903561Z",
     "shell.execute_reply": "2022-04-23T19:54:42.902769Z",
     "shell.execute_reply.started": "2022-04-23T19:54:42.189644Z"
    }
   },
   "outputs": [],
   "source": [
    "new_string = ['active with contract', 'active option contract', \n",
    "              'contingency period', 'due diligence period']\n",
    "for i in range(0, len(new_string)):\n",
    "    df['status'] = df['status'].apply(lambda x: 'active option' \n",
    "                                    if (-1 != x.find(new_string[i])) else x)\n",
    "\n",
    "df['status'] = df['status'].apply(lambda x: 'for rent' \n",
    "                                        if (-1 != x.find('for rent')) else x)"
   ]
  },
  {
   "cell_type": "code",
   "execution_count": 23,
   "metadata": {
    "execution": {
     "iopub.execute_input": "2022-04-23T19:54:42.905539Z",
     "iopub.status.busy": "2022-04-23T19:54:42.905060Z",
     "iopub.status.idle": "2022-04-23T19:54:43.030199Z",
     "shell.execute_reply": "2022-04-23T19:54:43.029477Z",
     "shell.execute_reply.started": "2022-04-23T19:54:42.905497Z"
    }
   },
   "outputs": [],
   "source": [
    "df['status'] = df['status'].apply(lambda x: 'active auction' \n",
    "                                  if x=='auction' else x)\n",
    "df['status'].nunique()"
   ]
  },
  {
   "cell_type": "code",
   "execution_count": 24,
   "metadata": {
    "execution": {
     "iopub.execute_input": "2022-04-23T19:54:43.031867Z",
     "iopub.status.busy": "2022-04-23T19:54:43.031610Z",
     "iopub.status.idle": "2022-04-23T19:54:43.090154Z",
     "shell.execute_reply": "2022-04-23T19:54:43.089387Z",
     "shell.execute_reply.started": "2022-04-23T19:54:43.031833Z"
    }
   },
   "outputs": [],
   "source": [
    "df['status'].value_counts().index.tolist()"
   ]
  },
  {
   "cell_type": "code",
   "execution_count": 25,
   "metadata": {
    "execution": {
     "iopub.execute_input": "2022-04-23T19:54:43.092185Z",
     "iopub.status.busy": "2022-04-23T19:54:43.091700Z",
     "iopub.status.idle": "2022-04-23T19:54:43.098987Z",
     "shell.execute_reply": "2022-04-23T19:54:43.098269Z",
     "shell.execute_reply.started": "2022-04-23T19:54:43.092146Z"
    }
   },
   "outputs": [],
   "source": [
    "# df['status'].value_counts()"
   ]
  },
  {
   "cell_type": "markdown",
   "metadata": {},
   "source": [
    "Статусы недвижимости разнобразны - 72 вида. По ходу модельного эксперимента рассмотрим варианты уменьшения категории, выбрав топ 50 или 30 категории."
   ]
  },
  {
   "cell_type": "code",
   "execution_count": 26,
   "metadata": {
    "execution": {
     "iopub.execute_input": "2022-04-23T19:54:43.102544Z",
     "iopub.status.busy": "2022-04-23T19:54:43.101769Z",
     "iopub.status.idle": "2022-04-23T19:54:43.661475Z",
     "shell.execute_reply": "2022-04-23T19:54:43.660490Z",
     "shell.execute_reply.started": "2022-04-23T19:54:43.102355Z"
    }
   },
   "outputs": [],
   "source": [
    "top_status = df['status'].value_counts()[:50].index\n",
    "df['status'] = df['status'].apply(lambda x: x \n",
    "                                              if x in top_status else 'other')"
   ]
  },
  {
   "cell_type": "code",
   "execution_count": 27,
   "metadata": {
    "execution": {
     "iopub.execute_input": "2022-04-23T19:54:43.663383Z",
     "iopub.status.busy": "2022-04-23T19:54:43.662904Z",
     "iopub.status.idle": "2022-04-23T19:54:43.767250Z",
     "shell.execute_reply": "2022-04-23T19:54:43.766466Z",
     "shell.execute_reply.started": "2022-04-23T19:54:43.663345Z"
    }
   },
   "outputs": [],
   "source": [
    "df['status'].value_counts()"
   ]
  },
  {
   "cell_type": "code",
   "execution_count": null,
   "metadata": {},
   "outputs": [],
   "source": []
  },
  {
   "cell_type": "markdown",
   "metadata": {},
   "source": [
    "#### Признак \"propertyType\""
   ]
  },
  {
   "cell_type": "markdown",
   "metadata": {},
   "source": [
    "Типы домов, жилищ, и их основные характеристики:\n",
    "1. Apartment - Квартира\n",
    "2. Condo - Квартира (Кондоминиум)\n",
    "3. Co-Op - Совместная (Кооперативная квартира)\n",
    "4. Single-Family (Detached)\n",
    "5. Tiny Home -  Односемейный (маленький, отдельный)\n",
    "6.  Townhome, Townhouse \n",
    "7. Cape Cod - черепица, деревянный сайдинг, центральная дверь с окнами по бокам, 1-2 этажf.\n",
    "8. Colonial home - Два этажа с лишним, симметричный, центральная лестница, формальный вид. Different types include English, French, Dutch, Georgian, Spanish and American (which closely resembles English) colonials.\n",
    "9. Contemporary  - Основные характеристики: Чистые, простые линии; нейтральные цвета; натуральные текстуры \n",
    "10. Cottage - Уютная, небольшая веранда; небольшие жилые помещения; индивидуальный характер.\n",
    "11. Craftsman - \"ремесленник\"\n",
    "    элементы ручной работы из дерева, выступающие балки, большие колонны.\n",
    "12. Greek Revival - \n",
    "     большие белые колонны, украшения в греческом стиле, парадный вход.\n",
    "13. Farmhouse -  \n",
    "    деревенское, прямоугольное, большое крыльцо, крыши в стиле сарая и особенности.\n",
    "14. French Country - \n",
    "    влияние прованса, каменный внешний вид, состаренный вид.\n",
    "15. Mediterranean - белая штукатурка, теплое дерево и камень, черепичные крыши, есть элементы испанских и итальянских вилл.\n",
    "16. Midcentury Modern - \n",
    "    сочетание органики и геометрии, гладкий, лаконичный, большие окна.\n",
    "17. Ranch - \n",
    "     один этаж, низкая крыша, открытые жилые помещения, задний двор.\n",
    "18. Split-Level - \n",
    "    Жилые помещения разделены короткими лестничными пролетами.\n",
    "19. Tudor - \n",
    "    Деревянный каркас, каменная кладка, ассимметричные, крутые двускатные крыши.\n",
    "20. Victorian (Queen Anne Houses) - два-три этажа, богато украшенные крутые\n",
    "    двускатные крыши, небольшие башни, яркие фасады.\n",
    "\n",
    "Источник:\n",
    "https://www.rocketmortgage.com/learn/types-of-houses\n",
    "\n",
    "Europian Houses style - \n",
    "    часто используют кирпич или камень и включают в себя высокие крутые крыши, высокие окна, часто со ставнями, и традиционные декоративные детали, такие как фронтоны и замковые камни.\n",
    "\n",
    "log home - деревяный дом\n",
    "    \n",
    "mortgage - ипотека\n",
    "\n",
    "\n",
    "Некоторые жаргонные сокращения, для исправления.\n",
    "\n",
    "'farms/ranches' - 1-2 story\n",
    "  \n",
    "less than 4 floors == 3 story\n",
    "'4+ floors'\n",
    "\n",
    "* cluster home\n",
    "* modular\n",
    "* prefab\n",
    "* manufactured home (house)  = mobile | prefab | modular\n",
    "* transitional - внутри домашний стиль\n",
    "\n",
    "* mo2 le - mobile\n",
    "* mo2le  - mobile\n",
    "* 'ca2 n' - cabin\n",
    "\n",
    "* midcentury\n",
    "* mid century\n",
    "* mid-century"
   ]
  },
  {
   "cell_type": "code",
   "execution_count": 28,
   "metadata": {
    "execution": {
     "iopub.execute_input": "2022-04-23T19:54:43.775952Z",
     "iopub.status.busy": "2022-04-23T19:54:43.775331Z",
     "iopub.status.idle": "2022-04-23T19:54:43.783971Z",
     "shell.execute_reply": "2022-04-23T19:54:43.782947Z",
     "shell.execute_reply.started": "2022-04-23T19:54:43.775910Z"
    }
   },
   "outputs": [],
   "source": [
    "df.shape"
   ]
  },
  {
   "cell_type": "code",
   "execution_count": 29,
   "metadata": {
    "execution": {
     "iopub.execute_input": "2022-04-23T19:54:43.790370Z",
     "iopub.status.busy": "2022-04-23T19:54:43.789215Z",
     "iopub.status.idle": "2022-04-23T19:54:43.891038Z",
     "shell.execute_reply": "2022-04-23T19:54:43.890240Z",
     "shell.execute_reply.started": "2022-04-23T19:54:43.790327Z"
    }
   },
   "outputs": [],
   "source": [
    "df['propertyType'].isna().sum()"
   ]
  },
  {
   "cell_type": "code",
   "execution_count": 30,
   "metadata": {
    "execution": {
     "iopub.execute_input": "2022-04-23T19:54:43.905928Z",
     "iopub.status.busy": "2022-04-23T19:54:43.905257Z",
     "iopub.status.idle": "2022-04-23T19:54:44.383627Z",
     "shell.execute_reply": "2022-04-23T19:54:44.382906Z",
     "shell.execute_reply.started": "2022-04-23T19:54:43.905890Z"
    }
   },
   "outputs": [],
   "source": [
    "df['propertyType'] = df['propertyType'].fillna('no data')\n",
    "df['propertyType'] = df['propertyType'].apply(lambda x: 'no data' \n",
    "                                        if x ==' ' or x=='unknown' else x)\n",
    "df['propertyType'] = df['propertyType'].apply(lambda x: x.lower())\n",
    "\n",
    "df['propertyType'].value_counts()"
   ]
  },
  {
   "cell_type": "code",
   "execution_count": 31,
   "metadata": {
    "execution": {
     "iopub.execute_input": "2022-04-23T19:54:44.389323Z",
     "iopub.status.busy": "2022-04-23T19:54:44.387476Z",
     "iopub.status.idle": "2022-04-23T19:54:44.479203Z",
     "shell.execute_reply": "2022-04-23T19:54:44.478318Z",
     "shell.execute_reply.started": "2022-04-23T19:54:44.389284Z"
    }
   },
   "outputs": [],
   "source": [
    "df['propertyType'].value_counts()['singlefamilyresidence']"
   ]
  },
  {
   "cell_type": "code",
   "execution_count": 32,
   "metadata": {
    "execution": {
     "iopub.execute_input": "2022-04-23T19:54:44.485275Z",
     "iopub.status.busy": "2022-04-23T19:54:44.483354Z",
     "iopub.status.idle": "2022-04-23T19:54:44.601427Z",
     "shell.execute_reply": "2022-04-23T19:54:44.600796Z",
     "shell.execute_reply.started": "2022-04-23T19:54:44.485238Z"
    }
   },
   "outputs": [],
   "source": [
    "df['propertyType'].value_counts().index.tolist()"
   ]
  },
  {
   "cell_type": "code",
   "execution_count": 33,
   "metadata": {
    "execution": {
     "iopub.execute_input": "2022-04-23T19:54:44.606914Z",
     "iopub.status.busy": "2022-04-23T19:54:44.605053Z",
     "iopub.status.idle": "2022-04-23T19:54:44.694274Z",
     "shell.execute_reply": "2022-04-23T19:54:44.693541Z",
     "shell.execute_reply.started": "2022-04-23T19:54:44.606876Z"
    }
   },
   "outputs": [],
   "source": [
    "df['propertyType'].value_counts()['yes']"
   ]
  },
  {
   "cell_type": "markdown",
   "metadata": {},
   "source": [
    "Строки с \"land\" значением признака 'propertyType' удаляем. Так как нам необходимо оценить недвижимость. Земельный участок нас не интересует. "
   ]
  },
  {
   "cell_type": "code",
   "execution_count": 34,
   "metadata": {
    "execution": {
     "iopub.execute_input": "2022-04-23T19:54:44.701880Z",
     "iopub.status.busy": "2022-04-23T19:54:44.700005Z",
     "iopub.status.idle": "2022-04-23T19:54:45.089188Z",
     "shell.execute_reply": "2022-04-23T19:54:45.088460Z",
     "shell.execute_reply.started": "2022-04-23T19:54:44.701844Z"
    }
   },
   "outputs": [],
   "source": [
    "df['propertyType'] = df['propertyType'].apply(lambda x: x.replace('lot/land', 'land'))\n",
    "df['propertyType'] = df['propertyType'].apply(lambda x: 'land' if (-1 != x.find('land')) else x)"
   ]
  },
  {
   "cell_type": "code",
   "execution_count": 35,
   "metadata": {
    "execution": {
     "iopub.execute_input": "2022-04-23T19:54:45.090683Z",
     "iopub.status.busy": "2022-04-23T19:54:45.090397Z",
     "iopub.status.idle": "2022-04-23T19:54:45.161766Z",
     "shell.execute_reply": "2022-04-23T19:54:45.161092Z",
     "shell.execute_reply.started": "2022-04-23T19:54:45.090648Z"
    }
   },
   "outputs": [],
   "source": [
    "ind_land_drop = df[df['propertyType']=='land'].index\n",
    "ind_land_drop"
   ]
  },
  {
   "cell_type": "code",
   "execution_count": 36,
   "metadata": {
    "execution": {
     "iopub.execute_input": "2022-04-23T19:54:45.163352Z",
     "iopub.status.busy": "2022-04-23T19:54:45.163110Z",
     "iopub.status.idle": "2022-04-23T19:54:45.342809Z",
     "shell.execute_reply": "2022-04-23T19:54:45.342066Z",
     "shell.execute_reply.started": "2022-04-23T19:54:45.163319Z"
    }
   },
   "outputs": [],
   "source": [
    "df.drop(ind_land_drop,  inplace=True)\n",
    "df = df.reset_index(drop=True)"
   ]
  },
  {
   "cell_type": "markdown",
   "metadata": {},
   "source": [
    "Содержимое признака небрежно заполнено и данные очень разнообразны, и требуют сложного парсинга содежимого признака.\n",
    "Заменим некоторые сокрашенные слова, расшифруем и заменим синонимы на более общепринятые."
   ]
  },
  {
   "cell_type": "code",
   "execution_count": 37,
   "metadata": {
    "execution": {
     "iopub.execute_input": "2022-04-23T19:54:45.344458Z",
     "iopub.status.busy": "2022-04-23T19:54:45.344200Z",
     "iopub.status.idle": "2022-04-23T19:54:50.936426Z",
     "shell.execute_reply": "2022-04-23T19:54:50.935624Z",
     "shell.execute_reply.started": "2022-04-23T19:54:45.344425Z"
    }
   },
   "outputs": [],
   "source": [
    "old = ['one', 'two', '2-', 'stories', '1 1/2', 'tri-', 'single family',\n",
    "       'singlefamilyresidence', 'townhome',   'bi', 'bi-', 'multi family', \n",
    "       'hi-', 'high ', 'condominium',  '4 plex', 'other', 'ca2 n', 'cape cod',\n",
    "       'mid century', 'mid-century',  'mo2 le', 'mo2le', ' / ','mfd',   \n",
    "       'co-op', 'coop',  'modernist', 'key west', 'farm house',\n",
    "       'queen anne', ' -level', 'floors', 'mobile home', 'manuf/mobile',\n",
    "       'less than 4 story', 'historic/older', 'quad']\n",
    "new = ['1', '2', '2 ', 'story',  '1.5', '3 ', 'single-family',\n",
    "       'single-family', 'townhouse',  '2 ', '2 ',  'multi-family',\n",
    "       'high-', 'high-', 'condo',  '4-plex', 'other style', 'cabin', 'cape', \n",
    "       'midcentury', 'midcentury', 'mobile', 'mobile', '/', 'manufactured', \n",
    "        'cooperative', 'cooperative',  'modern', 'elevated', 'farmhouse',\n",
    "        'victorian', ' level',  'story', 'manufactured', 'manufactured',\n",
    "        '3 story', 'historical', '4']\n",
    "for i in range(0,len(new)):\n",
    "    df['propertyType'] = df['propertyType'].apply(lambda x: \n",
    "                                                  x.replace(old[i], new[i]))"
   ]
  },
  {
   "cell_type": "code",
   "execution_count": 38,
   "metadata": {
    "execution": {
     "iopub.execute_input": "2022-04-23T19:54:50.938253Z",
     "iopub.status.busy": "2022-04-23T19:54:50.937939Z",
     "iopub.status.idle": "2022-04-23T19:54:51.004931Z",
     "shell.execute_reply": "2022-04-23T19:54:51.004017Z",
     "shell.execute_reply.started": "2022-04-23T19:54:50.938214Z"
    }
   },
   "outputs": [],
   "source": [
    "df['propertyType'].value_counts()"
   ]
  },
  {
   "cell_type": "code",
   "execution_count": 39,
   "metadata": {
    "execution": {
     "iopub.execute_input": "2022-04-23T19:54:51.007318Z",
     "iopub.status.busy": "2022-04-23T19:54:51.006655Z",
     "iopub.status.idle": "2022-04-23T19:54:51.010801Z",
     "shell.execute_reply": "2022-04-23T19:54:51.010147Z",
     "shell.execute_reply.started": "2022-04-23T19:54:51.007164Z"
    }
   },
   "outputs": [],
   "source": [
    "# df['propertyType'].value_counts().index.tolist() "
   ]
  },
  {
   "cell_type": "code",
   "execution_count": 40,
   "metadata": {
    "execution": {
     "iopub.execute_input": "2022-04-23T19:54:51.012706Z",
     "iopub.status.busy": "2022-04-23T19:54:51.012213Z",
     "iopub.status.idle": "2022-04-23T19:54:51.149941Z",
     "shell.execute_reply": "2022-04-23T19:54:51.149227Z",
     "shell.execute_reply.started": "2022-04-23T19:54:51.012667Z"
    }
   },
   "outputs": [],
   "source": [
    "# В признаке 'propertyType' много сведений об этажности домов\n",
    "# Выделим все  эти данные\n",
    "# Это небходимо для уточнения и дополнения признака 'stories'\n",
    "df['Property_story'] = df['propertyType'].apply(lambda x: \n",
    "                                        x if -1!= x.find('story') else 'no')"
   ]
  },
  {
   "cell_type": "code",
   "execution_count": 41,
   "metadata": {
    "execution": {
     "iopub.execute_input": "2022-04-23T19:54:51.151258Z",
     "iopub.status.busy": "2022-04-23T19:54:51.151024Z",
     "iopub.status.idle": "2022-04-23T19:54:51.193779Z",
     "shell.execute_reply": "2022-04-23T19:54:51.193009Z",
     "shell.execute_reply.started": "2022-04-23T19:54:51.151226Z"
    }
   },
   "outputs": [],
   "source": [
    "df['Property_story'].value_counts()"
   ]
  },
  {
   "cell_type": "code",
   "execution_count": 42,
   "metadata": {
    "execution": {
     "iopub.execute_input": "2022-04-23T19:54:51.195633Z",
     "iopub.status.busy": "2022-04-23T19:54:51.195344Z",
     "iopub.status.idle": "2022-04-23T19:54:51.200988Z",
     "shell.execute_reply": "2022-04-23T19:54:51.200278Z",
     "shell.execute_reply.started": "2022-04-23T19:54:51.195597Z"
    }
   },
   "outputs": [],
   "source": [
    "# df['Property_story'].value_counts().index.tolist()"
   ]
  },
  {
   "cell_type": "code",
   "execution_count": 43,
   "metadata": {
    "execution": {
     "iopub.execute_input": "2022-04-23T19:54:51.203098Z",
     "iopub.status.busy": "2022-04-23T19:54:51.202595Z",
     "iopub.status.idle": "2022-04-23T19:54:51.438373Z",
     "shell.execute_reply": "2022-04-23T19:54:51.437697Z",
     "shell.execute_reply.started": "2022-04-23T19:54:51.203060Z"
    }
   },
   "outputs": [],
   "source": [
    "# Dыделим индексы строк, имеющие данные об этажности\n",
    "ind_story = df[df['Property_story']!='no'].index\n",
    "ind_story"
   ]
  },
  {
   "cell_type": "code",
   "execution_count": 44,
   "metadata": {
    "execution": {
     "iopub.execute_input": "2022-04-23T19:54:51.439958Z",
     "iopub.status.busy": "2022-04-23T19:54:51.439656Z",
     "iopub.status.idle": "2022-04-23T19:54:51.451213Z",
     "shell.execute_reply": "2022-04-23T19:54:51.450469Z",
     "shell.execute_reply.started": "2022-04-23T19:54:51.439921Z"
    }
   },
   "outputs": [],
   "source": [
    "df['stories'][ind_story].value_counts()"
   ]
  },
  {
   "cell_type": "code",
   "execution_count": 45,
   "metadata": {
    "execution": {
     "iopub.execute_input": "2022-04-23T19:54:51.452866Z",
     "iopub.status.busy": "2022-04-23T19:54:51.452552Z",
     "iopub.status.idle": "2022-04-23T19:54:51.467311Z",
     "shell.execute_reply": "2022-04-23T19:54:51.466664Z",
     "shell.execute_reply.started": "2022-04-23T19:54:51.452830Z"
    }
   },
   "outputs": [],
   "source": [
    "df['Property_story'][ind_story].value_counts().index.tolist()"
   ]
  },
  {
   "cell_type": "code",
   "execution_count": 46,
   "metadata": {
    "execution": {
     "iopub.execute_input": "2022-04-23T19:54:51.468984Z",
     "iopub.status.busy": "2022-04-23T19:54:51.468578Z",
     "iopub.status.idle": "2022-04-23T19:54:51.501011Z",
     "shell.execute_reply": "2022-04-23T19:54:51.500382Z",
     "shell.execute_reply.started": "2022-04-23T19:54:51.468950Z"
    }
   },
   "outputs": [],
   "source": [
    "# Оставляем сведения только относящиеся к этажности и записываем в признак 'stories'\n",
    "def story(x):\n",
    "    s = x.split(',')\n",
    "    se = ''\n",
    "    for i in range(0, len(s)):\n",
    "        if s[i].find('story')!=-1:\n",
    "            se = s[i]\n",
    "    return se.strip()\n",
    "\n",
    "df.loc[ind_story, 'stories'] = df['Property_story'][ind_story].apply(story)\n",
    "df['stories'][ind_story].value_counts()"
   ]
  },
  {
   "cell_type": "code",
   "execution_count": 47,
   "metadata": {
    "execution": {
     "iopub.execute_input": "2022-04-23T19:54:51.503544Z",
     "iopub.status.busy": "2022-04-23T19:54:51.501941Z",
     "iopub.status.idle": "2022-04-23T19:54:51.536232Z",
     "shell.execute_reply": "2022-04-23T19:54:51.535394Z",
     "shell.execute_reply.started": "2022-04-23T19:54:51.503507Z"
    }
   },
   "outputs": [],
   "source": [
    "# Очищаем от слов, относящихся к типам домов и записываем в признак 'stories'\n",
    "del_str = ['/ranch', 'manufactured', 'coastal', 'traditional', 'condo']\n",
    "\n",
    "def del_substr(x):\n",
    "    for i in range(0, len(del_str)):\n",
    "        x = x.replace(del_str[i], '').strip()\n",
    "    return x\n",
    "\n",
    "df.loc[ind_story, 'stories'] = df['stories'][ind_story].apply(del_substr)\n",
    "df['stories'][ind_story].value_counts()"
   ]
  },
  {
   "cell_type": "code",
   "execution_count": 48,
   "metadata": {
    "execution": {
     "iopub.execute_input": "2022-04-23T19:54:51.538039Z",
     "iopub.status.busy": "2022-04-23T19:54:51.537608Z",
     "iopub.status.idle": "2022-04-23T19:54:51.544396Z",
     "shell.execute_reply": "2022-04-23T19:54:51.543726Z",
     "shell.execute_reply.started": "2022-04-23T19:54:51.538004Z"
    }
   },
   "outputs": [],
   "source": [
    "# Удаление сведений, относящихся к этажности для перезаписи в признак 'propertyType'\n",
    "def type_del_story(x):\n",
    "    s = x.split(',')\n",
    "    for i in range(0, len(s)):\n",
    "        if s[i].find('story')!=-1:\n",
    "            if len(s)==1 and i==0:\n",
    "                s[i] = 'other'\n",
    "            if len(s)>1:\n",
    "                s[i] = ','\n",
    "            if len(s)>1 and i==0:\n",
    "                s[i]=''\n",
    "        x = '' .join(s).strip()\n",
    "    return x"
   ]
  },
  {
   "cell_type": "code",
   "execution_count": 49,
   "metadata": {
    "execution": {
     "iopub.execute_input": "2022-04-23T19:54:51.547560Z",
     "iopub.status.busy": "2022-04-23T19:54:51.547325Z",
     "iopub.status.idle": "2022-04-23T19:54:51.597909Z",
     "shell.execute_reply": "2022-04-23T19:54:51.597120Z",
     "shell.execute_reply.started": "2022-04-23T19:54:51.547529Z"
    }
   },
   "outputs": [],
   "source": [
    "df.loc[ind_story, 'propertyType'] = df['Property_story'][ind_story].apply(type_del_story)\n",
    "\n",
    "df['propertyType'][ind_story].value_counts()"
   ]
  },
  {
   "cell_type": "code",
   "execution_count": 50,
   "metadata": {
    "execution": {
     "iopub.execute_input": "2022-04-23T19:54:51.600184Z",
     "iopub.status.busy": "2022-04-23T19:54:51.599984Z",
     "iopub.status.idle": "2022-04-23T19:54:51.681985Z",
     "shell.execute_reply": "2022-04-23T19:54:51.680388Z",
     "shell.execute_reply.started": "2022-04-23T19:54:51.600159Z"
    }
   },
   "outputs": [],
   "source": [
    "df.drop('Property_story', axis=1, inplace=True)"
   ]
  },
  {
   "cell_type": "markdown",
   "metadata": {},
   "source": [
    "Далее в полях признака 'propertyType' оставляем основные типы домов, жилищ"
   ]
  },
  {
   "cell_type": "code",
   "execution_count": 51,
   "metadata": {
    "execution": {
     "iopub.execute_input": "2022-04-23T19:54:51.685163Z",
     "iopub.status.busy": "2022-04-23T19:54:51.684845Z",
     "iopub.status.idle": "2022-04-23T19:54:57.490091Z",
     "shell.execute_reply": "2022-04-23T19:54:57.489334Z",
     "shell.execute_reply.started": "2022-04-23T19:54:51.685102Z"
    }
   },
   "outputs": [],
   "source": [
    "# Присвоение полям новых названий в соответствии с найденной подстрокой\n",
    "new = ['mediterranean', 'english', 'georgian', 'florida','spanish',\n",
    "        'lake house', 'tudor', 'victorian', 'ranch', 'townhouse', \n",
    "        'single-family','multi-family', 'single detached', 'detached', \n",
    "        'high-rise', 'colonial', 'traditional',\n",
    "        'condo', 'contemporary', 'other style', 'bungalow', 'craftsman',\n",
    "        'cape cod','cooperative', 'a-frame',  'custom', 'loft', \n",
    "        'multi-level', 'attached', 'manufactured',  'side-by-side', \n",
    "        'cottage',  'french', 'cluster home', 'garden home', \n",
    "        'farmhouse', 'elevated',  'historical', 'transitional','penthouse',\n",
    "        'modern']\n",
    "\n",
    "for i in range(0, len(new)):\n",
    "    df['propertyType'] = df['propertyType'].apply(lambda x: new[i] \n",
    "                                            if (-1 != x.find(new[i])) else x)"
   ]
  },
  {
   "cell_type": "code",
   "execution_count": 52,
   "metadata": {
    "execution": {
     "iopub.execute_input": "2022-04-23T19:54:57.491877Z",
     "iopub.status.busy": "2022-04-23T19:54:57.491603Z",
     "iopub.status.idle": "2022-04-23T19:54:57.861862Z",
     "shell.execute_reply": "2022-04-23T19:54:57.861111Z",
     "shell.execute_reply.started": "2022-04-23T19:54:57.491842Z"
    }
   },
   "outputs": [],
   "source": [
    "#  Присвоение  полям новых значений с изменением\n",
    "old = ['cape','log']\n",
    "new = ['cape cod','log home']\n",
    "\n",
    "for i in range(0,len(new)):\n",
    "    df['propertyType'] = df['propertyType'].apply(lambda x: new[i] \n",
    "                                              if -1!=x.find(old[i])  else x)\n",
    "df['propertyType'] = df['propertyType'].apply(lambda x: 'historical'\n",
    "                        if (x=='historic') or (x=='historic vintage') else x)"
   ]
  },
  {
   "cell_type": "code",
   "execution_count": 53,
   "metadata": {
    "execution": {
     "iopub.execute_input": "2022-04-23T19:54:57.863296Z",
     "iopub.status.busy": "2022-04-23T19:54:57.863038Z",
     "iopub.status.idle": "2022-04-23T19:54:57.912104Z",
     "shell.execute_reply": "2022-04-23T19:54:57.911327Z",
     "shell.execute_reply.started": "2022-04-23T19:54:57.863262Z"
    }
   },
   "outputs": [],
   "source": [
    "df['propertyType'].value_counts()"
   ]
  },
  {
   "cell_type": "code",
   "execution_count": 54,
   "metadata": {
    "execution": {
     "iopub.execute_input": "2022-04-23T19:54:57.913948Z",
     "iopub.status.busy": "2022-04-23T19:54:57.913492Z",
     "iopub.status.idle": "2022-04-23T19:54:57.921199Z",
     "shell.execute_reply": "2022-04-23T19:54:57.920454Z",
     "shell.execute_reply.started": "2022-04-23T19:54:57.913907Z"
    }
   },
   "outputs": [],
   "source": [
    "# df['propertyType'].value_counts().index.tolist() "
   ]
  },
  {
   "cell_type": "markdown",
   "metadata": {},
   "source": [
    "Непонятные значения признака 'propertyType':\n",
    "'no data' - эти данные - NaN\n",
    "'camp', 'end unit', 'yes' - что эти данные означают для  типов квартир и домов?\n",
    "\n",
    "Привести к единым данным:\n",
    "\n",
    "'no data' = 'other style' = 'other' ?!"
   ]
  },
  {
   "cell_type": "code",
   "execution_count": 55,
   "metadata": {
    "execution": {
     "iopub.execute_input": "2022-04-23T19:54:57.922592Z",
     "iopub.status.busy": "2022-04-23T19:54:57.922341Z",
     "iopub.status.idle": "2022-04-23T19:54:58.026645Z",
     "shell.execute_reply": "2022-04-23T19:54:58.025789Z",
     "shell.execute_reply.started": "2022-04-23T19:54:57.922565Z"
    }
   },
   "outputs": [],
   "source": [
    "df['propertyType'] = df['propertyType'].apply(lambda x: 'other style' \n",
    "                            if (x=='no data') or (x=='other')  else x)"
   ]
  },
  {
   "cell_type": "code",
   "execution_count": 56,
   "metadata": {
    "execution": {
     "iopub.execute_input": "2022-04-23T19:54:58.028641Z",
     "iopub.status.busy": "2022-04-23T19:54:58.028237Z",
     "iopub.status.idle": "2022-04-23T19:54:58.308035Z",
     "shell.execute_reply": "2022-04-23T19:54:58.307296Z",
     "shell.execute_reply.started": "2022-04-23T19:54:58.028604Z"
    }
   },
   "outputs": [],
   "source": [
    "# С целью уменьшения числа категорий, выберем топ 50 или топ 100 типов стилей домов.\n",
    "top_Type = df['propertyType'].value_counts()[:50].index\n",
    "df['propertyType'] = df['propertyType'].apply(lambda x: x \n",
    "                                            if x in top_Type else 'other style')"
   ]
  },
  {
   "cell_type": "code",
   "execution_count": 57,
   "metadata": {
    "execution": {
     "iopub.execute_input": "2022-04-23T19:54:58.309511Z",
     "iopub.status.busy": "2022-04-23T19:54:58.309242Z",
     "iopub.status.idle": "2022-04-23T19:54:58.352927Z",
     "shell.execute_reply": "2022-04-23T19:54:58.352075Z",
     "shell.execute_reply.started": "2022-04-23T19:54:58.309476Z"
    }
   },
   "outputs": [],
   "source": [
    "df['propertyType'].value_counts()"
   ]
  },
  {
   "cell_type": "code",
   "execution_count": null,
   "metadata": {},
   "outputs": [],
   "source": []
  },
  {
   "cell_type": "markdown",
   "metadata": {},
   "source": [
    "#### Признак \"stories\""
   ]
  },
  {
   "cell_type": "markdown",
   "metadata": {},
   "source": [
    "Признаки 'stories' и 'propertyType' необходимо рассмотреь совместно, так как в признаке 'propertyType' приведены данные об этажности домов, которые относятся к признаку 'stories'."
   ]
  },
  {
   "cell_type": "code",
   "execution_count": 58,
   "metadata": {
    "execution": {
     "iopub.execute_input": "2022-04-23T19:54:58.354567Z",
     "iopub.status.busy": "2022-04-23T19:54:58.354216Z",
     "iopub.status.idle": "2022-04-23T19:54:58.398024Z",
     "shell.execute_reply": "2022-04-23T19:54:58.397265Z",
     "shell.execute_reply.started": "2022-04-23T19:54:58.354529Z"
    }
   },
   "outputs": [],
   "source": [
    "df['stories'].value_counts()"
   ]
  },
  {
   "cell_type": "code",
   "execution_count": 59,
   "metadata": {
    "execution": {
     "iopub.execute_input": "2022-04-23T19:54:58.399451Z",
     "iopub.status.busy": "2022-04-23T19:54:58.399185Z",
     "iopub.status.idle": "2022-04-23T19:54:58.449186Z",
     "shell.execute_reply": "2022-04-23T19:54:58.448364Z",
     "shell.execute_reply.started": "2022-04-23T19:54:58.399403Z"
    }
   },
   "outputs": [],
   "source": [
    "df['stories'].value_counts().index.tolist()"
   ]
  },
  {
   "cell_type": "code",
   "execution_count": 60,
   "metadata": {
    "execution": {
     "iopub.execute_input": "2022-04-23T19:54:58.451517Z",
     "iopub.status.busy": "2022-04-23T19:54:58.450823Z",
     "iopub.status.idle": "2022-04-23T19:54:58.484303Z",
     "shell.execute_reply": "2022-04-23T19:54:58.483608Z",
     "shell.execute_reply.started": "2022-04-23T19:54:58.451476Z"
    }
   },
   "outputs": [],
   "source": [
    "df['stories'].isna().sum()"
   ]
  },
  {
   "cell_type": "code",
   "execution_count": 61,
   "metadata": {
    "execution": {
     "iopub.execute_input": "2022-04-23T19:54:58.486308Z",
     "iopub.status.busy": "2022-04-23T19:54:58.485784Z",
     "iopub.status.idle": "2022-04-23T19:54:58.700619Z",
     "shell.execute_reply": "2022-04-23T19:54:58.699862Z",
     "shell.execute_reply.started": "2022-04-23T19:54:58.486267Z"
    }
   },
   "outputs": [],
   "source": [
    "df['stories'] = df['stories'].fillna('0.0')\n",
    "df['stories'] = df['stories'].apply(lambda x: x.lower())\n",
    "df['stories'] = df['stories'].apply(lambda x: '0.0' if x == '0' else x)"
   ]
  },
  {
   "cell_type": "code",
   "execution_count": 62,
   "metadata": {
    "execution": {
     "iopub.execute_input": "2022-04-23T19:54:58.702613Z",
     "iopub.status.busy": "2022-04-23T19:54:58.702201Z",
     "iopub.status.idle": "2022-04-23T19:55:02.341089Z",
     "shell.execute_reply": "2022-04-23T19:55:02.340284Z",
     "shell.execute_reply.started": "2022-04-23T19:54:58.702576Z"
    }
   },
   "outputs": [],
   "source": [
    "num_str = ['one','two','bi', 'split', 'three','tri','four', 'quad' , 'stories', \n",
    "           '-level', 'levels', 'leveland','cape cod', '1 and 1 half', '1 1/2 story',\n",
    "           'ranch', 'garden', 'log home', 'cape',\n",
    "          'raised ranch', 'bungalow', 'farm house', '4plex', 'sixplex','tudor']\n",
    "num_num = ['1','2','2', '2', '3','3', '4', '4', 'story', \n",
    "           ' level', 'level', 'level and','1 story', '1.5 story', '1.5 story',\n",
    "           '1 story', '1 story', '1 story', '1 story',\n",
    "          '1 story', '1 story', '1 story', '4 plex','6 plex', '2 story']\n",
    "for i in range(0, len(num_str)):\n",
    "    df['stories'] = df['stories'].apply(lambda x: x.replace(num_str[i], num_num[i]))"
   ]
  },
  {
   "cell_type": "markdown",
   "metadata": {},
   "source": [
    "'dwelling story' - жилой дом\n",
    "'1 story/f.r.o.g.'\n",
    "FROG is a “Finished Room Over Garage.” \n",
    "\n",
    "foyer - очаг\n",
    "\n",
    "t3-townhouse стиль - 2 и более этажей\n",
    "\n",
    "'craftsman' 1, 1.5 этажей\n",
    "\n",
    "'log' - 'log home' 1,2 этажей\n"
   ]
  },
  {
   "cell_type": "code",
   "execution_count": 63,
   "metadata": {
    "execution": {
     "iopub.execute_input": "2022-04-23T19:55:02.342250Z",
     "iopub.status.busy": "2022-04-23T19:55:02.342055Z",
     "iopub.status.idle": "2022-04-23T19:55:02.409255Z",
     "shell.execute_reply": "2022-04-23T19:55:02.408360Z",
     "shell.execute_reply.started": "2022-04-23T19:55:02.342226Z"
    }
   },
   "outputs": [],
   "source": [
    "df['stories'].value_counts()"
   ]
  },
  {
   "cell_type": "code",
   "execution_count": 64,
   "metadata": {
    "execution": {
     "iopub.execute_input": "2022-04-23T19:55:02.411458Z",
     "iopub.status.busy": "2022-04-23T19:55:02.410942Z",
     "iopub.status.idle": "2022-04-23T19:55:02.416472Z",
     "shell.execute_reply": "2022-04-23T19:55:02.414466Z",
     "shell.execute_reply.started": "2022-04-23T19:55:02.411403Z"
    }
   },
   "outputs": [],
   "source": [
    "# df['stories'].value_counts().index.tolist()"
   ]
  },
  {
   "cell_type": "markdown",
   "metadata": {},
   "source": [
    "Проверим последовательно, признаки  какой этажности соответствуют признаку 'stories'  к данным 'townhouse', 'condominium', 'traditional' и 'Contemporary' из признака 'propertyType' в исходном датасете (dataframe data). В исходном датасете они еще не обработаны, т.е. в виде 'Townhouse', 'Condominium', 'Traditional', 'Contemporary'."
   ]
  },
  {
   "cell_type": "code",
   "execution_count": 65,
   "metadata": {
    "execution": {
     "iopub.execute_input": "2022-04-23T19:55:02.419699Z",
     "iopub.status.busy": "2022-04-23T19:55:02.418840Z",
     "iopub.status.idle": "2022-04-23T19:55:02.472516Z",
     "shell.execute_reply": "2022-04-23T19:55:02.471835Z",
     "shell.execute_reply.started": "2022-04-23T19:55:02.419656Z"
    }
   },
   "outputs": [],
   "source": [
    "# 'Townhouse', 'Condominium', 'Traditional', 'Contemporary'\n",
    "data['stories'][data['propertyType']=='Townhouse'].value_counts().index[0]"
   ]
  },
  {
   "cell_type": "code",
   "execution_count": 66,
   "metadata": {
    "execution": {
     "iopub.execute_input": "2022-04-23T19:55:02.474184Z",
     "iopub.status.busy": "2022-04-23T19:55:02.473735Z",
     "iopub.status.idle": "2022-04-23T19:55:02.525483Z",
     "shell.execute_reply": "2022-04-23T19:55:02.524707Z",
     "shell.execute_reply.started": "2022-04-23T19:55:02.474148Z"
    }
   },
   "outputs": [],
   "source": [
    "data['stories'][data['propertyType']=='Condominium'].value_counts().index[0]"
   ]
  },
  {
   "cell_type": "code",
   "execution_count": 67,
   "metadata": {
    "execution": {
     "iopub.execute_input": "2022-04-23T19:55:02.529487Z",
     "iopub.status.busy": "2022-04-23T19:55:02.528214Z",
     "iopub.status.idle": "2022-04-23T19:55:02.582284Z",
     "shell.execute_reply": "2022-04-23T19:55:02.581597Z",
     "shell.execute_reply.started": "2022-04-23T19:55:02.528662Z"
    }
   },
   "outputs": [],
   "source": [
    "data['stories'][data['propertyType']=='Traditional'].value_counts().index[0]"
   ]
  },
  {
   "cell_type": "code",
   "execution_count": 68,
   "metadata": {
    "execution": {
     "iopub.execute_input": "2022-04-23T19:55:02.584156Z",
     "iopub.status.busy": "2022-04-23T19:55:02.583799Z",
     "iopub.status.idle": "2022-04-23T19:55:02.637500Z",
     "shell.execute_reply": "2022-04-23T19:55:02.636473Z",
     "shell.execute_reply.started": "2022-04-23T19:55:02.584121Z"
    }
   },
   "outputs": [],
   "source": [
    "data['stories'][data['propertyType']=='Contemporary'].value_counts().index[0]"
   ]
  },
  {
   "cell_type": "code",
   "execution_count": 69,
   "metadata": {
    "execution": {
     "iopub.execute_input": "2022-04-23T19:55:02.639617Z",
     "iopub.status.busy": "2022-04-23T19:55:02.639198Z",
     "iopub.status.idle": "2022-04-23T19:55:02.699147Z",
     "shell.execute_reply": "2022-04-23T19:55:02.698317Z",
     "shell.execute_reply.started": "2022-04-23T19:55:02.639562Z"
    }
   },
   "outputs": [],
   "source": [
    "df['stories'].value_counts()['ca2n/cottage']"
   ]
  },
  {
   "cell_type": "code",
   "execution_count": 70,
   "metadata": {
    "execution": {
     "iopub.execute_input": "2022-04-23T19:55:02.700949Z",
     "iopub.status.busy": "2022-04-23T19:55:02.700657Z",
     "iopub.status.idle": "2022-04-23T19:55:02.704687Z",
     "shell.execute_reply": "2022-04-23T19:55:02.703933Z",
     "shell.execute_reply.started": "2022-04-23T19:55:02.700912Z"
    }
   },
   "outputs": [],
   "source": [
    "# df['stories'].value_counts().index.tolist()"
   ]
  },
  {
   "cell_type": "code",
   "execution_count": 71,
   "metadata": {
    "execution": {
     "iopub.execute_input": "2022-04-23T19:55:02.706686Z",
     "iopub.status.busy": "2022-04-23T19:55:02.706245Z",
     "iopub.status.idle": "2022-04-23T19:55:03.036018Z",
     "shell.execute_reply": "2022-04-23T19:55:03.035274Z",
     "shell.execute_reply.started": "2022-04-23T19:55:02.706647Z"
    }
   },
   "outputs": [],
   "source": [
    "one_story = ['condominium', 'traditional', 'contemporary', \n",
    "             'mo2le', 'ground level', 'modular home', 'craftsman']\n",
    "def change_story(x):\n",
    "    if x=='townhouse':\n",
    "        x = '2'\n",
    "    if x in one_story:\n",
    "        x = '1'\n",
    "    if -1!=x.find('low-rise') or -1!=x.find('multi level'):\n",
    "        x = '2'\n",
    "    if -1!=x.find('mid-rise'):\n",
    "        x = '5'\n",
    "    if -1!=x.find('high-rise'):\n",
    "        x = '9'\n",
    "    return x\n",
    "\n",
    "df['stories'] = df['stories'].apply(change_story)  "
   ]
  },
  {
   "cell_type": "code",
   "execution_count": 72,
   "metadata": {
    "execution": {
     "iopub.execute_input": "2022-04-23T19:55:03.037643Z",
     "iopub.status.busy": "2022-04-23T19:55:03.037358Z",
     "iopub.status.idle": "2022-04-23T19:55:03.101665Z",
     "shell.execute_reply": "2022-04-23T19:55:03.100841Z",
     "shell.execute_reply.started": "2022-04-23T19:55:03.037608Z"
    }
   },
   "outputs": [],
   "source": [
    "df['stories'].value_counts().index.tolist()"
   ]
  },
  {
   "cell_type": "code",
   "execution_count": 73,
   "metadata": {
    "execution": {
     "iopub.execute_input": "2022-04-23T19:55:03.103492Z",
     "iopub.status.busy": "2022-04-23T19:55:03.103102Z",
     "iopub.status.idle": "2022-04-23T19:55:04.637094Z",
     "shell.execute_reply": "2022-04-23T19:55:04.636375Z",
     "shell.execute_reply.started": "2022-04-23T19:55:03.103439Z"
    }
   },
   "outputs": [],
   "source": [
    "def stories_float(x):\n",
    "    if x.startswith(','): x = x[1:]\n",
    "    if x == -1.0: return x\n",
    "    x = re.sub('[^0-9,-\\.]', '', x)\n",
    "    x = re.sub('-',',', x)\n",
    "    x = x.replace(',,',',0,')\n",
    "    x = x.split(',')\n",
    "    try:\n",
    "        x = (max([float(item) for item in x]))\n",
    "        # x = float(x)\n",
    "        if x>120.0 or x==0.0:\n",
    "            x=-1.0\n",
    "    except:\n",
    "        x = -1.0\n",
    "    return x\n",
    "\n",
    "df['stories'] = df['stories'].apply(stories_float)"
   ]
  },
  {
   "cell_type": "code",
   "execution_count": 74,
   "metadata": {
    "execution": {
     "iopub.execute_input": "2022-04-23T19:55:04.640031Z",
     "iopub.status.busy": "2022-04-23T19:55:04.639313Z",
     "iopub.status.idle": "2022-04-23T19:55:04.653935Z",
     "shell.execute_reply": "2022-04-23T19:55:04.653228Z",
     "shell.execute_reply.started": "2022-04-23T19:55:04.639990Z"
    }
   },
   "outputs": [],
   "source": [
    "df['stories'].value_counts()"
   ]
  },
  {
   "cell_type": "code",
   "execution_count": 75,
   "metadata": {
    "execution": {
     "iopub.execute_input": "2022-04-23T19:55:04.655701Z",
     "iopub.status.busy": "2022-04-23T19:55:04.655285Z",
     "iopub.status.idle": "2022-04-23T19:55:04.659644Z",
     "shell.execute_reply": "2022-04-23T19:55:04.658988Z",
     "shell.execute_reply.started": "2022-04-23T19:55:04.655666Z"
    }
   },
   "outputs": [],
   "source": [
    "# df['stories'].value_counts().index.tolist()"
   ]
  },
  {
   "cell_type": "code",
   "execution_count": 76,
   "metadata": {
    "execution": {
     "iopub.execute_input": "2022-04-23T19:55:04.661421Z",
     "iopub.status.busy": "2022-04-23T19:55:04.660920Z",
     "iopub.status.idle": "2022-04-23T19:55:04.668688Z",
     "shell.execute_reply": "2022-04-23T19:55:04.668025Z",
     "shell.execute_reply.started": "2022-04-23T19:55:04.661357Z"
    }
   },
   "outputs": [],
   "source": [
    "# df['stories'].value_counts()[112.0:].sum()"
   ]
  },
  {
   "cell_type": "code",
   "execution_count": null,
   "metadata": {},
   "outputs": [],
   "source": []
  },
  {
   "cell_type": "code",
   "execution_count": null,
   "metadata": {},
   "outputs": [],
   "source": []
  },
  {
   "cell_type": "markdown",
   "metadata": {},
   "source": [
    "#### Признак \"homeFacts\""
   ]
  },
  {
   "cell_type": "markdown",
   "metadata": {},
   "source": [
    "В первоначальном осмотре структуры датасет признаки 'homeFacts' и 'schools' имеют тексты, и содержат несколько отдельных сведений. Необходимо десериализовать содержимое этих признаков. Если имеются полезные данные, то необходимо из них создать новые признаки."
   ]
  },
  {
   "cell_type": "code",
   "execution_count": 77,
   "metadata": {
    "execution": {
     "iopub.execute_input": "2022-04-23T19:55:04.670147Z",
     "iopub.status.busy": "2022-04-23T19:55:04.669841Z",
     "iopub.status.idle": "2022-04-23T19:55:05.023957Z",
     "shell.execute_reply": "2022-04-23T19:55:05.023234Z",
     "shell.execute_reply.started": "2022-04-23T19:55:04.670109Z"
    }
   },
   "outputs": [],
   "source": [
    "df['homeFacts'].value_counts()"
   ]
  },
  {
   "cell_type": "code",
   "execution_count": 78,
   "metadata": {
    "execution": {
     "iopub.execute_input": "2022-04-23T19:55:05.026570Z",
     "iopub.status.busy": "2022-04-23T19:55:05.025215Z",
     "iopub.status.idle": "2022-04-23T19:55:05.030125Z",
     "shell.execute_reply": "2022-04-23T19:55:05.029480Z",
     "shell.execute_reply.started": "2022-04-23T19:55:05.026530Z"
    }
   },
   "outputs": [],
   "source": [
    "# df['homeFacts'].value_counts().index.tolist()"
   ]
  },
  {
   "cell_type": "markdown",
   "metadata": {},
   "source": [
    "Признак \"homeFacts\" содержит несколько отдельных данных, имеющих влияние на оценку недвижимости, дома, квартиры. Поэтому выделим эти данные. Для этого приведем содежимое данного признака к формату .json и формируем новые признаки."
   ]
  },
  {
   "cell_type": "code",
   "execution_count": 79,
   "metadata": {
    "execution": {
     "iopub.execute_input": "2022-04-23T19:55:05.031915Z",
     "iopub.status.busy": "2022-04-23T19:55:05.031649Z",
     "iopub.status.idle": "2022-04-23T19:55:05.716968Z",
     "shell.execute_reply": "2022-04-23T19:55:05.716218Z",
     "shell.execute_reply.started": "2022-04-23T19:55:05.031881Z"
    }
   },
   "outputs": [],
   "source": [
    "df['homeFacts'] = df['homeFacts'].apply(lambda x: x.replace('None', '0'))\n",
    "df['homeFacts'].value_counts()"
   ]
  },
  {
   "cell_type": "code",
   "execution_count": 80,
   "metadata": {
    "execution": {
     "iopub.execute_input": "2022-04-23T19:55:05.718789Z",
     "iopub.status.busy": "2022-04-23T19:55:05.718527Z",
     "iopub.status.idle": "2022-04-23T19:55:05.722882Z",
     "shell.execute_reply": "2022-04-23T19:55:05.721949Z",
     "shell.execute_reply.started": "2022-04-23T19:55:05.718755Z"
    }
   },
   "outputs": [],
   "source": [
    "# df['homeFacts'].value_counts().index.tolist()"
   ]
  },
  {
   "cell_type": "code",
   "execution_count": 81,
   "metadata": {
    "execution": {
     "iopub.execute_input": "2022-04-23T19:55:05.725056Z",
     "iopub.status.busy": "2022-04-23T19:55:05.724778Z",
     "iopub.status.idle": "2022-04-23T19:55:06.921888Z",
     "shell.execute_reply": "2022-04-23T19:55:06.921017Z",
     "shell.execute_reply.started": "2022-04-23T19:55:05.725005Z"
    }
   },
   "outputs": [],
   "source": [
    "# Для замены апострофы в словах\n",
    "change_old = [\"Attch'd\", \"Addtn'l\",'\"closet\"', \"Hennen\\'s\", \"Penske's\",\"Req'd\"]\n",
    "change_new = ['Attch`d','Addtn`l','`closet`', 'Hennen`s', 'Penske`s','Req`d']\n",
    "\n",
    "for i in range(0,len(change_old)):\n",
    "    df['homeFacts'] = df['homeFacts'].apply(lambda x: x.replace(change_old[i],change_new[i]))"
   ]
  },
  {
   "cell_type": "code",
   "execution_count": 82,
   "metadata": {
    "execution": {
     "iopub.execute_input": "2022-04-23T19:55:06.925043Z",
     "iopub.status.busy": "2022-04-23T19:55:06.924027Z",
     "iopub.status.idle": "2022-04-23T19:55:07.342852Z",
     "shell.execute_reply": "2022-04-23T19:55:07.342118Z",
     "shell.execute_reply.started": "2022-04-23T19:55:06.924986Z"
    }
   },
   "outputs": [],
   "source": [
    "df['homeFacts'] = df['homeFacts'].apply(lambda x: x.replace(\"'\",'\"'))"
   ]
  },
  {
   "cell_type": "markdown",
   "metadata": {},
   "source": [
    "Проверка"
   ]
  },
  {
   "cell_type": "code",
   "execution_count": 83,
   "metadata": {
    "execution": {
     "iopub.execute_input": "2022-04-23T19:55:07.345745Z",
     "iopub.status.busy": "2022-04-23T19:55:07.345187Z",
     "iopub.status.idle": "2022-04-23T19:55:07.352910Z",
     "shell.execute_reply": "2022-04-23T19:55:07.352205Z",
     "shell.execute_reply.started": "2022-04-23T19:55:07.345705Z"
    }
   },
   "outputs": [],
   "source": [
    "df['homeFacts'][4]"
   ]
  },
  {
   "cell_type": "code",
   "execution_count": 84,
   "metadata": {
    "execution": {
     "iopub.execute_input": "2022-04-23T19:55:07.366741Z",
     "iopub.status.busy": "2022-04-23T19:55:07.366443Z",
     "iopub.status.idle": "2022-04-23T19:55:07.375909Z",
     "shell.execute_reply": "2022-04-23T19:55:07.375077Z",
     "shell.execute_reply.started": "2022-04-23T19:55:07.366710Z"
    }
   },
   "outputs": [],
   "source": [
    "ss = df['homeFacts'][4]\n",
    "sa = json.loads(ss)\n",
    "sa"
   ]
  },
  {
   "cell_type": "code",
   "execution_count": 85,
   "metadata": {
    "execution": {
     "iopub.execute_input": "2022-04-23T19:55:07.377878Z",
     "iopub.status.busy": "2022-04-23T19:55:07.377213Z",
     "iopub.status.idle": "2022-04-23T19:55:12.280592Z",
     "shell.execute_reply": "2022-04-23T19:55:12.279831Z",
     "shell.execute_reply.started": "2022-04-23T19:55:07.377843Z"
    }
   },
   "outputs": [],
   "source": [
    "# Для проверки правильности парсинга в json формат\n",
    "for i in range(0,len(df)):\n",
    "    ss = df['homeFacts'][i]\n",
    "    try:\n",
    "        sa = json.loads(ss)\n",
    "    except:\n",
    "        print(i)"
   ]
  },
  {
   "cell_type": "code",
   "execution_count": 86,
   "metadata": {
    "execution": {
     "iopub.execute_input": "2022-04-23T19:55:12.282799Z",
     "iopub.status.busy": "2022-04-23T19:55:12.281708Z",
     "iopub.status.idle": "2022-04-23T19:55:12.287345Z",
     "shell.execute_reply": "2022-04-23T19:55:12.286692Z",
     "shell.execute_reply.started": "2022-04-23T19:55:12.282760Z"
    }
   },
   "outputs": [],
   "source": [
    "def app(x,k):\n",
    "    js = json.loads(x)\n",
    "    return js['atAGlanceFacts'][k]['factValue']"
   ]
  },
  {
   "cell_type": "code",
   "execution_count": 87,
   "metadata": {
    "execution": {
     "iopub.execute_input": "2022-04-23T19:55:12.289221Z",
     "iopub.status.busy": "2022-04-23T19:55:12.288508Z",
     "iopub.status.idle": "2022-04-23T19:55:32.707108Z",
     "shell.execute_reply": "2022-04-23T19:55:32.706361Z",
     "shell.execute_reply.started": "2022-04-23T19:55:12.289176Z"
    }
   },
   "outputs": [],
   "source": [
    "df['Year built'] = df['homeFacts'].apply(lambda x: app(x,0))\n",
    "df['Remodeled year'] = df['homeFacts'].apply(lambda x: app(x,1))\n",
    "df['Heating'] = df['homeFacts'].apply(lambda x: app(x,2))\n",
    "df['Cooling'] = df['homeFacts'].apply(lambda x: app(x,3))\n",
    "df['Parking'] = df['homeFacts'].apply(lambda x: app(x,4))\n",
    "df['lotsize'] = df['homeFacts'].apply(lambda x: app(x,5))\n",
    "df['Price/sqft'] = df['homeFacts'].apply(lambda x: app(x,6))"
   ]
  },
  {
   "cell_type": "code",
   "execution_count": null,
   "metadata": {},
   "outputs": [],
   "source": []
  },
  {
   "cell_type": "markdown",
   "metadata": {},
   "source": [
    "#### Обработка новых выделенных признаков  из признака 'homeFacts'."
   ]
  },
  {
   "cell_type": "markdown",
   "metadata": {},
   "source": [
    "##### Признак 'Year built'"
   ]
  },
  {
   "cell_type": "code",
   "execution_count": 88,
   "metadata": {
    "execution": {
     "iopub.execute_input": "2022-04-23T19:55:32.708547Z",
     "iopub.status.busy": "2022-04-23T19:55:32.708284Z",
     "iopub.status.idle": "2022-04-23T19:55:32.713444Z",
     "shell.execute_reply": "2022-04-23T19:55:32.712450Z",
     "shell.execute_reply.started": "2022-04-23T19:55:32.708512Z"
    }
   },
   "outputs": [],
   "source": [
    "# df['Year built'] = df['homeFacts'].apply(lambda x: app(x,0))"
   ]
  },
  {
   "cell_type": "code",
   "execution_count": 89,
   "metadata": {
    "execution": {
     "iopub.execute_input": "2022-04-23T19:55:32.715264Z",
     "iopub.status.busy": "2022-04-23T19:55:32.714856Z",
     "iopub.status.idle": "2022-04-23T19:55:32.730882Z",
     "shell.execute_reply": "2022-04-23T19:55:32.730079Z",
     "shell.execute_reply.started": "2022-04-23T19:55:32.715225Z"
    }
   },
   "outputs": [],
   "source": [
    "df['Year built']"
   ]
  },
  {
   "cell_type": "code",
   "execution_count": 90,
   "metadata": {
    "execution": {
     "iopub.execute_input": "2022-04-23T19:55:32.732521Z",
     "iopub.status.busy": "2022-04-23T19:55:32.731836Z",
     "iopub.status.idle": "2022-04-23T19:55:32.798081Z",
     "shell.execute_reply": "2022-04-23T19:55:32.797228Z",
     "shell.execute_reply.started": "2022-04-23T19:55:32.732486Z"
    }
   },
   "outputs": [],
   "source": [
    "df['Year built'].value_counts()"
   ]
  },
  {
   "cell_type": "code",
   "execution_count": 91,
   "metadata": {
    "execution": {
     "iopub.execute_input": "2022-04-23T19:55:32.800131Z",
     "iopub.status.busy": "2022-04-23T19:55:32.799749Z",
     "iopub.status.idle": "2022-04-23T19:55:32.996693Z",
     "shell.execute_reply": "2022-04-23T19:55:32.995855Z",
     "shell.execute_reply.started": "2022-04-23T19:55:32.800095Z"
    }
   },
   "outputs": [],
   "source": [
    "df['Year built'] = df['Year built'].apply(lambda x: '0' \n",
    "                                    if ((x==0) or (x=='No Data') or (x=='') or len(x)>4) else x)\n",
    "df['Year built'] = df['Year built'].astype(int)\n",
    "df['Year built'].value_counts()"
   ]
  },
  {
   "cell_type": "code",
   "execution_count": 92,
   "metadata": {
    "execution": {
     "iopub.execute_input": "2022-04-23T19:55:32.998512Z",
     "iopub.status.busy": "2022-04-23T19:55:32.998238Z",
     "iopub.status.idle": "2022-04-23T19:55:33.001899Z",
     "shell.execute_reply": "2022-04-23T19:55:33.001255Z",
     "shell.execute_reply.started": "2022-04-23T19:55:32.998477Z"
    }
   },
   "outputs": [],
   "source": [
    "# df['Year built'].value_counts().index.tolist()"
   ]
  },
  {
   "cell_type": "code",
   "execution_count": 93,
   "metadata": {
    "execution": {
     "iopub.execute_input": "2022-04-23T19:55:33.004549Z",
     "iopub.status.busy": "2022-04-23T19:55:33.003282Z",
     "iopub.status.idle": "2022-04-23T19:55:33.267654Z",
     "shell.execute_reply": "2022-04-23T19:55:33.266963Z",
     "shell.execute_reply.started": "2022-04-23T19:55:33.004508Z"
    }
   },
   "outputs": [],
   "source": [
    "df[(df['Year built']>0) & (df['Year built']<1700)]"
   ]
  },
  {
   "cell_type": "code",
   "execution_count": 94,
   "metadata": {
    "execution": {
     "iopub.execute_input": "2022-04-23T19:55:33.269263Z",
     "iopub.status.busy": "2022-04-23T19:55:33.268993Z",
     "iopub.status.idle": "2022-04-23T19:55:33.278504Z",
     "shell.execute_reply": "2022-04-23T19:55:33.277680Z",
     "shell.execute_reply.started": "2022-04-23T19:55:33.269228Z"
    }
   },
   "outputs": [],
   "source": [
    "# Определим индексы \"выбросов\" в меньшую сторону.\n",
    "ind_built_old= df[(df['Year built']>0) & (df['Year built']<1700)].index\n",
    "ind_built_old"
   ]
  },
  {
   "cell_type": "code",
   "execution_count": 95,
   "metadata": {
    "execution": {
     "iopub.execute_input": "2022-04-23T19:55:33.280589Z",
     "iopub.status.busy": "2022-04-23T19:55:33.280251Z",
     "iopub.status.idle": "2022-04-23T19:55:33.288776Z",
     "shell.execute_reply": "2022-04-23T19:55:33.287879Z",
     "shell.execute_reply.started": "2022-04-23T19:55:33.280552Z"
    }
   },
   "outputs": [],
   "source": [
    "df['Year built'][ind_built_old]"
   ]
  },
  {
   "cell_type": "code",
   "execution_count": 96,
   "metadata": {
    "execution": {
     "iopub.execute_input": "2022-04-23T19:55:33.291161Z",
     "iopub.status.busy": "2022-04-23T19:55:33.290584Z",
     "iopub.status.idle": "2022-04-23T19:55:33.320469Z",
     "shell.execute_reply": "2022-04-23T19:55:33.319766Z",
     "shell.execute_reply.started": "2022-04-23T19:55:33.291124Z"
    }
   },
   "outputs": [],
   "source": [
    "df[df['Year built']>=2022]"
   ]
  },
  {
   "cell_type": "code",
   "execution_count": 97,
   "metadata": {
    "execution": {
     "iopub.execute_input": "2022-04-23T19:55:33.322254Z",
     "iopub.status.busy": "2022-04-23T19:55:33.321812Z",
     "iopub.status.idle": "2022-04-23T19:55:33.329751Z",
     "shell.execute_reply": "2022-04-23T19:55:33.328844Z",
     "shell.execute_reply.started": "2022-04-23T19:55:33.322218Z"
    }
   },
   "outputs": [],
   "source": [
    "# Определим индексы \"выбросов\" в большую сторону.\n",
    "# Год строительства 2022 год тоже сомнительно!\n",
    "ind_built_new = df[df['Year built']>=2022].index\n",
    "ind_built_new"
   ]
  },
  {
   "cell_type": "code",
   "execution_count": 98,
   "metadata": {
    "execution": {
     "iopub.execute_input": "2022-04-23T19:55:33.334492Z",
     "iopub.status.busy": "2022-04-23T19:55:33.332773Z",
     "iopub.status.idle": "2022-04-23T19:55:33.341218Z",
     "shell.execute_reply": "2022-04-23T19:55:33.340469Z",
     "shell.execute_reply.started": "2022-04-23T19:55:33.334466Z"
    }
   },
   "outputs": [],
   "source": [
    "df['Year built'][ind_built_new]"
   ]
  },
  {
   "cell_type": "code",
   "execution_count": 99,
   "metadata": {
    "execution": {
     "iopub.execute_input": "2022-04-23T19:55:33.344016Z",
     "iopub.status.busy": "2022-04-23T19:55:33.342531Z",
     "iopub.status.idle": "2022-04-23T19:55:33.367918Z",
     "shell.execute_reply": "2022-04-23T19:55:33.367288Z",
     "shell.execute_reply.started": "2022-04-23T19:55:33.343985Z"
    }
   },
   "outputs": [],
   "source": [
    "df[df['Year built']==2025] # 163100, 285228"
   ]
  },
  {
   "cell_type": "code",
   "execution_count": null,
   "metadata": {},
   "outputs": [],
   "source": []
  },
  {
   "cell_type": "code",
   "execution_count": 100,
   "metadata": {
    "execution": {
     "iopub.execute_input": "2022-04-23T19:55:33.369353Z",
     "iopub.status.busy": "2022-04-23T19:55:33.369087Z",
     "iopub.status.idle": "2022-04-23T19:55:34.233855Z",
     "shell.execute_reply": "2022-04-23T19:55:34.233152Z",
     "shell.execute_reply.started": "2022-04-23T19:55:33.369321Z"
    }
   },
   "outputs": [],
   "source": [
    "import matplotlib.pyplot as plt\n",
    "import seaborn as sns"
   ]
  },
  {
   "cell_type": "code",
   "execution_count": 101,
   "metadata": {
    "execution": {
     "iopub.execute_input": "2022-04-23T19:55:34.235398Z",
     "iopub.status.busy": "2022-04-23T19:55:34.235165Z",
     "iopub.status.idle": "2022-04-23T19:55:34.240648Z",
     "shell.execute_reply": "2022-04-23T19:55:34.238908Z",
     "shell.execute_reply.started": "2022-04-23T19:55:34.235367Z"
    }
   },
   "outputs": [],
   "source": [
    "plt.rcParams['figure.figsize']=(15,10)"
   ]
  },
  {
   "cell_type": "code",
   "execution_count": 102,
   "metadata": {
    "execution": {
     "iopub.execute_input": "2022-04-23T19:55:34.242981Z",
     "iopub.status.busy": "2022-04-23T19:55:34.242721Z",
     "iopub.status.idle": "2022-04-23T19:55:34.675920Z",
     "shell.execute_reply": "2022-04-23T19:55:34.675248Z",
     "shell.execute_reply.started": "2022-04-23T19:55:34.242946Z"
    }
   },
   "outputs": [],
   "source": [
    "df['Year built'][df['Year built'] >1850].hist(bins=100)"
   ]
  },
  {
   "cell_type": "code",
   "execution_count": null,
   "metadata": {},
   "outputs": [],
   "source": []
  },
  {
   "cell_type": "markdown",
   "metadata": {},
   "source": [
    "##### Признак 'Remodeled year'"
   ]
  },
  {
   "cell_type": "code",
   "execution_count": 103,
   "metadata": {
    "execution": {
     "iopub.execute_input": "2022-04-23T19:55:34.678479Z",
     "iopub.status.busy": "2022-04-23T19:55:34.678259Z",
     "iopub.status.idle": "2022-04-23T19:55:34.681498Z",
     "shell.execute_reply": "2022-04-23T19:55:34.680697Z",
     "shell.execute_reply.started": "2022-04-23T19:55:34.678447Z"
    }
   },
   "outputs": [],
   "source": [
    "# df['Remodeled year'] = df['homeFacts'].apply(lambda x: app(x,1))"
   ]
  },
  {
   "cell_type": "code",
   "execution_count": 104,
   "metadata": {
    "execution": {
     "iopub.execute_input": "2022-04-23T19:55:34.683242Z",
     "iopub.status.busy": "2022-04-23T19:55:34.682776Z",
     "iopub.status.idle": "2022-04-23T19:55:34.695788Z",
     "shell.execute_reply": "2022-04-23T19:55:34.694921Z",
     "shell.execute_reply.started": "2022-04-23T19:55:34.683205Z"
    }
   },
   "outputs": [],
   "source": [
    "df['Remodeled year']"
   ]
  },
  {
   "cell_type": "code",
   "execution_count": 105,
   "metadata": {
    "execution": {
     "iopub.execute_input": "2022-04-23T19:55:34.698452Z",
     "iopub.status.busy": "2022-04-23T19:55:34.697967Z",
     "iopub.status.idle": "2022-04-23T19:55:34.753373Z",
     "shell.execute_reply": "2022-04-23T19:55:34.752593Z",
     "shell.execute_reply.started": "2022-04-23T19:55:34.698395Z"
    }
   },
   "outputs": [],
   "source": [
    "df['Remodeled year'].value_counts()"
   ]
  },
  {
   "cell_type": "code",
   "execution_count": 106,
   "metadata": {
    "execution": {
     "iopub.execute_input": "2022-04-23T19:55:34.754871Z",
     "iopub.status.busy": "2022-04-23T19:55:34.754573Z",
     "iopub.status.idle": "2022-04-23T19:55:34.758366Z",
     "shell.execute_reply": "2022-04-23T19:55:34.757699Z",
     "shell.execute_reply.started": "2022-04-23T19:55:34.754836Z"
    }
   },
   "outputs": [],
   "source": [
    "# df['Remodeled year'].value_counts().index.tolist()"
   ]
  },
  {
   "cell_type": "code",
   "execution_count": 107,
   "metadata": {
    "execution": {
     "iopub.execute_input": "2022-04-23T19:55:34.760347Z",
     "iopub.status.busy": "2022-04-23T19:55:34.759593Z",
     "iopub.status.idle": "2022-04-23T19:55:34.985794Z",
     "shell.execute_reply": "2022-04-23T19:55:34.985077Z",
     "shell.execute_reply.started": "2022-04-23T19:55:34.760309Z"
    }
   },
   "outputs": [],
   "source": [
    "df['Remodeled year'] = df['Remodeled year'].apply(lambda x: '0' if (x==0) or (x=='') else x)\n",
    "df['Remodeled year'] = df['Remodeled year'].astype(int)\n",
    "df['Remodeled year'].value_counts()"
   ]
  },
  {
   "cell_type": "code",
   "execution_count": 108,
   "metadata": {
    "execution": {
     "iopub.execute_input": "2022-04-23T19:55:34.987665Z",
     "iopub.status.busy": "2022-04-23T19:55:34.987236Z",
     "iopub.status.idle": "2022-04-23T19:55:35.000793Z",
     "shell.execute_reply": "2022-04-23T19:55:34.999951Z",
     "shell.execute_reply.started": "2022-04-23T19:55:34.987628Z"
    }
   },
   "outputs": [],
   "source": [
    "# Определим индексы \"выбросов\" в меньшую сторону.\n",
    "ind_Remodeled_old= df[(df['Remodeled year']>0) & (df['Remodeled year']<1700)].index\n",
    "ind_Remodeled_old"
   ]
  },
  {
   "cell_type": "code",
   "execution_count": 109,
   "metadata": {
    "execution": {
     "iopub.execute_input": "2022-04-23T19:55:35.002532Z",
     "iopub.status.busy": "2022-04-23T19:55:35.002259Z",
     "iopub.status.idle": "2022-04-23T19:55:35.010214Z",
     "shell.execute_reply": "2022-04-23T19:55:35.009383Z",
     "shell.execute_reply.started": "2022-04-23T19:55:35.002488Z"
    }
   },
   "outputs": [],
   "source": [
    "# Определим индексы \"выбросов\" в большую сторону.\n",
    "ind_Remodeled_new= df[df['Remodeled year']>=2021].index\n",
    "ind_Remodeled_new"
   ]
  },
  {
   "cell_type": "code",
   "execution_count": 110,
   "metadata": {
    "execution": {
     "iopub.execute_input": "2022-04-23T19:55:35.012309Z",
     "iopub.status.busy": "2022-04-23T19:55:35.011729Z",
     "iopub.status.idle": "2022-04-23T19:55:35.019857Z",
     "shell.execute_reply": "2022-04-23T19:55:35.019081Z",
     "shell.execute_reply.started": "2022-04-23T19:55:35.012269Z"
    }
   },
   "outputs": [],
   "source": [
    "df['Remodeled year'][ind_Remodeled_new]"
   ]
  },
  {
   "cell_type": "code",
   "execution_count": 111,
   "metadata": {
    "execution": {
     "iopub.execute_input": "2022-04-23T19:55:35.021877Z",
     "iopub.status.busy": "2022-04-23T19:55:35.021565Z",
     "iopub.status.idle": "2022-04-23T19:55:35.406010Z",
     "shell.execute_reply": "2022-04-23T19:55:35.405267Z",
     "shell.execute_reply.started": "2022-04-23T19:55:35.021835Z"
    }
   },
   "outputs": [],
   "source": [
    "df['Remodeled year'][df['Remodeled year']>1900].hist(bins=100)"
   ]
  },
  {
   "cell_type": "code",
   "execution_count": null,
   "metadata": {},
   "outputs": [],
   "source": []
  },
  {
   "cell_type": "markdown",
   "metadata": {},
   "source": [
    "Данные признаки 'Year built' и 'Remodeled year' лучше преобразовать в числовой вид, вычитая данные из максимального значения принака. Тогда нулевые значения признака будет иметь какой-то смысл, как возраст недвижимости.\n",
    "\n",
    "****До определния разности исправим данные, или удалим ненужные строки."
   ]
  },
  {
   "cell_type": "code",
   "execution_count": 112,
   "metadata": {
    "execution": {
     "iopub.execute_input": "2022-04-23T19:55:35.407647Z",
     "iopub.status.busy": "2022-04-23T19:55:35.407383Z",
     "iopub.status.idle": "2022-04-23T19:55:35.416535Z",
     "shell.execute_reply": "2022-04-23T19:55:35.415689Z",
     "shell.execute_reply.started": "2022-04-23T19:55:35.407613Z"
    }
   },
   "outputs": [],
   "source": [
    "df.loc[ind_built_old, 'Year built']"
   ]
  },
  {
   "cell_type": "code",
   "execution_count": 113,
   "metadata": {
    "execution": {
     "iopub.execute_input": "2022-04-23T19:55:35.418410Z",
     "iopub.status.busy": "2022-04-23T19:55:35.418040Z",
     "iopub.status.idle": "2022-04-23T19:55:35.443072Z",
     "shell.execute_reply": "2022-04-23T19:55:35.442316Z",
     "shell.execute_reply.started": "2022-04-23T19:55:35.418356Z"
    }
   },
   "outputs": [],
   "source": [
    "df.loc[ind_built_old]"
   ]
  },
  {
   "cell_type": "code",
   "execution_count": 114,
   "metadata": {
    "execution": {
     "iopub.execute_input": "2022-04-23T19:55:35.444612Z",
     "iopub.status.busy": "2022-04-23T19:55:35.444269Z",
     "iopub.status.idle": "2022-04-23T19:55:35.453317Z",
     "shell.execute_reply": "2022-04-23T19:55:35.452532Z",
     "shell.execute_reply.started": "2022-04-23T19:55:35.444577Z"
    }
   },
   "outputs": [],
   "source": [
    "df['Year built'][ind_built_new]"
   ]
  },
  {
   "cell_type": "code",
   "execution_count": 115,
   "metadata": {
    "execution": {
     "iopub.execute_input": "2022-04-23T19:55:35.454984Z",
     "iopub.status.busy": "2022-04-23T19:55:35.454738Z",
     "iopub.status.idle": "2022-04-23T19:55:35.480650Z",
     "shell.execute_reply": "2022-04-23T19:55:35.480027Z",
     "shell.execute_reply.started": "2022-04-23T19:55:35.454952Z"
    }
   },
   "outputs": [],
   "source": [
    "df[df['Year built']==2025]"
   ]
  },
  {
   "cell_type": "code",
   "execution_count": 116,
   "metadata": {
    "execution": {
     "iopub.execute_input": "2022-04-23T19:55:35.481982Z",
     "iopub.status.busy": "2022-04-23T19:55:35.481741Z",
     "iopub.status.idle": "2022-04-23T19:55:35.487765Z",
     "shell.execute_reply": "2022-04-23T19:55:35.487063Z",
     "shell.execute_reply.started": "2022-04-23T19:55:35.481949Z"
    }
   },
   "outputs": [],
   "source": [
    "df['Remodeled year'][ind_Remodeled_old]"
   ]
  },
  {
   "cell_type": "code",
   "execution_count": 117,
   "metadata": {
    "execution": {
     "iopub.execute_input": "2022-04-23T19:55:35.489646Z",
     "iopub.status.busy": "2022-04-23T19:55:35.488977Z",
     "iopub.status.idle": "2022-04-23T19:55:35.499387Z",
     "shell.execute_reply": "2022-04-23T19:55:35.498464Z",
     "shell.execute_reply.started": "2022-04-23T19:55:35.489608Z"
    }
   },
   "outputs": [],
   "source": [
    "df['Remodeled year'][ind_Remodeled_new]"
   ]
  },
  {
   "cell_type": "markdown",
   "metadata": {},
   "source": [
    "Исправлению подлежат данные для индексов ind_built_old признака 'Year built' на ноль, так как остальные данные вполне приемлемы для использования в расчетах. Также можно обнулить для ind_Remodeled_old индексы  признака 'Remodeled year'"
   ]
  },
  {
   "cell_type": "code",
   "execution_count": 118,
   "metadata": {
    "execution": {
     "iopub.execute_input": "2022-04-23T19:55:35.501614Z",
     "iopub.status.busy": "2022-04-23T19:55:35.501104Z",
     "iopub.status.idle": "2022-04-23T19:55:35.512897Z",
     "shell.execute_reply": "2022-04-23T19:55:35.512098Z",
     "shell.execute_reply.started": "2022-04-23T19:55:35.501575Z"
    }
   },
   "outputs": [],
   "source": [
    "df.loc[ind_built_old, 'Year built'] = 0 \n",
    "\n",
    "df.loc[ind_built_new, 'Year built'] = 2022\n",
    "\n",
    "df.loc[ind_Remodeled_old, 'Remodeled year'] = 0"
   ]
  },
  {
   "cell_type": "markdown",
   "metadata": {},
   "source": [
    "Заметили, что для индекса 278869  в признаке 'Year built' год постройки 2004, а ремонт в 'Remodeled year'- 1748 год, здесь  явная ошибка. Необходимо программно проверить для всех строк."
   ]
  },
  {
   "cell_type": "markdown",
   "metadata": {},
   "source": [
    "Чтобы полученные большие числа в результате вычитания \"не потянули\" результат для отсутствующих данных и нулей, поставим -1.0"
   ]
  },
  {
   "cell_type": "code",
   "execution_count": 119,
   "metadata": {
    "execution": {
     "iopub.execute_input": "2022-04-23T19:55:35.514559Z",
     "iopub.status.busy": "2022-04-23T19:55:35.514235Z",
     "iopub.status.idle": "2022-04-23T19:55:35.693616Z",
     "shell.execute_reply": "2022-04-23T19:55:35.692784Z",
     "shell.execute_reply.started": "2022-04-23T19:55:35.514511Z"
    }
   },
   "outputs": [],
   "source": [
    "max = df['Year built'].max()\n",
    "df['Year built'] =  df['Year built'].apply(lambda x: float(max-x) if x!=0 else -1.0)\n",
    "df['Year built']"
   ]
  },
  {
   "cell_type": "code",
   "execution_count": 120,
   "metadata": {
    "execution": {
     "iopub.execute_input": "2022-04-23T19:55:35.695299Z",
     "iopub.status.busy": "2022-04-23T19:55:35.695040Z",
     "iopub.status.idle": "2022-04-23T19:55:35.853682Z",
     "shell.execute_reply": "2022-04-23T19:55:35.852837Z",
     "shell.execute_reply.started": "2022-04-23T19:55:35.695264Z"
    }
   },
   "outputs": [],
   "source": [
    "max = df['Remodeled year'].max()\n",
    "df['Remodeled year'] =  df['Remodeled year'].apply(lambda x: float(max-x) if x!=0 else -1.0)\n",
    "df['Remodeled year'].value_counts()"
   ]
  },
  {
   "cell_type": "code",
   "execution_count": 121,
   "metadata": {
    "execution": {
     "iopub.execute_input": "2022-04-23T19:55:35.855452Z",
     "iopub.status.busy": "2022-04-23T19:55:35.855184Z",
     "iopub.status.idle": "2022-04-23T19:55:36.159621Z",
     "shell.execute_reply": "2022-04-23T19:55:36.158952Z",
     "shell.execute_reply.started": "2022-04-23T19:55:35.855418Z"
    }
   },
   "outputs": [],
   "source": [
    "df['Year built'][df['Year built']>0].hist(bins=50)"
   ]
  },
  {
   "cell_type": "code",
   "execution_count": 122,
   "metadata": {
    "execution": {
     "iopub.execute_input": "2022-04-23T19:55:36.162850Z",
     "iopub.status.busy": "2022-04-23T19:55:36.162654Z",
     "iopub.status.idle": "2022-04-23T19:55:36.453399Z",
     "shell.execute_reply": "2022-04-23T19:55:36.452718Z",
     "shell.execute_reply.started": "2022-04-23T19:55:36.162826Z"
    }
   },
   "outputs": [],
   "source": [
    "df['Remodeled year'][df['Remodeled year']>0].hist(bins=50)"
   ]
  },
  {
   "cell_type": "markdown",
   "metadata": {},
   "source": [
    "Для индекса 278869  в признаке 'Year built' год постройки 2004, а ремонт в 'Remodeled year'- 1748 год, здесь  явная ошибка. Надо проверить."
   ]
  },
  {
   "cell_type": "code",
   "execution_count": null,
   "metadata": {},
   "outputs": [],
   "source": []
  },
  {
   "cell_type": "markdown",
   "metadata": {},
   "source": [
    "##### Признак 'Parking'"
   ]
  },
  {
   "cell_type": "code",
   "execution_count": 123,
   "metadata": {
    "execution": {
     "iopub.execute_input": "2022-04-23T19:55:36.455013Z",
     "iopub.status.busy": "2022-04-23T19:55:36.454775Z",
     "iopub.status.idle": "2022-04-23T19:55:39.430984Z",
     "shell.execute_reply": "2022-04-23T19:55:39.430238Z",
     "shell.execute_reply.started": "2022-04-23T19:55:36.454980Z"
    }
   },
   "outputs": [],
   "source": [
    "df['Parking'] = df['homeFacts'].apply(lambda x: app(x,4))"
   ]
  },
  {
   "cell_type": "code",
   "execution_count": 124,
   "metadata": {
    "execution": {
     "iopub.execute_input": "2022-04-23T19:55:39.432747Z",
     "iopub.status.busy": "2022-04-23T19:55:39.432111Z",
     "iopub.status.idle": "2022-04-23T19:55:39.491947Z",
     "shell.execute_reply": "2022-04-23T19:55:39.491113Z",
     "shell.execute_reply.started": "2022-04-23T19:55:39.432707Z"
    }
   },
   "outputs": [],
   "source": [
    "df['Parking'].value_counts()"
   ]
  },
  {
   "cell_type": "code",
   "execution_count": 125,
   "metadata": {
    "execution": {
     "iopub.execute_input": "2022-04-23T19:55:39.493563Z",
     "iopub.status.busy": "2022-04-23T19:55:39.493233Z",
     "iopub.status.idle": "2022-04-23T19:55:39.805653Z",
     "shell.execute_reply": "2022-04-23T19:55:39.804799Z",
     "shell.execute_reply.started": "2022-04-23T19:55:39.493526Z"
    }
   },
   "outputs": [],
   "source": [
    "# Признак будет бинарный: 0 - нет паркинг, 1 - есть паркинг.\n",
    "df['Parking']=df['Parking'].apply(lambda x: 0 \n",
    "            if x==0 or x=='' or x=='No Data' or x=='No' else 1)        \n",
    "\n",
    "df['Parking'].value_counts()"
   ]
  },
  {
   "cell_type": "code",
   "execution_count": null,
   "metadata": {},
   "outputs": [],
   "source": []
  },
  {
   "cell_type": "markdown",
   "metadata": {},
   "source": [
    "Была попытка систематизировать данные признака и сделать категориальным, но данные оказались слишким разнообразным.\n",
    "\n",
    "Yes = ['Garage','Space', 'Parking', 'Carport', 'Car', 'Attached', 'Detached', \n",
    "       'Off Street', 'On Street', 'Onstr', 'Basement', 'Electric Door',\n",
    "       'Driveway',  'Concr', 'Gravel', 'Assigned', 'Covered', 'Paved', \n",
    "       'Asphalt', 'Common', 'Alley', 'Open', 'Guest']\n",
    "def pars_parking(x):\n",
    "    if x==0 or x=='' or x=='No Data' or x=='No':\n",
    "        x = '0'\n",
    "    x = x.title()\n",
    "    x = x.replace('Gravl', 'Gravel')\n",
    "    x = x.replace('Drvwy', 'Driveway')\n",
    "    x = x.replace('Aspht','Asphalt')\n",
    "    x= x.replace('Spaces', 'Space')\n",
    "    for i in range(0,len(Yes)):\n",
    "        if -1!=x.find(Yes[i]):\n",
    "            x = re.sub('[^0-9\\.]', '', x).strip()\n",
    "            # x = Yes[i]+ ' - '+x\n",
    "            if len(x)==0:\n",
    "                x = '1'\n",
    "    return x\n",
    "\n",
    "df['Parking'] = df['Parking'].apply(pars_parking)\n",
    "\n",
    "top_Parking = df['Parking'].value_counts()[:30].index\n",
    "df['Parking'] = df['Parking'].apply(lambda x: x if x in top_Parking else 'Yes')"
   ]
  },
  {
   "cell_type": "code",
   "execution_count": null,
   "metadata": {},
   "outputs": [],
   "source": []
  },
  {
   "cell_type": "code",
   "execution_count": null,
   "metadata": {},
   "outputs": [],
   "source": []
  },
  {
   "cell_type": "markdown",
   "metadata": {},
   "source": [
    "##### Признак 'lotsize'"
   ]
  },
  {
   "cell_type": "code",
   "execution_count": 126,
   "metadata": {
    "execution": {
     "iopub.execute_input": "2022-04-23T19:55:39.807129Z",
     "iopub.status.busy": "2022-04-23T19:55:39.806814Z",
     "iopub.status.idle": "2022-04-23T19:55:39.810989Z",
     "shell.execute_reply": "2022-04-23T19:55:39.810349Z",
     "shell.execute_reply.started": "2022-04-23T19:55:39.807092Z"
    }
   },
   "outputs": [],
   "source": [
    "# df['lotsize'] = df['homeFacts'].apply(lambda x: app(x,5))"
   ]
  },
  {
   "cell_type": "code",
   "execution_count": 127,
   "metadata": {
    "execution": {
     "iopub.execute_input": "2022-04-23T19:55:39.813159Z",
     "iopub.status.busy": "2022-04-23T19:55:39.812422Z",
     "iopub.status.idle": "2022-04-23T19:55:39.897869Z",
     "shell.execute_reply": "2022-04-23T19:55:39.897191Z",
     "shell.execute_reply.started": "2022-04-23T19:55:39.813123Z"
    }
   },
   "outputs": [],
   "source": [
    "df['lotsize'].value_counts()"
   ]
  },
  {
   "cell_type": "code",
   "execution_count": 128,
   "metadata": {
    "execution": {
     "iopub.execute_input": "2022-04-23T19:55:39.899802Z",
     "iopub.status.busy": "2022-04-23T19:55:39.899323Z",
     "iopub.status.idle": "2022-04-23T19:55:39.903185Z",
     "shell.execute_reply": "2022-04-23T19:55:39.902528Z",
     "shell.execute_reply.started": "2022-04-23T19:55:39.899763Z"
    }
   },
   "outputs": [],
   "source": [
    "# df['lotsize'].value_counts().index.tolist()"
   ]
  },
  {
   "cell_type": "markdown",
   "metadata": {},
   "source": [
    "Необходимо убрать единицы измерения, предварительно приведя их в единое измерение, и преобразовать признак в числовой."
   ]
  },
  {
   "cell_type": "code",
   "execution_count": 129,
   "metadata": {
    "execution": {
     "iopub.execute_input": "2022-04-23T19:55:39.905070Z",
     "iopub.status.busy": "2022-04-23T19:55:39.904592Z",
     "iopub.status.idle": "2022-04-23T19:55:39.912766Z",
     "shell.execute_reply": "2022-04-23T19:55:39.912060Z",
     "shell.execute_reply.started": "2022-04-23T19:55:39.905027Z"
    }
   },
   "outputs": [],
   "source": [
    "# 1 acre = 43560 sqft \n",
    "acre_sf = 43560 # sqft\n",
    "acre_hec = 0.404686 #hectar\n",
    "hectar_acr = 2.47105 # acres\n",
    "hectar_sf = 107639 #sqft"
   ]
  },
  {
   "cell_type": "code",
   "execution_count": 130,
   "metadata": {
    "execution": {
     "iopub.execute_input": "2022-04-23T19:55:39.914623Z",
     "iopub.status.busy": "2022-04-23T19:55:39.914108Z",
     "iopub.status.idle": "2022-04-23T19:55:39.924096Z",
     "shell.execute_reply": "2022-04-23T19:55:39.923346Z",
     "shell.execute_reply.started": "2022-04-23T19:55:39.914587Z"
    }
   },
   "outputs": [],
   "source": [
    "df['lotsize'][1055]"
   ]
  },
  {
   "cell_type": "code",
   "execution_count": 131,
   "metadata": {
    "execution": {
     "iopub.execute_input": "2022-04-23T19:55:39.925877Z",
     "iopub.status.busy": "2022-04-23T19:55:39.925448Z",
     "iopub.status.idle": "2022-04-23T19:55:40.037629Z",
     "shell.execute_reply": "2022-04-23T19:55:40.036834Z",
     "shell.execute_reply.started": "2022-04-23T19:55:39.925836Z"
    }
   },
   "outputs": [],
   "source": [
    "df['lotsize'] = df['lotsize'].apply(lambda x: '0' if (x==0) or (x=='') or \n",
    "                                    (x=='No Data') or (x=='—') or (x=='-- sqft lot') else x)"
   ]
  },
  {
   "cell_type": "code",
   "execution_count": 132,
   "metadata": {
    "execution": {
     "iopub.execute_input": "2022-04-23T19:55:40.039323Z",
     "iopub.status.busy": "2022-04-23T19:55:40.039051Z",
     "iopub.status.idle": "2022-04-23T19:55:40.046018Z",
     "shell.execute_reply": "2022-04-23T19:55:40.045322Z",
     "shell.execute_reply.started": "2022-04-23T19:55:40.039288Z"
    }
   },
   "outputs": [],
   "source": [
    "sf = ['sqft', 'sqft lot']\n",
    "acr = ['Acres', 'acres lot', 'Acre', 'acre', 'acre lot']\n",
    "def analyze(x):\n",
    "    x = x.replace('Sq. Ft.', 'sqft')\n",
    "    ed_izm = re.sub('[^A-Z a-z]', '', x).strip()\n",
    "    value = re.sub('[^0-9,\\.]', '', x).strip()\n",
    "    if ed_izm in sf:\n",
    "        x = x.replace(ed_izm, 'sqft')\n",
    "    if ed_izm in acr:\n",
    "        x = x.replace(ed_izm, 'acres')\n",
    "    return x"
   ]
  },
  {
   "cell_type": "code",
   "execution_count": 133,
   "metadata": {
    "execution": {
     "iopub.execute_input": "2022-04-23T19:55:40.047825Z",
     "iopub.status.busy": "2022-04-23T19:55:40.047198Z",
     "iopub.status.idle": "2022-04-23T19:55:41.802194Z",
     "shell.execute_reply": "2022-04-23T19:55:41.801456Z",
     "shell.execute_reply.started": "2022-04-23T19:55:40.047785Z"
    }
   },
   "outputs": [],
   "source": [
    "df['lotsize'] = df['lotsize'].apply(analyze)"
   ]
  },
  {
   "cell_type": "code",
   "execution_count": 134,
   "metadata": {
    "execution": {
     "iopub.execute_input": "2022-04-23T19:55:41.803568Z",
     "iopub.status.busy": "2022-04-23T19:55:41.803300Z",
     "iopub.status.idle": "2022-04-23T19:55:41.880326Z",
     "shell.execute_reply": "2022-04-23T19:55:41.879655Z",
     "shell.execute_reply.started": "2022-04-23T19:55:41.803536Z"
    }
   },
   "outputs": [],
   "source": [
    "df['lotsize'].value_counts()"
   ]
  },
  {
   "cell_type": "code",
   "execution_count": 135,
   "metadata": {
    "execution": {
     "iopub.execute_input": "2022-04-23T19:55:41.881949Z",
     "iopub.status.busy": "2022-04-23T19:55:41.881600Z",
     "iopub.status.idle": "2022-04-23T19:55:41.885896Z",
     "shell.execute_reply": "2022-04-23T19:55:41.885245Z",
     "shell.execute_reply.started": "2022-04-23T19:55:41.881910Z"
    }
   },
   "outputs": [],
   "source": [
    "# df['lotsize'].value_counts().index.tolist()"
   ]
  },
  {
   "cell_type": "code",
   "execution_count": 136,
   "metadata": {
    "execution": {
     "iopub.execute_input": "2022-04-23T19:55:41.887855Z",
     "iopub.status.busy": "2022-04-23T19:55:41.887315Z",
     "iopub.status.idle": "2022-04-23T19:55:44.118997Z",
     "shell.execute_reply": "2022-04-23T19:55:44.118282Z",
     "shell.execute_reply.started": "2022-04-23T19:55:41.887817Z"
    }
   },
   "outputs": [],
   "source": [
    "def to_num(x):\n",
    "    ed_izm = re.sub('[^A-Z a-z]', '', x).strip()\n",
    "    value = re.sub('[^0-9\\.]', '', x).strip()\n",
    "    if ed_izm=='acres':\n",
    "        value = round(float(value)*acre_sf, 1)\n",
    "    if ed_izm=='sqft'  or ed_izm=='':\n",
    "        value = round(float(value), 1)\n",
    "    return value\n",
    "\n",
    "df['lotsize'] = df['lotsize'].apply(to_num) "
   ]
  },
  {
   "cell_type": "code",
   "execution_count": 137,
   "metadata": {
    "execution": {
     "iopub.execute_input": "2022-04-23T19:55:44.120596Z",
     "iopub.status.busy": "2022-04-23T19:55:44.120313Z",
     "iopub.status.idle": "2022-04-23T19:55:44.136863Z",
     "shell.execute_reply": "2022-04-23T19:55:44.135859Z",
     "shell.execute_reply.started": "2022-04-23T19:55:44.120556Z"
    }
   },
   "outputs": [],
   "source": [
    "df['lotsize'].value_counts()"
   ]
  },
  {
   "cell_type": "code",
   "execution_count": 138,
   "metadata": {
    "execution": {
     "iopub.execute_input": "2022-04-23T19:55:44.138876Z",
     "iopub.status.busy": "2022-04-23T19:55:44.138613Z",
     "iopub.status.idle": "2022-04-23T19:55:44.142445Z",
     "shell.execute_reply": "2022-04-23T19:55:44.141655Z",
     "shell.execute_reply.started": "2022-04-23T19:55:44.138844Z"
    }
   },
   "outputs": [],
   "source": [
    "# df['lotsize'].value_counts().index.tolist()"
   ]
  },
  {
   "cell_type": "code",
   "execution_count": 139,
   "metadata": {
    "execution": {
     "iopub.execute_input": "2022-04-23T19:55:44.144490Z",
     "iopub.status.busy": "2022-04-23T19:55:44.143563Z",
     "iopub.status.idle": "2022-04-23T19:55:44.168340Z",
     "shell.execute_reply": "2022-04-23T19:55:44.167648Z",
     "shell.execute_reply.started": "2022-04-23T19:55:44.144451Z"
    }
   },
   "outputs": [],
   "source": [
    "df['lotsize'].describe()"
   ]
  },
  {
   "cell_type": "code",
   "execution_count": 140,
   "metadata": {
    "execution": {
     "iopub.execute_input": "2022-04-23T19:55:44.170048Z",
     "iopub.status.busy": "2022-04-23T19:55:44.169366Z",
     "iopub.status.idle": "2022-04-23T19:55:44.200907Z",
     "shell.execute_reply": "2022-04-23T19:55:44.200250Z",
     "shell.execute_reply.started": "2022-04-23T19:55:44.170012Z"
    }
   },
   "outputs": [],
   "source": [
    "df[df['lotsize']==df['lotsize'].max()]"
   ]
  },
  {
   "cell_type": "code",
   "execution_count": 141,
   "metadata": {
    "execution": {
     "iopub.execute_input": "2022-04-23T19:55:44.203719Z",
     "iopub.status.busy": "2022-04-23T19:55:44.202152Z",
     "iopub.status.idle": "2022-04-23T19:55:44.208856Z",
     "shell.execute_reply": "2022-04-23T19:55:44.208071Z",
     "shell.execute_reply.started": "2022-04-23T19:55:44.203691Z"
    }
   },
   "outputs": [],
   "source": [
    "# Число слишком большое, обнуляем.\n",
    "df.loc[1148, 'lotsize'] = 0.0"
   ]
  },
  {
   "cell_type": "code",
   "execution_count": null,
   "metadata": {},
   "outputs": [],
   "source": []
  },
  {
   "cell_type": "markdown",
   "metadata": {},
   "source": [
    "##### Признак 'Price/sqft'"
   ]
  },
  {
   "cell_type": "code",
   "execution_count": 142,
   "metadata": {
    "execution": {
     "iopub.execute_input": "2022-04-23T19:55:44.210879Z",
     "iopub.status.busy": "2022-04-23T19:55:44.210393Z",
     "iopub.status.idle": "2022-04-23T19:55:44.217428Z",
     "shell.execute_reply": "2022-04-23T19:55:44.216761Z",
     "shell.execute_reply.started": "2022-04-23T19:55:44.210842Z"
    }
   },
   "outputs": [],
   "source": [
    "# df['Price/sqft']  = df['homeFacts'].apply(lambda x: app(x,6))"
   ]
  },
  {
   "cell_type": "code",
   "execution_count": 143,
   "metadata": {
    "execution": {
     "iopub.execute_input": "2022-04-23T19:55:44.222303Z",
     "iopub.status.busy": "2022-04-23T19:55:44.220505Z",
     "iopub.status.idle": "2022-04-23T19:55:44.293489Z",
     "shell.execute_reply": "2022-04-23T19:55:44.292804Z",
     "shell.execute_reply.started": "2022-04-23T19:55:44.222273Z"
    }
   },
   "outputs": [],
   "source": [
    "df['Price/sqft'].value_counts()"
   ]
  },
  {
   "cell_type": "code",
   "execution_count": 144,
   "metadata": {
    "execution": {
     "iopub.execute_input": "2022-04-23T19:55:44.294882Z",
     "iopub.status.busy": "2022-04-23T19:55:44.294639Z",
     "iopub.status.idle": "2022-04-23T19:55:44.298507Z",
     "shell.execute_reply": "2022-04-23T19:55:44.297636Z",
     "shell.execute_reply.started": "2022-04-23T19:55:44.294850Z"
    }
   },
   "outputs": [],
   "source": [
    "# df['Price/sqft'].value_counts().index.tolist()"
   ]
  },
  {
   "cell_type": "code",
   "execution_count": 145,
   "metadata": {
    "execution": {
     "iopub.execute_input": "2022-04-23T19:55:44.300367Z",
     "iopub.status.busy": "2022-04-23T19:55:44.300105Z",
     "iopub.status.idle": "2022-04-23T19:55:44.310962Z",
     "shell.execute_reply": "2022-04-23T19:55:44.309843Z",
     "shell.execute_reply.started": "2022-04-23T19:55:44.300333Z"
    }
   },
   "outputs": [],
   "source": [
    "df['Price/sqft']"
   ]
  },
  {
   "cell_type": "code",
   "execution_count": 146,
   "metadata": {
    "execution": {
     "iopub.execute_input": "2022-04-23T19:55:44.312851Z",
     "iopub.status.busy": "2022-04-23T19:55:44.312549Z",
     "iopub.status.idle": "2022-04-23T19:55:44.351702Z",
     "shell.execute_reply": "2022-04-23T19:55:44.350974Z",
     "shell.execute_reply.started": "2022-04-23T19:55:44.312776Z"
    }
   },
   "outputs": [],
   "source": [
    "df['Price/sqft'].isna().sum()"
   ]
  },
  {
   "cell_type": "code",
   "execution_count": 147,
   "metadata": {
    "execution": {
     "iopub.execute_input": "2022-04-23T19:55:44.353869Z",
     "iopub.status.busy": "2022-04-23T19:55:44.353335Z",
     "iopub.status.idle": "2022-04-23T19:55:44.401536Z",
     "shell.execute_reply": "2022-04-23T19:55:44.400786Z",
     "shell.execute_reply.started": "2022-04-23T19:55:44.353832Z"
    }
   },
   "outputs": [],
   "source": [
    "df['Price/sqft'] = df['Price/sqft'].fillna(0.0)"
   ]
  },
  {
   "cell_type": "code",
   "execution_count": 148,
   "metadata": {
    "execution": {
     "iopub.execute_input": "2022-04-23T19:55:44.403339Z",
     "iopub.status.busy": "2022-04-23T19:55:44.402576Z",
     "iopub.status.idle": "2022-04-23T19:55:44.408451Z",
     "shell.execute_reply": "2022-04-23T19:55:44.407784Z",
     "shell.execute_reply.started": "2022-04-23T19:55:44.403307Z"
    }
   },
   "outputs": [],
   "source": [
    "def is_num(x):\n",
    "    try:\n",
    "        float(x)\n",
    "        return True\n",
    "    except ValueError:\n",
    "        return False\n",
    "\n",
    "def Price_sqft(x):\n",
    "    if x==0 or x=='' or x=='No Data' or x=='No Info':\n",
    "        x = '0'\n",
    "        return float(x)\n",
    "    x = re.sub('[^0-9\\.]', '', x).strip()\n",
    "    if is_num(x):\n",
    "        return float(x)\n",
    "    else:\n",
    "        return 0.0"
   ]
  },
  {
   "cell_type": "code",
   "execution_count": 149,
   "metadata": {
    "execution": {
     "iopub.execute_input": "2022-04-23T19:55:44.410776Z",
     "iopub.status.busy": "2022-04-23T19:55:44.410228Z",
     "iopub.status.idle": "2022-04-23T19:55:45.635899Z",
     "shell.execute_reply": "2022-04-23T19:55:45.635161Z",
     "shell.execute_reply.started": "2022-04-23T19:55:44.410737Z"
    }
   },
   "outputs": [],
   "source": [
    "df['Price/sqft'] = df['Price/sqft'].apply(Price_sqft)"
   ]
  },
  {
   "cell_type": "code",
   "execution_count": 150,
   "metadata": {
    "execution": {
     "iopub.execute_input": "2022-04-23T19:55:45.637498Z",
     "iopub.status.busy": "2022-04-23T19:55:45.637233Z",
     "iopub.status.idle": "2022-04-23T19:55:45.644992Z",
     "shell.execute_reply": "2022-04-23T19:55:45.644302Z",
     "shell.execute_reply.started": "2022-04-23T19:55:45.637466Z"
    }
   },
   "outputs": [],
   "source": [
    "df['Price/sqft'].isna().sum()"
   ]
  },
  {
   "cell_type": "code",
   "execution_count": 151,
   "metadata": {
    "execution": {
     "iopub.execute_input": "2022-04-23T19:55:45.646911Z",
     "iopub.status.busy": "2022-04-23T19:55:45.646434Z",
     "iopub.status.idle": "2022-04-23T19:55:45.654270Z",
     "shell.execute_reply": "2022-04-23T19:55:45.653419Z",
     "shell.execute_reply.started": "2022-04-23T19:55:45.646872Z"
    }
   },
   "outputs": [],
   "source": [
    "df['Price/sqft'] = df['Price/sqft'].fillna(0.0)"
   ]
  },
  {
   "cell_type": "markdown",
   "metadata": {},
   "source": [
    "Необходимо выявить выбросы и их удалить или исправить!\n",
    "Признак 'Price/sqft' - числовой"
   ]
  },
  {
   "cell_type": "code",
   "execution_count": 152,
   "metadata": {
    "execution": {
     "iopub.execute_input": "2022-04-23T19:55:45.657538Z",
     "iopub.status.busy": "2022-04-23T19:55:45.656063Z",
     "iopub.status.idle": "2022-04-23T19:55:45.677838Z",
     "shell.execute_reply": "2022-04-23T19:55:45.677123Z",
     "shell.execute_reply.started": "2022-04-23T19:55:45.657511Z"
    }
   },
   "outputs": [],
   "source": [
    "df['Price/sqft'].describe()"
   ]
  },
  {
   "cell_type": "code",
   "execution_count": 153,
   "metadata": {
    "execution": {
     "iopub.execute_input": "2022-04-23T19:55:45.679435Z",
     "iopub.status.busy": "2022-04-23T19:55:45.678973Z",
     "iopub.status.idle": "2022-04-23T19:55:45.902145Z",
     "shell.execute_reply": "2022-04-23T19:55:45.901427Z",
     "shell.execute_reply.started": "2022-04-23T19:55:45.679386Z"
    }
   },
   "outputs": [],
   "source": [
    "plt.boxplot(df['Price/sqft'], vert=False)"
   ]
  },
  {
   "cell_type": "code",
   "execution_count": 154,
   "metadata": {
    "execution": {
     "iopub.execute_input": "2022-04-23T19:55:45.903771Z",
     "iopub.status.busy": "2022-04-23T19:55:45.903508Z",
     "iopub.status.idle": "2022-04-23T19:55:45.932109Z",
     "shell.execute_reply": "2022-04-23T19:55:45.931346Z",
     "shell.execute_reply.started": "2022-04-23T19:55:45.903734Z"
    }
   },
   "outputs": [],
   "source": [
    "df[['target','Price/sqft']][df['Price/sqft']>40000]"
   ]
  },
  {
   "cell_type": "markdown",
   "metadata": {},
   "source": [
    "Предельная цена установилась подбором чисел: 20000, 30000, 40000, и т.д.\n",
    "Цена кв.фута равна всей стоимости  недвижимости! Необходимо обнулять эти данные."
   ]
  },
  {
   "cell_type": "code",
   "execution_count": 155,
   "metadata": {
    "execution": {
     "iopub.execute_input": "2022-04-23T19:55:45.934070Z",
     "iopub.status.busy": "2022-04-23T19:55:45.933546Z",
     "iopub.status.idle": "2022-04-23T19:55:45.944649Z",
     "shell.execute_reply": "2022-04-23T19:55:45.943668Z",
     "shell.execute_reply.started": "2022-04-23T19:55:45.934020Z"
    }
   },
   "outputs": [],
   "source": [
    "ind_Price_sq = df[['target','Price/sqft']][df['Price/sqft']>40000].index\n",
    "ind_Price_sq"
   ]
  },
  {
   "cell_type": "code",
   "execution_count": 156,
   "metadata": {
    "execution": {
     "iopub.execute_input": "2022-04-23T19:55:45.947035Z",
     "iopub.status.busy": "2022-04-23T19:55:45.946353Z",
     "iopub.status.idle": "2022-04-23T19:55:45.956919Z",
     "shell.execute_reply": "2022-04-23T19:55:45.955937Z",
     "shell.execute_reply.started": "2022-04-23T19:55:45.946993Z"
    }
   },
   "outputs": [],
   "source": [
    "# =0.0\n",
    "df.loc[ind_Price_sq, 'Price/sqft'] = 0.0"
   ]
  },
  {
   "cell_type": "code",
   "execution_count": 157,
   "metadata": {
    "execution": {
     "iopub.execute_input": "2022-04-23T19:55:45.958815Z",
     "iopub.status.busy": "2022-04-23T19:55:45.958418Z",
     "iopub.status.idle": "2022-04-23T19:55:46.285878Z",
     "shell.execute_reply": "2022-04-23T19:55:46.285204Z",
     "shell.execute_reply.started": "2022-04-23T19:55:45.958777Z"
    }
   },
   "outputs": [],
   "source": [
    "plt.boxplot(df['Price/sqft'], vert=False)"
   ]
  },
  {
   "cell_type": "code",
   "execution_count": 158,
   "metadata": {
    "execution": {
     "iopub.execute_input": "2022-04-23T19:55:46.287817Z",
     "iopub.status.busy": "2022-04-23T19:55:46.287038Z",
     "iopub.status.idle": "2022-04-23T19:55:46.308080Z",
     "shell.execute_reply": "2022-04-23T19:55:46.307380Z",
     "shell.execute_reply.started": "2022-04-23T19:55:46.287778Z"
    }
   },
   "outputs": [],
   "source": [
    "df['Price/sqft'].describe()"
   ]
  },
  {
   "cell_type": "code",
   "execution_count": 159,
   "metadata": {
    "execution": {
     "iopub.execute_input": "2022-04-23T19:55:46.309654Z",
     "iopub.status.busy": "2022-04-23T19:55:46.309208Z",
     "iopub.status.idle": "2022-04-23T19:55:46.322519Z",
     "shell.execute_reply": "2022-04-23T19:55:46.321699Z",
     "shell.execute_reply.started": "2022-04-23T19:55:46.309608Z"
    }
   },
   "outputs": [],
   "source": [
    "df['Price/sqft'].value_counts()"
   ]
  },
  {
   "cell_type": "markdown",
   "metadata": {},
   "source": [
    "Признак 'Price/sqft' - числовой"
   ]
  },
  {
   "cell_type": "code",
   "execution_count": null,
   "metadata": {},
   "outputs": [],
   "source": []
  },
  {
   "cell_type": "code",
   "execution_count": null,
   "metadata": {},
   "outputs": [],
   "source": []
  },
  {
   "cell_type": "markdown",
   "metadata": {},
   "source": [
    "#### Признаки 'Heating' и 'Cooling' анализируем совместно "
   ]
  },
  {
   "cell_type": "code",
   "execution_count": 160,
   "metadata": {
    "execution": {
     "iopub.execute_input": "2022-04-23T19:55:46.324387Z",
     "iopub.status.busy": "2022-04-23T19:55:46.323995Z",
     "iopub.status.idle": "2022-04-23T19:55:46.388106Z",
     "shell.execute_reply": "2022-04-23T19:55:46.387341Z",
     "shell.execute_reply.started": "2022-04-23T19:55:46.324347Z"
    }
   },
   "outputs": [],
   "source": [
    "df['Heating'].value_counts()"
   ]
  },
  {
   "cell_type": "code",
   "execution_count": 161,
   "metadata": {
    "execution": {
     "iopub.execute_input": "2022-04-23T19:55:46.390217Z",
     "iopub.status.busy": "2022-04-23T19:55:46.389796Z",
     "iopub.status.idle": "2022-04-23T19:55:46.393510Z",
     "shell.execute_reply": "2022-04-23T19:55:46.392774Z",
     "shell.execute_reply.started": "2022-04-23T19:55:46.390183Z"
    }
   },
   "outputs": [],
   "source": [
    "# df['Heating'].value_counts().index.tolist()"
   ]
  },
  {
   "cell_type": "code",
   "execution_count": 162,
   "metadata": {
    "execution": {
     "iopub.execute_input": "2022-04-23T19:55:46.395522Z",
     "iopub.status.busy": "2022-04-23T19:55:46.394985Z",
     "iopub.status.idle": "2022-04-23T19:55:46.458476Z",
     "shell.execute_reply": "2022-04-23T19:55:46.457733Z",
     "shell.execute_reply.started": "2022-04-23T19:55:46.395483Z"
    }
   },
   "outputs": [],
   "source": [
    "df['Cooling'].value_counts()"
   ]
  },
  {
   "cell_type": "code",
   "execution_count": 163,
   "metadata": {
    "execution": {
     "iopub.execute_input": "2022-04-23T19:55:46.459987Z",
     "iopub.status.busy": "2022-04-23T19:55:46.459748Z",
     "iopub.status.idle": "2022-04-23T19:55:46.463143Z",
     "shell.execute_reply": "2022-04-23T19:55:46.462469Z",
     "shell.execute_reply.started": "2022-04-23T19:55:46.459955Z"
    }
   },
   "outputs": [],
   "source": [
    "# df['Cooling'].value_counts().index.tolist()"
   ]
  },
  {
   "cell_type": "markdown",
   "metadata": {},
   "source": [
    "  Два признака, 'Heating' и 'Cooling', существенно влияют на цену недвижимости. Поэтому необходимо привести данные этих показателей в пригодную форму для использования в моделях прогноза цен на недвижимость."
   ]
  },
  {
   "cell_type": "code",
   "execution_count": 164,
   "metadata": {
    "execution": {
     "iopub.execute_input": "2022-04-23T19:55:46.465057Z",
     "iopub.status.busy": "2022-04-23T19:55:46.464566Z",
     "iopub.status.idle": "2022-04-23T19:55:46.473014Z",
     "shell.execute_reply": "2022-04-23T19:55:46.472364Z",
     "shell.execute_reply.started": "2022-04-23T19:55:46.465021Z"
    }
   },
   "outputs": [],
   "source": [
    "# Функция для первоначального парсинга признаков 'Heating' и 'Cooling' \n",
    "patterns = \"[!#$%&()'*+.:;<=>?@[\\]^_`{|}~—\\\"]+\"\n",
    "def parsing (x):\n",
    "    if (x==0) or (x=='0') or (x=='') or (x=='No Data'):\n",
    "        x='No'\n",
    "    x = x.title()\n",
    "    x = re.sub(patterns, ' ', x)\n",
    "    if len(x)>0 and x[0]==',':\n",
    "        x = x[1:].strip()\n",
    "    return x"
   ]
  },
  {
   "cell_type": "code",
   "execution_count": 165,
   "metadata": {
    "execution": {
     "iopub.execute_input": "2022-04-23T19:55:46.474650Z",
     "iopub.status.busy": "2022-04-23T19:55:46.474383Z",
     "iopub.status.idle": "2022-04-23T19:55:47.322096Z",
     "shell.execute_reply": "2022-04-23T19:55:47.321329Z",
     "shell.execute_reply.started": "2022-04-23T19:55:46.474617Z"
    }
   },
   "outputs": [],
   "source": [
    "df['Heating'] = df['Heating'].apply(parsing)\n",
    "# df['Heating'].value_counts().index.tolist()"
   ]
  },
  {
   "cell_type": "code",
   "execution_count": 166,
   "metadata": {
    "execution": {
     "iopub.execute_input": "2022-04-23T19:55:47.323794Z",
     "iopub.status.busy": "2022-04-23T19:55:47.323546Z",
     "iopub.status.idle": "2022-04-23T19:55:47.389845Z",
     "shell.execute_reply": "2022-04-23T19:55:47.388990Z",
     "shell.execute_reply.started": "2022-04-23T19:55:47.323761Z"
    }
   },
   "outputs": [],
   "source": [
    "df['Heating'].value_counts()"
   ]
  },
  {
   "cell_type": "code",
   "execution_count": 167,
   "metadata": {
    "execution": {
     "iopub.execute_input": "2022-04-23T19:55:47.392342Z",
     "iopub.status.busy": "2022-04-23T19:55:47.391696Z",
     "iopub.status.idle": "2022-04-23T19:55:47.448262Z",
     "shell.execute_reply": "2022-04-23T19:55:47.447312Z",
     "shell.execute_reply.started": "2022-04-23T19:55:47.392235Z"
    }
   },
   "outputs": [],
   "source": [
    "df['Cooling'].value_counts()"
   ]
  },
  {
   "cell_type": "code",
   "execution_count": 168,
   "metadata": {
    "execution": {
     "iopub.execute_input": "2022-04-23T19:55:47.450064Z",
     "iopub.status.busy": "2022-04-23T19:55:47.449769Z",
     "iopub.status.idle": "2022-04-23T19:55:47.457002Z",
     "shell.execute_reply": "2022-04-23T19:55:47.456235Z",
     "shell.execute_reply.started": "2022-04-23T19:55:47.450032Z"
    }
   },
   "outputs": [],
   "source": [
    "# df['Cooling'].value_counts().index.tolist()"
   ]
  },
  {
   "cell_type": "markdown",
   "metadata": {},
   "source": [
    "Беглый просмотр содержимого признаков 'Heating' и 'Cooling' показывает, что в признаке 'Cooling' приведены  тепловые показатели , а в признаке 'Heating' приведены показатели охлаждения.\n",
    "Вначале исправим некоторые имеющиеся явно заметные неточности."
   ]
  },
  {
   "cell_type": "code",
   "execution_count": 169,
   "metadata": {
    "execution": {
     "iopub.execute_input": "2022-04-23T19:55:47.460040Z",
     "iopub.status.busy": "2022-04-23T19:55:47.459308Z",
     "iopub.status.idle": "2022-04-23T19:55:47.551909Z",
     "shell.execute_reply": "2022-04-23T19:55:47.551260Z",
     "shell.execute_reply.started": "2022-04-23T19:55:47.460001Z"
    }
   },
   "outputs": [],
   "source": [
    "df[df['Heating']=='Central Air']"
   ]
  },
  {
   "cell_type": "code",
   "execution_count": 170,
   "metadata": {
    "execution": {
     "iopub.execute_input": "2022-04-23T19:55:47.553587Z",
     "iopub.status.busy": "2022-04-23T19:55:47.552911Z",
     "iopub.status.idle": "2022-04-23T19:55:47.614965Z",
     "shell.execute_reply": "2022-04-23T19:55:47.614301Z",
     "shell.execute_reply.started": "2022-04-23T19:55:47.553550Z"
    }
   },
   "outputs": [],
   "source": [
    "# 'Central Air'\n",
    "#  Выделение индексов строк \n",
    "ind_H = df[df['Heating']=='Central Air'].index\n",
    "df['Cooling'][ind_H].value_counts()"
   ]
  },
  {
   "cell_type": "code",
   "execution_count": 171,
   "metadata": {
    "execution": {
     "iopub.execute_input": "2022-04-23T19:55:47.616175Z",
     "iopub.status.busy": "2022-04-23T19:55:47.615949Z",
     "iopub.status.idle": "2022-04-23T19:55:47.632478Z",
     "shell.execute_reply": "2022-04-23T19:55:47.631795Z",
     "shell.execute_reply.started": "2022-04-23T19:55:47.616142Z"
    }
   },
   "outputs": [],
   "source": [
    "# Изменеие 'Has Cooling' признака 'Cooling' на 'Central Air' признака 'Heating'.\n",
    "df.loc[ind_H,'Cooling'] = df['Heating'][ind_H]"
   ]
  },
  {
   "cell_type": "code",
   "execution_count": 172,
   "metadata": {
    "execution": {
     "iopub.execute_input": "2022-04-23T19:55:47.635362Z",
     "iopub.status.busy": "2022-04-23T19:55:47.635156Z",
     "iopub.status.idle": "2022-04-23T19:55:47.649080Z",
     "shell.execute_reply": "2022-04-23T19:55:47.648315Z",
     "shell.execute_reply.started": "2022-04-23T19:55:47.635335Z"
    }
   },
   "outputs": [],
   "source": [
    "df['Cooling'][ind_H].value_counts()"
   ]
  },
  {
   "cell_type": "code",
   "execution_count": 173,
   "metadata": {
    "execution": {
     "iopub.execute_input": "2022-04-23T19:55:47.650792Z",
     "iopub.status.busy": "2022-04-23T19:55:47.650550Z",
     "iopub.status.idle": "2022-04-23T19:55:47.709684Z",
     "shell.execute_reply": "2022-04-23T19:55:47.708983Z",
     "shell.execute_reply.started": "2022-04-23T19:55:47.650759Z"
    }
   },
   "outputs": [],
   "source": [
    "# Выделение индексов строк\n",
    "ind_C =df[df['Cooling']=='Central Heating'].index\n",
    "df['Heating'][ind_C].value_counts()"
   ]
  },
  {
   "cell_type": "code",
   "execution_count": 174,
   "metadata": {
    "execution": {
     "iopub.execute_input": "2022-04-23T19:55:47.711257Z",
     "iopub.status.busy": "2022-04-23T19:55:47.710867Z",
     "iopub.status.idle": "2022-04-23T19:55:47.716039Z",
     "shell.execute_reply": "2022-04-23T19:55:47.715316Z",
     "shell.execute_reply.started": "2022-04-23T19:55:47.711223Z"
    }
   },
   "outputs": [],
   "source": [
    "# Изменение  признака 'Heating' и  признака 'Cooling'.'Central Heating'\n",
    "def change(x):\n",
    "    if -1!=x.find('Gas'):\n",
    "        x = 'Central Heating '+'Gas'\n",
    "    if -1!=x.find('Electric '):\n",
    "        x = 'Central Heating '+'Electric '\n",
    "    return x"
   ]
  },
  {
   "cell_type": "code",
   "execution_count": 175,
   "metadata": {
    "execution": {
     "iopub.execute_input": "2022-04-23T19:55:47.717711Z",
     "iopub.status.busy": "2022-04-23T19:55:47.717313Z",
     "iopub.status.idle": "2022-04-23T19:55:47.743822Z",
     "shell.execute_reply": "2022-04-23T19:55:47.743078Z",
     "shell.execute_reply.started": "2022-04-23T19:55:47.717676Z"
    }
   },
   "outputs": [],
   "source": [
    "df.loc[ind_C, 'Heating'] = df['Heating'][ind_C].apply(change)\n",
    "df['Heating'][ind_C].value_counts()"
   ]
  },
  {
   "cell_type": "code",
   "execution_count": 176,
   "metadata": {
    "execution": {
     "iopub.execute_input": "2022-04-23T19:55:47.746761Z",
     "iopub.status.busy": "2022-04-23T19:55:47.746531Z",
     "iopub.status.idle": "2022-04-23T19:55:47.765419Z",
     "shell.execute_reply": "2022-04-23T19:55:47.764681Z",
     "shell.execute_reply.started": "2022-04-23T19:55:47.746736Z"
    }
   },
   "outputs": [],
   "source": [
    "df.loc[ind_C,'Cooling']= 'Central'\n",
    "df['Cooling'][ind_C].value_counts()"
   ]
  },
  {
   "cell_type": "code",
   "execution_count": 177,
   "metadata": {
    "execution": {
     "iopub.execute_input": "2022-04-23T19:55:47.767521Z",
     "iopub.status.busy": "2022-04-23T19:55:47.766711Z",
     "iopub.status.idle": "2022-04-23T19:55:47.819801Z",
     "shell.execute_reply": "2022-04-23T19:55:47.818845Z",
     "shell.execute_reply.started": "2022-04-23T19:55:47.767475Z"
    }
   },
   "outputs": [],
   "source": [
    "ind_CE =df[df['Cooling']=='Electric Heating'].index\n",
    "df['Heating'][ind_CE].value_counts()"
   ]
  },
  {
   "cell_type": "markdown",
   "metadata": {},
   "source": [
    "Содержимое признака 'Heating' выделенных строк больше похоже на данные признака 'Cooling'. Поэтому поменяем их между собой."
   ]
  },
  {
   "cell_type": "code",
   "execution_count": 178,
   "metadata": {
    "execution": {
     "iopub.execute_input": "2022-04-23T19:55:47.821719Z",
     "iopub.status.busy": "2022-04-23T19:55:47.821400Z",
     "iopub.status.idle": "2022-04-23T19:55:47.835550Z",
     "shell.execute_reply": "2022-04-23T19:55:47.834863Z",
     "shell.execute_reply.started": "2022-04-23T19:55:47.821681Z"
    }
   },
   "outputs": [],
   "source": [
    "df.loc[ind_CE, 'Cooling'] = df['Heating'][ind_CE]"
   ]
  },
  {
   "cell_type": "code",
   "execution_count": 179,
   "metadata": {
    "execution": {
     "iopub.execute_input": "2022-04-23T19:55:47.837329Z",
     "iopub.status.busy": "2022-04-23T19:55:47.836866Z",
     "iopub.status.idle": "2022-04-23T19:55:47.853260Z",
     "shell.execute_reply": "2022-04-23T19:55:47.852549Z",
     "shell.execute_reply.started": "2022-04-23T19:55:47.837292Z"
    }
   },
   "outputs": [],
   "source": [
    "df.loc[ind_CE, 'Heating'] = 'Electric Heating'"
   ]
  },
  {
   "cell_type": "code",
   "execution_count": 180,
   "metadata": {
    "execution": {
     "iopub.execute_input": "2022-04-23T19:55:47.856358Z",
     "iopub.status.busy": "2022-04-23T19:55:47.856153Z",
     "iopub.status.idle": "2022-04-23T19:55:47.863819Z",
     "shell.execute_reply": "2022-04-23T19:55:47.863073Z",
     "shell.execute_reply.started": "2022-04-23T19:55:47.856334Z"
    }
   },
   "outputs": [],
   "source": [
    "df['Heating'][ind_CE].value_counts()"
   ]
  },
  {
   "cell_type": "code",
   "execution_count": 181,
   "metadata": {
    "execution": {
     "iopub.execute_input": "2022-04-23T19:55:47.865752Z",
     "iopub.status.busy": "2022-04-23T19:55:47.865282Z",
     "iopub.status.idle": "2022-04-23T19:55:47.877348Z",
     "shell.execute_reply": "2022-04-23T19:55:47.876470Z",
     "shell.execute_reply.started": "2022-04-23T19:55:47.865714Z"
    }
   },
   "outputs": [],
   "source": [
    "df['Cooling'][ind_CE].value_counts()"
   ]
  },
  {
   "cell_type": "markdown",
   "metadata": {},
   "source": [
    "В дальнейшем содежимые этих признаков анализируются более подробно, и по мере возможности, очищаются, и данные приводятся к приемлемый вид для использования в моделях."
   ]
  },
  {
   "cell_type": "code",
   "execution_count": null,
   "metadata": {},
   "outputs": [],
   "source": []
  },
  {
   "cell_type": "markdown",
   "metadata": {},
   "source": [
    "#### Признак 'Heating' отдельно"
   ]
  },
  {
   "cell_type": "code",
   "execution_count": 182,
   "metadata": {
    "execution": {
     "iopub.execute_input": "2022-04-23T19:55:47.880284Z",
     "iopub.status.busy": "2022-04-23T19:55:47.879844Z",
     "iopub.status.idle": "2022-04-23T19:55:47.936331Z",
     "shell.execute_reply": "2022-04-23T19:55:47.935387Z",
     "shell.execute_reply.started": "2022-04-23T19:55:47.880247Z"
    }
   },
   "outputs": [],
   "source": [
    "df['Heating'].value_counts()"
   ]
  },
  {
   "cell_type": "code",
   "execution_count": 183,
   "metadata": {
    "execution": {
     "iopub.execute_input": "2022-04-23T19:55:47.938319Z",
     "iopub.status.busy": "2022-04-23T19:55:47.937669Z",
     "iopub.status.idle": "2022-04-23T19:55:47.941965Z",
     "shell.execute_reply": "2022-04-23T19:55:47.941213Z",
     "shell.execute_reply.started": "2022-04-23T19:55:47.938284Z"
    }
   },
   "outputs": [],
   "source": [
    "# df['Heating'].value_counts().index.tolist()"
   ]
  },
  {
   "cell_type": "code",
   "execution_count": 184,
   "metadata": {
    "execution": {
     "iopub.execute_input": "2022-04-23T19:55:47.944390Z",
     "iopub.status.busy": "2022-04-23T19:55:47.943484Z",
     "iopub.status.idle": "2022-04-23T19:55:47.954471Z",
     "shell.execute_reply": "2022-04-23T19:55:47.953846Z",
     "shell.execute_reply.started": "2022-04-23T19:55:47.944354Z"
    }
   },
   "outputs": [],
   "source": [
    "fnd =['Air Conditioning','Air Conditionings','Air Conditioner','Air Conditioners','A/C','Ac']\n",
    "   \n",
    "def dop_Heat(x):\n",
    "    if (-1!=x.find('Forced Air') or -1!=x.find('Heat Pump')) and -1!=x.find('Gas'):\n",
    "        x='Forced Gas'\n",
    "    if (-1!=x.find('Forced Air') or -1!=x.find('Heat Pump')) and -1!=x.find('Electric'):\n",
    "        x='Forced Electric'\n",
    "    if -1!=x.find('Heat Pump') or x=='Forcedair':\n",
    "         x='Forced'\n",
    "    if -1!=x.find('Forced Air') or x=='Forced Warm Air':\n",
    "        x='Forced'\n",
    "    for i in range(0, len(fnd)):\n",
    "        x = x.replace(fnd[i], '')\n",
    "    if -1!=x.find('Central Air'):\n",
    "        x='Central'\n",
    "    if -1!=x.find('Central') and -1!=x.find('Electric'):\n",
    "        x='Central Electric'\n",
    "    if -1!=x.find('Central') and -1!=x.find('Gas'):\n",
    "        x='Central Gas'\n",
    "    if x== 'Electric':\n",
    "        x='Central Electric'\n",
    "    return x\n"
   ]
  },
  {
   "cell_type": "code",
   "execution_count": 185,
   "metadata": {
    "execution": {
     "iopub.execute_input": "2022-04-23T19:55:47.956281Z",
     "iopub.status.busy": "2022-04-23T19:55:47.955874Z",
     "iopub.status.idle": "2022-04-23T19:55:49.335733Z",
     "shell.execute_reply": "2022-04-23T19:55:49.330963Z",
     "shell.execute_reply.started": "2022-04-23T19:55:47.956243Z"
    }
   },
   "outputs": [],
   "source": [
    "df['Heating'] = df['Heating'].apply(dop_Heat)"
   ]
  },
  {
   "cell_type": "code",
   "execution_count": 186,
   "metadata": {
    "execution": {
     "iopub.execute_input": "2022-04-23T19:55:49.337613Z",
     "iopub.status.busy": "2022-04-23T19:55:49.337092Z",
     "iopub.status.idle": "2022-04-23T19:55:49.367874Z",
     "shell.execute_reply": "2022-04-23T19:55:49.366435Z",
     "shell.execute_reply.started": "2022-04-23T19:55:49.337574Z"
    }
   },
   "outputs": [],
   "source": [
    "gas = ['Gas', 'Forced Gas', 'Central Gas', 'Electric, Gas']\n",
    "central = ['Central Electric', 'Central Gas', 'Central Furnace', 'Central Heating']\n",
    "electric = ['Central Electric', 'Forced Electric', 'Electric, Gas'] \n",
    "name_change = ['Wall', 'Refrigeration', 'Baseboard', 'Hot Water', 'Stove', 'Radiator']\n",
    "def in_gce(x):\n",
    "    x = x.strip()\n",
    "    x = x.replace('Units', 'Unit')\n",
    "    x = x.replace('Unit S', 'Unit')\n",
    "    if ((-1!=x.find('Gas') or -1!=x.find('Propane')) and (x not in gas)):\n",
    "        x='Gas'\n",
    "    if (-1!=x.find('Central') and (x not in central)):\n",
    "        x='Central'\n",
    "    if (-1!=x.find('Electric') and (x not in electric)):\n",
    "        x='Electric'\n",
    "    for i in range(0, len(name_change)):\n",
    "        if -1!=x.find(name_change[i]):\n",
    "            x = name_change[i]\n",
    "    if -1!=x.find('Heat') and -1==x.find('Heating'):\n",
    "        x='Heating'\n",
    "    if -1!=x.find('Heating') and (x not in ['Central Heating', 'Heating System']):\n",
    "        x='Heating'\n",
    "    if -1!=x.find('Window Unit') or x=='Window':\n",
    "        x = 'Window Unit'\n",
    "    if  -1!=x.find('Hot Air'):\n",
    "        x='Forced'\n",
    "    return x"
   ]
  },
  {
   "cell_type": "code",
   "execution_count": 187,
   "metadata": {
    "execution": {
     "iopub.execute_input": "2022-04-23T19:55:49.373787Z",
     "iopub.status.busy": "2022-04-23T19:55:49.372767Z",
     "iopub.status.idle": "2022-04-23T19:55:51.009661Z",
     "shell.execute_reply": "2022-04-23T19:55:51.008899Z",
     "shell.execute_reply.started": "2022-04-23T19:55:49.373741Z"
    }
   },
   "outputs": [],
   "source": [
    "df['Heating'] = df['Heating'].apply(in_gce)"
   ]
  },
  {
   "cell_type": "code",
   "execution_count": 188,
   "metadata": {
    "execution": {
     "iopub.execute_input": "2022-04-23T19:55:51.011604Z",
     "iopub.status.busy": "2022-04-23T19:55:51.011051Z",
     "iopub.status.idle": "2022-04-23T19:55:51.063436Z",
     "shell.execute_reply": "2022-04-23T19:55:51.062648Z",
     "shell.execute_reply.started": "2022-04-23T19:55:51.011564Z"
    }
   },
   "outputs": [],
   "source": [
    "df['Heating'].value_counts()"
   ]
  },
  {
   "cell_type": "code",
   "execution_count": 189,
   "metadata": {
    "execution": {
     "iopub.execute_input": "2022-04-23T19:55:51.065184Z",
     "iopub.status.busy": "2022-04-23T19:55:51.064908Z",
     "iopub.status.idle": "2022-04-23T19:55:51.116000Z",
     "shell.execute_reply": "2022-04-23T19:55:51.115092Z",
     "shell.execute_reply.started": "2022-04-23T19:55:51.065150Z"
    }
   },
   "outputs": [],
   "source": [
    "df['Heating'].value_counts().index.tolist()"
   ]
  },
  {
   "cell_type": "code",
   "execution_count": 190,
   "metadata": {
    "execution": {
     "iopub.execute_input": "2022-04-23T19:55:51.118099Z",
     "iopub.status.busy": "2022-04-23T19:55:51.117777Z",
     "iopub.status.idle": "2022-04-23T19:55:51.171946Z",
     "shell.execute_reply": "2022-04-23T19:55:51.171314Z",
     "shell.execute_reply.started": "2022-04-23T19:55:51.118060Z"
    }
   },
   "outputs": [],
   "source": [
    "df['Heating'].value_counts()['Stove':].sum()"
   ]
  },
  {
   "cell_type": "markdown",
   "metadata": {},
   "source": [
    "Данные признака 'Heating' оказались слишком разнообразными. Требовалось детально изучать данные по строкам. Данные по возможности приведены к удобному виду для категоризации данных.  \n",
    "Все остальные значения после  признака 'Stove' отнесем к 'Other'"
   ]
  },
  {
   "cell_type": "code",
   "execution_count": 191,
   "metadata": {
    "execution": {
     "iopub.execute_input": "2022-04-23T19:55:51.173485Z",
     "iopub.status.busy": "2022-04-23T19:55:51.173239Z",
     "iopub.status.idle": "2022-04-23T19:55:51.220964Z",
     "shell.execute_reply": "2022-04-23T19:55:51.219997Z",
     "shell.execute_reply.started": "2022-04-23T19:55:51.173453Z"
    }
   },
   "outputs": [],
   "source": [
    "ind_Heat = df['Heating'].value_counts()[:'Stove'].index\n",
    "ind_Heat"
   ]
  },
  {
   "cell_type": "code",
   "execution_count": 192,
   "metadata": {
    "execution": {
     "iopub.execute_input": "2022-04-23T19:55:51.223198Z",
     "iopub.status.busy": "2022-04-23T19:55:51.222832Z",
     "iopub.status.idle": "2022-04-23T19:55:51.485798Z",
     "shell.execute_reply": "2022-04-23T19:55:51.485045Z",
     "shell.execute_reply.started": "2022-04-23T19:55:51.223161Z"
    }
   },
   "outputs": [],
   "source": [
    "df['Heating'] = df['Heating'].apply(lambda x: x \n",
    "                                            if x in ind_Heat else 'other')"
   ]
  },
  {
   "cell_type": "code",
   "execution_count": 193,
   "metadata": {
    "execution": {
     "iopub.execute_input": "2022-04-23T19:55:51.487171Z",
     "iopub.status.busy": "2022-04-23T19:55:51.486903Z",
     "iopub.status.idle": "2022-04-23T19:55:51.534513Z",
     "shell.execute_reply": "2022-04-23T19:55:51.533786Z",
     "shell.execute_reply.started": "2022-04-23T19:55:51.487137Z"
    }
   },
   "outputs": [],
   "source": [
    "df['Heating'].value_counts()"
   ]
  },
  {
   "cell_type": "code",
   "execution_count": null,
   "metadata": {},
   "outputs": [],
   "source": []
  },
  {
   "cell_type": "markdown",
   "metadata": {},
   "source": [
    "#### Признак 'Cooling' отдельно"
   ]
  },
  {
   "cell_type": "code",
   "execution_count": 194,
   "metadata": {
    "execution": {
     "iopub.execute_input": "2022-04-23T19:55:51.536220Z",
     "iopub.status.busy": "2022-04-23T19:55:51.535810Z",
     "iopub.status.idle": "2022-04-23T19:55:51.595066Z",
     "shell.execute_reply": "2022-04-23T19:55:51.594341Z",
     "shell.execute_reply.started": "2022-04-23T19:55:51.536182Z"
    }
   },
   "outputs": [],
   "source": [
    "df['Cooling'].value_counts()"
   ]
  },
  {
   "cell_type": "code",
   "execution_count": 195,
   "metadata": {
    "execution": {
     "iopub.execute_input": "2022-04-23T19:55:51.596816Z",
     "iopub.status.busy": "2022-04-23T19:55:51.596451Z",
     "iopub.status.idle": "2022-04-23T19:55:51.601080Z",
     "shell.execute_reply": "2022-04-23T19:55:51.600381Z",
     "shell.execute_reply.started": "2022-04-23T19:55:51.596777Z"
    }
   },
   "outputs": [],
   "source": [
    "# df['Cooling'].value_counts().index.tolist()"
   ]
  },
  {
   "cell_type": "code",
   "execution_count": 196,
   "metadata": {
    "execution": {
     "iopub.execute_input": "2022-04-23T19:55:51.603015Z",
     "iopub.status.busy": "2022-04-23T19:55:51.602318Z",
     "iopub.status.idle": "2022-04-23T19:55:52.431729Z",
     "shell.execute_reply": "2022-04-23T19:55:52.430952Z",
     "shell.execute_reply.started": "2022-04-23T19:55:51.602975Z"
    }
   },
   "outputs": [],
   "source": [
    "df['Cooling'] = df['Cooling'].apply(parsing)"
   ]
  },
  {
   "cell_type": "code",
   "execution_count": 197,
   "metadata": {
    "execution": {
     "iopub.execute_input": "2022-04-23T19:55:52.433444Z",
     "iopub.status.busy": "2022-04-23T19:55:52.433188Z",
     "iopub.status.idle": "2022-04-23T19:55:52.517975Z",
     "shell.execute_reply": "2022-04-23T19:55:52.517312Z",
     "shell.execute_reply.started": "2022-04-23T19:55:52.433396Z"
    }
   },
   "outputs": [],
   "source": [
    "df['Cooling'].value_counts().index.tolist()"
   ]
  },
  {
   "cell_type": "code",
   "execution_count": 198,
   "metadata": {
    "execution": {
     "iopub.execute_input": "2022-04-23T19:55:52.519525Z",
     "iopub.status.busy": "2022-04-23T19:55:52.519188Z",
     "iopub.status.idle": "2022-04-23T19:55:52.531060Z",
     "shell.execute_reply": "2022-04-23T19:55:52.530288Z",
     "shell.execute_reply.started": "2022-04-23T19:55:52.519481Z"
    }
   },
   "outputs": [],
   "source": [
    "fnd =['Air Conditioning','Air Conditionings','Air Conditioner','Air Conditioners','A/C','Ac']\n",
    "name_change = ['Central Air','Hot Air','Window Unit','Refrigeration','Air Purification System',\n",
    "               'Common Heating/Cooling', 'Zoned','Baseboard','Wall','Other','No']\n",
    "def dop_Cool(x):\n",
    "    x = x.strip()\n",
    "    x = x.replace('Fan S', 'Fan')\n",
    "    x = x.replace('Unit S', 'Unit')\n",
    "    for i in range(0, len(fnd)):\n",
    "        x = x.replace(fnd[i], 'Air Conditioning')\n",
    "    if -1!=x.find('Air Conditioning'):\n",
    "        x='Air Conditioning'\n",
    "    if -1!=x.find('Central') and -1==x.find('Air'):\n",
    "        x='Central Air'\n",
    "    for i in range(0, len(name_change)):\n",
    "        if -1!=x.find(name_change[i]):\n",
    "            x = name_change[i]\n",
    "    if -1!=x.find('Central') and -1!=x.find('Electric'):\n",
    "        x='Central Electric'\n",
    "    if -1!=x.find('Central') and -1!=x.find('Gas'):\n",
    "        x='Central Gas'\n",
    "    if x== 'Electric':\n",
    "        x='Central Electric'\n",
    "    if -1!=x.find('Heat Pump') or -1!=x.find('Forced Air'):\n",
    "        x='Forced Air'\n",
    "    if -1!=x.find('Window') and -1==x.find('Unit'):\n",
    "        x = 'Window Unit'\n",
    "    if -1!=x.find('Ceiling'):   \n",
    "        x = 'Ceiling Fan'\n",
    "    if -1!=x.find('Air Purification System'):    \n",
    "        x = 'Air Purification System'\n",
    "    if -1!=x.find('Evaporative'):    \n",
    "        x = 'Evaporative Cooling'\n",
    "    return x"
   ]
  },
  {
   "cell_type": "code",
   "execution_count": 199,
   "metadata": {
    "execution": {
     "iopub.execute_input": "2022-04-23T19:55:52.533417Z",
     "iopub.status.busy": "2022-04-23T19:55:52.532679Z",
     "iopub.status.idle": "2022-04-23T19:55:54.585625Z",
     "shell.execute_reply": "2022-04-23T19:55:54.584881Z",
     "shell.execute_reply.started": "2022-04-23T19:55:52.533378Z"
    }
   },
   "outputs": [],
   "source": [
    "df['Cooling'] = df['Cooling'].apply(dop_Cool)"
   ]
  },
  {
   "cell_type": "code",
   "execution_count": 200,
   "metadata": {
    "execution": {
     "iopub.execute_input": "2022-04-23T19:55:54.587072Z",
     "iopub.status.busy": "2022-04-23T19:55:54.586831Z",
     "iopub.status.idle": "2022-04-23T19:55:54.631210Z",
     "shell.execute_reply": "2022-04-23T19:55:54.630448Z",
     "shell.execute_reply.started": "2022-04-23T19:55:54.587041Z"
    }
   },
   "outputs": [],
   "source": [
    "df['Cooling'].value_counts()"
   ]
  },
  {
   "cell_type": "code",
   "execution_count": 201,
   "metadata": {
    "execution": {
     "iopub.execute_input": "2022-04-23T19:55:54.632844Z",
     "iopub.status.busy": "2022-04-23T19:55:54.632528Z",
     "iopub.status.idle": "2022-04-23T19:55:54.636736Z",
     "shell.execute_reply": "2022-04-23T19:55:54.636098Z",
     "shell.execute_reply.started": "2022-04-23T19:55:54.632807Z"
    }
   },
   "outputs": [],
   "source": [
    "# df['Cooling'].value_counts().index.tolist()"
   ]
  },
  {
   "cell_type": "markdown",
   "metadata": {},
   "source": [
    "Все остальные значения после  с признака 'Zoned' отнесем к 'Other'\n",
    "Непонятно, почему-то в признаке 'Cooling' данные чаще всего описывают о теплоснабжении!?\n",
    "Предполагается,что некоторые установки для тепла также используются для охлаждения.\n",
    "Данные приведены к удобному виду для категоризации данных, по возможности."
   ]
  },
  {
   "cell_type": "code",
   "execution_count": 202,
   "metadata": {
    "execution": {
     "iopub.execute_input": "2022-04-23T19:55:54.638951Z",
     "iopub.status.busy": "2022-04-23T19:55:54.638056Z",
     "iopub.status.idle": "2022-04-23T19:55:54.683945Z",
     "shell.execute_reply": "2022-04-23T19:55:54.683282Z",
     "shell.execute_reply.started": "2022-04-23T19:55:54.638912Z"
    }
   },
   "outputs": [],
   "source": [
    "ind_Cool = df['Cooling'].value_counts()['Zoned':].index\n",
    "ind_Cool"
   ]
  },
  {
   "cell_type": "code",
   "execution_count": 203,
   "metadata": {
    "execution": {
     "iopub.execute_input": "2022-04-23T19:55:54.685767Z",
     "iopub.status.busy": "2022-04-23T19:55:54.685478Z",
     "iopub.status.idle": "2022-04-23T19:55:54.951443Z",
     "shell.execute_reply": "2022-04-23T19:55:54.950707Z",
     "shell.execute_reply.started": "2022-04-23T19:55:54.685731Z"
    }
   },
   "outputs": [],
   "source": [
    "df['Cooling'] = df['Cooling'].apply(lambda x: x if x in ind_Cool else 'Other')"
   ]
  },
  {
   "cell_type": "code",
   "execution_count": 204,
   "metadata": {
    "execution": {
     "iopub.execute_input": "2022-04-23T19:55:54.952828Z",
     "iopub.status.busy": "2022-04-23T19:55:54.952595Z",
     "iopub.status.idle": "2022-04-23T19:55:54.994921Z",
     "shell.execute_reply": "2022-04-23T19:55:54.994038Z",
     "shell.execute_reply.started": "2022-04-23T19:55:54.952797Z"
    }
   },
   "outputs": [],
   "source": [
    "df['Cooling'].value_counts()['Zoned':].sum()"
   ]
  },
  {
   "cell_type": "code",
   "execution_count": 205,
   "metadata": {
    "execution": {
     "iopub.execute_input": "2022-04-23T19:55:54.997274Z",
     "iopub.status.busy": "2022-04-23T19:55:54.996371Z",
     "iopub.status.idle": "2022-04-23T19:55:55.037481Z",
     "shell.execute_reply": "2022-04-23T19:55:55.036629Z",
     "shell.execute_reply.started": "2022-04-23T19:55:54.997236Z"
    }
   },
   "outputs": [],
   "source": [
    "df['Cooling'].value_counts()['Other']"
   ]
  },
  {
   "cell_type": "code",
   "execution_count": 206,
   "metadata": {
    "execution": {
     "iopub.execute_input": "2022-04-23T19:55:55.039248Z",
     "iopub.status.busy": "2022-04-23T19:55:55.038552Z",
     "iopub.status.idle": "2022-04-23T19:55:55.045732Z",
     "shell.execute_reply": "2022-04-23T19:55:55.045098Z",
     "shell.execute_reply.started": "2022-04-23T19:55:55.039192Z"
    }
   },
   "outputs": [],
   "source": [
    "# df['Heating_Cooling'] = df['Heating']+', '+df['Cooling']\n",
    "# df['Heating_Cooling'] = df['Heating_Cooling'].apply(parsing)"
   ]
  },
  {
   "cell_type": "code",
   "execution_count": 207,
   "metadata": {
    "execution": {
     "iopub.execute_input": "2022-04-23T19:55:55.047650Z",
     "iopub.status.busy": "2022-04-23T19:55:55.047272Z",
     "iopub.status.idle": "2022-04-23T19:55:55.054442Z",
     "shell.execute_reply": "2022-04-23T19:55:55.053722Z",
     "shell.execute_reply.started": "2022-04-23T19:55:55.047616Z"
    }
   },
   "outputs": [],
   "source": [
    "# df['Heating_Cooling'].value_counts()"
   ]
  },
  {
   "cell_type": "code",
   "execution_count": 208,
   "metadata": {
    "execution": {
     "iopub.execute_input": "2022-04-23T19:55:55.056395Z",
     "iopub.status.busy": "2022-04-23T19:55:55.055874Z",
     "iopub.status.idle": "2022-04-23T19:55:55.062907Z",
     "shell.execute_reply": "2022-04-23T19:55:55.062065Z",
     "shell.execute_reply.started": "2022-04-23T19:55:55.056359Z"
    }
   },
   "outputs": [],
   "source": [
    "# df['Heating_Cooling'].value_counts().index.tolist()"
   ]
  },
  {
   "cell_type": "code",
   "execution_count": null,
   "metadata": {},
   "outputs": [],
   "source": []
  },
  {
   "cell_type": "markdown",
   "metadata": {},
   "source": [
    "#### Признак \"schools\""
   ]
  },
  {
   "cell_type": "markdown",
   "metadata": {},
   "source": [
    "Признак \"schools\" как и признак \"homeFacts\" также  содержит  отдельные данные, имеющие влияние на оценку недвижимости (дома, квартиры). Поэтому выделим эти данные. Для этого также приведем содежимое данного признака к формату .json и сформируем новые признаки."
   ]
  },
  {
   "cell_type": "code",
   "execution_count": 209,
   "metadata": {
    "execution": {
     "iopub.execute_input": "2022-04-23T19:55:55.065127Z",
     "iopub.status.busy": "2022-04-23T19:55:55.064484Z",
     "iopub.status.idle": "2022-04-23T19:55:55.071242Z",
     "shell.execute_reply": "2022-04-23T19:55:55.070540Z",
     "shell.execute_reply.started": "2022-04-23T19:55:55.065091Z"
    }
   },
   "outputs": [],
   "source": [
    "# df['schools']=data['schools']"
   ]
  },
  {
   "cell_type": "code",
   "execution_count": 210,
   "metadata": {
    "execution": {
     "iopub.execute_input": "2022-04-23T19:55:55.073015Z",
     "iopub.status.busy": "2022-04-23T19:55:55.072610Z",
     "iopub.status.idle": "2022-04-23T19:55:55.267755Z",
     "shell.execute_reply": "2022-04-23T19:55:55.267025Z",
     "shell.execute_reply.started": "2022-04-23T19:55:55.072978Z"
    }
   },
   "outputs": [],
   "source": [
    "df['schools'] = df['schools'].apply(lambda x: x.replace('None', '0'))"
   ]
  },
  {
   "cell_type": "code",
   "execution_count": 211,
   "metadata": {
    "execution": {
     "iopub.execute_input": "2022-04-23T19:55:55.269218Z",
     "iopub.status.busy": "2022-04-23T19:55:55.268975Z",
     "iopub.status.idle": "2022-04-23T19:55:55.600017Z",
     "shell.execute_reply": "2022-04-23T19:55:55.599290Z",
     "shell.execute_reply.started": "2022-04-23T19:55:55.269185Z"
    }
   },
   "outputs": [],
   "source": [
    "df['schools'].value_counts()"
   ]
  },
  {
   "cell_type": "code",
   "execution_count": 212,
   "metadata": {
    "execution": {
     "iopub.execute_input": "2022-04-23T19:55:55.601619Z",
     "iopub.status.busy": "2022-04-23T19:55:55.601354Z",
     "iopub.status.idle": "2022-04-23T19:55:55.605276Z",
     "shell.execute_reply": "2022-04-23T19:55:55.604392Z",
     "shell.execute_reply.started": "2022-04-23T19:55:55.601579Z"
    }
   },
   "outputs": [],
   "source": [
    "# df['schools'].value_counts().index.tolist()"
   ]
  },
  {
   "cell_type": "markdown",
   "metadata": {
    "execution": {
     "iopub.execute_input": "2022-02-07T18:45:15.717287Z",
     "iopub.status.busy": "2022-02-07T18:45:15.716654Z",
     "iopub.status.idle": "2022-02-07T18:45:15.72627Z",
     "shell.execute_reply": "2022-02-07T18:45:15.725142Z",
     "shell.execute_reply.started": "2022-02-07T18:45:15.717253Z"
    }
   },
   "source": [
    "Предварительный обзор данных показывает необходимость подробного парсинга признака. В ручную подберем символов, подлежащие изменению."
   ]
  },
  {
   "cell_type": "code",
   "execution_count": 213,
   "metadata": {
    "execution": {
     "iopub.execute_input": "2022-04-23T19:55:55.606990Z",
     "iopub.status.busy": "2022-04-23T19:55:55.606742Z",
     "iopub.status.idle": "2022-04-23T19:55:55.617646Z",
     "shell.execute_reply": "2022-04-23T19:55:55.616874Z",
     "shell.execute_reply.started": "2022-04-23T19:55:55.606955Z"
    }
   },
   "outputs": [],
   "source": [
    "# Просмотр строк с апострофом среди текста, например, \"Lil\\' Wonders Development Center Private School\" \n",
    "ss = df['schools'].loc[1485]\n",
    "ss"
   ]
  },
  {
   "cell_type": "code",
   "execution_count": 214,
   "metadata": {
    "execution": {
     "iopub.execute_input": "2022-04-23T19:55:55.619664Z",
     "iopub.status.busy": "2022-04-23T19:55:55.618955Z",
     "iopub.status.idle": "2022-04-23T19:55:55.627032Z",
     "shell.execute_reply": "2022-04-23T19:55:55.626238Z",
     "shell.execute_reply.started": "2022-04-23T19:55:55.619629Z"
    }
   },
   "outputs": [],
   "source": [
    "old = [\"O\\'\", \" O`,\",  \"'s\", \"\\'Duke\\'\", \"B\\'Nai\", \"B\\'inai\",  \"L\\'Ouver\", \"L\\'ouver\",  \"L\\'Banos\", \"L\\'Dovid\", \n",
    "              \"Lil\\'\", \"D\\'\",  \"d\\'Evelyn\", \"Q\\'\", \"Loggers\\'\", \"Teach N\\'\",  \"K\\'Tana\", \"R&D`\",  \"Citizens\\'\",  \"Kids\\'\", \n",
    "              \"Girls\\' \", \"d\\'Chassidei\", \"d\\'Gur\", \"d\\'Rav\", \"Pe\\'Er\", \"Be\\'Er\", \"Kids \\'R\\' Kids\", \"\\'joe\\' \", \n",
    "              \"Meadow\\'S\", \"Sheriff\\'S\", \"Friends\\' \", \"\\'Mother\\'\", \"Int\\'L\", \"\\'buddy\\'\"]\n",
    "new = ['O`',  \" O\\', \", '`s', '`Duke`', 'B`Nai', 'B`inai',  'L`Ouver', 'L`Ouver', 'L`Banos', 'L`Dovid', \n",
    "              'Lil`', 'D`', 'd`Evelyn', 'Q`', 'Loggers`', 'Teach N`', 'K`Tana', \"R&D\\'\",   'Citizens`', 'Kids`', \n",
    "              'Girls` ',  'd`Chassidei','d`Gur', 'd`Rav', 'Pe`Er', 'Be`Er', 'Kids `R` Kids', '`joe` ', \n",
    "              'Meadow`S', 'Sheriff`S', 'Friends` ', '`Mother`', 'Int`L', '`buddy`']"
   ]
  },
  {
   "cell_type": "code",
   "execution_count": 215,
   "metadata": {
    "execution": {
     "iopub.execute_input": "2022-04-23T19:55:55.628681Z",
     "iopub.status.busy": "2022-04-23T19:55:55.628425Z",
     "iopub.status.idle": "2022-04-23T19:56:03.692588Z",
     "shell.execute_reply": "2022-04-23T19:56:03.691810Z",
     "shell.execute_reply.started": "2022-04-23T19:55:55.628648Z"
    }
   },
   "outputs": [],
   "source": [
    "for i in range(0,len(old)):\n",
    "    df['schools'] = df['schools'].apply(lambda x: x.replace(old[i], new[i]))\n",
    "\n",
    "df['schools'] = df['schools'].apply(lambda x: x.replace(\"'\",'\"'))"
   ]
  },
  {
   "cell_type": "code",
   "execution_count": 216,
   "metadata": {
    "execution": {
     "iopub.execute_input": "2022-04-23T19:56:03.693976Z",
     "iopub.status.busy": "2022-04-23T19:56:03.693735Z",
     "iopub.status.idle": "2022-04-23T19:56:03.700349Z",
     "shell.execute_reply": "2022-04-23T19:56:03.699038Z",
     "shell.execute_reply.started": "2022-04-23T19:56:03.693944Z"
    }
   },
   "outputs": [],
   "source": [
    "# Проверка после преобразования отдельных строк с неправильными данными\n",
    "ss = df['schools'].loc[1485]\n",
    "sa = json.loads(ss)\n",
    "sa"
   ]
  },
  {
   "cell_type": "code",
   "execution_count": 217,
   "metadata": {
    "execution": {
     "iopub.execute_input": "2022-04-23T19:56:03.701764Z",
     "iopub.status.busy": "2022-04-23T19:56:03.701382Z",
     "iopub.status.idle": "2022-04-23T19:56:03.714027Z",
     "shell.execute_reply": "2022-04-23T19:56:03.713163Z",
     "shell.execute_reply.started": "2022-04-23T19:56:03.701728Z"
    }
   },
   "outputs": [],
   "source": [
    "ss = df['schools'].loc[1492][1:len(df['schools'][1492])-1]\n",
    "sa = json.loads(ss)\n",
    "sa"
   ]
  },
  {
   "cell_type": "code",
   "execution_count": 218,
   "metadata": {
    "execution": {
     "iopub.execute_input": "2022-04-23T19:56:03.715482Z",
     "iopub.status.busy": "2022-04-23T19:56:03.715067Z",
     "iopub.status.idle": "2022-04-23T19:56:13.761371Z",
     "shell.execute_reply": "2022-04-23T19:56:13.760638Z",
     "shell.execute_reply.started": "2022-04-23T19:56:03.715449Z"
    }
   },
   "outputs": [],
   "source": [
    "# Для проверки правильности парсинга признака 'schools' в json формат\n",
    "for i in range(0,len(df)):\n",
    "    ss = df['schools'].loc[i][1:len(df['schools'][i])-1]\n",
    "    try:\n",
    "        sa = json.loads(ss)\n",
    "    except:\n",
    "        print(i)"
   ]
  },
  {
   "cell_type": "markdown",
   "metadata": {},
   "source": [
    "Создание новых признаков из признака 'schools'"
   ]
  },
  {
   "cell_type": "code",
   "execution_count": null,
   "metadata": {},
   "outputs": [],
   "source": []
  },
  {
   "cell_type": "code",
   "execution_count": 219,
   "metadata": {
    "execution": {
     "iopub.execute_input": "2022-04-23T19:56:13.762944Z",
     "iopub.status.busy": "2022-04-23T19:56:13.762693Z",
     "iopub.status.idle": "2022-04-23T19:56:13.769341Z",
     "shell.execute_reply": "2022-04-23T19:56:13.768486Z",
     "shell.execute_reply.started": "2022-04-23T19:56:13.762911Z"
    }
   },
   "outputs": [],
   "source": [
    "def app_schools(x,k):\n",
    "    js = json.loads(x[1:len(x)-1])\n",
    "    if k==0:\n",
    "        return js['rating']\n",
    "    if k==1:\n",
    "        return js['data']['Distance']\n",
    "    if k==2:\n",
    "        return js['data']['Grades']\n",
    "    if k==3:\n",
    "        return js['name']"
   ]
  },
  {
   "cell_type": "code",
   "execution_count": 220,
   "metadata": {
    "execution": {
     "iopub.execute_input": "2022-04-23T19:56:13.771121Z",
     "iopub.status.busy": "2022-04-23T19:56:13.770832Z",
     "iopub.status.idle": "2022-04-23T19:56:25.944667Z",
     "shell.execute_reply": "2022-04-23T19:56:25.943893Z",
     "shell.execute_reply.started": "2022-04-23T19:56:13.771082Z"
    }
   },
   "outputs": [],
   "source": [
    "df['schools_rating'] = df['schools'].apply(lambda x: app_schools(x,0))\n",
    "df['schools_Distance'] = df['schools'].apply(lambda x: app_schools(x,1))\n",
    "df['schools_Grades'] = df['schools'].apply(lambda x: app_schools(x,2))\n",
    "df['schools_name'] = df['schools'].apply(lambda x: app_schools(x,3))"
   ]
  },
  {
   "cell_type": "code",
   "execution_count": null,
   "metadata": {},
   "outputs": [],
   "source": []
  },
  {
   "cell_type": "markdown",
   "metadata": {},
   "source": [
    "#### Новые признаки  анализируются по отдельности\n",
    "'schools_rating', 'schools_Distance', 'schools_Grades', 'schools_name'"
   ]
  },
  {
   "cell_type": "markdown",
   "metadata": {},
   "source": [
    "Сперва посчитаем количества школ и создаем отдельный признак \"school_count\""
   ]
  },
  {
   "cell_type": "code",
   "execution_count": 221,
   "metadata": {
    "execution": {
     "iopub.execute_input": "2022-04-23T19:56:25.946422Z",
     "iopub.status.busy": "2022-04-23T19:56:25.946159Z",
     "iopub.status.idle": "2022-04-23T19:56:26.132200Z",
     "shell.execute_reply": "2022-04-23T19:56:26.131513Z",
     "shell.execute_reply.started": "2022-04-23T19:56:25.946371Z"
    }
   },
   "outputs": [],
   "source": [
    "df['school_count'] = df['schools_rating'].apply(lambda x: len(x))"
   ]
  },
  {
   "cell_type": "code",
   "execution_count": 222,
   "metadata": {
    "execution": {
     "iopub.execute_input": "2022-04-23T19:56:26.133639Z",
     "iopub.status.busy": "2022-04-23T19:56:26.133370Z",
     "iopub.status.idle": "2022-04-23T19:56:26.143743Z",
     "shell.execute_reply": "2022-04-23T19:56:26.142936Z",
     "shell.execute_reply.started": "2022-04-23T19:56:26.133606Z"
    }
   },
   "outputs": [],
   "source": [
    "df['school_count'].value_counts()"
   ]
  },
  {
   "cell_type": "code",
   "execution_count": 223,
   "metadata": {
    "execution": {
     "iopub.execute_input": "2022-04-23T19:56:26.145679Z",
     "iopub.status.busy": "2022-04-23T19:56:26.145369Z",
     "iopub.status.idle": "2022-04-23T19:56:26.156562Z",
     "shell.execute_reply": "2022-04-23T19:56:26.155878Z",
     "shell.execute_reply.started": "2022-04-23T19:56:26.145643Z"
    }
   },
   "outputs": [],
   "source": [
    "df['school_count'].value_counts().index.tolist()"
   ]
  },
  {
   "cell_type": "markdown",
   "metadata": {},
   "source": [
    "##### Признак  'schools_rating'"
   ]
  },
  {
   "cell_type": "code",
   "execution_count": 224,
   "metadata": {
    "execution": {
     "iopub.execute_input": "2022-04-23T19:56:26.158005Z",
     "iopub.status.busy": "2022-04-23T19:56:26.157758Z",
     "iopub.status.idle": "2022-04-23T19:56:26.171324Z",
     "shell.execute_reply": "2022-04-23T19:56:26.170492Z",
     "shell.execute_reply.started": "2022-04-23T19:56:26.157971Z"
    }
   },
   "outputs": [],
   "source": [
    "# Вычисляется средний рейтинг школ\n",
    "df['schools_rating']"
   ]
  },
  {
   "cell_type": "code",
   "execution_count": 225,
   "metadata": {
    "execution": {
     "iopub.execute_input": "2022-04-23T19:56:26.173043Z",
     "iopub.status.busy": "2022-04-23T19:56:26.172617Z",
     "iopub.status.idle": "2022-04-23T19:56:26.178369Z",
     "shell.execute_reply": "2022-04-23T19:56:26.177693Z",
     "shell.execute_reply.started": "2022-04-23T19:56:26.173009Z"
    }
   },
   "outputs": [],
   "source": [
    "# df['schools_rating'].value_counts().index.tolist()"
   ]
  },
  {
   "cell_type": "code",
   "execution_count": 226,
   "metadata": {
    "execution": {
     "iopub.execute_input": "2022-04-23T19:56:26.180388Z",
     "iopub.status.busy": "2022-04-23T19:56:26.179967Z",
     "iopub.status.idle": "2022-04-23T19:56:26.187161Z",
     "shell.execute_reply": "2022-04-23T19:56:26.186452Z",
     "shell.execute_reply.started": "2022-04-23T19:56:26.180353Z"
    }
   },
   "outputs": [],
   "source": [
    "def rait_ch(x):\n",
    "    count = len(x)\n",
    "    c = 0\n",
    "    s = 0\n",
    "    for i in range(0, len(x)):\n",
    "        x[i]=x[i].replace('/10', '')\n",
    "        if x[i].isdigit():\n",
    "            s+=int(x[i])\n",
    "            c+=1\n",
    "    if c!=0:\n",
    "        s = round(s/c, 2)\n",
    "    else:\n",
    "        s = 0\n",
    "    return s"
   ]
  },
  {
   "cell_type": "code",
   "execution_count": 227,
   "metadata": {
    "execution": {
     "iopub.execute_input": "2022-04-23T19:56:26.189542Z",
     "iopub.status.busy": "2022-04-23T19:56:26.188681Z",
     "iopub.status.idle": "2022-04-23T19:56:27.584306Z",
     "shell.execute_reply": "2022-04-23T19:56:27.583579Z",
     "shell.execute_reply.started": "2022-04-23T19:56:26.189516Z"
    }
   },
   "outputs": [],
   "source": [
    "df['schools_rating'] = df['schools_rating'].apply(rait_ch)"
   ]
  },
  {
   "cell_type": "code",
   "execution_count": 228,
   "metadata": {
    "execution": {
     "iopub.execute_input": "2022-04-23T19:56:27.585643Z",
     "iopub.status.busy": "2022-04-23T19:56:27.585390Z",
     "iopub.status.idle": "2022-04-23T19:56:27.588758Z",
     "shell.execute_reply": "2022-04-23T19:56:27.588121Z",
     "shell.execute_reply.started": "2022-04-23T19:56:27.585610Z"
    }
   },
   "outputs": [],
   "source": [
    "# df['schools_rating'].value_counts().index.tolist()"
   ]
  },
  {
   "cell_type": "code",
   "execution_count": 229,
   "metadata": {
    "execution": {
     "iopub.execute_input": "2022-04-23T19:56:27.590195Z",
     "iopub.status.busy": "2022-04-23T19:56:27.589919Z",
     "iopub.status.idle": "2022-04-23T19:56:27.609308Z",
     "shell.execute_reply": "2022-04-23T19:56:27.608462Z",
     "shell.execute_reply.started": "2022-04-23T19:56:27.590160Z"
    }
   },
   "outputs": [],
   "source": [
    "df['schools_rating'].value_counts()"
   ]
  },
  {
   "cell_type": "code",
   "execution_count": null,
   "metadata": {},
   "outputs": [],
   "source": []
  },
  {
   "cell_type": "markdown",
   "metadata": {},
   "source": [
    "##### Признак  'schools_Distance'"
   ]
  },
  {
   "cell_type": "code",
   "execution_count": 230,
   "metadata": {
    "execution": {
     "iopub.execute_input": "2022-04-23T19:56:27.610808Z",
     "iopub.status.busy": "2022-04-23T19:56:27.610496Z",
     "iopub.status.idle": "2022-04-23T19:56:27.622287Z",
     "shell.execute_reply": "2022-04-23T19:56:27.621639Z",
     "shell.execute_reply.started": "2022-04-23T19:56:27.610775Z"
    }
   },
   "outputs": [],
   "source": [
    "# Вычисляется средняя дистанция до школ\n",
    "df['schools_Distance']"
   ]
  },
  {
   "cell_type": "code",
   "execution_count": 231,
   "metadata": {
    "execution": {
     "iopub.execute_input": "2022-04-23T19:56:27.624181Z",
     "iopub.status.busy": "2022-04-23T19:56:27.623440Z",
     "iopub.status.idle": "2022-04-23T19:56:27.631386Z",
     "shell.execute_reply": "2022-04-23T19:56:27.630670Z",
     "shell.execute_reply.started": "2022-04-23T19:56:27.624145Z"
    }
   },
   "outputs": [],
   "source": [
    "def dist_ch(x):\n",
    "    count = len(x)\n",
    "    c = 0\n",
    "    s = 0\n",
    "    for i in range(0, len(x)):\n",
    "        x[i]=x[i].replace('mi', '')\n",
    "        if float(x[i]):\n",
    "            s+=float(x[i])\n",
    "            c+=1\n",
    "    if c!=0:\n",
    "        s = round(s/c, 2)\n",
    "    else:\n",
    "        s = 0\n",
    "    return s"
   ]
  },
  {
   "cell_type": "code",
   "execution_count": 232,
   "metadata": {
    "execution": {
     "iopub.execute_input": "2022-04-23T19:56:27.633326Z",
     "iopub.status.busy": "2022-04-23T19:56:27.632644Z",
     "iopub.status.idle": "2022-04-23T19:56:29.296266Z",
     "shell.execute_reply": "2022-04-23T19:56:29.295551Z",
     "shell.execute_reply.started": "2022-04-23T19:56:27.633291Z"
    }
   },
   "outputs": [],
   "source": [
    "df['schools_Distance'] = df['schools_Distance'].apply(dist_ch)"
   ]
  },
  {
   "cell_type": "code",
   "execution_count": 233,
   "metadata": {
    "execution": {
     "iopub.execute_input": "2022-04-23T19:56:29.297701Z",
     "iopub.status.busy": "2022-04-23T19:56:29.297443Z",
     "iopub.status.idle": "2022-04-23T19:56:29.302876Z",
     "shell.execute_reply": "2022-04-23T19:56:29.301462Z",
     "shell.execute_reply.started": "2022-04-23T19:56:29.297667Z"
    }
   },
   "outputs": [],
   "source": [
    "# df['schools_Distance'].value_counts().index.tolist()"
   ]
  },
  {
   "cell_type": "code",
   "execution_count": 234,
   "metadata": {
    "execution": {
     "iopub.execute_input": "2022-04-23T19:56:29.304893Z",
     "iopub.status.busy": "2022-04-23T19:56:29.304052Z",
     "iopub.status.idle": "2022-04-23T19:56:29.315768Z",
     "shell.execute_reply": "2022-04-23T19:56:29.314643Z",
     "shell.execute_reply.started": "2022-04-23T19:56:29.304838Z"
    }
   },
   "outputs": [],
   "source": [
    "df['schools_Distance']"
   ]
  },
  {
   "cell_type": "markdown",
   "metadata": {},
   "source": [
    "##### Признак  'schools_Grades'"
   ]
  },
  {
   "cell_type": "code",
   "execution_count": 235,
   "metadata": {
    "execution": {
     "iopub.execute_input": "2022-04-23T19:56:29.317322Z",
     "iopub.status.busy": "2022-04-23T19:56:29.317075Z",
     "iopub.status.idle": "2022-04-23T19:56:29.327760Z",
     "shell.execute_reply": "2022-04-23T19:56:29.327083Z",
     "shell.execute_reply.started": "2022-04-23T19:56:29.317290Z"
    }
   },
   "outputs": [],
   "source": [
    "df['schools_Grades']"
   ]
  },
  {
   "cell_type": "code",
   "execution_count": 236,
   "metadata": {
    "execution": {
     "iopub.execute_input": "2022-04-23T19:56:29.329871Z",
     "iopub.status.busy": "2022-04-23T19:56:29.329216Z",
     "iopub.status.idle": "2022-04-23T19:57:07.276720Z",
     "shell.execute_reply": "2022-04-23T19:57:07.276047Z",
     "shell.execute_reply.started": "2022-04-23T19:56:29.329833Z"
    }
   },
   "outputs": [],
   "source": [
    "df['schools_Grades'].value_counts()"
   ]
  },
  {
   "cell_type": "code",
   "execution_count": 237,
   "metadata": {
    "execution": {
     "iopub.execute_input": "2022-04-23T19:57:07.278186Z",
     "iopub.status.busy": "2022-04-23T19:57:07.277872Z",
     "iopub.status.idle": "2022-04-23T19:57:07.283769Z",
     "shell.execute_reply": "2022-04-23T19:57:07.283039Z",
     "shell.execute_reply.started": "2022-04-23T19:57:07.278149Z"
    }
   },
   "outputs": [],
   "source": [
    "# Для приведения к единой структуре данных \n",
    "def change_to(x):\n",
    "    if len(x)!=0:\n",
    "        for i in range(0, len(x)):\n",
    "            try:\n",
    "                x[i] = str(x[i].replace(' to ','-'))\n",
    "            except:\n",
    "                if x[i]==0: x[i]='0'\n",
    "                else: print(x)\n",
    "    else:\n",
    "        x = []\n",
    "    return x"
   ]
  },
  {
   "cell_type": "code",
   "execution_count": 238,
   "metadata": {
    "execution": {
     "iopub.execute_input": "2022-04-23T19:57:07.285620Z",
     "iopub.status.busy": "2022-04-23T19:57:07.285133Z",
     "iopub.status.idle": "2022-04-23T19:57:07.981919Z",
     "shell.execute_reply": "2022-04-23T19:57:07.981169Z",
     "shell.execute_reply.started": "2022-04-23T19:57:07.285583Z"
    }
   },
   "outputs": [],
   "source": [
    "df['schools_Grades'] = df['schools_Grades'].apply(change_to)"
   ]
  },
  {
   "cell_type": "code",
   "execution_count": 239,
   "metadata": {
    "execution": {
     "iopub.execute_input": "2022-04-23T19:57:07.983418Z",
     "iopub.status.busy": "2022-04-23T19:57:07.983148Z",
     "iopub.status.idle": "2022-04-23T19:57:45.455471Z",
     "shell.execute_reply": "2022-04-23T19:57:45.454658Z",
     "shell.execute_reply.started": "2022-04-23T19:57:07.983368Z"
    }
   },
   "outputs": [],
   "source": [
    "df['schools_Grades'].value_counts()"
   ]
  },
  {
   "cell_type": "code",
   "execution_count": 240,
   "metadata": {
    "execution": {
     "iopub.execute_input": "2022-04-23T19:57:45.457061Z",
     "iopub.status.busy": "2022-04-23T19:57:45.456807Z",
     "iopub.status.idle": "2022-04-23T19:57:45.460774Z",
     "shell.execute_reply": "2022-04-23T19:57:45.459968Z",
     "shell.execute_reply.started": "2022-04-23T19:57:45.457026Z"
    }
   },
   "outputs": [],
   "source": [
    "# df['schools_Grades'].value_counts().index.tolist()"
   ]
  },
  {
   "cell_type": "markdown",
   "metadata": {},
   "source": [
    "Цель преобразования:  данные признака  привести к форму \n",
    "\n",
    "\"Самое младшее образовательное учреждение\" - \"Самое старшое образовательное учреждение\""
   ]
  },
  {
   "cell_type": "code",
   "execution_count": 241,
   "metadata": {
    "execution": {
     "iopub.execute_input": "2022-04-23T19:57:45.462430Z",
     "iopub.status.busy": "2022-04-23T19:57:45.461979Z",
     "iopub.status.idle": "2022-04-23T19:57:51.531086Z",
     "shell.execute_reply": "2022-04-23T19:57:51.530224Z",
     "shell.execute_reply.started": "2022-04-23T19:57:45.462379Z"
    }
   },
   "outputs": [],
   "source": [
    "def corr(x):\n",
    "    s = set()\n",
    "    for i in range(0, len(x)):\n",
    "        if [x[i]]==x[i].split(','):\n",
    "            ch = re.sub(r'[0-9a-zA-Z]', '', x[i])\n",
    "            if ch!='':\n",
    "                s.add(x[i].split(ch)[0])\n",
    "                if len(x[i].split(ch))>1:\n",
    "                    s.add(x[i].split(ch)[1])\n",
    "            else:\n",
    "                s.add(x[i])\n",
    "        else:\n",
    "            a = x[i].split(',')\n",
    "            ch = re.sub(r'[0-9a-zA-Z]', '', a[0])\n",
    "            if ch!='':\n",
    "                s.add(a[0].split(ch)[0])\n",
    "                if len(a[0].split(ch))>1:\n",
    "                    s.add(a[0].split(ch)[1])\n",
    "            else:\n",
    "                s.add(a[0])\n",
    "            ch = re.sub(r'[0-9a-zA-Z]', '', a[1])\n",
    "            if ch!='':\n",
    "                try:\n",
    "                    s.add(a[1].split(ch)[0])\n",
    "                except:\n",
    "                    print(ch,'  ', a)\n",
    "                if len(a[1].split(ch))>1:\n",
    "                    s.add(a[1].split(ch)[1])\n",
    "            else:\n",
    "                s.add(a[1])\n",
    "    return s\n",
    "\n",
    "df['schools_Grades'] = df['schools_Grades'].apply(corr)"
   ]
  },
  {
   "cell_type": "code",
   "execution_count": 242,
   "metadata": {
    "execution": {
     "iopub.execute_input": "2022-04-23T19:57:51.532662Z",
     "iopub.status.busy": "2022-04-23T19:57:51.532385Z",
     "iopub.status.idle": "2022-04-23T19:57:51.537749Z",
     "shell.execute_reply": "2022-04-23T19:57:51.537073Z",
     "shell.execute_reply.started": "2022-04-23T19:57:51.532624Z"
    }
   },
   "outputs": [],
   "source": [
    "# df['schools_Grades'].value_counts()"
   ]
  },
  {
   "cell_type": "code",
   "execution_count": 243,
   "metadata": {
    "execution": {
     "iopub.execute_input": "2022-04-23T19:57:51.539632Z",
     "iopub.status.busy": "2022-04-23T19:57:51.538922Z",
     "iopub.status.idle": "2022-04-23T19:57:51.547127Z",
     "shell.execute_reply": "2022-04-23T19:57:51.546386Z",
     "shell.execute_reply.started": "2022-04-23T19:57:51.539579Z"
    }
   },
   "outputs": [],
   "source": [
    "# df['schools_Grades'].value_counts().index.tolist()"
   ]
  },
  {
   "cell_type": "code",
   "execution_count": 244,
   "metadata": {
    "execution": {
     "iopub.execute_input": "2022-04-23T19:57:51.548924Z",
     "iopub.status.busy": "2022-04-23T19:57:51.548562Z",
     "iopub.status.idle": "2022-04-23T19:57:53.838077Z",
     "shell.execute_reply": "2022-04-23T19:57:53.837339Z",
     "shell.execute_reply.started": "2022-04-23T19:57:51.548884Z"
    }
   },
   "outputs": [],
   "source": [
    "left = ['Preschool', 'PK', 'K']\n",
    "def diapason_school(x):\n",
    "    x = list(x)\n",
    "    stroka=''\n",
    "    if len(x)==0:\n",
    "        stroka = '0'\n",
    "    else:\n",
    "        x.sort()\n",
    "    # Предполагаемое самое младшее образовательное учреждение\n",
    "        a = x[-1]\n",
    "        max=0\n",
    "        min=12\n",
    "    # Выделение самого старшего класса\n",
    "        for i in range(0, len(x)):\n",
    "            try:\n",
    "                if max<int(x[i]):\n",
    "                    max = int(x[i])\n",
    "                if min>int(x[i]):\n",
    "                    min=int(x[i])\n",
    "            except:\n",
    "                continue\n",
    "        if a in left:\n",
    "            stroka = a+' - '+str(max)\n",
    "        else:\n",
    "            stroka = str(min)+' - '+str(max)\n",
    "    return stroka\n",
    "\n",
    "df['schools_Grades'] = df['schools_Grades'].apply(diapason_school)"
   ]
  },
  {
   "cell_type": "code",
   "execution_count": 245,
   "metadata": {
    "execution": {
     "iopub.execute_input": "2022-04-23T19:57:53.839683Z",
     "iopub.status.busy": "2022-04-23T19:57:53.839343Z",
     "iopub.status.idle": "2022-04-23T19:57:53.843384Z",
     "shell.execute_reply": "2022-04-23T19:57:53.842610Z",
     "shell.execute_reply.started": "2022-04-23T19:57:53.839646Z"
    }
   },
   "outputs": [],
   "source": [
    "# df['schools_Grades'].value_counts().index.tolist()"
   ]
  },
  {
   "cell_type": "code",
   "execution_count": 246,
   "metadata": {
    "execution": {
     "iopub.execute_input": "2022-04-23T19:57:53.868305Z",
     "iopub.status.busy": "2022-04-23T19:57:53.868027Z",
     "iopub.status.idle": "2022-04-23T19:57:53.931789Z",
     "shell.execute_reply": "2022-04-23T19:57:53.931082Z",
     "shell.execute_reply.started": "2022-04-23T19:57:53.868278Z"
    }
   },
   "outputs": [],
   "source": [
    "df['schools_Grades'].value_counts()"
   ]
  },
  {
   "cell_type": "markdown",
   "metadata": {},
   "source": [
    "Признак категориальный"
   ]
  },
  {
   "cell_type": "code",
   "execution_count": null,
   "metadata": {},
   "outputs": [],
   "source": []
  },
  {
   "cell_type": "code",
   "execution_count": null,
   "metadata": {},
   "outputs": [],
   "source": []
  },
  {
   "cell_type": "markdown",
   "metadata": {},
   "source": [
    "##### Признак  'schools_name'"
   ]
  },
  {
   "cell_type": "code",
   "execution_count": 247,
   "metadata": {
    "execution": {
     "iopub.execute_input": "2022-04-23T19:57:53.933834Z",
     "iopub.status.busy": "2022-04-23T19:57:53.933312Z",
     "iopub.status.idle": "2022-04-23T19:57:53.945398Z",
     "shell.execute_reply": "2022-04-23T19:57:53.944577Z",
     "shell.execute_reply.started": "2022-04-23T19:57:53.933794Z"
    }
   },
   "outputs": [],
   "source": [
    "# Данный признак подлежит удалению.\n",
    "df['schools_name']"
   ]
  },
  {
   "cell_type": "code",
   "execution_count": 248,
   "metadata": {
    "execution": {
     "iopub.execute_input": "2022-04-23T19:57:53.947699Z",
     "iopub.status.busy": "2022-04-23T19:57:53.947159Z",
     "iopub.status.idle": "2022-04-23T19:57:54.260172Z",
     "shell.execute_reply": "2022-04-23T19:57:54.259445Z",
     "shell.execute_reply.started": "2022-04-23T19:57:53.947662Z"
    }
   },
   "outputs": [],
   "source": [
    "df.drop(['schools_name'], axis=1, inplace=True)"
   ]
  },
  {
   "cell_type": "code",
   "execution_count": null,
   "metadata": {},
   "outputs": [],
   "source": []
  },
  {
   "cell_type": "markdown",
   "metadata": {},
   "source": [
    "#### Признак \"PrivatePool\" & \"private pool\""
   ]
  },
  {
   "cell_type": "code",
   "execution_count": 249,
   "metadata": {
    "execution": {
     "iopub.execute_input": "2022-04-23T19:57:54.261879Z",
     "iopub.status.busy": "2022-04-23T19:57:54.261616Z",
     "iopub.status.idle": "2022-04-23T19:57:54.267931Z",
     "shell.execute_reply": "2022-04-23T19:57:54.267011Z",
     "shell.execute_reply.started": "2022-04-23T19:57:54.261839Z"
    }
   },
   "outputs": [],
   "source": [
    "df.columns"
   ]
  },
  {
   "cell_type": "code",
   "execution_count": 250,
   "metadata": {
    "execution": {
     "iopub.execute_input": "2022-04-23T19:57:54.270044Z",
     "iopub.status.busy": "2022-04-23T19:57:54.269777Z",
     "iopub.status.idle": "2022-04-23T19:57:54.292400Z",
     "shell.execute_reply": "2022-04-23T19:57:54.291676Z",
     "shell.execute_reply.started": "2022-04-23T19:57:54.270009Z"
    }
   },
   "outputs": [],
   "source": [
    "df['private pool'].value_counts()"
   ]
  },
  {
   "cell_type": "code",
   "execution_count": 251,
   "metadata": {
    "execution": {
     "iopub.execute_input": "2022-04-23T19:57:54.293996Z",
     "iopub.status.busy": "2022-04-23T19:57:54.293605Z",
     "iopub.status.idle": "2022-04-23T19:57:54.316248Z",
     "shell.execute_reply": "2022-04-23T19:57:54.315545Z",
     "shell.execute_reply.started": "2022-04-23T19:57:54.293961Z"
    }
   },
   "outputs": [],
   "source": [
    "df['PrivatePool'].value_counts()"
   ]
  },
  {
   "cell_type": "code",
   "execution_count": 252,
   "metadata": {
    "execution": {
     "iopub.execute_input": "2022-04-23T19:57:54.317538Z",
     "iopub.status.busy": "2022-04-23T19:57:54.317224Z",
     "iopub.status.idle": "2022-04-23T19:57:54.870335Z",
     "shell.execute_reply": "2022-04-23T19:57:54.869610Z",
     "shell.execute_reply.started": "2022-04-23T19:57:54.317503Z"
    }
   },
   "outputs": [],
   "source": [
    "df['private pool'] = df['private pool'].apply(lambda x: 1 if x=='Yes' else 0)\n",
    "df['PrivatePool'] = df['PrivatePool'].apply(lambda x: 1 if (x=='Yes' or x=='yes') else 0)"
   ]
  },
  {
   "cell_type": "code",
   "execution_count": 253,
   "metadata": {
    "execution": {
     "iopub.execute_input": "2022-04-23T19:57:54.872002Z",
     "iopub.status.busy": "2022-04-23T19:57:54.871762Z",
     "iopub.status.idle": "2022-04-23T19:57:54.880976Z",
     "shell.execute_reply": "2022-04-23T19:57:54.880189Z",
     "shell.execute_reply.started": "2022-04-23T19:57:54.871969Z"
    }
   },
   "outputs": [],
   "source": [
    "df['PrivatePool'].value_counts()"
   ]
  },
  {
   "cell_type": "code",
   "execution_count": 254,
   "metadata": {
    "execution": {
     "iopub.execute_input": "2022-04-23T19:57:54.882518Z",
     "iopub.status.busy": "2022-04-23T19:57:54.882164Z",
     "iopub.status.idle": "2022-04-23T19:57:54.894141Z",
     "shell.execute_reply": "2022-04-23T19:57:54.893345Z",
     "shell.execute_reply.started": "2022-04-23T19:57:54.882481Z"
    }
   },
   "outputs": [],
   "source": [
    "df['private pool'].value_counts()"
   ]
  },
  {
   "cell_type": "code",
   "execution_count": 255,
   "metadata": {
    "execution": {
     "iopub.execute_input": "2022-04-23T19:57:54.895932Z",
     "iopub.status.busy": "2022-04-23T19:57:54.895688Z",
     "iopub.status.idle": "2022-04-23T19:57:54.991030Z",
     "shell.execute_reply": "2022-04-23T19:57:54.990293Z",
     "shell.execute_reply.started": "2022-04-23T19:57:54.895899Z"
    }
   },
   "outputs": [],
   "source": [
    "# Объединим два признака:\n",
    "df['PrivatePool'] = df['private pool'] | df['PrivatePool']\n",
    "df.drop(['private pool'], axis=1, inplace=True)"
   ]
  },
  {
   "cell_type": "code",
   "execution_count": 256,
   "metadata": {
    "execution": {
     "iopub.execute_input": "2022-04-23T19:57:54.992448Z",
     "iopub.status.busy": "2022-04-23T19:57:54.992185Z",
     "iopub.status.idle": "2022-04-23T19:57:55.002325Z",
     "shell.execute_reply": "2022-04-23T19:57:55.000919Z",
     "shell.execute_reply.started": "2022-04-23T19:57:54.992398Z"
    }
   },
   "outputs": [],
   "source": [
    "df['PrivatePool'].value_counts()"
   ]
  },
  {
   "cell_type": "code",
   "execution_count": null,
   "metadata": {},
   "outputs": [],
   "source": []
  },
  {
   "cell_type": "markdown",
   "metadata": {},
   "source": [
    "#### Признак \"fireplace\""
   ]
  },
  {
   "cell_type": "markdown",
   "metadata": {},
   "source": [
    "Содержимое признака \"fireplace\" также небрежно заполнено и данные очень разнообразны, поэтому требуют сложного и кропотливого парсинга содежимого признака."
   ]
  },
  {
   "cell_type": "code",
   "execution_count": 257,
   "metadata": {
    "execution": {
     "iopub.execute_input": "2022-04-23T19:57:55.004188Z",
     "iopub.status.busy": "2022-04-23T19:57:55.003766Z",
     "iopub.status.idle": "2022-04-23T19:57:55.123853Z",
     "shell.execute_reply": "2022-04-23T19:57:55.123100Z",
     "shell.execute_reply.started": "2022-04-23T19:57:55.004148Z"
    }
   },
   "outputs": [],
   "source": [
    "df['fireplace'] = df['fireplace'].fillna('0') # Заполнение 0 пустых признаков, отсутствие камин \n",
    "df['fireplace'] = df['fireplace'].apply(lambda x: x.lower()) #  Перевод всех символов к нижнему регистру"
   ]
  },
  {
   "cell_type": "code",
   "execution_count": 258,
   "metadata": {
    "execution": {
     "iopub.execute_input": "2022-04-23T19:57:55.125364Z",
     "iopub.status.busy": "2022-04-23T19:57:55.124956Z",
     "iopub.status.idle": "2022-04-23T19:57:55.431044Z",
     "shell.execute_reply": "2022-04-23T19:57:55.430330Z",
     "shell.execute_reply.started": "2022-04-23T19:57:55.125321Z"
    }
   },
   "outputs": [],
   "source": [
    "no = ['no fireplace', 'no', 'n/k'] # Признаки  отсутствия камин\n",
    "for i in range(0, len(no)):\n",
    "    df['fireplace'] = df['fireplace'].apply(lambda x: '0' if x==no[i] else x)"
   ]
  },
  {
   "cell_type": "code",
   "execution_count": 259,
   "metadata": {
    "execution": {
     "iopub.execute_input": "2022-04-23T19:57:55.432669Z",
     "iopub.status.busy": "2022-04-23T19:57:55.432432Z",
     "iopub.status.idle": "2022-04-23T19:57:55.540224Z",
     "shell.execute_reply": "2022-04-23T19:57:55.539453Z",
     "shell.execute_reply.started": "2022-04-23T19:57:55.432639Z"
    }
   },
   "outputs": [],
   "source": [
    "df['fireplace'] = df['fireplace'].apply(lambda x: '1' if x=='yes' else x) # Есть камин, считаем,  что единственный"
   ]
  },
  {
   "cell_type": "code",
   "execution_count": 260,
   "metadata": {
    "execution": {
     "iopub.execute_input": "2022-04-23T19:57:55.542603Z",
     "iopub.status.busy": "2022-04-23T19:57:55.542072Z",
     "iopub.status.idle": "2022-04-23T19:57:56.893236Z",
     "shell.execute_reply": "2022-04-23T19:57:56.892259Z",
     "shell.execute_reply.started": "2022-04-23T19:57:55.542565Z"
    }
   },
   "outputs": [],
   "source": [
    "# Для подсчета каминов в доме используем слово \"room\". \n",
    "# Для этого в названиях комнат расшифруем сокращения и пропущенное слово \"room\", заодно расшифруем слово 'fp'\n",
    "old= ['fp', 'bedroom',  'familyrm', 'family rm', 'livingrm', 'living rm', 'guest house',\n",
    "      'kitchen',  'basement',  'in-law quarters'] \n",
    "\n",
    "new = ['fireplace',   'bed room', 'family room', 'family room', 'living room', 'living room', 'guest house room',\n",
    "'kitchen room', 'basement room',  'in-law quarters room']\n",
    "\n",
    "for i in range(0, len(old)):\n",
    "    df['fireplace'] = df['fireplace'].apply(lambda x: x.replace(old[i], new[i]))"
   ]
  },
  {
   "cell_type": "code",
   "execution_count": 261,
   "metadata": {
    "execution": {
     "iopub.execute_input": "2022-04-23T19:57:56.895660Z",
     "iopub.status.busy": "2022-04-23T19:57:56.895115Z",
     "iopub.status.idle": "2022-04-23T19:57:57.309723Z",
     "shell.execute_reply": "2022-04-23T19:57:57.308988Z",
     "shell.execute_reply.started": "2022-04-23T19:57:56.895618Z"
    }
   },
   "outputs": [],
   "source": [
    "# Здесь слово из yes_substr заменяется на слово из in_str , если отсуствует некотроые сопутствующее слово из non_substr.\n",
    "yes_substr = ['master', 'dining', 'den']\n",
    "non_substr = ['bed room', 'kitchen/dining room', 'den/family']\n",
    "in_str = ['master bed room', 'dining room', 'den room'] \n",
    "for i in range(0,len(yes_substr)):\n",
    "    df['fireplace'] = df['fireplace'].apply(\n",
    "        lambda x: x.replace(yes_substr[i], in_str[i]) if ((-1!=x.find(yes_substr[i])) and (-1==x.find(non_substr[i]))) else x)"
   ]
  },
  {
   "cell_type": "code",
   "execution_count": 262,
   "metadata": {
    "execution": {
     "iopub.execute_input": "2022-04-23T19:57:57.311924Z",
     "iopub.status.busy": "2022-04-23T19:57:57.311445Z",
     "iopub.status.idle": "2022-04-23T19:57:57.858395Z",
     "shell.execute_reply": "2022-04-23T19:57:57.857658Z",
     "shell.execute_reply.started": "2022-04-23T19:57:57.311886Z"
    }
   },
   "outputs": [],
   "source": [
    "#  Переводим словесное описание чисел в цифровой вид и заменим всю строку\n",
    "n_old = ['one', 'two', 'three', 'four'] \n",
    "n_new = ['1','2', '3', '4']\n",
    "for i in range(0, len(n_old)):\n",
    "    df['fireplace'] = df['fireplace'].apply(lambda x: n_new[i] if (-1!=x.find(n_old[i])) else x)"
   ]
  },
  {
   "cell_type": "code",
   "execution_count": 263,
   "metadata": {
    "execution": {
     "iopub.execute_input": "2022-04-23T19:57:57.860770Z",
     "iopub.status.busy": "2022-04-23T19:57:57.860022Z",
     "iopub.status.idle": "2022-04-23T19:57:58.137049Z",
     "shell.execute_reply": "2022-04-23T19:57:58.136278Z",
     "shell.execute_reply.started": "2022-04-23T19:57:57.860730Z"
    }
   },
   "outputs": [],
   "source": [
    "sub_str = ['fireplace','gas log']\n",
    "for i in range(0,len(sub_str)):\n",
    "    df['fireplace'] = df['fireplace'].apply(lambda x: '1' if -1!=x.find(sub_str[i]) else x)"
   ]
  },
  {
   "cell_type": "code",
   "execution_count": 264,
   "metadata": {
    "execution": {
     "iopub.execute_input": "2022-04-23T19:57:58.138491Z",
     "iopub.status.busy": "2022-04-23T19:57:58.138229Z",
     "iopub.status.idle": "2022-04-23T19:57:58.557316Z",
     "shell.execute_reply": "2022-04-23T19:57:58.556576Z",
     "shell.execute_reply.started": "2022-04-23T19:57:58.138457Z"
    }
   },
   "outputs": [],
   "source": [
    "# Подсчет количества комнат, где имеется камин\n",
    "df['fireplace'] = df['fireplace'].apply(lambda x: str(x.count('room'))+' '+x if 0<x.count('room') else x)\n",
    "\n",
    "df['fireplace'] = df['fireplace'].apply(\n",
    "        lambda x: '2' if (-1!=x.find('2') and  -1==x.find('2+') and -1==x.find('12')) else x)\n",
    "\n",
    "df['fireplace'] = df['fireplace'].apply(\n",
    "        lambda x: '1' if (-1!=x.find('1') and -1==x.find('10') and -1==x.find('11') and -1==x.find('12')) else x)"
   ]
  },
  {
   "cell_type": "code",
   "execution_count": 265,
   "metadata": {
    "execution": {
     "iopub.execute_input": "2022-04-23T19:57:58.559040Z",
     "iopub.status.busy": "2022-04-23T19:57:58.558767Z",
     "iopub.status.idle": "2022-04-23T19:57:58.967503Z",
     "shell.execute_reply": "2022-04-23T19:57:58.966734Z",
     "shell.execute_reply.started": "2022-04-23T19:57:58.558998Z"
    }
   },
   "outputs": [],
   "source": [
    "# Замена всей строки на элемент из n_new  при отсутсвии сопутствущего слово из n_not\n",
    "n_new = ['3', '4', 'ceiling fan']\n",
    "n_not = ['3+', '4+', 'fireplace']\n",
    "for i in range(0,len(n_new)):\n",
    "    df['fireplace'] = df['fireplace'].apply(\n",
    "        lambda x: n_new[i] if (-1!=x.find(n_new[i]) and -1==x.find(n_not[i])) else x)"
   ]
  },
  {
   "cell_type": "code",
   "execution_count": 266,
   "metadata": {
    "execution": {
     "iopub.execute_input": "2022-04-23T19:57:58.969162Z",
     "iopub.status.busy": "2022-04-23T19:57:58.968888Z",
     "iopub.status.idle": "2022-04-23T19:58:00.538309Z",
     "shell.execute_reply": "2022-04-23T19:58:00.537578Z",
     "shell.execute_reply.started": "2022-04-23T19:57:58.969127Z"
    }
   },
   "outputs": [],
   "source": [
    "n = ['2+', '3+', '4+', '5', '6', '7', '8', '9' , '10', '11', '12']\n",
    "for i in range(0, len(n)):\n",
    "    df['fireplace'] = df['fireplace'].apply(lambda x: n[i] if (-1!=x.find(n[i])) else x)\n",
    "\n",
    "df['fireplace'] = df['fireplace'].apply(lambda x: '0' if -1!=x.find('utility connection') else x)"
   ]
  },
  {
   "cell_type": "code",
   "execution_count": 267,
   "metadata": {
    "execution": {
     "iopub.execute_input": "2022-04-23T19:58:00.539676Z",
     "iopub.status.busy": "2022-04-23T19:58:00.539435Z",
     "iopub.status.idle": "2022-04-23T19:58:00.606700Z",
     "shell.execute_reply": "2022-04-23T19:58:00.602508Z",
     "shell.execute_reply.started": "2022-04-23T19:58:00.539642Z"
    }
   },
   "outputs": [],
   "source": [
    "df['fireplace'].value_counts()"
   ]
  },
  {
   "cell_type": "markdown",
   "metadata": {},
   "source": [
    "Создаем список вручную, скопировав распечатки Type.index.tolist(), и вручную выберем индексы-наименования, показывающие  отсутствование камина, и создаем список fp_no.\n",
    "Затем вычитаем из общего списка содержимого fp_no, и из оставшегося списка выберем также вручную все индексы-наименования  с числами и создаем список fp_yes.\n",
    "Предполагаем, что оставшийся список показывает наличия хотя бы одного камина.\n",
    "Из списков fp_no и создаем файлы: \"fireplace_no\" и \"fireplace_yes\".\n",
    "\n",
    "Пришлось обойтись без лемминга и токенайзера."
   ]
  },
  {
   "cell_type": "code",
   "execution_count": 268,
   "metadata": {
    "execution": {
     "iopub.execute_input": "2022-04-23T19:58:00.608970Z",
     "iopub.status.busy": "2022-04-23T19:58:00.608461Z",
     "iopub.status.idle": "2022-04-23T19:58:00.694724Z",
     "shell.execute_reply": "2022-04-23T19:58:00.693029Z",
     "shell.execute_reply.started": "2022-04-23T19:58:00.608921Z"
    }
   },
   "outputs": [],
   "source": [
    "Type = df['fireplace'].value_counts()\n",
    "s = Type.index.tolist()\n",
    "# s"
   ]
  },
  {
   "cell_type": "code",
   "execution_count": 269,
   "metadata": {
    "execution": {
     "iopub.execute_input": "2022-04-23T19:58:00.704537Z",
     "iopub.status.busy": "2022-04-23T19:58:00.702448Z",
     "iopub.status.idle": "2022-04-23T19:58:00.720232Z",
     "shell.execute_reply": "2022-04-23T19:58:00.719426Z",
     "shell.execute_reply.started": "2022-04-23T19:58:00.704499Z"
    },
    "jupyter": {
     "source_hidden": true
    }
   },
   "outputs": [],
   "source": [
    "# Из списка s вручную выделим строки датасет,  где предполагается \n",
    "#  отсутствие камина ('fireplace'), и переименуем списка как  fp_no\n",
    "fp_no =['not applicable',\n",
    " 'ceiling fan',\n",
    " 'smthr',\n",
    " 'smapl',\n",
    " 'number',\n",
    " 'extra closets, walk-in closets',\n",
    " 'extra closets, smthr, storage, walk-in closets',\n",
    " 'redecorated',\n",
    " 'other-see remarks',\n",
    " 'air filter, storage, walk-in closets',\n",
    " 'extra closets, smthr, walk-in closets',\n",
    " 'smthr, storage, walk-in closets',\n",
    " 'air filter',\n",
    " 'see through',\n",
    " 'elevator',\n",
    " 'extra closets, smthr',\n",
    " 'storage, wet bar',\n",
    " 'extra closets, redecorated, storage',\n",
    " 'fire sprinkler system, smcam, smlt, smthr, storage, walk-in closets',\n",
    " 'fire sprinkler system, redecorated',\n",
    " 'central vacuum, elevator, extra closets, walk-in closets, wet bar',\n",
    " 'water filter',\n",
    " 'air filter, extra closets, smthr, walk-in closets',\n",
    " 'heating system: yes(s)',\n",
    " 'water filter, wet bar',\n",
    " 'central vacuum, elevator, walk-in closets, wet bar',\n",
    " 'smcam',\n",
    " 'extra closets, fire sprinkler system',\n",
    " 'central vacuum, smthr',\n",
    " 'extra closets, storage, walk-in closets, water filter, wet bar',\n",
    " 'redecorated, storage',\n",
    " 'air filter, dehumidifier, extra closets, redecorated, storage, water filter',\n",
    " 'fire sprinkler system, smthr',\n",
    " 'extra closets, storage, walk-in closets, wet bar',\n",
    " 'extra closets, fire sprinkler system, redecorated',\n",
    " 'air filter, walk-in closets, water filter, wet bar',\n",
    " 'central vacuum, elevator, extra closets, hot tub, smthr, wet bar',\n",
    " 'extra closets, smcam, smthr',\n",
    " 'elevator, fire sprinkler system, storage, walk-in closets',\n",
    " 'walk-in closets, water filter, wet bar',\n",
    " 'hot tub, redecorated',\n",
    " 'redecorated, walk-in closets',\n",
    " 'extra closets, smapl',\n",
    " 'presently inoperative, decorative only',\n",
    " 'other - see remarks',\n",
    " 'air filter, central vacuum, intercom, walk-in closets',\n",
    " 'firepit',\n",
    " 'fire pit,gas fuel,location',\n",
    " 'fire pit, location',\n",
    " 'firepit, wood',\n",
    " 'central vacuum',\n",
    " 'central vacuum, elevator, extra closets, storage, walk-in closets, wet bar',\n",
    " 'storage, walk-in closets, water filter, wet bar',\n",
    " 'fire pit,see through,location',\n",
    " 'air filter, central vacuum, elevator, extra closets, redecorated, wet bar',\n",
    " 'air filter, elevator, extra closets, walk-in closets, wet bar',\n",
    " 'elevator, walk-in closets',\n",
    " 'central vacuum, extra closets, smthr, storage, walk-in closets',\n",
    " 'elevator, extra closets, fire sprinkler system, storage, walk-in closets',\n",
    " 'air filter, extra closets, storage, walk-in closets',\n",
    " 'dehumidifier, fire sprinkler system, storage, walk-in closets, water filter']"
   ]
  },
  {
   "cell_type": "code",
   "execution_count": 270,
   "metadata": {
    "execution": {
     "iopub.execute_input": "2022-04-23T19:58:00.721987Z",
     "iopub.status.busy": "2022-04-23T19:58:00.721332Z",
     "iopub.status.idle": "2022-04-23T19:58:00.735863Z",
     "shell.execute_reply": "2022-04-23T19:58:00.733486Z",
     "shell.execute_reply.started": "2022-04-23T19:58:00.721951Z"
    }
   },
   "outputs": [],
   "source": [
    "f = open(\"fireplace_no\", \"w\")\n",
    "for  line in fp_no:\n",
    "    f.write(line)\n",
    "    f.write('\\n')\n",
    "f.close()"
   ]
  },
  {
   "cell_type": "code",
   "execution_count": 271,
   "metadata": {
    "execution": {
     "iopub.execute_input": "2022-04-23T19:58:00.741811Z",
     "iopub.status.busy": "2022-04-23T19:58:00.740196Z",
     "iopub.status.idle": "2022-04-23T19:58:00.748522Z",
     "shell.execute_reply": "2022-04-23T19:58:00.747794Z",
     "shell.execute_reply.started": "2022-04-23T19:58:00.741777Z"
    }
   },
   "outputs": [],
   "source": [
    "s1 = list(set(s) - set(fp_no))\n",
    "# s1"
   ]
  },
  {
   "cell_type": "code",
   "execution_count": 272,
   "metadata": {
    "execution": {
     "iopub.execute_input": "2022-04-23T19:58:00.750561Z",
     "iopub.status.busy": "2022-04-23T19:58:00.750034Z",
     "iopub.status.idle": "2022-04-23T19:58:00.771837Z",
     "shell.execute_reply": "2022-04-23T19:58:00.771138Z",
     "shell.execute_reply.started": "2022-04-23T19:58:00.750525Z"
    },
    "jupyter": {
     "source_hidden": true
    }
   },
   "outputs": [],
   "source": [
    "fp_yes = ['natural gas, propane logs convey',\n",
    " 'elevator, storage, walk-in closets',\n",
    " 'wood burning, gas',\n",
    " 'wood burning w/gas starter',\n",
    " 'bath features',\n",
    " 'redecorated, storage, walk-in closets',\n",
    " 'decorative,fire pit,location',\n",
    " 'recirculator, wood',\n",
    " 'gas fuel,wood fuel,location',\n",
    " 'factory built, gas starter',\n",
    " 'wood, location',\n",
    " 'wood burning',\n",
    " 'insert unit, blower',\n",
    " 'fire sprinkler system',\n",
    " 'extra closets, fire sprinkler system, storage, walk-in closets',\n",
    " 'gas vented',\n",
    " 'wood stove',\n",
    " 'attached doors, ventless',\n",
    " 'factory built, metal, wood stove',\n",
    " 'insert, wood',\n",
    " 'extra closets, storage, walk-in closets',\n",
    " 'wood burning, woodstove',\n",
    " 'fire pit,free standing,electric,location',\n",
    " 'outside, wood burning',\n",
    " 'woodburning',\n",
    " 'wood fuel,location',\n",
    " 'gas, wood burning',\n",
    " 'wood burning, includes accessories',\n",
    " 'brick, wood burning, wood stove',\n",
    " 'factory built, metal',\n",
    " 'central vacuum, extra closets, redecorated, smthr, walk-in closets',\n",
    " 'electric logs',\n",
    " 'free standing,location',\n",
    " 'ventless, propane',\n",
    " 'wood',\n",
    " 'gas starter',\n",
    " 'prefab',\n",
    " 'free-standing, insert, wood',\n",
    " 'flue',\n",
    " 'gas, location',\n",
    " 'gas, propane logs convey',\n",
    " 'electric, wood burning',\n",
    " 'gas',\n",
    " 'gas, ventless, propane',\n",
    " 'gas, wall mounted',\n",
    " 'woodburning, gas starter, living, freestanding',\n",
    " 'gas starter, portable/ventless',\n",
    " 'metal',\n",
    " 'insert, recirculator, wood',\n",
    " 'decorative, electric, wood burning',\n",
    " 'decorative',\n",
    " 'free standing',\n",
    " 'wood burning, heatilator type system, includes accessories',\n",
    " 'fire pit,location',\n",
    " 'ventless',\n",
    " 'free standing, wood burning',\n",
    " 'factory built, wood stove',\n",
    " 'free standing, propane',\n",
    " 'bath',\n",
    " 'wood burning, electric, gas starter',\n",
    " 'in living area, wood burning',\n",
    " 'living',\n",
    " 'gas, attached doors, flue',\n",
    " 'wood burning, gas starters, ventless',\n",
    " 'wall mounted, electric',\n",
    " 'decorative,gas fuel',\n",
    " 'gas burning, woodburning',\n",
    " 'gas unvented, propane',\n",
    " 'gas starters',\n",
    " 'gas, gas starters',\n",
    " 'coal',\n",
    " 'electric logs, outside',\n",
    " 'free standing wood stove',\n",
    " 'insert',\n",
    " 'decorative, wood burning',\n",
    " 'decorative, electric, non wood burning',\n",
    " 'other (see remarks)',\n",
    " 'intercom, storage',\n",
    " 'propane stove, freestanding',\n",
    " 'wood fuel',\n",
    " 'marble, stove',\n",
    " 'decorative, gas',\n",
    " 'wood burning frplc',\n",
    " 'gas fuel,location',\n",
    " 'gas starter, masonry',\n",
    " 'extra closets, redecorated, storage, walk-in closets',\n",
    " 'wet bar',\n",
    " 'see through,location',\n",
    " 'factory built',\n",
    " 'gas, gas starters, free standing',\n",
    " 'propane, wood burning',\n",
    " 'vented gas',\n",
    " 'decorative only',\n",
    " 'gas, propane',\n",
    " 'gas, ventless',\n",
    " 'special features',\n",
    " 'extra closets, fire sprinkler system, redecorated, storage',\n",
    " 'decorative,location',\n",
    " 'gas burning',\n",
    " 'extra closets, smcam, smlt, smthr, storage, wet bar',\n",
    " 'unit features',\n",
    " 'extras',\n",
    " 'extra closets, storage',\n",
    " 'woodstove',\n",
    " 'wood stove insert',\n",
    " 'smcam, smlt, smthr, storage, walk-in closets',\n",
    " 'brick',\n",
    " 'decorative, electric, free standing',\n",
    " 'walk-in closets, wet bar',\n",
    " 'decorative,gas fuel,location',\n",
    " 'outdoors',\n",
    " 'gas unvented',\n",
    " 'brick, flue, wood burning stove',\n",
    " 'brick, wood burning',\n",
    " 'in living area',\n",
    " 'wood burning, electric logs',\n",
    " 'log wood-burning',\n",
    " 'decorative, other (see remarks)',\n",
    " 'free-standing, wood',\n",
    " 'location',\n",
    " 'stove, wood burning',\n",
    " 'see agent',\n",
    " 'extra closets',\n",
    " 'gas vented, natural gas',\n",
    " 'pellet',\n",
    " 'electric',\n",
    " 'masonry',\n",
    " 'pre-fab',\n",
    " 'decorative, electric',\n",
    " 'woodburning stove',\n",
    " 'smthr, walk-in closets',\n",
    " 'gas fuel,wood fuel',\n",
    " 'gas, gas starters, attached screens',\n",
    " 'fire sprinkler system, smlt, smthr',\n",
    " 'pellet, wood',\n",
    " 'walk-in closets',\n",
    " 'wood burning, gas, flue',\n",
    " 'log woodburning',\n",
    " 'gas fuel',\n",
    " 'gas fuel,gas starter,location',\n",
    " 'gas, attached screens, ventless',\n",
    " 'wood-burning stove',\n",
    " 'storage',\n",
    " 'gas, wood stove, ventless',\n",
    " 'heatilator type system',\n",
    " 'free standing frplc',\n",
    " 'wood burning, gas starter',\n",
    " 'pellet stove',\n",
    " 'masonry, wood stove',\n",
    " 'electric, non wood burning',\n",
    " 'electric, free standing',\n",
    " 'fire pit',\n",
    " 'gas, gas starters, ventless',\n",
    " 'brick, free standing',\n",
    " 'gas, gas starters, ventless, propane',\n",
    " 'in living area, wood burning, free standing',\n",
    " 'wood burning stove',\n",
    " 'direct vent',\n",
    " 'gas, attached screens',\n",
    " 'storage, walk-in closets',\n",
    " 'electric logs, free standing',\n",
    " 'gas fuel,gas starter',\n",
    " 'factory built, masonry',\n",
    " 'electric,location',\n",
    " 'study',\n",
    " 'natural gas',\n",
    " 'gas, non wood burning',\n",
    " 'electric,gas fuel,location']"
   ]
  },
  {
   "cell_type": "code",
   "execution_count": 273,
   "metadata": {
    "execution": {
     "iopub.execute_input": "2022-04-23T19:58:00.773867Z",
     "iopub.status.busy": "2022-04-23T19:58:00.773300Z",
     "iopub.status.idle": "2022-04-23T19:58:00.783858Z",
     "shell.execute_reply": "2022-04-23T19:58:00.783137Z",
     "shell.execute_reply.started": "2022-04-23T19:58:00.773830Z"
    }
   },
   "outputs": [],
   "source": [
    "f = open(\"fireplace_yes\", \"w\")\n",
    "for  line in fp_yes:\n",
    "    f.write(line)\n",
    "    f.write('\\n')\n",
    "f.close()"
   ]
  },
  {
   "cell_type": "code",
   "execution_count": 274,
   "metadata": {
    "execution": {
     "iopub.execute_input": "2022-04-23T19:58:00.786089Z",
     "iopub.status.busy": "2022-04-23T19:58:00.785386Z",
     "iopub.status.idle": "2022-04-23T19:58:00.792887Z",
     "shell.execute_reply": "2022-04-23T19:58:00.791740Z",
     "shell.execute_reply.started": "2022-04-23T19:58:00.786048Z"
    }
   },
   "outputs": [],
   "source": [
    "#  Переменное содержит строки, по смыслу указывающие на отсутствие камина. \n",
    "f = open(\"fireplace_no\", \"r\")\n",
    "fp_0 = f.readlines()\n",
    "f.close()"
   ]
  },
  {
   "cell_type": "code",
   "execution_count": 275,
   "metadata": {
    "execution": {
     "iopub.execute_input": "2022-04-23T19:58:00.796427Z",
     "iopub.status.busy": "2022-04-23T19:58:00.795204Z",
     "iopub.status.idle": "2022-04-23T19:58:00.804876Z",
     "shell.execute_reply": "2022-04-23T19:58:00.804126Z",
     "shell.execute_reply.started": "2022-04-23T19:58:00.796375Z"
    }
   },
   "outputs": [],
   "source": [
    "## Переменное содержит строки, по смыслу указывающие на наличие  хотя бы одного камина.\n",
    "f = open(\"fireplace_yes\", \"r\")\n",
    "fp_1 = f.readlines()\n",
    "f.close()"
   ]
  },
  {
   "cell_type": "code",
   "execution_count": 276,
   "metadata": {
    "execution": {
     "iopub.execute_input": "2022-04-23T19:58:00.807017Z",
     "iopub.status.busy": "2022-04-23T19:58:00.806450Z",
     "iopub.status.idle": "2022-04-23T19:58:29.198194Z",
     "shell.execute_reply": "2022-04-23T19:58:29.197452Z",
     "shell.execute_reply.started": "2022-04-23T19:58:00.806876Z"
    }
   },
   "outputs": [],
   "source": [
    "for i in range(0, len(fp_0)):\n",
    "    df['fireplace'] = df['fireplace'].apply(lambda x: '0' if x== fp_0[i].strip() else x)\n",
    "for i in range(0, len(fp_1)):\n",
    "    df['fireplace'] = df['fireplace'].apply(lambda x: '1' if x== fp_1[i].strip() else x)"
   ]
  },
  {
   "cell_type": "code",
   "execution_count": 277,
   "metadata": {
    "execution": {
     "iopub.execute_input": "2022-04-23T19:58:29.199498Z",
     "iopub.status.busy": "2022-04-23T19:58:29.199228Z",
     "iopub.status.idle": "2022-04-23T19:58:29.876889Z",
     "shell.execute_reply": "2022-04-23T19:58:29.876157Z",
     "shell.execute_reply.started": "2022-04-23T19:58:29.199463Z"
    }
   },
   "outputs": [],
   "source": [
    "# Признак сделаем числовым\n",
    "df['fireplace'] = df['fireplace'].apply(lambda x: int(re.sub('\\+','',x)))"
   ]
  },
  {
   "cell_type": "code",
   "execution_count": 278,
   "metadata": {
    "execution": {
     "iopub.execute_input": "2022-04-23T19:58:29.878226Z",
     "iopub.status.busy": "2022-04-23T19:58:29.877973Z",
     "iopub.status.idle": "2022-04-23T19:58:29.889081Z",
     "shell.execute_reply": "2022-04-23T19:58:29.888424Z",
     "shell.execute_reply.started": "2022-04-23T19:58:29.878194Z"
    }
   },
   "outputs": [],
   "source": [
    "df['fireplace'].value_counts()"
   ]
  },
  {
   "cell_type": "markdown",
   "metadata": {},
   "source": [
    "Признак оказался самым сложным. "
   ]
  },
  {
   "cell_type": "code",
   "execution_count": null,
   "metadata": {},
   "outputs": [],
   "source": []
  },
  {
   "cell_type": "markdown",
   "metadata": {},
   "source": [
    "#### Признак \"state\""
   ]
  },
  {
   "cell_type": "code",
   "execution_count": 279,
   "metadata": {
    "execution": {
     "iopub.execute_input": "2022-04-23T19:58:29.890904Z",
     "iopub.status.busy": "2022-04-23T19:58:29.890449Z",
     "iopub.status.idle": "2022-04-23T19:58:29.942574Z",
     "shell.execute_reply": "2022-04-23T19:58:29.941786Z",
     "shell.execute_reply.started": "2022-04-23T19:58:29.890867Z"
    }
   },
   "outputs": [],
   "source": [
    "df['state'].value_counts()"
   ]
  },
  {
   "cell_type": "code",
   "execution_count": 280,
   "metadata": {
    "execution": {
     "iopub.execute_input": "2022-04-23T19:58:29.944164Z",
     "iopub.status.busy": "2022-04-23T19:58:29.943690Z",
     "iopub.status.idle": "2022-04-23T19:58:30.057493Z",
     "shell.execute_reply": "2022-04-23T19:58:30.056756Z",
     "shell.execute_reply.started": "2022-04-23T19:58:29.944127Z"
    }
   },
   "outputs": [],
   "source": [
    "df['state'] = df['state'].apply(lambda x: x.upper())\n",
    "df['state'].unique()"
   ]
  },
  {
   "cell_type": "code",
   "execution_count": 281,
   "metadata": {
    "execution": {
     "iopub.execute_input": "2022-04-23T19:58:30.059505Z",
     "iopub.status.busy": "2022-04-23T19:58:30.058659Z",
     "iopub.status.idle": "2022-04-23T19:58:30.491946Z",
     "shell.execute_reply": "2022-04-23T19:58:30.491246Z",
     "shell.execute_reply.started": "2022-04-23T19:58:30.059459Z"
    }
   },
   "outputs": [],
   "source": [
    "df['state'].value_counts(ascending = True).plot(kind = 'barh')"
   ]
  },
  {
   "cell_type": "code",
   "execution_count": null,
   "metadata": {},
   "outputs": [],
   "source": []
  },
  {
   "cell_type": "markdown",
   "metadata": {},
   "source": [
    "#### Признак \"city\""
   ]
  },
  {
   "cell_type": "code",
   "execution_count": 282,
   "metadata": {
    "execution": {
     "iopub.execute_input": "2022-04-23T19:58:30.493842Z",
     "iopub.status.busy": "2022-04-23T19:58:30.493015Z",
     "iopub.status.idle": "2022-04-23T19:58:30.547931Z",
     "shell.execute_reply": "2022-04-23T19:58:30.547241Z",
     "shell.execute_reply.started": "2022-04-23T19:58:30.493799Z"
    }
   },
   "outputs": [],
   "source": [
    "df['city'].value_counts()"
   ]
  },
  {
   "cell_type": "code",
   "execution_count": 283,
   "metadata": {
    "execution": {
     "iopub.execute_input": "2022-04-23T19:58:30.549716Z",
     "iopub.status.busy": "2022-04-23T19:58:30.549261Z",
     "iopub.status.idle": "2022-04-23T19:58:30.556514Z",
     "shell.execute_reply": "2022-04-23T19:58:30.555792Z",
     "shell.execute_reply.started": "2022-04-23T19:58:30.549678Z"
    }
   },
   "outputs": [],
   "source": [
    "# df[df['city'].isna()].sum()"
   ]
  },
  {
   "cell_type": "code",
   "execution_count": 284,
   "metadata": {
    "execution": {
     "iopub.execute_input": "2022-04-23T19:58:30.558129Z",
     "iopub.status.busy": "2022-04-23T19:58:30.557861Z",
     "iopub.status.idle": "2022-04-23T19:58:30.901686Z",
     "shell.execute_reply": "2022-04-23T19:58:30.900943Z",
     "shell.execute_reply.started": "2022-04-23T19:58:30.558095Z"
    }
   },
   "outputs": [],
   "source": [
    "df['city'] = df['city'].fillna('other')\n",
    "top_city = df['city'].value_counts()[:200].index\n",
    "\n",
    "df['city'] = df['city'].apply(lambda x: x if x in top_city else 'other')"
   ]
  },
  {
   "cell_type": "code",
   "execution_count": 285,
   "metadata": {
    "execution": {
     "iopub.execute_input": "2022-04-23T19:58:30.903292Z",
     "iopub.status.busy": "2022-04-23T19:58:30.903047Z",
     "iopub.status.idle": "2022-04-23T19:58:30.955285Z",
     "shell.execute_reply": "2022-04-23T19:58:30.954554Z",
     "shell.execute_reply.started": "2022-04-23T19:58:30.903259Z"
    }
   },
   "outputs": [],
   "source": [
    "df['city'].value_counts()"
   ]
  },
  {
   "cell_type": "markdown",
   "metadata": {},
   "source": [
    "Признак \"city\" - категориальный. Если категориальных признаков будут слишком много, то придется уменьшить число категории признака \"city\", Если необходимо, то категории можно и увеличить."
   ]
  },
  {
   "cell_type": "code",
   "execution_count": null,
   "metadata": {},
   "outputs": [],
   "source": []
  },
  {
   "cell_type": "code",
   "execution_count": null,
   "metadata": {},
   "outputs": [],
   "source": []
  },
  {
   "cell_type": "markdown",
   "metadata": {},
   "source": [
    "#### Признак \"sqft\""
   ]
  },
  {
   "cell_type": "code",
   "execution_count": 286,
   "metadata": {
    "execution": {
     "iopub.execute_input": "2022-04-23T19:58:30.957065Z",
     "iopub.status.busy": "2022-04-23T19:58:30.956667Z",
     "iopub.status.idle": "2022-04-23T19:58:31.031355Z",
     "shell.execute_reply": "2022-04-23T19:58:31.030672Z",
     "shell.execute_reply.started": "2022-04-23T19:58:30.957028Z"
    }
   },
   "outputs": [],
   "source": [
    "df['sqft'].value_counts()"
   ]
  },
  {
   "cell_type": "code",
   "execution_count": 287,
   "metadata": {
    "execution": {
     "iopub.execute_input": "2022-04-23T19:58:31.033134Z",
     "iopub.status.busy": "2022-04-23T19:58:31.032852Z",
     "iopub.status.idle": "2022-04-23T19:58:31.037843Z",
     "shell.execute_reply": "2022-04-23T19:58:31.037003Z",
     "shell.execute_reply.started": "2022-04-23T19:58:31.033085Z"
    }
   },
   "outputs": [],
   "source": [
    "# df['sqft'].value_counts().index.tolist()"
   ]
  },
  {
   "cell_type": "code",
   "execution_count": 288,
   "metadata": {
    "execution": {
     "iopub.execute_input": "2022-04-23T19:58:31.039535Z",
     "iopub.status.busy": "2022-04-23T19:58:31.039183Z",
     "iopub.status.idle": "2022-04-23T19:58:31.079411Z",
     "shell.execute_reply": "2022-04-23T19:58:31.078711Z",
     "shell.execute_reply.started": "2022-04-23T19:58:31.039482Z"
    }
   },
   "outputs": [],
   "source": [
    "df.sqft.isna().sum()"
   ]
  },
  {
   "cell_type": "code",
   "execution_count": 289,
   "metadata": {
    "execution": {
     "iopub.execute_input": "2022-04-23T19:58:31.082911Z",
     "iopub.status.busy": "2022-04-23T19:58:31.082489Z",
     "iopub.status.idle": "2022-04-23T19:58:31.123923Z",
     "shell.execute_reply": "2022-04-23T19:58:31.123034Z",
     "shell.execute_reply.started": "2022-04-23T19:58:31.082886Z"
    }
   },
   "outputs": [],
   "source": [
    "df.sqft = df.sqft.fillna('0')"
   ]
  },
  {
   "cell_type": "code",
   "execution_count": 290,
   "metadata": {
    "execution": {
     "iopub.execute_input": "2022-04-23T19:58:31.125123Z",
     "iopub.status.busy": "2022-04-23T19:58:31.124865Z",
     "iopub.status.idle": "2022-04-23T19:58:32.172044Z",
     "shell.execute_reply": "2022-04-23T19:58:32.171300Z",
     "shell.execute_reply.started": "2022-04-23T19:58:31.125090Z"
    }
   },
   "outputs": [],
   "source": [
    "def make_features_sqft(x):\n",
    "    x = x.replace('--', '0')\n",
    "    x = re.sub('[^0-9]', '', x)\n",
    "    return x\n",
    "\n",
    "df.sqft = df.sqft.apply(make_features_sqft)"
   ]
  },
  {
   "cell_type": "code",
   "execution_count": 291,
   "metadata": {
    "execution": {
     "iopub.execute_input": "2022-04-23T19:58:32.173482Z",
     "iopub.status.busy": "2022-04-23T19:58:32.173206Z",
     "iopub.status.idle": "2022-04-23T19:58:32.177726Z",
     "shell.execute_reply": "2022-04-23T19:58:32.177057Z",
     "shell.execute_reply.started": "2022-04-23T19:58:32.173447Z"
    }
   },
   "outputs": [],
   "source": [
    "# df.sqft.value_counts().index.tolist()"
   ]
  },
  {
   "cell_type": "code",
   "execution_count": 292,
   "metadata": {
    "execution": {
     "iopub.execute_input": "2022-04-23T19:58:32.179953Z",
     "iopub.status.busy": "2022-04-23T19:58:32.179242Z",
     "iopub.status.idle": "2022-04-23T19:58:32.400018Z",
     "shell.execute_reply": "2022-04-23T19:58:32.399286Z",
     "shell.execute_reply.started": "2022-04-23T19:58:32.179914Z"
    }
   },
   "outputs": [],
   "source": [
    "df['sqft'] = df['sqft'].apply(lambda x: '0' if x=='' else x)\n",
    "df['sqft'] = df['sqft'].astype(float)\n",
    "\n",
    "# df.sqft.value_counts().index.tolist()"
   ]
  },
  {
   "cell_type": "code",
   "execution_count": 293,
   "metadata": {
    "execution": {
     "iopub.execute_input": "2022-04-23T19:58:32.401329Z",
     "iopub.status.busy": "2022-04-23T19:58:32.401099Z",
     "iopub.status.idle": "2022-04-23T19:58:32.415852Z",
     "shell.execute_reply": "2022-04-23T19:58:32.414956Z",
     "shell.execute_reply.started": "2022-04-23T19:58:32.401297Z"
    }
   },
   "outputs": [],
   "source": [
    "df.sqft.value_counts()"
   ]
  },
  {
   "cell_type": "code",
   "execution_count": null,
   "metadata": {},
   "outputs": [],
   "source": []
  },
  {
   "cell_type": "markdown",
   "metadata": {},
   "source": [
    "Всем пропущенным значениям поставлено число 0. Этот признак не очень согласуется с признаками \"beds\" и \"baths\".\n",
    "\n",
    "Признак  \"sqft\" - числовой"
   ]
  },
  {
   "cell_type": "code",
   "execution_count": null,
   "metadata": {},
   "outputs": [],
   "source": []
  },
  {
   "cell_type": "code",
   "execution_count": 294,
   "metadata": {
    "execution": {
     "iopub.execute_input": "2022-04-23T19:58:32.417622Z",
     "iopub.status.busy": "2022-04-23T19:58:32.417246Z",
     "iopub.status.idle": "2022-04-23T19:58:32.566062Z",
     "shell.execute_reply": "2022-04-23T19:58:32.565395Z",
     "shell.execute_reply.started": "2022-04-23T19:58:32.417587Z"
    }
   },
   "outputs": [],
   "source": [
    "df['sqft'] = df['sqft'].apply(lambda x: -1.0 if x=='' or x=='0' else x)\n",
    "df['sqft'].astype(float)"
   ]
  },
  {
   "cell_type": "markdown",
   "metadata": {},
   "source": [
    "Всем пропущенным значениям проставлено число 0. Этот признак не очень согласуется с признаками \"beds\" и \"baths\".\n",
    "\n",
    "Признак  \"sqft\" - числовой"
   ]
  },
  {
   "cell_type": "code",
   "execution_count": null,
   "metadata": {},
   "outputs": [],
   "source": []
  },
  {
   "cell_type": "markdown",
   "metadata": {},
   "source": [
    "#### Признак \"baths\""
   ]
  },
  {
   "cell_type": "code",
   "execution_count": 295,
   "metadata": {
    "execution": {
     "iopub.execute_input": "2022-04-23T19:58:32.567668Z",
     "iopub.status.busy": "2022-04-23T19:58:32.567283Z",
     "iopub.status.idle": "2022-04-23T19:58:32.613173Z",
     "shell.execute_reply": "2022-04-23T19:58:32.612400Z",
     "shell.execute_reply.started": "2022-04-23T19:58:32.567634Z"
    }
   },
   "outputs": [],
   "source": [
    "df['baths'].value_counts()"
   ]
  },
  {
   "cell_type": "code",
   "execution_count": 296,
   "metadata": {
    "execution": {
     "iopub.execute_input": "2022-04-23T19:58:32.614765Z",
     "iopub.status.busy": "2022-04-23T19:58:32.614514Z",
     "iopub.status.idle": "2022-04-23T19:58:32.617889Z",
     "shell.execute_reply": "2022-04-23T19:58:32.617237Z",
     "shell.execute_reply.started": "2022-04-23T19:58:32.614732Z"
    }
   },
   "outputs": [],
   "source": [
    "# df['baths'].value_counts().index.tolist()"
   ]
  },
  {
   "cell_type": "markdown",
   "metadata": {},
   "source": [
    "В результате детального анализа признака данные приведены к более или менее единообразию. \n",
    "Значение поля \"Bathrooms: 241\"   в признаке \"baths\" по всей вероятности \"Bathrooms: 4\", так как является домом с 4-мя спальнями для одной семьи. Поэтому ставим 4 вместо 241. Bathrooms: SemiMod ==> \"Bathrooms: 6\", и т.д. Все изменения в функции  make_baths(x)."
   ]
  },
  {
   "cell_type": "code",
   "execution_count": 297,
   "metadata": {
    "execution": {
     "iopub.execute_input": "2022-04-23T19:58:32.619615Z",
     "iopub.status.busy": "2022-04-23T19:58:32.619159Z",
     "iopub.status.idle": "2022-04-23T19:58:32.631197Z",
     "shell.execute_reply": "2022-04-23T19:58:32.630441Z",
     "shell.execute_reply.started": "2022-04-23T19:58:32.619580Z"
    }
   },
   "outputs": [],
   "source": [
    "def is_num(x):\n",
    "    try:\n",
    "        float(x)\n",
    "        return True\n",
    "    except ValueError:\n",
    "        return False\n",
    "\n",
    "def make_baths(x):\n",
    "    x = re.sub('ba','Baths', x)\n",
    "    x = re.sub('1 1/2', '1.5', x)\n",
    "    x = x.replace('.0', '')\n",
    "    x = x.replace('Bathsths','Baths')\n",
    "    x = x.replace('7,500+','7,500')\n",
    "    if x == 'Bathrooms: 241': \n",
    "        x='4 Baths'\n",
    "    if x == 'Bathrooms: SemiMod': \n",
    "        x='6 Baths'\n",
    "    if x == 'Sq. Ft. ':\n",
    "        x = '0'\n",
    "    x = x.replace('Bathrooms: ','')\n",
    "    x = x.replace('Bathrooms: ','')\n",
    "    x = x.replace('+','+ Baths')\n",
    "    if x=='1 / 1-0 / 1-0 / 1-0' or x=='2-1 / 2-1 / 1-1 / 1-1':  \n",
    "        x = '2 Baths'\n",
    "    if x=='1 / 1 / 1 / 1' or x=='1-0 / 1-0 / 1' or x=='3-1 / 2-2':  \n",
    "        x = '3'\n",
    "    if x=='116 / 116 / 116':\n",
    "        x='116 Baths'\n",
    "    if x=='0 / 0' or x== '0.00' or x=='0.0' or x=='00' or x=='0 /':\n",
    "        x='0'\n",
    "    if (-1.0!=x.find('--') or -1.0!=x.find('~') or -1.0!=x.find('—')):\n",
    "        x = '0'\n",
    "    if is_num(x) and float(x)<120:\n",
    "        x = x + ' Baths'\n",
    "    return x"
   ]
  },
  {
   "cell_type": "code",
   "execution_count": 298,
   "metadata": {
    "execution": {
     "iopub.execute_input": "2022-04-23T19:58:32.632961Z",
     "iopub.status.busy": "2022-04-23T19:58:32.632516Z",
     "iopub.status.idle": "2022-04-23T19:58:35.154119Z",
     "shell.execute_reply": "2022-04-23T19:58:35.153385Z",
     "shell.execute_reply.started": "2022-04-23T19:58:32.632925Z"
    }
   },
   "outputs": [],
   "source": [
    "df.baths = df.baths.fillna('0')\n",
    "df.baths = df.baths.apply(make_baths)"
   ]
  },
  {
   "cell_type": "code",
   "execution_count": 299,
   "metadata": {
    "execution": {
     "iopub.execute_input": "2022-04-23T19:58:35.155725Z",
     "iopub.status.busy": "2022-04-23T19:58:35.155212Z",
     "iopub.status.idle": "2022-04-23T19:58:35.217630Z",
     "shell.execute_reply": "2022-04-23T19:58:35.216978Z",
     "shell.execute_reply.started": "2022-04-23T19:58:35.155686Z"
    }
   },
   "outputs": [],
   "source": [
    "df.baths.value_counts()"
   ]
  },
  {
   "cell_type": "code",
   "execution_count": 300,
   "metadata": {
    "execution": {
     "iopub.execute_input": "2022-04-23T19:58:35.219110Z",
     "iopub.status.busy": "2022-04-23T19:58:35.218795Z",
     "iopub.status.idle": "2022-04-23T19:58:35.222652Z",
     "shell.execute_reply": "2022-04-23T19:58:35.221838Z",
     "shell.execute_reply.started": "2022-04-23T19:58:35.219072Z"
    }
   },
   "outputs": [],
   "source": [
    "# df.baths.value_counts().index.tolist()"
   ]
  },
  {
   "cell_type": "code",
   "execution_count": 301,
   "metadata": {
    "execution": {
     "iopub.execute_input": "2022-04-23T19:58:35.224339Z",
     "iopub.status.busy": "2022-04-23T19:58:35.223909Z",
     "iopub.status.idle": "2022-04-23T19:58:35.280554Z",
     "shell.execute_reply": "2022-04-23T19:58:35.279671Z",
     "shell.execute_reply.started": "2022-04-23T19:58:35.224302Z"
    }
   },
   "outputs": [],
   "source": [
    "df.baths.value_counts()['44 Baths':].sum()"
   ]
  },
  {
   "cell_type": "code",
   "execution_count": 302,
   "metadata": {
    "execution": {
     "iopub.execute_input": "2022-04-23T19:58:35.282588Z",
     "iopub.status.busy": "2022-04-23T19:58:35.282213Z",
     "iopub.status.idle": "2022-04-23T19:58:35.335554Z",
     "shell.execute_reply": "2022-04-23T19:58:35.334921Z",
     "shell.execute_reply.started": "2022-04-23T19:58:35.282532Z"
    }
   },
   "outputs": [],
   "source": [
    "ind_Baths_top = df.baths.value_counts()[:50]"
   ]
  },
  {
   "cell_type": "markdown",
   "metadata": {},
   "source": [
    "Признак 'baths' - категориальный, так как данные заданы и в количестве и в виде  площади."
   ]
  },
  {
   "cell_type": "code",
   "execution_count": null,
   "metadata": {},
   "outputs": [],
   "source": []
  },
  {
   "cell_type": "code",
   "execution_count": null,
   "metadata": {},
   "outputs": [],
   "source": []
  },
  {
   "cell_type": "markdown",
   "metadata": {},
   "source": [
    "#### Признак \"beds\""
   ]
  },
  {
   "cell_type": "code",
   "execution_count": 303,
   "metadata": {
    "execution": {
     "iopub.execute_input": "2022-04-23T19:58:35.337064Z",
     "iopub.status.busy": "2022-04-23T19:58:35.336831Z",
     "iopub.status.idle": "2022-04-23T19:58:35.387543Z",
     "shell.execute_reply": "2022-04-23T19:58:35.386691Z",
     "shell.execute_reply.started": "2022-04-23T19:58:35.337032Z"
    }
   },
   "outputs": [],
   "source": [
    "df['beds'].value_counts()"
   ]
  },
  {
   "cell_type": "code",
   "execution_count": 304,
   "metadata": {
    "execution": {
     "iopub.execute_input": "2022-04-23T19:58:35.389312Z",
     "iopub.status.busy": "2022-04-23T19:58:35.389028Z",
     "iopub.status.idle": "2022-04-23T19:58:35.394108Z",
     "shell.execute_reply": "2022-04-23T19:58:35.393226Z",
     "shell.execute_reply.started": "2022-04-23T19:58:35.389276Z"
    }
   },
   "outputs": [],
   "source": [
    "# df['beds'].value_counts().index.tolist()"
   ]
  },
  {
   "cell_type": "code",
   "execution_count": 305,
   "metadata": {
    "execution": {
     "iopub.execute_input": "2022-04-23T19:58:35.395842Z",
     "iopub.status.busy": "2022-04-23T19:58:35.395563Z",
     "iopub.status.idle": "2022-04-23T19:58:35.435397Z",
     "shell.execute_reply": "2022-04-23T19:58:35.434639Z",
     "shell.execute_reply.started": "2022-04-23T19:58:35.395809Z"
    }
   },
   "outputs": [],
   "source": [
    "df.beds = df.beds.fillna('0')"
   ]
  },
  {
   "cell_type": "code",
   "execution_count": 306,
   "metadata": {
    "execution": {
     "iopub.execute_input": "2022-04-23T19:58:35.437113Z",
     "iopub.status.busy": "2022-04-23T19:58:35.436828Z",
     "iopub.status.idle": "2022-04-23T19:58:35.486628Z",
     "shell.execute_reply": "2022-04-23T19:58:35.485782Z",
     "shell.execute_reply.started": "2022-04-23T19:58:35.437040Z"
    }
   },
   "outputs": [],
   "source": [
    "df['beds'].value_counts()"
   ]
  },
  {
   "cell_type": "code",
   "execution_count": 307,
   "metadata": {
    "execution": {
     "iopub.execute_input": "2022-04-23T19:58:35.488448Z",
     "iopub.status.busy": "2022-04-23T19:58:35.488047Z",
     "iopub.status.idle": "2022-04-23T19:58:35.494089Z",
     "shell.execute_reply": "2022-04-23T19:58:35.493312Z",
     "shell.execute_reply.started": "2022-04-23T19:58:35.488395Z"
    }
   },
   "outputs": [],
   "source": [
    "# df['beds'].value_counts().index.tolist()"
   ]
  },
  {
   "cell_type": "code",
   "execution_count": 308,
   "metadata": {
    "execution": {
     "iopub.execute_input": "2022-04-23T19:58:35.495920Z",
     "iopub.status.busy": "2022-04-23T19:58:35.495608Z",
     "iopub.status.idle": "2022-04-23T19:58:35.612473Z",
     "shell.execute_reply": "2022-04-23T19:58:35.611702Z",
     "shell.execute_reply.started": "2022-04-23T19:58:35.495885Z"
    }
   },
   "outputs": [],
   "source": [
    "# Выделим из признака 'beds' идексов строк датасет (df), где заначением являются 'Bath' или 'Baths'\n",
    "# Для этого создаем временный служебный признак\n",
    "df['beds_Baths'] = df['beds'].apply(lambda x: x if -1!=x.find('Bath') else ' ')"
   ]
  },
  {
   "cell_type": "code",
   "execution_count": 309,
   "metadata": {
    "execution": {
     "iopub.execute_input": "2022-04-23T19:58:35.614093Z",
     "iopub.status.busy": "2022-04-23T19:58:35.613821Z",
     "iopub.status.idle": "2022-04-23T19:58:35.857394Z",
     "shell.execute_reply": "2022-04-23T19:58:35.856633Z",
     "shell.execute_reply.started": "2022-04-23T19:58:35.614057Z"
    }
   },
   "outputs": [],
   "source": [
    "# Выделим  и сгруппируем для этих индексов данные признака 'baths'\n",
    "ind_Baths =  df[df['beds_Baths']!=' '].index"
   ]
  },
  {
   "cell_type": "code",
   "execution_count": 310,
   "metadata": {
    "execution": {
     "iopub.execute_input": "2022-04-23T19:58:35.859006Z",
     "iopub.status.busy": "2022-04-23T19:58:35.858767Z",
     "iopub.status.idle": "2022-04-23T19:58:35.935081Z",
     "shell.execute_reply": "2022-04-23T19:58:35.934386Z",
     "shell.execute_reply.started": "2022-04-23T19:58:35.858974Z"
    }
   },
   "outputs": [],
   "source": [
    "# Удалим служебный признак\n",
    "df.drop('beds_Baths', axis=1, inplace=True)"
   ]
  },
  {
   "cell_type": "code",
   "execution_count": 311,
   "metadata": {
    "execution": {
     "iopub.execute_input": "2022-04-23T19:58:35.936762Z",
     "iopub.status.busy": "2022-04-23T19:58:35.936510Z",
     "iopub.status.idle": "2022-04-23T19:58:35.949607Z",
     "shell.execute_reply": "2022-04-23T19:58:35.948892Z",
     "shell.execute_reply.started": "2022-04-23T19:58:35.936729Z"
    }
   },
   "outputs": [],
   "source": [
    "df['beds'][ind_Baths].value_counts()"
   ]
  },
  {
   "cell_type": "markdown",
   "metadata": {},
   "source": [
    "Заметим, что  3356  строк имеют значения 0, хотя в признаке есть \"Baths\". Заменим их на \"1 Bath\""
   ]
  },
  {
   "cell_type": "code",
   "execution_count": 312,
   "metadata": {
    "execution": {
     "iopub.execute_input": "2022-04-23T19:58:35.950994Z",
     "iopub.status.busy": "2022-04-23T19:58:35.950693Z",
     "iopub.status.idle": "2022-04-23T19:58:35.972847Z",
     "shell.execute_reply": "2022-04-23T19:58:35.972148Z",
     "shell.execute_reply.started": "2022-04-23T19:58:35.950956Z"
    }
   },
   "outputs": [],
   "source": [
    "df.loc[ind_Baths, 'baths'] = df['baths'][ind_Baths].apply(lambda x: '1 Bath' \n",
    "                                                          if x== '0 Baths' else x)"
   ]
  },
  {
   "cell_type": "code",
   "execution_count": 313,
   "metadata": {
    "execution": {
     "iopub.execute_input": "2022-04-23T19:58:35.975905Z",
     "iopub.status.busy": "2022-04-23T19:58:35.975482Z",
     "iopub.status.idle": "2022-04-23T19:58:35.989814Z",
     "shell.execute_reply": "2022-04-23T19:58:35.989079Z",
     "shell.execute_reply.started": "2022-04-23T19:58:35.975866Z"
    }
   },
   "outputs": [],
   "source": [
    "df['baths'][ind_Baths].value_counts()"
   ]
  },
  {
   "cell_type": "code",
   "execution_count": 314,
   "metadata": {
    "execution": {
     "iopub.execute_input": "2022-04-23T19:58:35.991726Z",
     "iopub.status.busy": "2022-04-23T19:58:35.991058Z",
     "iopub.status.idle": "2022-04-23T19:58:36.004126Z",
     "shell.execute_reply": "2022-04-23T19:58:36.003458Z",
     "shell.execute_reply.started": "2022-04-23T19:58:35.991687Z"
    }
   },
   "outputs": [],
   "source": [
    "df['beds'][ind_Baths].value_counts().index.tolist()"
   ]
  },
  {
   "cell_type": "code",
   "execution_count": 315,
   "metadata": {
    "execution": {
     "iopub.execute_input": "2022-04-23T19:58:36.005660Z",
     "iopub.status.busy": "2022-04-23T19:58:36.005376Z",
     "iopub.status.idle": "2022-04-23T19:58:36.017751Z",
     "shell.execute_reply": "2022-04-23T19:58:36.017068Z",
     "shell.execute_reply.started": "2022-04-23T19:58:36.005624Z"
    }
   },
   "outputs": [],
   "source": [
    "df['beds'][ind_Baths].value_counts()['2 Baths, 3 or More Bedrooms']"
   ]
  },
  {
   "cell_type": "code",
   "execution_count": 316,
   "metadata": {
    "execution": {
     "iopub.execute_input": "2022-04-23T19:58:36.019436Z",
     "iopub.status.busy": "2022-04-23T19:58:36.018794Z",
     "iopub.status.idle": "2022-04-23T19:58:36.027354Z",
     "shell.execute_reply": "2022-04-23T19:58:36.026657Z",
     "shell.execute_reply.started": "2022-04-23T19:58:36.019375Z"
    }
   },
   "outputs": [],
   "source": [
    "def make_beds(x):\n",
    "    x = x.replace('bd','Beds')\n",
    "    x = x.replace('1-2','2')\n",
    "    x = x.replace('.0', '')\n",
    "    x = x.replace('--', '0')\n",
    "    if x=='Baths':\n",
    "        x='Bath'\n",
    "    if len(x)>0 and len(x)<=3 and x!='0':\n",
    "        x = x + ' Beds'\n",
    "    if( x==' ') or (x=='0 sqft') or (x=='0'):\n",
    "        x='0 Beds'\n",
    "        \n",
    "    if x==' Beds' or x=='  Beds':\n",
    "        x='1 Beds'\n",
    "    if -1!=x.find('3 or More Bedrooms'):\n",
    "        x = '3+ Beds' \n",
    "    if -1!=x.find('2 Bedrooms'):\n",
    "        x = '2 Beds' \n",
    "    return x"
   ]
  },
  {
   "cell_type": "code",
   "execution_count": 317,
   "metadata": {
    "execution": {
     "iopub.execute_input": "2022-04-23T19:58:36.029249Z",
     "iopub.status.busy": "2022-04-23T19:58:36.028638Z",
     "iopub.status.idle": "2022-04-23T19:58:36.498615Z",
     "shell.execute_reply": "2022-04-23T19:58:36.497857Z",
     "shell.execute_reply.started": "2022-04-23T19:58:36.029208Z"
    }
   },
   "outputs": [],
   "source": [
    "df.beds = df.beds.apply(make_beds)"
   ]
  },
  {
   "cell_type": "code",
   "execution_count": 318,
   "metadata": {
    "execution": {
     "iopub.execute_input": "2022-04-23T19:58:36.500123Z",
     "iopub.status.busy": "2022-04-23T19:58:36.499863Z",
     "iopub.status.idle": "2022-04-23T19:58:36.557095Z",
     "shell.execute_reply": "2022-04-23T19:58:36.556307Z",
     "shell.execute_reply.started": "2022-04-23T19:58:36.500091Z"
    }
   },
   "outputs": [],
   "source": [
    "df['beds'].value_counts()"
   ]
  },
  {
   "cell_type": "code",
   "execution_count": 319,
   "metadata": {
    "execution": {
     "iopub.execute_input": "2022-04-23T19:58:36.559051Z",
     "iopub.status.busy": "2022-04-23T19:58:36.558786Z",
     "iopub.status.idle": "2022-04-23T19:58:36.562681Z",
     "shell.execute_reply": "2022-04-23T19:58:36.561922Z",
     "shell.execute_reply.started": "2022-04-23T19:58:36.559006Z"
    }
   },
   "outputs": [],
   "source": [
    "# df['beds'].value_counts().index.tolist()"
   ]
  },
  {
   "cell_type": "code",
   "execution_count": 320,
   "metadata": {
    "execution": {
     "iopub.execute_input": "2022-04-23T19:58:36.564764Z",
     "iopub.status.busy": "2022-04-23T19:58:36.563768Z",
     "iopub.status.idle": "2022-04-23T19:58:36.658601Z",
     "shell.execute_reply": "2022-04-23T19:58:36.657873Z",
     "shell.execute_reply.started": "2022-04-23T19:58:36.564725Z"
    }
   },
   "outputs": [],
   "source": [
    "# Имеются длинные данные, которые не имеют отношения к данному признаку. Их два,поставим 0.\n",
    "df.beds = df.beds.apply(lambda x: '0 Beds' if len(x)>25 else x)"
   ]
  },
  {
   "cell_type": "markdown",
   "metadata": {},
   "source": [
    "Здесь небходим полный анализ данных, так как в признаке о спальнях присутствуют несвойственные данные для спальных комнат в акрах, измеримые для оценки земельных участков. Размеры в кв. футах допустимы, надо найти способ совместить с количеством комнат.\n",
    "* 1 acre = 4046,856 кв.м.\n",
    "* 1 acre = 43560 sqft \n",
    "* 1 sqft = 0,092903 кв.м.\n",
    "* acre_sqft = 43560"
   ]
  },
  {
   "cell_type": "code",
   "execution_count": 321,
   "metadata": {
    "execution": {
     "iopub.execute_input": "2022-04-23T19:58:36.660303Z",
     "iopub.status.busy": "2022-04-23T19:58:36.660046Z",
     "iopub.status.idle": "2022-04-23T19:58:36.664583Z",
     "shell.execute_reply": "2022-04-23T19:58:36.663863Z",
     "shell.execute_reply.started": "2022-04-23T19:58:36.660269Z"
    }
   },
   "outputs": [],
   "source": [
    "def is_num(x):\n",
    "    try:\n",
    "        float(x)\n",
    "        return True\n",
    "    except ValueError:\n",
    "        return False\n",
    "\n",
    "acre_sqft = 43560"
   ]
  },
  {
   "cell_type": "code",
   "execution_count": 322,
   "metadata": {
    "execution": {
     "iopub.execute_input": "2022-04-23T19:58:36.666611Z",
     "iopub.status.busy": "2022-04-23T19:58:36.666051Z",
     "iopub.status.idle": "2022-04-23T19:58:36.675612Z",
     "shell.execute_reply": "2022-04-23T19:58:36.674926Z",
     "shell.execute_reply.started": "2022-04-23T19:58:36.666569Z"
    }
   },
   "outputs": [],
   "source": [
    "def acre_to_sqft(x):\n",
    "    ed_izm = re.sub('[^A-Z a-z]', '', x).strip()\n",
    "    value = re.sub('[^0-9\\.]', '', x).strip()\n",
    "    if ed_izm=='acres' or ed_izm=='acre':\n",
    "        if is_num(value):\n",
    "            value = round(float(value)*acre_sqft, 1)\n",
    "            return str(value)+' '+ 'sqft'\n",
    "        else:\n",
    "            return value\n",
    "    if ed_izm=='sqft'  or ed_izm=='':\n",
    "        if is_num(value):\n",
    "            value = round(float(value), 1)\n",
    "            return str(value)+' '+ 'sqft'\n",
    "        else:\n",
    "            return value\n",
    "    if ed_izm =='Beds' or ed_izm=='Bath':\n",
    "        return x"
   ]
  },
  {
   "cell_type": "code",
   "execution_count": 323,
   "metadata": {
    "execution": {
     "iopub.execute_input": "2022-04-23T19:58:36.677496Z",
     "iopub.status.busy": "2022-04-23T19:58:36.677060Z",
     "iopub.status.idle": "2022-04-23T19:58:38.314963Z",
     "shell.execute_reply": "2022-04-23T19:58:38.314233Z",
     "shell.execute_reply.started": "2022-04-23T19:58:36.677463Z"
    }
   },
   "outputs": [],
   "source": [
    "df['beds'] = df['beds'].apply(acre_to_sqft)"
   ]
  },
  {
   "cell_type": "code",
   "execution_count": 324,
   "metadata": {
    "execution": {
     "iopub.execute_input": "2022-04-23T19:58:38.316691Z",
     "iopub.status.busy": "2022-04-23T19:58:38.316437Z",
     "iopub.status.idle": "2022-04-23T19:58:38.367659Z",
     "shell.execute_reply": "2022-04-23T19:58:38.366907Z",
     "shell.execute_reply.started": "2022-04-23T19:58:38.316656Z"
    }
   },
   "outputs": [],
   "source": [
    "df['beds'].value_counts()"
   ]
  },
  {
   "cell_type": "code",
   "execution_count": 325,
   "metadata": {
    "execution": {
     "iopub.execute_input": "2022-04-23T19:58:38.369618Z",
     "iopub.status.busy": "2022-04-23T19:58:38.369112Z",
     "iopub.status.idle": "2022-04-23T19:58:38.376359Z",
     "shell.execute_reply": "2022-04-23T19:58:38.375687Z",
     "shell.execute_reply.started": "2022-04-23T19:58:38.369582Z"
    }
   },
   "outputs": [],
   "source": [
    "# df['beds'].value_counts().index.tolist()"
   ]
  },
  {
   "cell_type": "markdown",
   "metadata": {},
   "source": [
    "Признак 'beds' - категориальный, но можно сделать числовым, разделив признак на два признака: 'count_beds' и 'sqft_beds'"
   ]
  },
  {
   "cell_type": "code",
   "execution_count": 326,
   "metadata": {
    "execution": {
     "iopub.execute_input": "2022-04-23T19:58:38.378103Z",
     "iopub.status.busy": "2022-04-23T19:58:38.377845Z",
     "iopub.status.idle": "2022-04-23T19:58:38.531365Z",
     "shell.execute_reply": "2022-04-23T19:58:38.530578Z",
     "shell.execute_reply.started": "2022-04-23T19:58:38.378071Z"
    }
   },
   "outputs": [],
   "source": [
    "df['sqft_beds'] = df['beds'].apply(lambda x: x if -1!=x.find('sqft') else '0')\n",
    "\n",
    "df['sqft_beds'].value_counts()"
   ]
  },
  {
   "cell_type": "code",
   "execution_count": 327,
   "metadata": {
    "execution": {
     "iopub.execute_input": "2022-04-23T19:58:38.533109Z",
     "iopub.status.busy": "2022-04-23T19:58:38.532846Z",
     "iopub.status.idle": "2022-04-23T19:58:38.757144Z",
     "shell.execute_reply": "2022-04-23T19:58:38.756442Z",
     "shell.execute_reply.started": "2022-04-23T19:58:38.533076Z"
    }
   },
   "outputs": [],
   "source": [
    "df['sqft_beds'] = df['beds'].apply(lambda x: float(re.sub('[^0-9\\.]', '', x).strip())\n",
    "                                   if -1!=x.find('sqft') else 0)"
   ]
  },
  {
   "cell_type": "code",
   "execution_count": 328,
   "metadata": {
    "execution": {
     "iopub.execute_input": "2022-04-23T19:58:38.758778Z",
     "iopub.status.busy": "2022-04-23T19:58:38.758530Z",
     "iopub.status.idle": "2022-04-23T19:58:38.768970Z",
     "shell.execute_reply": "2022-04-23T19:58:38.768242Z",
     "shell.execute_reply.started": "2022-04-23T19:58:38.758745Z"
    }
   },
   "outputs": [],
   "source": [
    "df['sqft_beds'].value_counts()"
   ]
  },
  {
   "cell_type": "code",
   "execution_count": 329,
   "metadata": {
    "execution": {
     "iopub.execute_input": "2022-04-23T19:58:38.770748Z",
     "iopub.status.busy": "2022-04-23T19:58:38.770233Z",
     "iopub.status.idle": "2022-04-23T19:58:38.891269Z",
     "shell.execute_reply": "2022-04-23T19:58:38.890523Z",
     "shell.execute_reply.started": "2022-04-23T19:58:38.770712Z"
    }
   },
   "outputs": [],
   "source": [
    "df['count_beds'] = df['beds'].apply(lambda x: x if (-1==x.find('sqft'))  else '0')"
   ]
  },
  {
   "cell_type": "code",
   "execution_count": 330,
   "metadata": {
    "execution": {
     "iopub.execute_input": "2022-04-23T19:58:38.892843Z",
     "iopub.status.busy": "2022-04-23T19:58:38.892513Z",
     "iopub.status.idle": "2022-04-23T19:58:38.945854Z",
     "shell.execute_reply": "2022-04-23T19:58:38.944735Z",
     "shell.execute_reply.started": "2022-04-23T19:58:38.892806Z"
    }
   },
   "outputs": [],
   "source": [
    "df['count_beds'].value_counts()"
   ]
  },
  {
   "cell_type": "code",
   "execution_count": 331,
   "metadata": {
    "execution": {
     "iopub.execute_input": "2022-04-23T19:58:38.947853Z",
     "iopub.status.busy": "2022-04-23T19:58:38.947301Z",
     "iopub.status.idle": "2022-04-23T19:58:40.256689Z",
     "shell.execute_reply": "2022-04-23T19:58:40.255943Z",
     "shell.execute_reply.started": "2022-04-23T19:58:38.947813Z"
    }
   },
   "outputs": [],
   "source": [
    "df['beds'] = df['beds'].apply(lambda x: '999 Beds' if -1!=x.find('Bath') else x)\n",
    "df['count_beds'] = df['beds'].apply(lambda x: float(re.sub('[^0-9\\.]', '', x).strip())\n",
    "                                   if -1!=x.find('Beds') else 0)"
   ]
  },
  {
   "cell_type": "code",
   "execution_count": 332,
   "metadata": {
    "execution": {
     "iopub.execute_input": "2022-04-23T19:58:40.259955Z",
     "iopub.status.busy": "2022-04-23T19:58:40.259748Z",
     "iopub.status.idle": "2022-04-23T19:58:40.273916Z",
     "shell.execute_reply": "2022-04-23T19:58:40.273233Z",
     "shell.execute_reply.started": "2022-04-23T19:58:40.259931Z"
    }
   },
   "outputs": [],
   "source": [
    "df['count_beds'].value_counts()"
   ]
  },
  {
   "cell_type": "markdown",
   "metadata": {},
   "source": [
    "Для признака  поставим значение 999 (большое число) вместо 'Bath' для того, чтобы подчеркнуть значимость совмещенных спальных комнат с ванной."
   ]
  },
  {
   "cell_type": "code",
   "execution_count": 333,
   "metadata": {
    "execution": {
     "iopub.execute_input": "2022-04-23T19:58:40.275383Z",
     "iopub.status.busy": "2022-04-23T19:58:40.275113Z",
     "iopub.status.idle": "2022-04-23T19:58:40.673765Z",
     "shell.execute_reply": "2022-04-23T19:58:40.673022Z",
     "shell.execute_reply.started": "2022-04-23T19:58:40.275329Z"
    }
   },
   "outputs": [],
   "source": [
    "df.info()"
   ]
  },
  {
   "cell_type": "code",
   "execution_count": 334,
   "metadata": {
    "execution": {
     "iopub.execute_input": "2022-04-23T19:58:40.675531Z",
     "iopub.status.busy": "2022-04-23T19:58:40.674889Z",
     "iopub.status.idle": "2022-04-23T19:58:40.769076Z",
     "shell.execute_reply": "2022-04-23T19:58:40.768160Z",
     "shell.execute_reply.started": "2022-04-23T19:58:40.675479Z"
    }
   },
   "outputs": [],
   "source": [
    "#  Удаляется признаки: вспомогательные, рабочие и расшипленные на отдельные признаки\n",
    "feature_drop = ['schools',  'homeFacts', 'beds']\n",
    "df.drop(feature_drop, axis=1, inplace=True)"
   ]
  },
  {
   "cell_type": "code",
   "execution_count": 335,
   "metadata": {
    "execution": {
     "iopub.execute_input": "2022-04-23T19:58:40.770797Z",
     "iopub.status.busy": "2022-04-23T19:58:40.770528Z",
     "iopub.status.idle": "2022-04-23T19:58:41.045343Z",
     "shell.execute_reply": "2022-04-23T19:58:41.044466Z",
     "shell.execute_reply.started": "2022-04-23T19:58:40.770763Z"
    }
   },
   "outputs": [],
   "source": [
    "df.info()"
   ]
  },
  {
   "cell_type": "markdown",
   "metadata": {},
   "source": [
    "Признак \"target\" надо преобразовать float"
   ]
  },
  {
   "cell_type": "code",
   "execution_count": 336,
   "metadata": {
    "execution": {
     "iopub.execute_input": "2022-04-23T19:58:41.047198Z",
     "iopub.status.busy": "2022-04-23T19:58:41.046571Z",
     "iopub.status.idle": "2022-04-23T19:58:45.041503Z",
     "shell.execute_reply": "2022-04-23T19:58:45.040691Z",
     "shell.execute_reply.started": "2022-04-23T19:58:41.047155Z"
    }
   },
   "outputs": [],
   "source": [
    "df.to_csv('df_after_EDA.csv')"
   ]
  },
  {
   "cell_type": "markdown",
   "metadata": {},
   "source": [
    "# Результаты EDA"
   ]
  },
  {
   "cell_type": "markdown",
   "metadata": {},
   "source": [
    "Датасет очень \"грязный\". Цель -  максимально сохранить исходные данные. Поэтому пришлось изменить и исправить даже одиночные строки.\n",
    "* Слишком длительное время было уделено для чистки датасет.\n",
    "* В датасет очень большое число категориальных признаков. На следующем этапе, при выборе методов прогноза необходимо учитывать эту особенность проекта.\n",
    "* Следующим ответственным этапом будет подборка важных признаков и их типа, которые определяются с помощью модельных экспериментов. \n",
    "* Выбор модели для прогноза особой сложности не представляет.\n",
    "* Для прогнозных расчетов используется Kaggle.\n",
    "\n",
    "Окончательный результат постараюсь оформить в виде презентации."
   ]
  },
  {
   "cell_type": "markdown",
   "metadata": {},
   "source": [
    "# Data preprocessing, Feature engineering"
   ]
  },
  {
   "cell_type": "code",
   "execution_count": 337,
   "metadata": {
    "execution": {
     "iopub.execute_input": "2022-04-23T19:58:45.043083Z",
     "iopub.status.busy": "2022-04-23T19:58:45.042809Z",
     "iopub.status.idle": "2022-04-23T19:58:45.047888Z",
     "shell.execute_reply": "2022-04-23T19:58:45.047048Z",
     "shell.execute_reply.started": "2022-04-23T19:58:45.043048Z"
    }
   },
   "outputs": [],
   "source": [
    "import seaborn as sns\n",
    "import matplotlib.pyplot as plt"
   ]
  },
  {
   "cell_type": "code",
   "execution_count": 338,
   "metadata": {
    "execution": {
     "iopub.execute_input": "2022-04-23T19:58:45.049786Z",
     "iopub.status.busy": "2022-04-23T19:58:45.049520Z",
     "iopub.status.idle": "2022-04-23T19:58:46.101065Z",
     "shell.execute_reply": "2022-04-23T19:58:46.100319Z",
     "shell.execute_reply.started": "2022-04-23T19:58:45.049753Z"
    }
   },
   "outputs": [],
   "source": [
    "# Если понадобится повторно изменить или исправить признаков и их содержимые, можно повторить с этого датасет.\n",
    "data = pd.read_csv('df_after_EDA.csv')\n",
    "# data.head(3)"
   ]
  },
  {
   "cell_type": "code",
   "execution_count": 339,
   "metadata": {
    "execution": {
     "iopub.execute_input": "2022-04-23T19:58:46.102717Z",
     "iopub.status.busy": "2022-04-23T19:58:46.102467Z",
     "iopub.status.idle": "2022-04-23T19:58:46.408044Z",
     "shell.execute_reply": "2022-04-23T19:58:46.407303Z",
     "shell.execute_reply.started": "2022-04-23T19:58:46.102684Z"
    }
   },
   "outputs": [],
   "source": [
    "data.info()"
   ]
  },
  {
   "cell_type": "code",
   "execution_count": 340,
   "metadata": {
    "execution": {
     "iopub.execute_input": "2022-04-23T19:58:46.410001Z",
     "iopub.status.busy": "2022-04-23T19:58:46.409138Z",
     "iopub.status.idle": "2022-04-23T19:58:46.442150Z",
     "shell.execute_reply": "2022-04-23T19:58:46.441421Z",
     "shell.execute_reply.started": "2022-04-23T19:58:46.409954Z"
    }
   },
   "outputs": [],
   "source": [
    "data.drop('Unnamed: 0', axis=1,inplace=True)"
   ]
  },
  {
   "cell_type": "code",
   "execution_count": 341,
   "metadata": {
    "execution": {
     "iopub.execute_input": "2022-04-23T19:58:46.444775Z",
     "iopub.status.busy": "2022-04-23T19:58:46.443271Z",
     "iopub.status.idle": "2022-04-23T19:58:46.455298Z",
     "shell.execute_reply": "2022-04-23T19:58:46.454463Z",
     "shell.execute_reply.started": "2022-04-23T19:58:46.444736Z"
    }
   },
   "outputs": [],
   "source": [
    "data['target'] = data['target'].astype(float)"
   ]
  },
  {
   "cell_type": "code",
   "execution_count": 342,
   "metadata": {
    "execution": {
     "iopub.execute_input": "2022-04-23T19:58:46.457144Z",
     "iopub.status.busy": "2022-04-23T19:58:46.456750Z",
     "iopub.status.idle": "2022-04-23T19:58:46.530218Z",
     "shell.execute_reply": "2022-04-23T19:58:46.529455Z",
     "shell.execute_reply.started": "2022-04-23T19:58:46.457103Z"
    }
   },
   "outputs": [],
   "source": [
    "# Сохраним для случая повторной загрузки \n",
    "df = data.copy()"
   ]
  },
  {
   "cell_type": "code",
   "execution_count": 343,
   "metadata": {
    "execution": {
     "iopub.execute_input": "2022-04-23T19:58:46.532151Z",
     "iopub.status.busy": "2022-04-23T19:58:46.531862Z",
     "iopub.status.idle": "2022-04-23T19:58:46.537007Z",
     "shell.execute_reply": "2022-04-23T19:58:46.536150Z",
     "shell.execute_reply.started": "2022-04-23T19:58:46.532106Z"
    }
   },
   "outputs": [],
   "source": [
    "# data = df.copy()"
   ]
  },
  {
   "cell_type": "code",
   "execution_count": 344,
   "metadata": {
    "execution": {
     "iopub.execute_input": "2022-04-23T19:58:46.539229Z",
     "iopub.status.busy": "2022-04-23T19:58:46.538488Z",
     "iopub.status.idle": "2022-04-23T19:58:46.571717Z",
     "shell.execute_reply": "2022-04-23T19:58:46.571023Z",
     "shell.execute_reply.started": "2022-04-23T19:58:46.539190Z"
    }
   },
   "outputs": [],
   "source": [
    "df_num = data.select_dtypes(include=[np.number])\n",
    "col_num = df_num.columns.values\n",
    "col_num"
   ]
  },
  {
   "cell_type": "markdown",
   "metadata": {},
   "source": [
    "## Numerical features"
   ]
  },
  {
   "cell_type": "code",
   "execution_count": 345,
   "metadata": {
    "execution": {
     "iopub.execute_input": "2022-04-23T19:58:46.573290Z",
     "iopub.status.busy": "2022-04-23T19:58:46.572955Z",
     "iopub.status.idle": "2022-04-23T19:58:46.817545Z",
     "shell.execute_reply": "2022-04-23T19:58:46.816853Z",
     "shell.execute_reply.started": "2022-04-23T19:58:46.573251Z"
    }
   },
   "outputs": [],
   "source": [
    "data[col_num].corr()"
   ]
  },
  {
   "cell_type": "code",
   "execution_count": 346,
   "metadata": {
    "execution": {
     "iopub.execute_input": "2022-04-23T19:58:46.819417Z",
     "iopub.status.busy": "2022-04-23T19:58:46.818593Z",
     "iopub.status.idle": "2022-04-23T19:58:46.823535Z",
     "shell.execute_reply": "2022-04-23T19:58:46.822758Z",
     "shell.execute_reply.started": "2022-04-23T19:58:46.819365Z"
    }
   },
   "outputs": [],
   "source": [
    "plt.rcParams['figure.figsize']=(15,10)"
   ]
  },
  {
   "cell_type": "code",
   "execution_count": 347,
   "metadata": {
    "execution": {
     "iopub.execute_input": "2022-04-23T19:58:46.825829Z",
     "iopub.status.busy": "2022-04-23T19:58:46.825408Z",
     "iopub.status.idle": "2022-04-23T19:58:49.021917Z",
     "shell.execute_reply": "2022-04-23T19:58:49.021257Z",
     "shell.execute_reply.started": "2022-04-23T19:58:46.825794Z"
    }
   },
   "outputs": [],
   "source": [
    "corrmat = data[col_num].corr()\n",
    "top_corr_features = corrmat.index\n",
    "data[top_corr_features].corr().loc['target', data[top_corr_features].corr().loc['target', :]>0.05]\n",
    "\n",
    "plt.figure(figsize=(20,20))\n",
    "ax = sns.heatmap(data[top_corr_features].corr(),annot=True,cmap=\"RdYlGn\")"
   ]
  },
  {
   "cell_type": "markdown",
   "metadata": {},
   "source": [
    "### Признак 'lotsize'"
   ]
  },
  {
   "cell_type": "code",
   "execution_count": 348,
   "metadata": {
    "execution": {
     "iopub.execute_input": "2022-04-23T19:58:49.023094Z",
     "iopub.status.busy": "2022-04-23T19:58:49.022871Z",
     "iopub.status.idle": "2022-04-23T19:58:49.260749Z",
     "shell.execute_reply": "2022-04-23T19:58:49.260094Z",
     "shell.execute_reply.started": "2022-04-23T19:58:49.023063Z"
    }
   },
   "outputs": [],
   "source": [
    "plt.boxplot(data['lotsize'], vert=False)\n",
    "data['lotsize'].describe()"
   ]
  },
  {
   "cell_type": "code",
   "execution_count": 349,
   "metadata": {
    "execution": {
     "iopub.execute_input": "2022-04-23T19:58:49.262163Z",
     "iopub.status.busy": "2022-04-23T19:58:49.261927Z",
     "iopub.status.idle": "2022-04-23T19:58:49.301126Z",
     "shell.execute_reply": "2022-04-23T19:58:49.300346Z",
     "shell.execute_reply.started": "2022-04-23T19:58:49.262130Z"
    }
   },
   "outputs": [],
   "source": [
    "# Имеются явные выбросы\n",
    "data[data['lotsize']>0.5e6]"
   ]
  },
  {
   "cell_type": "code",
   "execution_count": 350,
   "metadata": {
    "execution": {
     "iopub.execute_input": "2022-04-23T19:58:49.302686Z",
     "iopub.status.busy": "2022-04-23T19:58:49.302353Z",
     "iopub.status.idle": "2022-04-23T19:58:49.312794Z",
     "shell.execute_reply": "2022-04-23T19:58:49.312064Z",
     "shell.execute_reply.started": "2022-04-23T19:58:49.302650Z"
    }
   },
   "outputs": [],
   "source": [
    "ind_lotsize = data[data['lotsize']>0.5e6].index\n",
    "ind_lotsize"
   ]
  },
  {
   "cell_type": "code",
   "execution_count": 351,
   "metadata": {
    "execution": {
     "iopub.execute_input": "2022-04-23T19:58:49.314534Z",
     "iopub.status.busy": "2022-04-23T19:58:49.313837Z",
     "iopub.status.idle": "2022-04-23T19:58:49.321922Z",
     "shell.execute_reply": "2022-04-23T19:58:49.320915Z",
     "shell.execute_reply.started": "2022-04-23T19:58:49.314497Z"
    }
   },
   "outputs": [],
   "source": [
    "# В принципе можно исправить на значения 75% персентиль, или на медианного значения \n",
    "data.loc[ind_lotsize,'lotsize'] = 1.001900e+04"
   ]
  },
  {
   "cell_type": "code",
   "execution_count": 352,
   "metadata": {
    "execution": {
     "iopub.execute_input": "2022-04-23T19:58:49.325152Z",
     "iopub.status.busy": "2022-04-23T19:58:49.324742Z",
     "iopub.status.idle": "2022-04-23T19:58:49.345249Z",
     "shell.execute_reply": "2022-04-23T19:58:49.344552Z",
     "shell.execute_reply.started": "2022-04-23T19:58:49.325124Z"
    }
   },
   "outputs": [],
   "source": [
    "data['lotsize'].describe()"
   ]
  },
  {
   "cell_type": "code",
   "execution_count": 353,
   "metadata": {
    "execution": {
     "iopub.execute_input": "2022-04-23T19:58:49.346763Z",
     "iopub.status.busy": "2022-04-23T19:58:49.346518Z",
     "iopub.status.idle": "2022-04-23T19:58:49.572946Z",
     "shell.execute_reply": "2022-04-23T19:58:49.572262Z",
     "shell.execute_reply.started": "2022-04-23T19:58:49.346729Z"
    }
   },
   "outputs": [],
   "source": [
    "plt.boxplot(data['lotsize'], vert=False)"
   ]
  },
  {
   "cell_type": "code",
   "execution_count": 354,
   "metadata": {
    "execution": {
     "iopub.execute_input": "2022-04-23T19:58:49.574493Z",
     "iopub.status.busy": "2022-04-23T19:58:49.574241Z",
     "iopub.status.idle": "2022-04-23T19:58:49.954000Z",
     "shell.execute_reply": "2022-04-23T19:58:49.953276Z",
     "shell.execute_reply.started": "2022-04-23T19:58:49.574460Z"
    }
   },
   "outputs": [],
   "source": [
    "data['lotsize'].hist(bins=100)"
   ]
  },
  {
   "cell_type": "markdown",
   "metadata": {},
   "source": [
    "### Признак 'sqft'"
   ]
  },
  {
   "cell_type": "code",
   "execution_count": 355,
   "metadata": {
    "execution": {
     "iopub.execute_input": "2022-04-23T19:58:49.956047Z",
     "iopub.status.busy": "2022-04-23T19:58:49.955438Z",
     "iopub.status.idle": "2022-04-23T19:58:50.191118Z",
     "shell.execute_reply": "2022-04-23T19:58:50.190450Z",
     "shell.execute_reply.started": "2022-04-23T19:58:49.956002Z"
    }
   },
   "outputs": [],
   "source": [
    "plt.boxplot(data['sqft'], vert=False)"
   ]
  },
  {
   "cell_type": "code",
   "execution_count": 356,
   "metadata": {
    "execution": {
     "iopub.execute_input": "2022-04-23T19:58:50.192725Z",
     "iopub.status.busy": "2022-04-23T19:58:50.192493Z",
     "iopub.status.idle": "2022-04-23T19:58:50.213708Z",
     "shell.execute_reply": "2022-04-23T19:58:50.212844Z",
     "shell.execute_reply.started": "2022-04-23T19:58:50.192692Z"
    }
   },
   "outputs": [],
   "source": [
    "data['sqft'].describe()"
   ]
  },
  {
   "cell_type": "code",
   "execution_count": 357,
   "metadata": {
    "execution": {
     "iopub.execute_input": "2022-04-23T19:58:50.215389Z",
     "iopub.status.busy": "2022-04-23T19:58:50.215144Z",
     "iopub.status.idle": "2022-04-23T19:58:50.220877Z",
     "shell.execute_reply": "2022-04-23T19:58:50.219956Z",
     "shell.execute_reply.started": "2022-04-23T19:58:50.215356Z"
    }
   },
   "outputs": [],
   "source": [
    "# ind_sqft = data[['target','sqft']][data['sqft']>1.5e4]\n",
    "ind_sqft = data['sqft'][data['sqft']>1.0e4].index"
   ]
  },
  {
   "cell_type": "code",
   "execution_count": 358,
   "metadata": {
    "execution": {
     "iopub.execute_input": "2022-04-23T19:58:50.222908Z",
     "iopub.status.busy": "2022-04-23T19:58:50.222622Z",
     "iopub.status.idle": "2022-04-23T19:58:50.264096Z",
     "shell.execute_reply": "2022-04-23T19:58:50.263452Z",
     "shell.execute_reply.started": "2022-04-23T19:58:50.222868Z"
    }
   },
   "outputs": [],
   "source": [
    "data.loc[ind_sqft]"
   ]
  },
  {
   "cell_type": "code",
   "execution_count": 359,
   "metadata": {
    "execution": {
     "iopub.execute_input": "2022-04-23T19:58:50.265771Z",
     "iopub.status.busy": "2022-04-23T19:58:50.265172Z",
     "iopub.status.idle": "2022-04-23T19:58:50.271659Z",
     "shell.execute_reply": "2022-04-23T19:58:50.270901Z",
     "shell.execute_reply.started": "2022-04-23T19:58:50.265736Z"
    }
   },
   "outputs": [],
   "source": [
    "# Для  строк с индексами ind_sqft значение признака слишком большие, заменим на медианную значению, т.е. на 1.750000e+03 \n",
    "456602479.0/107639 # hectar для жилия?"
   ]
  },
  {
   "cell_type": "code",
   "execution_count": 360,
   "metadata": {
    "execution": {
     "iopub.execute_input": "2022-04-23T19:58:50.273692Z",
     "iopub.status.busy": "2022-04-23T19:58:50.272901Z",
     "iopub.status.idle": "2022-04-23T19:58:50.282066Z",
     "shell.execute_reply": "2022-04-23T19:58:50.281323Z",
     "shell.execute_reply.started": "2022-04-23T19:58:50.273654Z"
    }
   },
   "outputs": [],
   "source": [
    "data.loc[ind_sqft, 'sqft'] = 2.539000e+03"
   ]
  },
  {
   "cell_type": "code",
   "execution_count": 361,
   "metadata": {
    "execution": {
     "iopub.execute_input": "2022-04-23T19:58:50.283610Z",
     "iopub.status.busy": "2022-04-23T19:58:50.283276Z",
     "iopub.status.idle": "2022-04-23T19:58:50.485889Z",
     "shell.execute_reply": "2022-04-23T19:58:50.485200Z",
     "shell.execute_reply.started": "2022-04-23T19:58:50.283573Z"
    }
   },
   "outputs": [],
   "source": [
    "plt.boxplot(data['sqft'], vert=False)"
   ]
  },
  {
   "cell_type": "code",
   "execution_count": 362,
   "metadata": {
    "execution": {
     "iopub.execute_input": "2022-04-23T19:58:50.487544Z",
     "iopub.status.busy": "2022-04-23T19:58:50.487132Z",
     "iopub.status.idle": "2022-04-23T19:58:50.689020Z",
     "shell.execute_reply": "2022-04-23T19:58:50.688251Z",
     "shell.execute_reply.started": "2022-04-23T19:58:50.487508Z"
    }
   },
   "outputs": [],
   "source": [
    "plt.boxplot(data['sqft'], vert=False)"
   ]
  },
  {
   "cell_type": "code",
   "execution_count": 363,
   "metadata": {
    "execution": {
     "iopub.execute_input": "2022-04-23T19:58:50.690420Z",
     "iopub.status.busy": "2022-04-23T19:58:50.690155Z",
     "iopub.status.idle": "2022-04-23T19:58:51.080925Z",
     "shell.execute_reply": "2022-04-23T19:58:51.080252Z",
     "shell.execute_reply.started": "2022-04-23T19:58:50.690365Z"
    }
   },
   "outputs": [],
   "source": [
    "data['sqft'].describe()\n",
    "data['sqft'].hist(bins=100)"
   ]
  },
  {
   "cell_type": "code",
   "execution_count": null,
   "metadata": {},
   "outputs": [],
   "source": []
  },
  {
   "cell_type": "markdown",
   "metadata": {},
   "source": [
    "### Признак 'Price/sqft'"
   ]
  },
  {
   "cell_type": "code",
   "execution_count": 364,
   "metadata": {
    "execution": {
     "iopub.execute_input": "2022-04-23T19:58:51.082506Z",
     "iopub.status.busy": "2022-04-23T19:58:51.082107Z",
     "iopub.status.idle": "2022-04-23T19:58:51.303899Z",
     "shell.execute_reply": "2022-04-23T19:58:51.303204Z",
     "shell.execute_reply.started": "2022-04-23T19:58:51.082468Z"
    }
   },
   "outputs": [],
   "source": [
    "plt.boxplot(data['Price/sqft'], vert=False)"
   ]
  },
  {
   "cell_type": "code",
   "execution_count": 365,
   "metadata": {
    "execution": {
     "iopub.execute_input": "2022-04-23T19:58:51.305636Z",
     "iopub.status.busy": "2022-04-23T19:58:51.305127Z",
     "iopub.status.idle": "2022-04-23T19:58:51.326961Z",
     "shell.execute_reply": "2022-04-23T19:58:51.326330Z",
     "shell.execute_reply.started": "2022-04-23T19:58:51.305596Z"
    }
   },
   "outputs": [],
   "source": [
    "data['Price/sqft'].describe()"
   ]
  },
  {
   "cell_type": "code",
   "execution_count": 366,
   "metadata": {
    "execution": {
     "iopub.execute_input": "2022-04-23T19:58:51.328434Z",
     "iopub.status.busy": "2022-04-23T19:58:51.328168Z",
     "iopub.status.idle": "2022-04-23T19:58:51.337482Z",
     "shell.execute_reply": "2022-04-23T19:58:51.336451Z",
     "shell.execute_reply.started": "2022-04-23T19:58:51.328385Z"
    }
   },
   "outputs": [],
   "source": [
    "ind_Price_sq = data[data['Price/sqft']>3000].index\n",
    "ind_Price_sq"
   ]
  },
  {
   "cell_type": "code",
   "execution_count": 367,
   "metadata": {
    "execution": {
     "iopub.execute_input": "2022-04-23T19:58:51.339502Z",
     "iopub.status.busy": "2022-04-23T19:58:51.339116Z",
     "iopub.status.idle": "2022-04-23T19:58:51.345583Z",
     "shell.execute_reply": "2022-04-23T19:58:51.344780Z",
     "shell.execute_reply.started": "2022-04-23T19:58:51.339454Z"
    }
   },
   "outputs": [],
   "source": [
    "data.loc[ind_Price_sq,'Price/sqft'] = 2523.5"
   ]
  },
  {
   "cell_type": "code",
   "execution_count": 368,
   "metadata": {
    "execution": {
     "iopub.execute_input": "2022-04-23T19:58:51.346887Z",
     "iopub.status.busy": "2022-04-23T19:58:51.346630Z",
     "iopub.status.idle": "2022-04-23T19:58:51.568093Z",
     "shell.execute_reply": "2022-04-23T19:58:51.567432Z",
     "shell.execute_reply.started": "2022-04-23T19:58:51.346844Z"
    }
   },
   "outputs": [],
   "source": [
    "plt.boxplot(data['Price/sqft'], vert=False)"
   ]
  },
  {
   "cell_type": "code",
   "execution_count": null,
   "metadata": {},
   "outputs": [],
   "source": []
  },
  {
   "cell_type": "markdown",
   "metadata": {},
   "source": [
    "### Признак 'target'"
   ]
  },
  {
   "cell_type": "code",
   "execution_count": 369,
   "metadata": {
    "execution": {
     "iopub.execute_input": "2022-04-23T19:58:51.569495Z",
     "iopub.status.busy": "2022-04-23T19:58:51.569237Z",
     "iopub.status.idle": "2022-04-23T19:58:51.591948Z",
     "shell.execute_reply": "2022-04-23T19:58:51.591289Z",
     "shell.execute_reply.started": "2022-04-23T19:58:51.569454Z"
    }
   },
   "outputs": [],
   "source": [
    "data['target'].describe()"
   ]
  },
  {
   "cell_type": "code",
   "execution_count": 370,
   "metadata": {
    "execution": {
     "iopub.execute_input": "2022-04-23T19:58:51.593518Z",
     "iopub.status.busy": "2022-04-23T19:58:51.593239Z",
     "iopub.status.idle": "2022-04-23T19:58:51.864345Z",
     "shell.execute_reply": "2022-04-23T19:58:51.863652Z",
     "shell.execute_reply.started": "2022-04-23T19:58:51.593482Z"
    }
   },
   "outputs": [],
   "source": [
    "plt.boxplot(data['target'], vert=False)"
   ]
  },
  {
   "cell_type": "code",
   "execution_count": 371,
   "metadata": {
    "execution": {
     "iopub.execute_input": "2022-04-23T19:58:51.866213Z",
     "iopub.status.busy": "2022-04-23T19:58:51.865450Z",
     "iopub.status.idle": "2022-04-23T19:58:51.900000Z",
     "shell.execute_reply": "2022-04-23T19:58:51.899263Z",
     "shell.execute_reply.started": "2022-04-23T19:58:51.866173Z"
    }
   },
   "outputs": [],
   "source": [
    "data[data['target']>1.0e8]"
   ]
  },
  {
   "cell_type": "code",
   "execution_count": 372,
   "metadata": {
    "execution": {
     "iopub.execute_input": "2022-04-23T19:58:51.901497Z",
     "iopub.status.busy": "2022-04-23T19:58:51.901224Z",
     "iopub.status.idle": "2022-04-23T19:58:51.910346Z",
     "shell.execute_reply": "2022-04-23T19:58:51.909455Z",
     "shell.execute_reply.started": "2022-04-23T19:58:51.901459Z"
    }
   },
   "outputs": [],
   "source": [
    "ind_target = data[data['target']>1.0e8].index\n",
    "ind_target"
   ]
  },
  {
   "cell_type": "code",
   "execution_count": 373,
   "metadata": {
    "execution": {
     "iopub.execute_input": "2022-04-23T19:58:51.912390Z",
     "iopub.status.busy": "2022-04-23T19:58:51.911535Z",
     "iopub.status.idle": "2022-04-23T19:58:51.919115Z",
     "shell.execute_reply": "2022-04-23T19:58:51.917861Z",
     "shell.execute_reply.started": "2022-04-23T19:58:51.912350Z"
    }
   },
   "outputs": [],
   "source": [
    "data.loc[ind_target,'target'] = 1.0e8"
   ]
  },
  {
   "cell_type": "code",
   "execution_count": 374,
   "metadata": {
    "execution": {
     "iopub.execute_input": "2022-04-23T19:58:51.921204Z",
     "iopub.status.busy": "2022-04-23T19:58:51.920917Z",
     "iopub.status.idle": "2022-04-23T19:58:51.943389Z",
     "shell.execute_reply": "2022-04-23T19:58:51.942579Z",
     "shell.execute_reply.started": "2022-04-23T19:58:51.921168Z"
    }
   },
   "outputs": [],
   "source": [
    "data['target'].describe()"
   ]
  },
  {
   "cell_type": "code",
   "execution_count": null,
   "metadata": {},
   "outputs": [],
   "source": []
  },
  {
   "cell_type": "markdown",
   "metadata": {},
   "source": [
    "### Признаки 'PrivatePool' и 'Parking'"
   ]
  },
  {
   "cell_type": "code",
   "execution_count": 375,
   "metadata": {
    "execution": {
     "iopub.execute_input": "2022-04-23T19:58:51.945135Z",
     "iopub.status.busy": "2022-04-23T19:58:51.944860Z",
     "iopub.status.idle": "2022-04-23T19:58:51.953568Z",
     "shell.execute_reply": "2022-04-23T19:58:51.952735Z",
     "shell.execute_reply.started": "2022-04-23T19:58:51.945100Z"
    }
   },
   "outputs": [],
   "source": [
    "# Отнесем к категориальным признакам\n",
    "data['PrivatePool'].value_counts()"
   ]
  },
  {
   "cell_type": "code",
   "execution_count": 376,
   "metadata": {
    "execution": {
     "iopub.execute_input": "2022-04-23T19:58:51.955639Z",
     "iopub.status.busy": "2022-04-23T19:58:51.955243Z",
     "iopub.status.idle": "2022-04-23T19:58:51.968381Z",
     "shell.execute_reply": "2022-04-23T19:58:51.967567Z",
     "shell.execute_reply.started": "2022-04-23T19:58:51.955599Z"
    }
   },
   "outputs": [],
   "source": [
    "#Отнесем к категориальным признакам\n",
    "data['Parking'].value_counts()"
   ]
  },
  {
   "cell_type": "code",
   "execution_count": null,
   "metadata": {},
   "outputs": [],
   "source": []
  },
  {
   "cell_type": "markdown",
   "metadata": {},
   "source": [
    "### Признак 'fireplace'"
   ]
  },
  {
   "cell_type": "code",
   "execution_count": 377,
   "metadata": {
    "execution": {
     "iopub.execute_input": "2022-04-23T19:58:51.971534Z",
     "iopub.status.busy": "2022-04-23T19:58:51.969443Z",
     "iopub.status.idle": "2022-04-23T19:58:51.980686Z",
     "shell.execute_reply": "2022-04-23T19:58:51.979798Z",
     "shell.execute_reply.started": "2022-04-23T19:58:51.971494Z"
    }
   },
   "outputs": [],
   "source": [
    "data['fireplace'].value_counts()"
   ]
  },
  {
   "cell_type": "code",
   "execution_count": 378,
   "metadata": {
    "execution": {
     "iopub.execute_input": "2022-04-23T19:58:51.982397Z",
     "iopub.status.busy": "2022-04-23T19:58:51.981982Z",
     "iopub.status.idle": "2022-04-23T19:58:52.000784Z",
     "shell.execute_reply": "2022-04-23T19:58:52.000064Z",
     "shell.execute_reply.started": "2022-04-23T19:58:51.982362Z"
    }
   },
   "outputs": [],
   "source": [
    "data['fireplace'].describe()"
   ]
  },
  {
   "cell_type": "code",
   "execution_count": 379,
   "metadata": {
    "execution": {
     "iopub.execute_input": "2022-04-23T19:58:52.002341Z",
     "iopub.status.busy": "2022-04-23T19:58:52.001986Z",
     "iopub.status.idle": "2022-04-23T19:58:52.377728Z",
     "shell.execute_reply": "2022-04-23T19:58:52.377060Z",
     "shell.execute_reply.started": "2022-04-23T19:58:52.002300Z"
    }
   },
   "outputs": [],
   "source": [
    "data['fireplace'].hist(bins=100)"
   ]
  },
  {
   "cell_type": "code",
   "execution_count": null,
   "metadata": {},
   "outputs": [],
   "source": []
  },
  {
   "cell_type": "markdown",
   "metadata": {},
   "source": [
    "### Признак 'schools_rating'"
   ]
  },
  {
   "cell_type": "code",
   "execution_count": 380,
   "metadata": {
    "execution": {
     "iopub.execute_input": "2022-04-23T19:58:52.379145Z",
     "iopub.status.busy": "2022-04-23T19:58:52.378903Z",
     "iopub.status.idle": "2022-04-23T19:58:52.768029Z",
     "shell.execute_reply": "2022-04-23T19:58:52.767268Z",
     "shell.execute_reply.started": "2022-04-23T19:58:52.379110Z"
    }
   },
   "outputs": [],
   "source": [
    "data['schools_rating'].value_counts()\n",
    "data['schools_rating'].hist(bins=100)"
   ]
  },
  {
   "cell_type": "markdown",
   "metadata": {},
   "source": [
    "### Признак 'schools_Distance']"
   ]
  },
  {
   "cell_type": "code",
   "execution_count": 381,
   "metadata": {
    "execution": {
     "iopub.execute_input": "2022-04-23T19:58:52.769620Z",
     "iopub.status.busy": "2022-04-23T19:58:52.769364Z",
     "iopub.status.idle": "2022-04-23T19:58:52.780578Z",
     "shell.execute_reply": "2022-04-23T19:58:52.779882Z",
     "shell.execute_reply.started": "2022-04-23T19:58:52.769586Z"
    }
   },
   "outputs": [],
   "source": [
    "data['schools_Distance'].value_counts()"
   ]
  },
  {
   "cell_type": "code",
   "execution_count": 382,
   "metadata": {
    "execution": {
     "iopub.execute_input": "2022-04-23T19:58:52.782515Z",
     "iopub.status.busy": "2022-04-23T19:58:52.782044Z",
     "iopub.status.idle": "2022-04-23T19:58:52.790029Z",
     "shell.execute_reply": "2022-04-23T19:58:52.789316Z",
     "shell.execute_reply.started": "2022-04-23T19:58:52.782479Z"
    }
   },
   "outputs": [],
   "source": [
    "# data['schools_Distance'] = df['schools_Distance']"
   ]
  },
  {
   "cell_type": "code",
   "execution_count": 383,
   "metadata": {
    "execution": {
     "iopub.execute_input": "2022-04-23T19:58:52.791810Z",
     "iopub.status.busy": "2022-04-23T19:58:52.791510Z",
     "iopub.status.idle": "2022-04-23T19:58:53.038129Z",
     "shell.execute_reply": "2022-04-23T19:58:53.037296Z",
     "shell.execute_reply.started": "2022-04-23T19:58:52.791775Z"
    }
   },
   "outputs": [],
   "source": [
    "plt.boxplot(data['schools_Distance'], vert=False)"
   ]
  },
  {
   "cell_type": "code",
   "execution_count": 384,
   "metadata": {
    "execution": {
     "iopub.execute_input": "2022-04-23T19:58:53.039771Z",
     "iopub.status.busy": "2022-04-23T19:58:53.039535Z",
     "iopub.status.idle": "2022-04-23T19:58:53.060176Z",
     "shell.execute_reply": "2022-04-23T19:58:53.059022Z",
     "shell.execute_reply.started": "2022-04-23T19:58:53.039737Z"
    }
   },
   "outputs": [],
   "source": [
    "data['schools_Distance'].describe()"
   ]
  },
  {
   "cell_type": "code",
   "execution_count": 385,
   "metadata": {
    "execution": {
     "iopub.execute_input": "2022-04-23T19:58:53.062795Z",
     "iopub.status.busy": "2022-04-23T19:58:53.062163Z",
     "iopub.status.idle": "2022-04-23T19:58:53.103060Z",
     "shell.execute_reply": "2022-04-23T19:58:53.102271Z",
     "shell.execute_reply.started": "2022-04-23T19:58:53.062754Z"
    }
   },
   "outputs": [],
   "source": [
    "# Предполагаем, что школы недолжны быть так далеко, дальше 10-15 миля многоватоБ но мы допустим.\n",
    "data[data['schools_Distance']>=15.0]"
   ]
  },
  {
   "cell_type": "code",
   "execution_count": 386,
   "metadata": {
    "execution": {
     "iopub.execute_input": "2022-04-23T19:58:53.104576Z",
     "iopub.status.busy": "2022-04-23T19:58:53.104260Z",
     "iopub.status.idle": "2022-04-23T19:58:53.114115Z",
     "shell.execute_reply": "2022-04-23T19:58:53.113394Z",
     "shell.execute_reply.started": "2022-04-23T19:58:53.104541Z"
    }
   },
   "outputs": [],
   "source": [
    "ind_sc_dist = data[data['schools_Distance']>=15.0].index\n",
    "data.loc[ind_sc_dist, 'schools_Distance'] = 3.070000"
   ]
  },
  {
   "cell_type": "code",
   "execution_count": 387,
   "metadata": {
    "execution": {
     "iopub.execute_input": "2022-04-23T19:58:53.117257Z",
     "iopub.status.busy": "2022-04-23T19:58:53.117065Z",
     "iopub.status.idle": "2022-04-23T19:58:53.510982Z",
     "shell.execute_reply": "2022-04-23T19:58:53.510281Z",
     "shell.execute_reply.started": "2022-04-23T19:58:53.117234Z"
    }
   },
   "outputs": [],
   "source": [
    "data['schools_Distance'].describe()\n",
    "data['schools_Distance'].hist(bins=100)"
   ]
  },
  {
   "cell_type": "code",
   "execution_count": 388,
   "metadata": {
    "execution": {
     "iopub.execute_input": "2022-04-23T19:58:53.512777Z",
     "iopub.status.busy": "2022-04-23T19:58:53.512066Z",
     "iopub.status.idle": "2022-04-23T19:58:53.749004Z",
     "shell.execute_reply": "2022-04-23T19:58:53.748311Z",
     "shell.execute_reply.started": "2022-04-23T19:58:53.512736Z"
    }
   },
   "outputs": [],
   "source": [
    "plt.boxplot(data['schools_Distance'], vert=False)"
   ]
  },
  {
   "cell_type": "code",
   "execution_count": null,
   "metadata": {},
   "outputs": [],
   "source": []
  },
  {
   "cell_type": "markdown",
   "metadata": {},
   "source": [
    "### Признак 'school_count']"
   ]
  },
  {
   "cell_type": "code",
   "execution_count": 389,
   "metadata": {
    "execution": {
     "iopub.execute_input": "2022-04-23T19:58:53.750610Z",
     "iopub.status.busy": "2022-04-23T19:58:53.750345Z",
     "iopub.status.idle": "2022-04-23T19:58:53.769426Z",
     "shell.execute_reply": "2022-04-23T19:58:53.768770Z",
     "shell.execute_reply.started": "2022-04-23T19:58:53.750576Z"
    }
   },
   "outputs": [],
   "source": [
    "data['school_count'].describe()"
   ]
  },
  {
   "cell_type": "code",
   "execution_count": 390,
   "metadata": {
    "execution": {
     "iopub.execute_input": "2022-04-23T19:58:53.771727Z",
     "iopub.status.busy": "2022-04-23T19:58:53.771329Z",
     "iopub.status.idle": "2022-04-23T19:58:54.047964Z",
     "shell.execute_reply": "2022-04-23T19:58:54.047265Z",
     "shell.execute_reply.started": "2022-04-23T19:58:53.771691Z"
    }
   },
   "outputs": [],
   "source": [
    "plt.boxplot(data['school_count'], vert=False)"
   ]
  },
  {
   "cell_type": "code",
   "execution_count": 391,
   "metadata": {
    "execution": {
     "iopub.execute_input": "2022-04-23T19:58:54.049600Z",
     "iopub.status.busy": "2022-04-23T19:58:54.049338Z",
     "iopub.status.idle": "2022-04-23T19:58:54.091346Z",
     "shell.execute_reply": "2022-04-23T19:58:54.090583Z",
     "shell.execute_reply.started": "2022-04-23T19:58:54.049566Z"
    }
   },
   "outputs": [],
   "source": [
    "data[data['school_count']>30]"
   ]
  },
  {
   "cell_type": "code",
   "execution_count": 392,
   "metadata": {
    "execution": {
     "iopub.execute_input": "2022-04-23T19:58:54.093017Z",
     "iopub.status.busy": "2022-04-23T19:58:54.092765Z",
     "iopub.status.idle": "2022-04-23T19:58:54.101647Z",
     "shell.execute_reply": "2022-04-23T19:58:54.100965Z",
     "shell.execute_reply.started": "2022-04-23T19:58:54.092983Z"
    }
   },
   "outputs": [],
   "source": [
    "ind_sc_count = data[data['school_count']>25].index\n",
    "data.loc[ind_sc_count,'school_count'] = 25"
   ]
  },
  {
   "cell_type": "code",
   "execution_count": 393,
   "metadata": {
    "execution": {
     "iopub.execute_input": "2022-04-23T19:58:54.103607Z",
     "iopub.status.busy": "2022-04-23T19:58:54.103296Z",
     "iopub.status.idle": "2022-04-23T19:58:54.520925Z",
     "shell.execute_reply": "2022-04-23T19:58:54.520243Z",
     "shell.execute_reply.started": "2022-04-23T19:58:54.103569Z"
    }
   },
   "outputs": [],
   "source": [
    "plt.boxplot(data['school_count'], vert=False)\n",
    "data['school_count'].hist(bins=100)"
   ]
  },
  {
   "cell_type": "code",
   "execution_count": null,
   "metadata": {},
   "outputs": [],
   "source": []
  },
  {
   "cell_type": "markdown",
   "metadata": {},
   "source": [
    "### Признак 'sqft_beds'"
   ]
  },
  {
   "cell_type": "code",
   "execution_count": 394,
   "metadata": {
    "execution": {
     "iopub.execute_input": "2022-04-23T19:58:54.523574Z",
     "iopub.status.busy": "2022-04-23T19:58:54.522178Z",
     "iopub.status.idle": "2022-04-23T19:58:54.539316Z",
     "shell.execute_reply": "2022-04-23T19:58:54.538477Z",
     "shell.execute_reply.started": "2022-04-23T19:58:54.523533Z"
    }
   },
   "outputs": [],
   "source": [
    "data['sqft_beds'].describe()"
   ]
  },
  {
   "cell_type": "code",
   "execution_count": 395,
   "metadata": {
    "execution": {
     "iopub.execute_input": "2022-04-23T19:58:54.541000Z",
     "iopub.status.busy": "2022-04-23T19:58:54.540669Z",
     "iopub.status.idle": "2022-04-23T19:58:54.727913Z",
     "shell.execute_reply": "2022-04-23T19:58:54.727243Z",
     "shell.execute_reply.started": "2022-04-23T19:58:54.540961Z"
    }
   },
   "outputs": [],
   "source": [
    "plt.boxplot(data['sqft_beds'], vert=False)"
   ]
  },
  {
   "cell_type": "code",
   "execution_count": 396,
   "metadata": {
    "execution": {
     "iopub.execute_input": "2022-04-23T19:58:54.729526Z",
     "iopub.status.busy": "2022-04-23T19:58:54.729257Z",
     "iopub.status.idle": "2022-04-23T19:58:54.770253Z",
     "shell.execute_reply": "2022-04-23T19:58:54.769616Z",
     "shell.execute_reply.started": "2022-04-23T19:58:54.729474Z"
    }
   },
   "outputs": [],
   "source": [
    "data[data['sqft_beds']>0.5e6]"
   ]
  },
  {
   "cell_type": "code",
   "execution_count": 397,
   "metadata": {
    "execution": {
     "iopub.execute_input": "2022-04-23T19:58:54.771920Z",
     "iopub.status.busy": "2022-04-23T19:58:54.771438Z",
     "iopub.status.idle": "2022-04-23T19:58:54.777087Z",
     "shell.execute_reply": "2022-04-23T19:58:54.776444Z",
     "shell.execute_reply.started": "2022-04-23T19:58:54.771883Z"
    }
   },
   "outputs": [],
   "source": [
    "ind_sq_beds = data[data['sqft_beds']>0.5e6].index"
   ]
  },
  {
   "cell_type": "code",
   "execution_count": 398,
   "metadata": {
    "execution": {
     "iopub.execute_input": "2022-04-23T19:58:54.778421Z",
     "iopub.status.busy": "2022-04-23T19:58:54.778166Z",
     "iopub.status.idle": "2022-04-23T19:58:54.786963Z",
     "shell.execute_reply": "2022-04-23T19:58:54.786157Z",
     "shell.execute_reply.started": "2022-04-23T19:58:54.778371Z"
    }
   },
   "outputs": [],
   "source": [
    "# mean = 1.147096e+03\n",
    "data.loc[ind_sq_beds,'sqft_beds'] = 1.147096e+03"
   ]
  },
  {
   "cell_type": "code",
   "execution_count": 399,
   "metadata": {
    "execution": {
     "iopub.execute_input": "2022-04-23T19:58:54.788754Z",
     "iopub.status.busy": "2022-04-23T19:58:54.788479Z",
     "iopub.status.idle": "2022-04-23T19:58:54.973925Z",
     "shell.execute_reply": "2022-04-23T19:58:54.973235Z",
     "shell.execute_reply.started": "2022-04-23T19:58:54.788720Z"
    }
   },
   "outputs": [],
   "source": [
    "plt.boxplot(data['sqft_beds'], vert=False)"
   ]
  },
  {
   "cell_type": "code",
   "execution_count": 400,
   "metadata": {
    "execution": {
     "iopub.execute_input": "2022-04-23T19:58:54.975314Z",
     "iopub.status.busy": "2022-04-23T19:58:54.975068Z",
     "iopub.status.idle": "2022-04-23T19:58:54.995041Z",
     "shell.execute_reply": "2022-04-23T19:58:54.994260Z",
     "shell.execute_reply.started": "2022-04-23T19:58:54.975277Z"
    }
   },
   "outputs": [],
   "source": [
    "data['count_beds'].describe()"
   ]
  },
  {
   "cell_type": "code",
   "execution_count": null,
   "metadata": {},
   "outputs": [],
   "source": []
  },
  {
   "cell_type": "markdown",
   "metadata": {},
   "source": [
    "## Categorical features"
   ]
  },
  {
   "cell_type": "code",
   "execution_count": 401,
   "metadata": {
    "execution": {
     "iopub.execute_input": "2022-04-23T19:58:54.996519Z",
     "iopub.status.busy": "2022-04-23T19:58:54.996188Z",
     "iopub.status.idle": "2022-04-23T19:58:55.018654Z",
     "shell.execute_reply": "2022-04-23T19:58:55.017862Z",
     "shell.execute_reply.started": "2022-04-23T19:58:54.996477Z"
    }
   },
   "outputs": [],
   "source": [
    "df_cat = data.select_dtypes(exclude=[np.number])\n",
    "col_cat = df_cat.columns.values\n",
    "col_cat"
   ]
  },
  {
   "cell_type": "code",
   "execution_count": 402,
   "metadata": {
    "execution": {
     "iopub.execute_input": "2022-04-23T19:58:55.020238Z",
     "iopub.status.busy": "2022-04-23T19:58:55.019934Z",
     "iopub.status.idle": "2022-04-23T19:58:55.024867Z",
     "shell.execute_reply": "2022-04-23T19:58:55.024237Z",
     "shell.execute_reply.started": "2022-04-23T19:58:55.020200Z"
    }
   },
   "outputs": [],
   "source": [
    "# Перекиним два двоичного признака с числовых в категориальные\n",
    "col_cat = col_cat.tolist()\n",
    "\n",
    "col_cat.append('PrivatePool')\n",
    "col_cat.append('Parking')\n",
    "\n",
    "col_num = col_num.tolist()\n",
    "\n",
    "col_num.remove('PrivatePool')\n",
    "col_num.remove('Parking')\n",
    "#col_num"
   ]
  },
  {
   "cell_type": "code",
   "execution_count": 403,
   "metadata": {
    "execution": {
     "iopub.execute_input": "2022-04-23T19:58:55.026957Z",
     "iopub.status.busy": "2022-04-23T19:58:55.026383Z",
     "iopub.status.idle": "2022-04-23T19:58:55.273565Z",
     "shell.execute_reply": "2022-04-23T19:58:55.272875Z",
     "shell.execute_reply.started": "2022-04-23T19:58:55.026920Z"
    }
   },
   "outputs": [],
   "source": [
    "for col in  col_cat:\n",
    "    print(data['target'].groupby(data[col]).sum(), '\\n')"
   ]
  },
  {
   "cell_type": "code",
   "execution_count": 404,
   "metadata": {
    "execution": {
     "iopub.execute_input": "2022-04-23T19:58:55.276253Z",
     "iopub.status.busy": "2022-04-23T19:58:55.276066Z",
     "iopub.status.idle": "2022-04-23T19:58:59.677630Z",
     "shell.execute_reply": "2022-04-23T19:58:59.676889Z",
     "shell.execute_reply.started": "2022-04-23T19:58:55.276229Z"
    }
   },
   "outputs": [],
   "source": [
    "# После  EDA, Data Preprocessing  и Feature Engineering сохраним датасет, \n",
    "#   чтобы не повторять все расчеты с самого начала.\n",
    "data.to_csv('df_after_EDA_DP_FE.csv')"
   ]
  },
  {
   "cell_type": "code",
   "execution_count": 405,
   "metadata": {
    "execution": {
     "iopub.execute_input": "2022-04-23T19:58:59.679189Z",
     "iopub.status.busy": "2022-04-23T19:58:59.678937Z",
     "iopub.status.idle": "2022-04-23T19:58:59.684103Z",
     "shell.execute_reply": "2022-04-23T19:58:59.683457Z",
     "shell.execute_reply.started": "2022-04-23T19:58:59.679157Z"
    }
   },
   "outputs": [],
   "source": [
    "df.shape"
   ]
  },
  {
   "cell_type": "code",
   "execution_count": 406,
   "metadata": {
    "execution": {
     "iopub.execute_input": "2022-04-23T19:58:59.685922Z",
     "iopub.status.busy": "2022-04-23T19:58:59.685451Z",
     "iopub.status.idle": "2022-04-23T19:59:00.577234Z",
     "shell.execute_reply": "2022-04-23T19:59:00.576460Z",
     "shell.execute_reply.started": "2022-04-23T19:58:59.685832Z"
    }
   },
   "outputs": [],
   "source": [
    "# Загрузим  датасет для использования в модельных расчетах, и сохраним для потоковых расчетах (PipeLine)\n",
    "df = pd.read_csv('df_after_EDA_DP_FE.csv')"
   ]
  },
  {
   "cell_type": "code",
   "execution_count": 407,
   "metadata": {
    "execution": {
     "iopub.execute_input": "2022-04-23T19:59:00.578821Z",
     "iopub.status.busy": "2022-04-23T19:59:00.578591Z",
     "iopub.status.idle": "2022-04-23T19:59:00.602912Z",
     "shell.execute_reply": "2022-04-23T19:59:00.602211Z",
     "shell.execute_reply.started": "2022-04-23T19:59:00.578790Z"
    }
   },
   "outputs": [],
   "source": [
    "# Для дальнейщих расчетов используем DataFrame 'data'\n",
    "data = df.copy()"
   ]
  },
  {
   "cell_type": "markdown",
   "metadata": {},
   "source": [
    "## Подготовка к расчетам "
   ]
  },
  {
   "cell_type": "raw",
   "metadata": {},
   "source": [
    "### Преобразование категориальных признаков"
   ]
  },
  {
   "cell_type": "code",
   "execution_count": 408,
   "metadata": {
    "execution": {
     "iopub.execute_input": "2022-04-23T19:59:00.604744Z",
     "iopub.status.busy": "2022-04-23T19:59:00.604293Z",
     "iopub.status.idle": "2022-04-23T19:59:02.691055Z",
     "shell.execute_reply": "2022-04-23T19:59:02.690323Z",
     "shell.execute_reply.started": "2022-04-23T19:59:00.604702Z"
    }
   },
   "outputs": [],
   "source": [
    "# Создание dummies feature\n",
    "data = pd.concat([data, pd.get_dummies(data[col_cat])], axis=1)\n",
    "data.drop(col_cat, axis=1, inplace=True)"
   ]
  },
  {
   "cell_type": "code",
   "execution_count": null,
   "metadata": {},
   "outputs": [],
   "source": []
  },
  {
   "cell_type": "code",
   "execution_count": 409,
   "metadata": {
    "execution": {
     "iopub.execute_input": "2022-04-23T19:59:02.692855Z",
     "iopub.status.busy": "2022-04-23T19:59:02.692448Z",
     "iopub.status.idle": "2022-04-23T19:59:02.699439Z",
     "shell.execute_reply": "2022-04-23T19:59:02.698549Z",
     "shell.execute_reply.started": "2022-04-23T19:59:02.692817Z"
    }
   },
   "outputs": [],
   "source": [
    "data.columns"
   ]
  },
  {
   "cell_type": "code",
   "execution_count": 410,
   "metadata": {
    "execution": {
     "iopub.execute_input": "2022-04-23T19:59:02.701021Z",
     "iopub.status.busy": "2022-04-23T19:59:02.700711Z",
     "iopub.status.idle": "2022-04-23T19:59:02.708987Z",
     "shell.execute_reply": "2022-04-23T19:59:02.708294Z",
     "shell.execute_reply.started": "2022-04-23T19:59:02.700986Z"
    }
   },
   "outputs": [],
   "source": [
    "data.shape"
   ]
  },
  {
   "cell_type": "code",
   "execution_count": 411,
   "metadata": {
    "execution": {
     "iopub.execute_input": "2022-04-23T19:59:02.710834Z",
     "iopub.status.busy": "2022-04-23T19:59:02.710355Z",
     "iopub.status.idle": "2022-04-23T19:59:04.851042Z",
     "shell.execute_reply": "2022-04-23T19:59:04.850283Z",
     "shell.execute_reply.started": "2022-04-23T19:59:02.710798Z"
    }
   },
   "outputs": [],
   "source": [
    "from sklearn.model_selection import train_test_split\n",
    "\n",
    "x_train, x_test, y_train, y_test = train_test_split(data.drop('target', axis=1), data['target'], test_size=0.2, random_state=0)\n",
    "x_train.shape, y_train.shape, x_test.shape, y_test.shape"
   ]
  },
  {
   "cell_type": "code",
   "execution_count": 412,
   "metadata": {
    "execution": {
     "iopub.execute_input": "2022-04-23T19:59:04.852654Z",
     "iopub.status.busy": "2022-04-23T19:59:04.852385Z",
     "iopub.status.idle": "2022-04-23T19:59:05.043314Z",
     "shell.execute_reply": "2022-04-23T19:59:05.042644Z",
     "shell.execute_reply.started": "2022-04-23T19:59:04.852619Z"
    }
   },
   "outputs": [],
   "source": [
    "from sklearn.linear_model import LinearRegression, BayesianRidge\n",
    "from sklearn.linear_model import SGDRegressor\n",
    "from sklearn.gaussian_process import GaussianProcessRegressor\n",
    "from sklearn.tree import DecisionTreeRegressor\n",
    "from sklearn.neighbors import KNeighborsRegressor\n",
    "from sklearn.svm import SVR\n",
    "from sklearn.experimental import enable_hist_gradient_boosting\n",
    "from sklearn.ensemble import RandomForestRegressor\n",
    "from sklearn.ensemble import ExtraTreesRegressor\n",
    "from sklearn.ensemble import AdaBoostRegressor\n",
    "from sklearn.ensemble import GradientBoostingRegressor\n",
    "from sklearn.ensemble import StackingRegressor\n",
    "from sklearn.ensemble import VotingRegressor\n",
    "from sklearn.ensemble import HistGradientBoostingRegressor\n",
    "from sklearn.ensemble import BaggingRegressor\n",
    "import sklearn.metrics\n",
    "from sklearn.metrics import   explained_variance_score, max_error, mean_absolute_error, mean_squared_error, mean_squared_log_error,  median_absolute_error, r2_score "
   ]
  },
  {
   "cell_type": "markdown",
   "metadata": {},
   "source": [
    "Сделаем функции, которые будут показывать качество моделей в разрезе различных типов метрик"
   ]
  },
  {
   "cell_type": "code",
   "execution_count": 413,
   "metadata": {
    "execution": {
     "iopub.execute_input": "2022-04-23T19:59:05.044841Z",
     "iopub.status.busy": "2022-04-23T19:59:05.044566Z",
     "iopub.status.idle": "2022-04-23T19:59:05.052853Z",
     "shell.execute_reply": "2022-04-23T19:59:05.052177Z",
     "shell.execute_reply.started": "2022-04-23T19:59:05.044806Z"
    }
   },
   "outputs": [],
   "source": [
    "# С делением на 1% для определния отклонения в процентах \n",
    "def evaluate(clf, x_train, y_train, x_test, y_test, mode='all'):\n",
    "    own_predict = clf.predict(x_train)\n",
    "    \n",
    "    # Дома не имеют отрицательных цен. \n",
    "    own_predict = np.where(own_predict < 1, 1, own_predict)\n",
    "    \n",
    "    # Найдем значение эквивалентное 1% в денежном выражении\n",
    "    one_percent = (y_train.max() - y_train.min())/100\n",
    "    \n",
    "    predict = clf.predict(x_test)\n",
    "    predict = np.where(predict < 1, 1, predict)\n",
    "    print('\\n')\n",
    "    print(f'''\\t\\t\\t\\town evaluate \\t\\t\\tevaluate on test\n",
    "Explained variance score:\\t{explained_variance_score(y_train, own_predict)}\\t\\t{explained_variance_score(y_test, predict)}\\n\n",
    "Max error:\\t\\t\\t{max_error(y_train, own_predict)/one_percent}\\t\\t{max_error(y_test, predict)/one_percent}\\n\n",
    "Mean absolute error:\\t\\t{mean_absolute_error(y_train, own_predict)/one_percent}\\t\\t{mean_absolute_error(y_test, predict)/one_percent}\\n\n",
    "Mean squared error:\\t\\t{mean_squared_error(y_train, own_predict)/(one_percent**2)}\\t\\t{mean_squared_error(y_test, predict)/(one_percent**2)}\\n\n",
    "Mean squared log error:\\t\\t{mean_squared_log_error(y_train, own_predict)}\\t\\t{mean_squared_log_error(y_test, predict)}\\n\n",
    "Median absolute error:\\t\\t{median_absolute_error(y_train, own_predict)/one_percent}\\t\\t{median_absolute_error(y_test, predict)/one_percent}\\n\n",
    "R^2 score:\\t\\t\\t{r2_score(y_train, own_predict)}\\t\\t{r2_score(y_test, predict)}''')"
   ]
  },
  {
   "cell_type": "code",
   "execution_count": 414,
   "metadata": {
    "execution": {
     "iopub.execute_input": "2022-04-23T19:59:05.054823Z",
     "iopub.status.busy": "2022-04-23T19:59:05.054307Z",
     "iopub.status.idle": "2022-04-23T19:59:05.065640Z",
     "shell.execute_reply": "2022-04-23T19:59:05.064867Z",
     "shell.execute_reply.started": "2022-04-23T19:59:05.054788Z"
    }
   },
   "outputs": [],
   "source": [
    "# Метрика реальная\n",
    "def evaluate_real_metric(clf, x_train, y_train, x_test, y_test, mode='all'):\n",
    "    own_predict = clf.predict(x_train)\n",
    "    # Дома не имеют отрицательных цен\n",
    "    own_predict = np.where(own_predict < 1, 1, own_predict)\n",
    "    predict = clf.predict(x_test)\n",
    "    predict = np.where(predict < 1, 1, predict)\n",
    "    print('\\n')\n",
    "    print(f'''\\t\\t\\t\\town evaluate \\t\\t\\tevaluate on test\n",
    "Explained variance score:\\t{explained_variance_score(y_train, own_predict)}\\t\\t{explained_variance_score(y_test, predict)}\\n\n",
    "Max error:\\t\\t\\t{max_error(y_train, own_predict)}\\t\\t{max_error(y_test, predict)}\\n\n",
    "Mean absolute error:\\t\\t{mean_absolute_error(y_train, own_predict)}\\t\\t{mean_absolute_error(y_test, predict)}\\n\n",
    "Mean squared error:\\t\\t{mean_squared_error(y_train, own_predict)}\\t\\t{mean_squared_error(y_test, predict)}\\n\n",
    "Mean squared log error:\\t\\t{mean_squared_log_error(y_train, own_predict)}\\t\\t{mean_squared_log_error(y_test, predict)}\\n\n",
    "Median absolute error:\\t\\t{median_absolute_error(y_train, own_predict)}\\t\\t{median_absolute_error(y_test, predict)}\\n\n",
    "R^2 score:\\t\\t\\t{r2_score(y_train, own_predict)}\\t\\t{r2_score(y_test, predict)}''')"
   ]
  },
  {
   "cell_type": "code",
   "execution_count": null,
   "metadata": {},
   "outputs": [],
   "source": []
  },
  {
   "cell_type": "markdown",
   "metadata": {},
   "source": [
    "## Модели"
   ]
  },
  {
   "cell_type": "markdown",
   "metadata": {},
   "source": [
    "### Без преобразования числовых признаков"
   ]
  },
  {
   "cell_type": "code",
   "execution_count": 415,
   "metadata": {
    "execution": {
     "iopub.execute_input": "2022-04-23T19:59:05.067601Z",
     "iopub.status.busy": "2022-04-23T19:59:05.067027Z",
     "iopub.status.idle": "2022-04-23T19:59:24.268631Z",
     "shell.execute_reply": "2022-04-23T19:59:24.267752Z",
     "shell.execute_reply.started": "2022-04-23T19:59:05.067567Z"
    }
   },
   "outputs": [],
   "source": [
    "my_lr = LinearRegression()\n",
    "my_lr.fit(x_train, y_train)"
   ]
  },
  {
   "cell_type": "code",
   "execution_count": 416,
   "metadata": {
    "execution": {
     "iopub.execute_input": "2022-04-23T19:59:24.273556Z",
     "iopub.status.busy": "2022-04-23T19:59:24.272943Z",
     "iopub.status.idle": "2022-04-23T19:59:25.180006Z",
     "shell.execute_reply": "2022-04-23T19:59:25.179282Z",
     "shell.execute_reply.started": "2022-04-23T19:59:24.273513Z"
    }
   },
   "outputs": [],
   "source": [
    "evaluate(my_lr, x_train, y_train, x_test, y_test)"
   ]
  },
  {
   "cell_type": "code",
   "execution_count": 417,
   "metadata": {
    "execution": {
     "iopub.execute_input": "2022-04-23T19:59:25.182111Z",
     "iopub.status.busy": "2022-04-23T19:59:25.181088Z",
     "iopub.status.idle": "2022-04-23T19:59:26.078327Z",
     "shell.execute_reply": "2022-04-23T19:59:26.075823Z",
     "shell.execute_reply.started": "2022-04-23T19:59:25.182072Z"
    }
   },
   "outputs": [],
   "source": [
    "# Запускаем модель с функцией без деление на процент, evaluate_real_metric()\n",
    "evaluate_real_metric(my_lr, x_train, y_train, x_test, y_test)"
   ]
  },
  {
   "cell_type": "code",
   "execution_count": null,
   "metadata": {},
   "outputs": [],
   "source": []
  },
  {
   "cell_type": "markdown",
   "metadata": {},
   "source": [
    "### Расчеты с масштабирование и стандартизация числовых переменных. Используем PipeLine"
   ]
  },
  {
   "cell_type": "code",
   "execution_count": 418,
   "metadata": {
    "execution": {
     "iopub.execute_input": "2022-04-23T19:59:26.079886Z",
     "iopub.status.busy": "2022-04-23T19:59:26.079561Z",
     "iopub.status.idle": "2022-04-23T19:59:26.092755Z",
     "shell.execute_reply": "2022-04-23T19:59:26.092012Z",
     "shell.execute_reply.started": "2022-04-23T19:59:26.079850Z"
    }
   },
   "outputs": [],
   "source": [
    "from sklearn.pipeline import Pipeline\n",
    "from sklearn.preprocessing import StandardScaler, FunctionTransformer, OneHotEncoder\n",
    "from sklearn.pipeline import FeatureUnion"
   ]
  },
  {
   "cell_type": "code",
   "execution_count": 419,
   "metadata": {
    "execution": {
     "iopub.execute_input": "2022-04-23T19:59:26.097322Z",
     "iopub.status.busy": "2022-04-23T19:59:26.096825Z",
     "iopub.status.idle": "2022-04-23T19:59:26.113141Z",
     "shell.execute_reply": "2022-04-23T19:59:26.112452Z",
     "shell.execute_reply.started": "2022-04-23T19:59:26.097288Z"
    }
   },
   "outputs": [],
   "source": [
    "df.shape"
   ]
  },
  {
   "cell_type": "code",
   "execution_count": 420,
   "metadata": {
    "execution": {
     "iopub.execute_input": "2022-04-23T19:59:26.118685Z",
     "iopub.status.busy": "2022-04-23T19:59:26.117078Z",
     "iopub.status.idle": "2022-04-23T19:59:26.277167Z",
     "shell.execute_reply": "2022-04-23T19:59:26.276472Z",
     "shell.execute_reply.started": "2022-04-23T19:59:26.118640Z"
    }
   },
   "outputs": [],
   "source": [
    "x_train, x_test, y_train, y_test = train_test_split(df.drop('target', axis=1), df['target'], test_size=0.2, random_state=0)\n",
    "x_train.shape, y_train.shape, x_test.shape, y_test.shape"
   ]
  },
  {
   "cell_type": "code",
   "execution_count": 421,
   "metadata": {
    "execution": {
     "iopub.execute_input": "2022-04-23T19:59:26.279549Z",
     "iopub.status.busy": "2022-04-23T19:59:26.279084Z",
     "iopub.status.idle": "2022-04-23T19:59:26.283494Z",
     "shell.execute_reply": "2022-04-23T19:59:26.282804Z",
     "shell.execute_reply.started": "2022-04-23T19:59:26.279511Z"
    }
   },
   "outputs": [],
   "source": [
    "col_num.remove('target')"
   ]
  },
  {
   "cell_type": "code",
   "execution_count": 422,
   "metadata": {
    "execution": {
     "iopub.execute_input": "2022-04-23T19:59:26.285586Z",
     "iopub.status.busy": "2022-04-23T19:59:26.284925Z",
     "iopub.status.idle": "2022-04-23T19:59:26.294520Z",
     "shell.execute_reply": "2022-04-23T19:59:26.293808Z",
     "shell.execute_reply.started": "2022-04-23T19:59:26.285546Z"
    }
   },
   "outputs": [],
   "source": [
    "# Объявляем scaler и OneHotEncoder() для числовых и категориальных переменных соответственно\n",
    "scaler = StandardScaler() \n",
    "ohe = OneHotEncoder(sparse=False, handle_unknown='ignore')\n",
    "\n",
    "# Делаем pipeline для числовых переменных датасета\n",
    "numerical_selector = FunctionTransformer(lambda data: data[col_num], validate=False)\n",
    "numerical_preprocessor = Pipeline([(\"numerical_selector\", numerical_selector), (\"scaling\", scaler)])\n",
    "\n",
    "# Делаем pipeline для категориальных переменных датасета\n",
    "dummy_selector = FunctionTransformer(lambda data: data[col_cat], validate=False)\n",
    "dummy_preprocessor = Pipeline([(\"dummy_selector\", dummy_selector), (\"ohe\", ohe)])\n",
    "\n",
    "# Объединяем созданные выше pipeline в один с помощью функции FeatureUnion \n",
    "#  и затем записываем итоговый pipeline на примере линейной регрессии\n",
    "feature_union = FeatureUnion([(\"numerical_preprocessor\", numerical_preprocessor),\n",
    "                    (\"dummy_preprocessor\", dummy_preprocessor)])\n",
    "\n",
    "pipeline = Pipeline([(\"preprocessing\", feature_union), ('lin_reg', LinearRegression())])"
   ]
  },
  {
   "cell_type": "code",
   "execution_count": 423,
   "metadata": {
    "execution": {
     "iopub.execute_input": "2022-04-23T19:59:26.298108Z",
     "iopub.status.busy": "2022-04-23T19:59:26.297364Z",
     "iopub.status.idle": "2022-04-23T19:59:53.109550Z",
     "shell.execute_reply": "2022-04-23T19:59:53.108815Z",
     "shell.execute_reply.started": "2022-04-23T19:59:26.298082Z"
    }
   },
   "outputs": [],
   "source": [
    "# Обучение модели\n",
    "pipeline.fit(x_train,y_train)\n",
    "evaluate(pipeline, x_train, y_train, x_test, y_test)"
   ]
  },
  {
   "cell_type": "code",
   "execution_count": 424,
   "metadata": {
    "execution": {
     "iopub.execute_input": "2022-04-23T19:59:53.111271Z",
     "iopub.status.busy": "2022-04-23T19:59:53.110624Z",
     "iopub.status.idle": "2022-04-23T19:59:57.089354Z",
     "shell.execute_reply": "2022-04-23T19:59:57.086807Z",
     "shell.execute_reply.started": "2022-04-23T19:59:53.111234Z"
    }
   },
   "outputs": [],
   "source": [
    "evaluate_real_metric(pipeline, x_train, y_train, x_test, y_test)"
   ]
  },
  {
   "cell_type": "markdown",
   "metadata": {},
   "source": [
    "#### Скалирование входных данных приводит лишь к ухудшению результата для данной задач"
   ]
  },
  {
   "cell_type": "code",
   "execution_count": null,
   "metadata": {},
   "outputs": [],
   "source": []
  },
  {
   "cell_type": "markdown",
   "metadata": {},
   "source": [
    "### Выбираем лучшие признаки (feature selection)"
   ]
  },
  {
   "cell_type": "code",
   "execution_count": 425,
   "metadata": {
    "execution": {
     "iopub.execute_input": "2022-04-23T19:59:57.091295Z",
     "iopub.status.busy": "2022-04-23T19:59:57.090881Z",
     "iopub.status.idle": "2022-04-23T19:59:59.158012Z",
     "shell.execute_reply": "2022-04-23T19:59:59.157265Z",
     "shell.execute_reply.started": "2022-04-23T19:59:57.091253Z"
    }
   },
   "outputs": [],
   "source": [
    "x_train, x_test, y_train, y_test = train_test_split(data.drop('target', axis=1), data['target'], test_size=0.2, random_state=0)\n",
    "x_train.shape, y_train.shape, x_test.shape, y_test.shape"
   ]
  },
  {
   "cell_type": "code",
   "execution_count": 426,
   "metadata": {
    "execution": {
     "iopub.execute_input": "2022-04-23T19:59:59.159558Z",
     "iopub.status.busy": "2022-04-23T19:59:59.159268Z",
     "iopub.status.idle": "2022-04-23T19:59:59.172910Z",
     "shell.execute_reply": "2022-04-23T19:59:59.172200Z",
     "shell.execute_reply.started": "2022-04-23T19:59:59.159517Z"
    }
   },
   "outputs": [],
   "source": [
    "# функция для отбора К лучших признаков по их статистической близости к целевой переменной\n",
    "from sklearn.feature_selection import SelectKBest\n",
    "from sklearn.feature_selection import f_regression # числовые признаки и числовой выходной признак\n",
    "from sklearn.feature_selection import SelectFromModel\n",
    "from sklearn.ensemble import ExtraTreesClassifier"
   ]
  },
  {
   "cell_type": "code",
   "execution_count": 427,
   "metadata": {
    "execution": {
     "iopub.execute_input": "2022-04-23T19:59:59.174549Z",
     "iopub.status.busy": "2022-04-23T19:59:59.174132Z",
     "iopub.status.idle": "2022-04-23T20:00:00.170810Z",
     "shell.execute_reply": "2022-04-23T20:00:00.170115Z",
     "shell.execute_reply.started": "2022-04-23T19:59:59.174512Z"
    }
   },
   "outputs": [],
   "source": [
    "# Методы, основанные на F-тесте, оценивают степень линейной зависимости \n",
    "# между двумя случайными величинами.  извлекаем лучшие 100 признаков.\n",
    "bestfeatures = SelectKBest(score_func=f_regression, k=100)\n",
    "fit = bestfeatures.fit(x_train,y_train)\n",
    "# Создаем набор данных признаков с их весом и выбираем 100 лучших\n",
    "featureScores =  pd.DataFrame({'Features':x_train.columns, 'Score': fit.scores_})\n",
    "print(featureScores.nlargest(100,'Score'))"
   ]
  },
  {
   "cell_type": "code",
   "execution_count": 428,
   "metadata": {
    "execution": {
     "iopub.execute_input": "2022-04-23T20:00:00.172712Z",
     "iopub.status.busy": "2022-04-23T20:00:00.172228Z",
     "iopub.status.idle": "2022-04-23T20:00:00.214845Z",
     "shell.execute_reply": "2022-04-23T20:00:00.213966Z",
     "shell.execute_reply.started": "2022-04-23T20:00:00.172675Z"
    }
   },
   "outputs": [],
   "source": [
    "# Пробуем с разным количеством признаков. Сначало выберем 100 признаков.\n",
    "x_train_100 = x_train[featureScores.nlargest(100,'Score').Features.values]\n",
    "x_test_100 = x_test[featureScores.nlargest(100,'Score').Features.values]"
   ]
  },
  {
   "cell_type": "markdown",
   "metadata": {},
   "source": [
    "#### Эксперименты с линейной регрессией"
   ]
  },
  {
   "cell_type": "code",
   "execution_count": 429,
   "metadata": {
    "execution": {
     "iopub.execute_input": "2022-04-23T20:00:00.222684Z",
     "iopub.status.busy": "2022-04-23T20:00:00.220383Z",
     "iopub.status.idle": "2022-04-23T20:00:04.308674Z",
     "shell.execute_reply": "2022-04-23T20:00:04.306549Z",
     "shell.execute_reply.started": "2022-04-23T20:00:00.222637Z"
    }
   },
   "outputs": [],
   "source": [
    "my_lr_100 = LinearRegression()\n",
    "my_lr_100.fit(x_train_100, y_train)\n",
    "evaluate(my_lr, x_train, y_train, x_test, y_test)\n",
    "evaluate(my_lr_100, x_train_100, y_train, x_test_100, y_test)"
   ]
  },
  {
   "cell_type": "code",
   "execution_count": null,
   "metadata": {},
   "outputs": [],
   "source": []
  },
  {
   "cell_type": "code",
   "execution_count": 430,
   "metadata": {
    "execution": {
     "iopub.execute_input": "2022-04-23T20:00:04.310140Z",
     "iopub.status.busy": "2022-04-23T20:00:04.309890Z",
     "iopub.status.idle": "2022-04-23T20:00:05.482920Z",
     "shell.execute_reply": "2022-04-23T20:00:05.480444Z",
     "shell.execute_reply.started": "2022-04-23T20:00:04.310105Z"
    }
   },
   "outputs": [],
   "source": [
    "x_train_20 = x_train[featureScores.nlargest(20,'Score').Features.values]\n",
    "x_test_20 = x_test[featureScores.nlargest(20,'Score').Features.values]\n",
    "my_lr_20 = LinearRegression()\n",
    "my_lr_20.fit(x_train_20, y_train)\n",
    "evaluate(my_lr, x_train, y_train, x_test, y_test)\n",
    "evaluate(my_lr_20, x_train_20, y_train, x_test_20, y_test)"
   ]
  },
  {
   "cell_type": "code",
   "execution_count": 431,
   "metadata": {
    "execution": {
     "iopub.execute_input": "2022-04-23T20:00:05.484484Z",
     "iopub.status.busy": "2022-04-23T20:00:05.484138Z",
     "iopub.status.idle": "2022-04-23T20:00:06.448949Z",
     "shell.execute_reply": "2022-04-23T20:00:06.446513Z",
     "shell.execute_reply.started": "2022-04-23T20:00:05.484447Z"
    }
   },
   "outputs": [],
   "source": [
    "evaluate_real_metric(my_lr, x_train, y_train, x_test, y_test)\n",
    "evaluate_real_metric(my_lr_20, x_train_20, y_train, x_test_20, y_test)"
   ]
  },
  {
   "cell_type": "code",
   "execution_count": null,
   "metadata": {},
   "outputs": [],
   "source": []
  },
  {
   "cell_type": "code",
   "execution_count": 447,
   "metadata": {
    "execution": {
     "iopub.execute_input": "2022-04-23T20:45:13.978219Z",
     "iopub.status.busy": "2022-04-23T20:45:13.977544Z",
     "iopub.status.idle": "2022-04-23T20:45:14.965421Z",
     "shell.execute_reply": "2022-04-23T20:45:14.964621Z",
     "shell.execute_reply.started": "2022-04-23T20:45:13.978178Z"
    }
   },
   "outputs": [],
   "source": [
    "x_train_10 = x_train[featureScores.nlargest(10,'Score').Features.values]\n",
    "x_test_10 = x_test[featureScores.nlargest(10,'Score').Features.values]\n",
    "my_lr_10 = LinearRegression()\n",
    "my_lr_10.fit(x_train_10, y_train)\n",
    "evaluate(my_lr, x_train, y_train, x_test, y_test)\n",
    "evaluate(my_lr_10, x_train_10, y_train, x_test_10, y_test)"
   ]
  },
  {
   "cell_type": "code",
   "execution_count": 449,
   "metadata": {
    "execution": {
     "iopub.execute_input": "2022-04-23T20:46:24.270033Z",
     "iopub.status.busy": "2022-04-23T20:46:24.269773Z",
     "iopub.status.idle": "2022-04-23T20:46:25.165921Z",
     "shell.execute_reply": "2022-04-23T20:46:25.164435Z",
     "shell.execute_reply.started": "2022-04-23T20:46:24.270004Z"
    }
   },
   "outputs": [],
   "source": [
    "evaluate_real_metric(my_lr, x_train, y_train, x_test, y_test)\n",
    "evaluate_real_metric(my_lr_10, x_train_10, y_train, x_test_10, y_test)"
   ]
  },
  {
   "cell_type": "code",
   "execution_count": null,
   "metadata": {},
   "outputs": [],
   "source": []
  },
  {
   "cell_type": "code",
   "execution_count": 432,
   "metadata": {
    "execution": {
     "iopub.execute_input": "2022-04-23T20:00:06.450368Z",
     "iopub.status.busy": "2022-04-23T20:00:06.450124Z",
     "iopub.status.idle": "2022-04-23T20:00:35.901639Z",
     "shell.execute_reply": "2022-04-23T20:00:35.900857Z",
     "shell.execute_reply.started": "2022-04-23T20:00:06.450333Z"
    }
   },
   "outputs": [],
   "source": [
    "dtr = DecisionTreeRegressor()\n",
    "dtr.fit(x_train, y_train)\n",
    "dtr_20 = DecisionTreeRegressor()\n",
    "dtr_20.fit(x_train_20, y_train)\n",
    "evaluate(dtr, x_train, y_train, x_test, y_test)\n",
    "evaluate(dtr_20, x_train_20, y_train, x_test_20, y_test)"
   ]
  },
  {
   "cell_type": "code",
   "execution_count": 433,
   "metadata": {
    "execution": {
     "iopub.execute_input": "2022-04-23T20:00:35.903345Z",
     "iopub.status.busy": "2022-04-23T20:00:35.902949Z",
     "iopub.status.idle": "2022-04-23T20:00:37.364092Z",
     "shell.execute_reply": "2022-04-23T20:00:37.363251Z",
     "shell.execute_reply.started": "2022-04-23T20:00:35.903308Z"
    }
   },
   "outputs": [],
   "source": [
    "evaluate_real_metric(dtr, x_train, y_train, x_test, y_test)\n",
    "evaluate_real_metric(dtr_20, x_train_20, y_train, x_test_20, y_test)"
   ]
  },
  {
   "cell_type": "code",
   "execution_count": null,
   "metadata": {},
   "outputs": [],
   "source": []
  },
  {
   "cell_type": "markdown",
   "metadata": {},
   "source": [
    "Расчеты с выделенными лучшими признаками"
   ]
  },
  {
   "cell_type": "code",
   "execution_count": 434,
   "metadata": {
    "execution": {
     "iopub.execute_input": "2022-04-23T20:00:37.365962Z",
     "iopub.status.busy": "2022-04-23T20:00:37.365461Z",
     "iopub.status.idle": "2022-04-23T20:08:36.132523Z",
     "shell.execute_reply": "2022-04-23T20:08:36.131705Z",
     "shell.execute_reply.started": "2022-04-23T20:00:37.365917Z"
    }
   },
   "outputs": [],
   "source": [
    "SGDR = SGDRegressor()\n",
    "SGDR.fit(x_train, y_train)\n",
    "SGDR_20 = SGDRegressor()\n",
    "SGDR_20.fit(x_train_20, y_train)\n",
    "evaluate(SGDR, x_train, y_train, x_test, y_test)\n",
    "evaluate(SGDR_20, x_train_20, y_train, x_test_20, y_test)"
   ]
  },
  {
   "cell_type": "code",
   "execution_count": 435,
   "metadata": {
    "execution": {
     "iopub.execute_input": "2022-04-23T20:08:36.139681Z",
     "iopub.status.busy": "2022-04-23T20:08:36.137333Z",
     "iopub.status.idle": "2022-04-23T20:08:37.113843Z",
     "shell.execute_reply": "2022-04-23T20:08:37.112913Z",
     "shell.execute_reply.started": "2022-04-23T20:08:36.139634Z"
    }
   },
   "outputs": [],
   "source": [
    "evaluate_real_metric(SGDR, x_train, y_train, x_test, y_test)\n",
    "evaluate_real_metric(SGDR_20, x_train_20, y_train, x_test_20, y_test)"
   ]
  },
  {
   "cell_type": "code",
   "execution_count": null,
   "metadata": {},
   "outputs": [],
   "source": []
  },
  {
   "cell_type": "code",
   "execution_count": 436,
   "metadata": {
    "execution": {
     "iopub.execute_input": "2022-04-23T20:08:37.115304Z",
     "iopub.status.busy": "2022-04-23T20:08:37.115055Z",
     "iopub.status.idle": "2022-04-23T20:14:34.518994Z",
     "shell.execute_reply": "2022-04-23T20:14:34.518257Z",
     "shell.execute_reply.started": "2022-04-23T20:08:37.115270Z"
    }
   },
   "outputs": [],
   "source": [
    "# Теория рекомендует при n-samples>10000 использовать модель HistGradientBoostingRegressor\n",
    "GBR = GradientBoostingRegressor()\n",
    "GBR.fit(x_train, y_train)\n",
    "GBR_20 = GradientBoostingRegressor()\n",
    "GBR_20.fit(x_train_20, y_train)\n",
    "evaluate(GBR, x_train, y_train, x_test, y_test)\n",
    "evaluate(GBR_20, x_train_20, y_train, x_test_20, y_test)"
   ]
  },
  {
   "cell_type": "code",
   "execution_count": 437,
   "metadata": {
    "execution": {
     "iopub.execute_input": "2022-04-23T20:14:34.520654Z",
     "iopub.status.busy": "2022-04-23T20:14:34.520282Z",
     "iopub.status.idle": "2022-04-23T20:14:37.748694Z",
     "shell.execute_reply": "2022-04-23T20:14:37.747400Z",
     "shell.execute_reply.started": "2022-04-23T20:14:34.520616Z"
    }
   },
   "outputs": [],
   "source": [
    "evaluate_real_metric(GBR, x_train, y_train, x_test, y_test)\n",
    "evaluate_real_metric(GBR_20, x_train_20, y_train, x_test_20, y_test)"
   ]
  },
  {
   "cell_type": "code",
   "execution_count": null,
   "metadata": {},
   "outputs": [],
   "source": []
  },
  {
   "cell_type": "code",
   "execution_count": null,
   "metadata": {},
   "outputs": [],
   "source": []
  },
  {
   "cell_type": "code",
   "execution_count": 438,
   "metadata": {
    "execution": {
     "iopub.execute_input": "2022-04-23T20:14:37.750302Z",
     "iopub.status.busy": "2022-04-23T20:14:37.750048Z",
     "iopub.status.idle": "2022-04-23T20:15:53.143422Z",
     "shell.execute_reply": "2022-04-23T20:15:53.142834Z",
     "shell.execute_reply.started": "2022-04-23T20:14:37.750268Z"
    }
   },
   "outputs": [],
   "source": [
    "HGBR = HistGradientBoostingRegressor()\n",
    "HGBR.fit(x_train, y_train)\n",
    "HGBR_20 = HistGradientBoostingRegressor()\n",
    "HGBR_20.fit(x_train_20, y_train)\n",
    "evaluate(HGBR, x_train, y_train, x_test, y_test)\n",
    "evaluate(HGBR_20, x_train_20, y_train, x_test_20, y_test)"
   ]
  },
  {
   "cell_type": "code",
   "execution_count": 439,
   "metadata": {
    "execution": {
     "iopub.execute_input": "2022-04-23T20:15:53.148069Z",
     "iopub.status.busy": "2022-04-23T20:15:53.146439Z",
     "iopub.status.idle": "2022-04-23T20:15:55.724360Z",
     "shell.execute_reply": "2022-04-23T20:15:55.723773Z",
     "shell.execute_reply.started": "2022-04-23T20:15:53.148037Z"
    }
   },
   "outputs": [],
   "source": [
    "evaluate_real_metric(HGBR, x_train, y_train, x_test, y_test)\n",
    "evaluate_real_metric(HGBR_20, x_train_20, y_train, x_test_20, y_test)"
   ]
  },
  {
   "cell_type": "code",
   "execution_count": null,
   "metadata": {},
   "outputs": [],
   "source": []
  },
  {
   "cell_type": "code",
   "execution_count": 440,
   "metadata": {
    "execution": {
     "iopub.execute_input": "2022-04-23T20:15:55.729208Z",
     "iopub.status.busy": "2022-04-23T20:15:55.727464Z",
     "iopub.status.idle": "2022-04-23T20:24:54.438885Z",
     "shell.execute_reply": "2022-04-23T20:24:54.438204Z",
     "shell.execute_reply.started": "2022-04-23T20:15:55.729173Z"
    }
   },
   "outputs": [],
   "source": [
    "ABR = AdaBoostRegressor()\n",
    "ABR.fit(x_train, y_train)\n",
    "ABR_20 = AdaBoostRegressor()\n",
    "ABR_20.fit(x_train_20, y_train)\n",
    "evaluate(ABR, x_train, y_train, x_test, y_test)\n",
    "evaluate(ABR_20, x_train_20, y_train, x_test_20, y_test)"
   ]
  },
  {
   "cell_type": "code",
   "execution_count": 441,
   "metadata": {
    "execution": {
     "iopub.execute_input": "2022-04-23T20:24:54.444550Z",
     "iopub.status.busy": "2022-04-23T20:24:54.442669Z",
     "iopub.status.idle": "2022-04-23T20:25:17.087934Z",
     "shell.execute_reply": "2022-04-23T20:25:17.087193Z",
     "shell.execute_reply.started": "2022-04-23T20:24:54.444513Z"
    }
   },
   "outputs": [],
   "source": [
    "evaluate_real_metric(ABR, x_train, y_train, x_test, y_test)\n",
    "evaluate_real_metric(ABR_20, x_train_20, y_train, x_test_20, y_test)"
   ]
  },
  {
   "cell_type": "code",
   "execution_count": null,
   "metadata": {},
   "outputs": [],
   "source": []
  },
  {
   "cell_type": "code",
   "execution_count": 442,
   "metadata": {
    "execution": {
     "iopub.execute_input": "2022-04-23T20:25:17.089648Z",
     "iopub.status.busy": "2022-04-23T20:25:17.089217Z",
     "iopub.status.idle": "2022-04-23T20:25:17.096215Z",
     "shell.execute_reply": "2022-04-23T20:25:17.095375Z",
     "shell.execute_reply.started": "2022-04-23T20:25:17.089610Z"
    }
   },
   "outputs": [],
   "source": [
    "# Результаты моделя хорошие, но слишком долг считает, поэтому закомментирован на время экспериментов\n",
    "'''\n",
    "RFR = RandomForestRegressor()\n",
    "RFR.fit(x_train, y_train)\n",
    "RFR_20 = RandomForestRegressor()\n",
    "RFR_20.fit(x_train_20, y_train)\n",
    "evaluate(RFR, x_train, y_train, x_test, y_test)\n",
    "evaluate(RFR_20, x_train_20, y_train, x_test_20, y_test)\n",
    "'''"
   ]
  },
  {
   "cell_type": "code",
   "execution_count": 443,
   "metadata": {
    "execution": {
     "iopub.execute_input": "2022-04-23T20:25:17.099200Z",
     "iopub.status.busy": "2022-04-23T20:25:17.098348Z",
     "iopub.status.idle": "2022-04-23T20:25:17.111360Z",
     "shell.execute_reply": "2022-04-23T20:25:17.110008Z",
     "shell.execute_reply.started": "2022-04-23T20:25:17.099155Z"
    }
   },
   "outputs": [],
   "source": [
    "'''\n",
    "evaluate_real_metric(RFR, x_train, y_train, x_test, y_test)\n",
    "evaluate_real_metric(RFR_20, x_train_20, y_train, x_test_20, y_test)\n",
    "'''"
   ]
  },
  {
   "cell_type": "code",
   "execution_count": null,
   "metadata": {},
   "outputs": [],
   "source": []
  },
  {
   "cell_type": "markdown",
   "metadata": {},
   "source": [
    "### Использование SelectFromModel для выбора признаков"
   ]
  },
  {
   "cell_type": "code",
   "execution_count": 444,
   "metadata": {
    "execution": {
     "iopub.execute_input": "2022-04-23T20:25:17.113708Z",
     "iopub.status.busy": "2022-04-23T20:25:17.112515Z",
     "iopub.status.idle": "2022-04-23T20:25:36.590400Z",
     "shell.execute_reply": "2022-04-23T20:25:36.587920Z",
     "shell.execute_reply.started": "2022-04-23T20:25:17.113498Z"
    }
   },
   "outputs": [],
   "source": [
    "embeded_lr_selector = SelectFromModel(LinearRegression(), max_features=20)\n",
    "embeded_lr_selector.fit(x_train, y_train)\n",
    "\n",
    "embeded_lr_support = embeded_lr_selector.get_support()\n",
    "embeded_lr_feature = x_train.loc[:,embeded_lr_support].columns.tolist()\n",
    "print(featureScores.nlargest(20,'Score'))\n",
    "print(str(embeded_lr_feature), 'selected features')"
   ]
  },
  {
   "cell_type": "code",
   "execution_count": 445,
   "metadata": {
    "execution": {
     "iopub.execute_input": "2022-04-23T20:25:36.592157Z",
     "iopub.status.busy": "2022-04-23T20:25:36.591843Z",
     "iopub.status.idle": "2022-04-23T20:25:38.069019Z",
     "shell.execute_reply": "2022-04-23T20:25:38.068275Z",
     "shell.execute_reply.started": "2022-04-23T20:25:36.592115Z"
    }
   },
   "outputs": [],
   "source": [
    "embeded_lr_feature.extend(featureScores.nlargest(20,'Score').Features.values)\n",
    "emb_20 = LinearRegression()\n",
    "emb_20.fit(x_train[embeded_lr_feature], y_train)\n",
    "evaluate(my_lr, x_train, y_train, x_test, y_test)\n",
    "evaluate(emb_20, x_train[embeded_lr_feature], y_train, x_test[embeded_lr_feature], y_test)"
   ]
  },
  {
   "cell_type": "code",
   "execution_count": 446,
   "metadata": {
    "execution": {
     "iopub.execute_input": "2022-04-23T20:25:38.070923Z",
     "iopub.status.busy": "2022-04-23T20:25:38.070441Z",
     "iopub.status.idle": "2022-04-23T20:25:39.024794Z",
     "shell.execute_reply": "2022-04-23T20:25:39.024102Z",
     "shell.execute_reply.started": "2022-04-23T20:25:38.070884Z"
    }
   },
   "outputs": [],
   "source": [
    "evaluate_real_metric(my_lr, x_train, y_train, x_test, y_test)\n",
    "evaluate_real_metric(emb_20, x_train[embeded_lr_feature], y_train, x_test[embeded_lr_feature], y_test)"
   ]
  },
  {
   "cell_type": "code",
   "execution_count": null,
   "metadata": {},
   "outputs": [],
   "source": []
  },
  {
   "cell_type": "code",
   "execution_count": null,
   "metadata": {},
   "outputs": [],
   "source": []
  }
 ],
 "metadata": {
  "kernelspec": {
   "display_name": "Python 3",
   "language": "python",
   "name": "python3"
  },
  "language_info": {
   "codemirror_mode": {
    "name": "ipython",
    "version": 3
   },
   "file_extension": ".py",
   "mimetype": "text/x-python",
   "name": "python",
   "nbconvert_exporter": "python",
   "pygments_lexer": "ipython3",
   "version": "3.8.8"
  }
 },
 "nbformat": 4,
 "nbformat_minor": 4
}
